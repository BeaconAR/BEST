{
 "cells": [
  {
   "cell_type": "code",
   "execution_count": 147,
   "id": "a19919a9",
   "metadata": {},
   "outputs": [],
   "source": [
    "import pandas as pd\n",
    "import numpy as np\n",
    "import matplotlib.pyplot as plt\n",
    "import seaborn as sns\n",
    "from scipy.stats import mode"
   ]
  },
  {
   "cell_type": "code",
   "execution_count": 148,
   "id": "2dadbf22",
   "metadata": {},
   "outputs": [],
   "source": [
    "sourceAddress = '/Users/jungpeter/Desktop/Develop/project/BEST/iOS_RSSI_Distance_Experiment_CSV/exp3/'\n",
    "aosSourceAddress = '/Users/jungpeter/Desktop/Develop/project/BEST/AOS_RSSI_Distance_Experiment_CSV/exp3/'\n",
    "\n",
    "ios_dfs = []\n",
    "aos_dfs = []\n",
    "dist = [item*0.5 for item in range(1, 11)]\n",
    "\n",
    "ios_rssi_stat = {'dist': dist, 'mean': [], 'median': [], 'mod': []}\n",
    "aos_rssi_stat = {'dist': dist, 'mean': [], 'median': [], 'mod': []}\n",
    "ios_rssi = {'raw': [], 'filtered': [], 'error': [], 'dist(m)': []}\n",
    "aos_rssi = {'raw': [], 'filtered': [], 'error': [], 'dist(m)': []}\n",
    "data_limit = 250\n",
    "idx = -1\n",
    "\n",
    "\n",
    "for i in dist:\n",
    "    ios_dfs.append(pd.read_csv(sourceAddress+f'iOS_exp3_{i}.csv'))\n",
    "    aos_dfs.append(pd.read_csv(aosSourceAddress+f'AOS_exp3_{i}.csv'))"
   ]
  },
  {
   "cell_type": "code",
   "execution_count": 149,
   "id": "bceca66a",
   "metadata": {},
   "outputs": [],
   "source": [
    "for df in ios_dfs:\n",
    "    newTS = []\n",
    "    for timestamp in df[\"timeStamp\"]:\n",
    "        newTS.append(timestamp)\n",
    "    total_len = len(newTS)\n",
    "    left = total_len // 2\n",
    "    right = total_len // 2 + 1\n",
    "    result = []\n",
    "    idx = idx + 1\n",
    "    \n",
    "    # 250 개가 되지 않을때\n",
    "    if total_len < data_limit:\n",
    "        \n",
    "        for raw in df['raw']:\n",
    "            ios_rssi['raw'].append(raw)\n",
    "            \n",
    "        for filtered in df['filtered']:\n",
    "            ios_rssi['filtered'].append(filtered)\n",
    "            \n",
    "        for error in df['error']:\n",
    "            ios_rssi['error'].append(error)\n",
    "            ios_rssi['dist(m)'].append(dist[idx])\n",
    "            \n",
    "\n",
    "    # 250개 이상일때\n",
    "    else:\n",
    "        while(True):\n",
    "            if len(result) >= data_limit:\n",
    "                break\n",
    "            if left < 0 and right > total_len:\n",
    "                break\n",
    "            if left >= 0:\n",
    "                result.insert(0, newTS[left])\n",
    "                left = left - 1\n",
    "            if right < total_len:\n",
    "                result.append(newTS[right])\n",
    "                right = right + 1\n",
    "\n",
    "        first = df[df['timeStamp'] == result[0]].index.values\n",
    "        last = df[df['timeStamp'] == result[-1]].index.values\n",
    "        \n",
    "        for raw in df[first[0]:last[0]+1]['raw']:\n",
    "            ios_rssi['raw'].append(raw)\n",
    "        for filtered in df[first[0]:last[0]+1]['filtered']:\n",
    "            ios_rssi['filtered'].append(filtered)\n",
    "        for error in df[first[0]:last[0]+1]['error']:\n",
    "            ios_rssi['error'].append(error)\n",
    "            ios_rssi['dist(m)'].append(dist[idx])"
   ]
  },
  {
   "cell_type": "code",
   "execution_count": 150,
   "id": "aa42254d",
   "metadata": {},
   "outputs": [],
   "source": [
    "idx = 0\n",
    "for df in aos_dfs:\n",
    "    newTS = []\n",
    "    for timestamp in df[\"Date\"]:\n",
    "        newTS.append(timestamp)\n",
    "    total_len = len(newTS)\n",
    "    left = total_len // 2\n",
    "    right = total_len // 2 + 1\n",
    "    result = []\n",
    "    \n",
    "    #250개 이하일때\n",
    "    if total_len < data_limit:\n",
    "        rssiArr = []\n",
    "        \n",
    "        for rssi in df['RSSI']:\n",
    "            aos_rssi['raw'].append(rssi)\n",
    "            aos_rssi['dist(m)'].append(dist[idx])\n",
    "            \n",
    "        for filtered in df['Filtered RSSI']:\n",
    "            aos_rssi['filtered'].append(filtered)\n",
    "            \n",
    "        for error in df['Error']:\n",
    "            aos_rssi['error'].append(error)\n",
    "\n",
    "        \n",
    "    # 250개 이상일때 250개 짜르기\n",
    "    else:\n",
    "        while(len(result) < data_limit):\n",
    "            if left < 0 and right > total_len:\n",
    "                break\n",
    "            if left >= 0:\n",
    "                result.insert(0, newTS[left])\n",
    "                left = left - 1\n",
    "            if right < total_len:\n",
    "                result.append(newTS[right])\n",
    "                right = right + 1\n",
    "\n",
    "        first = df[df['Date'] == result[0]].index.values\n",
    "        last = df[df['Date'] == result[-1]].index.values\n",
    "\n",
    "        for rssi in df[first[0]:last[0]+1]['RSSI']:\n",
    "            aos_rssi['raw'].append(rssi)\n",
    "            aos_rssi['dist(m)'].append(dist[idx])\n",
    "    \n",
    "        for filtered in df[first[0]:last[0]+1]['Filtered RSSI']:\n",
    "            ios_rssi['filtered'].append(filtered)\n",
    "            \n",
    "        for error in df[first[0]:last[0]+1]['Error']:\n",
    "            ios_rssi['error'].append(error)\n",
    "            \n",
    "    idx = idx + 1"
   ]
  },
  {
   "cell_type": "code",
   "execution_count": 151,
   "id": "29d98000",
   "metadata": {},
   "outputs": [],
   "source": [
    "ios_rssi_df = pd.DataFrame(ios_rssi)"
   ]
  },
  {
   "cell_type": "code",
   "execution_count": 152,
   "id": "ac9c8855",
   "metadata": {},
   "outputs": [],
   "source": [
    "aos_rssi_df = pd.DataFrame(aos_rssi)"
   ]
  },
  {
   "cell_type": "code",
   "execution_count": 153,
   "id": "27e532a1",
   "metadata": {},
   "outputs": [
    {
     "data": {
      "text/html": [
       "<div>\n",
       "<style scoped>\n",
       "    .dataframe tbody tr th:only-of-type {\n",
       "        vertical-align: middle;\n",
       "    }\n",
       "\n",
       "    .dataframe tbody tr th {\n",
       "        vertical-align: top;\n",
       "    }\n",
       "\n",
       "    .dataframe thead th {\n",
       "        text-align: right;\n",
       "    }\n",
       "</style>\n",
       "<table border=\"1\" class=\"dataframe\">\n",
       "  <thead>\n",
       "    <tr style=\"text-align: right;\">\n",
       "      <th></th>\n",
       "      <th>raw</th>\n",
       "      <th>filtered</th>\n",
       "      <th>error</th>\n",
       "      <th>dist(m)</th>\n",
       "    </tr>\n",
       "  </thead>\n",
       "  <tbody>\n",
       "    <tr>\n",
       "      <th>0</th>\n",
       "      <td>-53</td>\n",
       "      <td>-52.47465</td>\n",
       "      <td>0.275991</td>\n",
       "      <td>0.5</td>\n",
       "    </tr>\n",
       "    <tr>\n",
       "      <th>1</th>\n",
       "      <td>-53</td>\n",
       "      <td>-52.48627</td>\n",
       "      <td>0.263921</td>\n",
       "      <td>0.5</td>\n",
       "    </tr>\n",
       "    <tr>\n",
       "      <th>2</th>\n",
       "      <td>-53</td>\n",
       "      <td>-52.49763</td>\n",
       "      <td>0.252378</td>\n",
       "      <td>0.5</td>\n",
       "    </tr>\n",
       "    <tr>\n",
       "      <th>3</th>\n",
       "      <td>-52</td>\n",
       "      <td>-52.48662</td>\n",
       "      <td>0.236801</td>\n",
       "      <td>0.5</td>\n",
       "    </tr>\n",
       "    <tr>\n",
       "      <th>4</th>\n",
       "      <td>-52</td>\n",
       "      <td>-52.47586</td>\n",
       "      <td>0.226443</td>\n",
       "      <td>0.5</td>\n",
       "    </tr>\n",
       "    <tr>\n",
       "      <th>...</th>\n",
       "      <td>...</td>\n",
       "      <td>...</td>\n",
       "      <td>...</td>\n",
       "      <td>...</td>\n",
       "    </tr>\n",
       "    <tr>\n",
       "      <th>2338</th>\n",
       "      <td>-74</td>\n",
       "      <td>-75.98413</td>\n",
       "      <td>3.936775</td>\n",
       "      <td>5.0</td>\n",
       "    </tr>\n",
       "    <tr>\n",
       "      <th>2339</th>\n",
       "      <td>-73</td>\n",
       "      <td>-75.91814</td>\n",
       "      <td>8.515566</td>\n",
       "      <td>5.0</td>\n",
       "    </tr>\n",
       "    <tr>\n",
       "      <th>2340</th>\n",
       "      <td>-76</td>\n",
       "      <td>-75.91995</td>\n",
       "      <td>0.006408</td>\n",
       "      <td>5.0</td>\n",
       "    </tr>\n",
       "    <tr>\n",
       "      <th>2341</th>\n",
       "      <td>-76</td>\n",
       "      <td>-75.92172</td>\n",
       "      <td>0.006127</td>\n",
       "      <td>5.0</td>\n",
       "    </tr>\n",
       "    <tr>\n",
       "      <th>2342</th>\n",
       "      <td>-75</td>\n",
       "      <td>-75.90134</td>\n",
       "      <td>0.812408</td>\n",
       "      <td>5.0</td>\n",
       "    </tr>\n",
       "  </tbody>\n",
       "</table>\n",
       "<p>2343 rows × 4 columns</p>\n",
       "</div>"
      ],
      "text/plain": [
       "      raw  filtered     error  dist(m)\n",
       "0     -53 -52.47465  0.275991      0.5\n",
       "1     -53 -52.48627  0.263921      0.5\n",
       "2     -53 -52.49763  0.252378      0.5\n",
       "3     -52 -52.48662  0.236801      0.5\n",
       "4     -52 -52.47586  0.226443      0.5\n",
       "...   ...       ...       ...      ...\n",
       "2338  -74 -75.98413  3.936775      5.0\n",
       "2339  -73 -75.91814  8.515566      5.0\n",
       "2340  -76 -75.91995  0.006408      5.0\n",
       "2341  -76 -75.92172  0.006127      5.0\n",
       "2342  -75 -75.90134  0.812408      5.0\n",
       "\n",
       "[2343 rows x 4 columns]"
      ]
     },
     "execution_count": 153,
     "metadata": {},
     "output_type": "execute_result"
    }
   ],
   "source": [
    "ios_rssi_df"
   ]
  },
  {
   "cell_type": "code",
   "execution_count": 154,
   "id": "64d336be",
   "metadata": {},
   "outputs": [
    {
     "data": {
      "text/plain": [
       "<AxesSubplot:xlabel='dist(m)', ylabel='filtered'>"
      ]
     },
     "execution_count": 154,
     "metadata": {},
     "output_type": "execute_result"
    },
    {
     "data": {
      "image/png": "[encoded data removed]",
      "text/plain": [
       "<Figure size 432x288 with 1 Axes>"
      ]
     },
     "metadata": {
      "needs_background": "light"
     },
     "output_type": "display_data"
    }
   ],
   "source": [
    "sns.boxplot(y = ios_rssi_df['filtered'], x = ios_rssi_df['dist(m)'])"
   ]
  },
  {
   "cell_type": "code",
   "execution_count": 155,
   "id": "0295c1ec",
   "metadata": {},
   "outputs": [
    {
     "data": {
      "text/plain": [
       "<AxesSubplot:xlabel='dist(m)', ylabel='raw'>"
      ]
     },
     "execution_count": 155,
     "metadata": {},
     "output_type": "execute_result"
    },
    {
     "data": {
      "image/png": "[encoded data removed]",
      "text/plain": [
       "<Figure size 432x288 with 1 Axes>"
      ]
     },
     "metadata": {
      "needs_background": "light"
     },
     "output_type": "display_data"
    }
   ],
   "source": [
    "sns.boxplot(y = ios_rssi_df['raw'], x = ios_rssi_df['dist(m)'])"
   ]
  },
  {
   "cell_type": "code",
   "execution_count": 156,
   "id": "6b08b9c2",
   "metadata": {},
   "outputs": [
    {
     "data": {
      "text/plain": [
       "<AxesSubplot:xlabel='dist(m)', ylabel='filtered'>"
      ]
     },
     "execution_count": 156,
     "metadata": {},
     "output_type": "execute_result"
    },
    {
     "data": {
      "image/png": "[encoded data removed]",
      "text/plain": [
       "<Figure size 432x288 with 1 Axes>"
      ]
     },
     "metadata": {
      "needs_background": "light"
     },
     "output_type": "display_data"
    }
   ],
   "source": [
    "sns.boxplot(y = aos_rssi_df['filtered'], x = aos_rssi_df['dist(m)'])"
   ]
  },
  {
   "cell_type": "code",
   "execution_count": null,
   "id": "5b860b8e",
   "metadata": {},
   "outputs": [],
   "source": []
  },
  {
   "cell_type": "code",
   "execution_count": null,
   "id": "500f6cae",
   "metadata": {},
   "outputs": [],
   "source": []
  },
  {
   "cell_type": "code",
   "execution_count": null,
   "id": "2eac0ada",
   "metadata": {},
   "outputs": [],
   "source": []
  }
 ],
 "metadata": {
  "kernelspec": {
   "display_name": "Python 3 (ipykernel)",
   "language": "python",
   "name": "python3"
  },
  "language_info": {
   "codemirror_mode": {
    "name": "ipython",
    "version": 3
   },
   "file_extension": ".py",
   "mimetype": "text/x-python",
   "name": "python",
   "nbconvert_exporter": "python",
   "pygments_lexer": "ipython3",
   "version": "3.9.12"
  }
 },
 "nbformat": 4,
 "nbformat_minor": 5
}
