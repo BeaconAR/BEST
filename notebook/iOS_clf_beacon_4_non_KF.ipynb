{
  "cells": [
    {
      "cell_type": "markdown",
      "source": [
        "# Multi-Classification Modeling with top 4 beacons with DNN\n",
        "## Index\n",
        "- Load data & import modules\n",
        "- Preprocessing & split\n",
        "- DNN modeling\n",
        "- Ploting \n",
        "- Confusion Matrix\n"
      ],
      "metadata": {
        "id": "gd5UUhkdIGGL"
      }
    },
    {
      "cell_type": "markdown",
      "source": [
        "# Load data & import moduels\n",
        "- tensorflow version 2.9.1 required"
      ],
      "metadata": {
        "id": "TcTQHY5UIP-e"
      }
    },
    {
      "cell_type": "code",
      "source": [
        "import pandas as pd\n",
        "import pickle\n",
        "import numpy as np\n",
        "import matplotlib.pyplot as plt\n",
        "import seaborn as sns"
      ],
      "metadata": {
        "id": "cTDUZDjxIC3v"
      },
      "execution_count": null,
      "outputs": []
    },
    {
      "cell_type": "code",
      "execution_count": null,
      "metadata": {
        "colab": {
          "base_uri": "https://localhost:8080/"
        },
        "id": "Zdt7c5DNldhK",
        "outputId": "d4f57784-8f11-41de-e22c-0fe904c747d3"
      },
      "outputs": [
        {
          "output_type": "stream",
          "name": "stdout",
          "text": [
            "[Errno 2] No such file or directory: 'drive/MyDrive/BEST/ios_clf_direction'\n",
            "/content/drive/MyDrive/BEST/ios_clf_direction\n"
          ]
        }
      ],
      "source": [
        "%cd drive/MyDrive/BEST/ios_clf_direction"
      ]
    },
    {
      "cell_type": "code",
      "execution_count": null,
      "metadata": {
        "id": "2Lu3AtAiFI-R"
      },
      "outputs": [],
      "source": [
        "datas = [] \n",
        "data_name = [('S', [1,2,3,4,5,6,7,8,9]), ('E', [1,2,3]), ('R',[1,2,3,4,5]), ('H', [1,2]), ('A', [1,2,3,4,5,6,7,8,9,10,11]), ('U', [1]) ]\n",
        "\n",
        "#ios_clf_data_4_concatedS04\n",
        "\n",
        "for data in data_name:\n",
        "  for index in data[1]: \n",
        "    if index < 10:\n",
        "      no_supervised = pd.DataFrame(pd.read_csv(f'Raw_{data[0]}0{index}.csv'))\n",
        "      no_supervised.insert(0, 'location' ,f'{data[0]}0{index}')\n",
        "    else:\n",
        "      no_supervised = pd.DataFrame(pd.read_csv(f'Raw_{data[0]}{index}.csv'))\n",
        "      no_supervised.insert(0, 'location' ,f'{data[0]}{index}')\n",
        "    datas.append(no_supervised)"
      ]
    },
    {
      "cell_type": "code",
      "execution_count": null,
      "metadata": {
        "colab": {
          "base_uri": "https://localhost:8080/"
        },
        "id": "0ZAvszpiCpCl",
        "outputId": "6dec5f73-cf00-4a86-a21b-40062a7b0bbf"
      },
      "outputs": [
        {
          "output_type": "stream",
          "name": "stdout",
          "text": [
            "Looking in indexes: https://pypi.org/simple, https://us-python.pkg.dev/colab-wheels/public/simple/\n",
            "Requirement already satisfied: wurlitzer in /usr/local/lib/python3.7/dist-packages (3.0.2)\n"
          ]
        }
      ],
      "source": [
        "!pip install wurlitzer"
      ]
    },
    {
      "cell_type": "code",
      "execution_count": null,
      "metadata": {
        "id": "C-8A57c6CXUC"
      },
      "outputs": [],
      "source": [
        "import os\n",
        "import numpy as np\n",
        "import pandas as pd\n",
        "import tensorflow as tf\n",
        "import math\n",
        "\n",
        "try:\n",
        "  from wurlitzer import sys_pipes\n",
        "except:\n",
        "  from colabtools.googlelog import CaptureLog as sys_pipes\n",
        "\n",
        "from IPython.core.magic import register_line_magic\n",
        "from IPython.display import Javascript"
      ]
    },
    {
      "cell_type": "code",
      "execution_count": null,
      "metadata": {
        "id": "PwBC0R26Cvpm"
      },
      "outputs": [],
      "source": [
        "from sklearn.pipeline import Pipeline\n",
        "from sklearn.preprocessing import StandardScaler\n",
        "from sklearn.preprocessing import OneHotEncoder\n",
        "from sklearn.svm import SVR\n",
        "from sklearn import preprocessing\n",
        "from sklearn import utils\n",
        "from sklearn.metrics import r2_score, mean_squared_error, mean_absolute_error\n",
        "from sklearn.model_selection import train_test_split\n",
        "from sklearn.preprocessing import LabelEncoder\n",
        "import pathlib"
      ]
    },
    {
      "cell_type": "code",
      "execution_count": null,
      "metadata": {
        "id": "dq82UoF6CxD1",
        "colab": {
          "base_uri": "https://localhost:8080/"
        },
        "outputId": "90497927-d3a5-4be2-fffd-7f09d7d132e0"
      },
      "outputs": [
        {
          "output_type": "stream",
          "name": "stdout",
          "text": [
            "2.8.2\n"
          ]
        }
      ],
      "source": [
        "from tensorflow import keras\n",
        "from tensorflow.keras import layers\n",
        "from tensorflow.keras.utils import to_categorical\n",
        "print(tf.__version__)"
      ]
    },
    {
      "cell_type": "code",
      "source": [
        "for data in datas:\n",
        "  data.drop(['timeStamp','heading', 'direction'], axis=1, inplace=True)"
      ],
      "metadata": {
        "id": "d6vQMi0YmqOy"
      },
      "execution_count": null,
      "outputs": []
    },
    {
      "cell_type": "code",
      "source": [
        "def tominus200(x) :\n",
        "  if float(x) <= -90 or float(x) == 0:\n",
        "    return -200\n",
        "  return float(x)\n",
        "\n",
        "beacons = ['001','002','003','004','005','006','007','008','009','010','011','012','013','014','015','016','017','018','019','020','021', '022']\n",
        "for data in datas:\n",
        "  for beacon in beacons:\n",
        "    data[beacon] = data[beacon].apply(tominus200)\n"
      ],
      "metadata": {
        "id": "_gjrFazJnBzE"
      },
      "execution_count": null,
      "outputs": []
    },
    {
      "cell_type": "code",
      "source": [
        "datas[0].columns"
      ],
      "metadata": {
        "colab": {
          "base_uri": "https://localhost:8080/"
        },
        "id": "Amn4F-RMnd4h",
        "outputId": "a66f8605-22ee-4034-ec7a-3012c4a1c1c3"
      },
      "execution_count": null,
      "outputs": [
        {
          "output_type": "execute_result",
          "data": {
            "text/plain": [
              "Index(['location', '001', '002', '003', '004', '005', '006', '007', '008',\n",
              "       '009', '010', '011', '012', '013', '014', '015', '016', '017', '018',\n",
              "       '019', '020', '021', '022'],\n",
              "      dtype='object')"
            ]
          },
          "metadata": {},
          "execution_count": 66
        }
      ]
    },
    {
      "cell_type": "code",
      "source": [
        "import statistics\n",
        "# 전처리 방법 4 중앙값 처리하기\n",
        "remove_set = {-200}\n",
        "\n",
        "for index, data in enumerate(datas):\n",
        "\n",
        "  averagelist = []\n",
        "\n",
        "  for column in data.columns[1:]:\n",
        "    list1 = data[f\"{column}\"].tolist()\n",
        "    li = [i for i in list1 if i not in remove_set]\n",
        "    if len(li) == 0:\n",
        "      li.append(-200)\n",
        "    averagelist.append(statistics.median(li))\n",
        "\n",
        "\n",
        "  for col_idx, column in enumerate(data.columns[1:]):\n",
        "    for i, rssi in enumerate(data[f\"{column}\"]):\n",
        "      if data[f\"{column}\"][i] == -200:\n",
        "        data[f\"{column}\"][i] = averagelist[col_idx]"
      ],
      "metadata": {
        "colab": {
          "base_uri": "https://localhost:8080/"
        },
        "id": "z_TTNxZjnVUE",
        "outputId": "e8228c04-09c3-4898-ecfa-4b92652d0cf7"
      },
      "execution_count": null,
      "outputs": [
        {
          "output_type": "stream",
          "name": "stderr",
          "text": [
            "/usr/local/lib/python3.7/dist-packages/ipykernel_launcher.py:20: SettingWithCopyWarning: \n",
            "A value is trying to be set on a copy of a slice from a DataFrame\n",
            "\n",
            "See the caveats in the documentation: https://pandas.pydata.org/pandas-docs/stable/user_guide/indexing.html#returning-a-view-versus-a-copy\n"
          ]
        }
      ]
    },
    {
      "cell_type": "code",
      "source": [
        "datas[0]"
      ],
      "metadata": {
        "colab": {
          "base_uri": "https://localhost:8080/",
          "height": 488
        },
        "id": "hAbt9pdQoLtQ",
        "outputId": "a3a0b05b-9182-4c9b-e92a-bf0452ccdeec"
      },
      "execution_count": null,
      "outputs": [
        {
          "output_type": "execute_result",
          "data": {
            "text/plain": [
              "    location   001   002   003   004   005   006   007   008   009  ...   013  \\\n",
              "0        S01 -85.0 -72.0 -89.0 -79.0 -88.0 -88.0 -86.0 -85.0 -87.0  ... -79.0   \n",
              "1        S01 -81.0 -70.0 -88.0 -79.0 -88.0 -88.0 -86.0 -86.0 -85.0  ... -74.0   \n",
              "2        S01 -83.0 -73.0 -89.0 -78.0 -88.0 -88.0 -86.0 -87.0 -88.0  ... -75.0   \n",
              "3        S01 -84.0 -74.0 -87.0 -81.0 -88.0 -88.0 -86.0 -87.0 -89.0  ... -76.0   \n",
              "4        S01 -84.0 -72.0 -87.0 -83.0 -88.0 -88.0 -86.0 -87.0 -87.0  ... -79.0   \n",
              "..       ...   ...   ...   ...   ...   ...   ...   ...   ...   ...  ...   ...   \n",
              "460      S01 -85.0 -71.0 -87.0 -85.0 -88.0 -88.0 -86.0 -87.0 -87.0  ... -77.0   \n",
              "461      S01 -89.0 -72.0 -87.0 -81.0 -88.0 -88.0 -86.0 -87.0 -87.0  ... -83.0   \n",
              "462      S01 -85.0 -75.0 -87.0 -81.0 -88.0 -88.0 -86.0 -87.0 -87.0  ... -82.0   \n",
              "463      S01 -85.0 -75.0 -87.0 -85.0 -88.0 -88.0 -86.0 -87.0 -87.0  ... -82.0   \n",
              "464      S01 -85.0 -72.0 -87.0 -81.0 -88.0 -88.0 -86.0 -87.0 -87.0  ... -79.0   \n",
              "\n",
              "      014   015  016  017  018   019   020  021   022  \n",
              "0   -63.0 -88.0 -200 -200 -200 -89.0 -55.0 -200 -89.0  \n",
              "1   -63.0 -88.0 -200 -200 -200 -89.0 -52.0 -200 -88.0  \n",
              "2   -67.0 -88.0 -200 -200 -200 -89.0 -50.0 -200 -89.0  \n",
              "3   -64.0 -88.0 -200 -200 -200 -89.0 -49.0 -200 -89.0  \n",
              "4   -65.0 -88.0 -200 -200 -200 -89.0 -47.0 -200 -89.0  \n",
              "..    ...   ...  ...  ...  ...   ...   ...  ...   ...  \n",
              "460 -69.0 -88.0 -200 -200 -200 -89.0 -59.0 -200 -89.0  \n",
              "461 -67.0 -88.0 -200 -200 -200 -89.0 -58.0 -200 -89.0  \n",
              "462 -70.0 -88.0 -200 -200 -200 -89.0 -60.0 -200 -89.0  \n",
              "463 -70.0 -88.0 -200 -200 -200 -89.0 -60.0 -200 -89.0  \n",
              "464 -67.0 -88.0 -200 -200 -200 -89.0 -55.0 -200 -89.0  \n",
              "\n",
              "[465 rows x 23 columns]"
            ],
            "text/html": [
              "\n",
              "  <div id=\"df-333a296c-478b-4b88-bb50-19e5483480a4\">\n",
              "    <div class=\"colab-df-container\">\n",
              "      <div>\n",
              "<style scoped>\n",
              "    .dataframe tbody tr th:only-of-type {\n",
              "        vertical-align: middle;\n",
              "    }\n",
              "\n",
              "    .dataframe tbody tr th {\n",
              "        vertical-align: top;\n",
              "    }\n",
              "\n",
              "    .dataframe thead th {\n",
              "        text-align: right;\n",
              "    }\n",
              "</style>\n",
              "<table border=\"1\" class=\"dataframe\">\n",
              "  <thead>\n",
              "    <tr style=\"text-align: right;\">\n",
              "      <th></th>\n",
              "      <th>location</th>\n",
              "      <th>001</th>\n",
              "      <th>002</th>\n",
              "      <th>003</th>\n",
              "      <th>004</th>\n",
              "      <th>005</th>\n",
              "      <th>006</th>\n",
              "      <th>007</th>\n",
              "      <th>008</th>\n",
              "      <th>009</th>\n",
              "      <th>...</th>\n",
              "      <th>013</th>\n",
              "      <th>014</th>\n",
              "      <th>015</th>\n",
              "      <th>016</th>\n",
              "      <th>017</th>\n",
              "      <th>018</th>\n",
              "      <th>019</th>\n",
              "      <th>020</th>\n",
              "      <th>021</th>\n",
              "      <th>022</th>\n",
              "    </tr>\n",
              "  </thead>\n",
              "  <tbody>\n",
              "    <tr>\n",
              "      <th>0</th>\n",
              "      <td>S01</td>\n",
              "      <td>-85.0</td>\n",
              "      <td>-72.0</td>\n",
              "      <td>-89.0</td>\n",
              "      <td>-79.0</td>\n",
              "      <td>-88.0</td>\n",
              "      <td>-88.0</td>\n",
              "      <td>-86.0</td>\n",
              "      <td>-85.0</td>\n",
              "      <td>-87.0</td>\n",
              "      <td>...</td>\n",
              "      <td>-79.0</td>\n",
              "      <td>-63.0</td>\n",
              "      <td>-88.0</td>\n",
              "      <td>-200</td>\n",
              "      <td>-200</td>\n",
              "      <td>-200</td>\n",
              "      <td>-89.0</td>\n",
              "      <td>-55.0</td>\n",
              "      <td>-200</td>\n",
              "      <td>-89.0</td>\n",
              "    </tr>\n",
              "    <tr>\n",
              "      <th>1</th>\n",
              "      <td>S01</td>\n",
              "      <td>-81.0</td>\n",
              "      <td>-70.0</td>\n",
              "      <td>-88.0</td>\n",
              "      <td>-79.0</td>\n",
              "      <td>-88.0</td>\n",
              "      <td>-88.0</td>\n",
              "      <td>-86.0</td>\n",
              "      <td>-86.0</td>\n",
              "      <td>-85.0</td>\n",
              "      <td>...</td>\n",
              "      <td>-74.0</td>\n",
              "      <td>-63.0</td>\n",
              "      <td>-88.0</td>\n",
              "      <td>-200</td>\n",
              "      <td>-200</td>\n",
              "      <td>-200</td>\n",
              "      <td>-89.0</td>\n",
              "      <td>-52.0</td>\n",
              "      <td>-200</td>\n",
              "      <td>-88.0</td>\n",
              "    </tr>\n",
              "    <tr>\n",
              "      <th>2</th>\n",
              "      <td>S01</td>\n",
              "      <td>-83.0</td>\n",
              "      <td>-73.0</td>\n",
              "      <td>-89.0</td>\n",
              "      <td>-78.0</td>\n",
              "      <td>-88.0</td>\n",
              "      <td>-88.0</td>\n",
              "      <td>-86.0</td>\n",
              "      <td>-87.0</td>\n",
              "      <td>-88.0</td>\n",
              "      <td>...</td>\n",
              "      <td>-75.0</td>\n",
              "      <td>-67.0</td>\n",
              "      <td>-88.0</td>\n",
              "      <td>-200</td>\n",
              "      <td>-200</td>\n",
              "      <td>-200</td>\n",
              "      <td>-89.0</td>\n",
              "      <td>-50.0</td>\n",
              "      <td>-200</td>\n",
              "      <td>-89.0</td>\n",
              "    </tr>\n",
              "    <tr>\n",
              "      <th>3</th>\n",
              "      <td>S01</td>\n",
              "      <td>-84.0</td>\n",
              "      <td>-74.0</td>\n",
              "      <td>-87.0</td>\n",
              "      <td>-81.0</td>\n",
              "      <td>-88.0</td>\n",
              "      <td>-88.0</td>\n",
              "      <td>-86.0</td>\n",
              "      <td>-87.0</td>\n",
              "      <td>-89.0</td>\n",
              "      <td>...</td>\n",
              "      <td>-76.0</td>\n",
              "      <td>-64.0</td>\n",
              "      <td>-88.0</td>\n",
              "      <td>-200</td>\n",
              "      <td>-200</td>\n",
              "      <td>-200</td>\n",
              "      <td>-89.0</td>\n",
              "      <td>-49.0</td>\n",
              "      <td>-200</td>\n",
              "      <td>-89.0</td>\n",
              "    </tr>\n",
              "    <tr>\n",
              "      <th>4</th>\n",
              "      <td>S01</td>\n",
              "      <td>-84.0</td>\n",
              "      <td>-72.0</td>\n",
              "      <td>-87.0</td>\n",
              "      <td>-83.0</td>\n",
              "      <td>-88.0</td>\n",
              "      <td>-88.0</td>\n",
              "      <td>-86.0</td>\n",
              "      <td>-87.0</td>\n",
              "      <td>-87.0</td>\n",
              "      <td>...</td>\n",
              "      <td>-79.0</td>\n",
              "      <td>-65.0</td>\n",
              "      <td>-88.0</td>\n",
              "      <td>-200</td>\n",
              "      <td>-200</td>\n",
              "      <td>-200</td>\n",
              "      <td>-89.0</td>\n",
              "      <td>-47.0</td>\n",
              "      <td>-200</td>\n",
              "      <td>-89.0</td>\n",
              "    </tr>\n",
              "    <tr>\n",
              "      <th>...</th>\n",
              "      <td>...</td>\n",
              "      <td>...</td>\n",
              "      <td>...</td>\n",
              "      <td>...</td>\n",
              "      <td>...</td>\n",
              "      <td>...</td>\n",
              "      <td>...</td>\n",
              "      <td>...</td>\n",
              "      <td>...</td>\n",
              "      <td>...</td>\n",
              "      <td>...</td>\n",
              "      <td>...</td>\n",
              "      <td>...</td>\n",
              "      <td>...</td>\n",
              "      <td>...</td>\n",
              "      <td>...</td>\n",
              "      <td>...</td>\n",
              "      <td>...</td>\n",
              "      <td>...</td>\n",
              "      <td>...</td>\n",
              "      <td>...</td>\n",
              "    </tr>\n",
              "    <tr>\n",
              "      <th>460</th>\n",
              "      <td>S01</td>\n",
              "      <td>-85.0</td>\n",
              "      <td>-71.0</td>\n",
              "      <td>-87.0</td>\n",
              "      <td>-85.0</td>\n",
              "      <td>-88.0</td>\n",
              "      <td>-88.0</td>\n",
              "      <td>-86.0</td>\n",
              "      <td>-87.0</td>\n",
              "      <td>-87.0</td>\n",
              "      <td>...</td>\n",
              "      <td>-77.0</td>\n",
              "      <td>-69.0</td>\n",
              "      <td>-88.0</td>\n",
              "      <td>-200</td>\n",
              "      <td>-200</td>\n",
              "      <td>-200</td>\n",
              "      <td>-89.0</td>\n",
              "      <td>-59.0</td>\n",
              "      <td>-200</td>\n",
              "      <td>-89.0</td>\n",
              "    </tr>\n",
              "    <tr>\n",
              "      <th>461</th>\n",
              "      <td>S01</td>\n",
              "      <td>-89.0</td>\n",
              "      <td>-72.0</td>\n",
              "      <td>-87.0</td>\n",
              "      <td>-81.0</td>\n",
              "      <td>-88.0</td>\n",
              "      <td>-88.0</td>\n",
              "      <td>-86.0</td>\n",
              "      <td>-87.0</td>\n",
              "      <td>-87.0</td>\n",
              "      <td>...</td>\n",
              "      <td>-83.0</td>\n",
              "      <td>-67.0</td>\n",
              "      <td>-88.0</td>\n",
              "      <td>-200</td>\n",
              "      <td>-200</td>\n",
              "      <td>-200</td>\n",
              "      <td>-89.0</td>\n",
              "      <td>-58.0</td>\n",
              "      <td>-200</td>\n",
              "      <td>-89.0</td>\n",
              "    </tr>\n",
              "    <tr>\n",
              "      <th>462</th>\n",
              "      <td>S01</td>\n",
              "      <td>-85.0</td>\n",
              "      <td>-75.0</td>\n",
              "      <td>-87.0</td>\n",
              "      <td>-81.0</td>\n",
              "      <td>-88.0</td>\n",
              "      <td>-88.0</td>\n",
              "      <td>-86.0</td>\n",
              "      <td>-87.0</td>\n",
              "      <td>-87.0</td>\n",
              "      <td>...</td>\n",
              "      <td>-82.0</td>\n",
              "      <td>-70.0</td>\n",
              "      <td>-88.0</td>\n",
              "      <td>-200</td>\n",
              "      <td>-200</td>\n",
              "      <td>-200</td>\n",
              "      <td>-89.0</td>\n",
              "      <td>-60.0</td>\n",
              "      <td>-200</td>\n",
              "      <td>-89.0</td>\n",
              "    </tr>\n",
              "    <tr>\n",
              "      <th>463</th>\n",
              "      <td>S01</td>\n",
              "      <td>-85.0</td>\n",
              "      <td>-75.0</td>\n",
              "      <td>-87.0</td>\n",
              "      <td>-85.0</td>\n",
              "      <td>-88.0</td>\n",
              "      <td>-88.0</td>\n",
              "      <td>-86.0</td>\n",
              "      <td>-87.0</td>\n",
              "      <td>-87.0</td>\n",
              "      <td>...</td>\n",
              "      <td>-82.0</td>\n",
              "      <td>-70.0</td>\n",
              "      <td>-88.0</td>\n",
              "      <td>-200</td>\n",
              "      <td>-200</td>\n",
              "      <td>-200</td>\n",
              "      <td>-89.0</td>\n",
              "      <td>-60.0</td>\n",
              "      <td>-200</td>\n",
              "      <td>-89.0</td>\n",
              "    </tr>\n",
              "    <tr>\n",
              "      <th>464</th>\n",
              "      <td>S01</td>\n",
              "      <td>-85.0</td>\n",
              "      <td>-72.0</td>\n",
              "      <td>-87.0</td>\n",
              "      <td>-81.0</td>\n",
              "      <td>-88.0</td>\n",
              "      <td>-88.0</td>\n",
              "      <td>-86.0</td>\n",
              "      <td>-87.0</td>\n",
              "      <td>-87.0</td>\n",
              "      <td>...</td>\n",
              "      <td>-79.0</td>\n",
              "      <td>-67.0</td>\n",
              "      <td>-88.0</td>\n",
              "      <td>-200</td>\n",
              "      <td>-200</td>\n",
              "      <td>-200</td>\n",
              "      <td>-89.0</td>\n",
              "      <td>-55.0</td>\n",
              "      <td>-200</td>\n",
              "      <td>-89.0</td>\n",
              "    </tr>\n",
              "  </tbody>\n",
              "</table>\n",
              "<p>465 rows × 23 columns</p>\n",
              "</div>\n",
              "      <button class=\"colab-df-convert\" onclick=\"convertToInteractive('df-333a296c-478b-4b88-bb50-19e5483480a4')\"\n",
              "              title=\"Convert this dataframe to an interactive table.\"\n",
              "              style=\"display:none;\">\n",
              "        \n",
              "  <svg xmlns=\"http://www.w3.org/2000/svg\" height=\"24px\"viewBox=\"0 0 24 24\"\n",
              "       width=\"24px\">\n",
              "    <path d=\"M0 0h24v24H0V0z\" fill=\"none\"/>\n",
              "    <path d=\"M18.56 5.44l.94 2.06.94-2.06 2.06-.94-2.06-.94-.94-2.06-.94 2.06-2.06.94zm-11 1L8.5 8.5l.94-2.06 2.06-.94-2.06-.94L8.5 2.5l-.94 2.06-2.06.94zm10 10l.94 2.06.94-2.06 2.06-.94-2.06-.94-.94-2.06-.94 2.06-2.06.94z\"/><path d=\"M17.41 7.96l-1.37-1.37c-.4-.4-.92-.59-1.43-.59-.52 0-1.04.2-1.43.59L10.3 9.45l-7.72 7.72c-.78.78-.78 2.05 0 2.83L4 21.41c.39.39.9.59 1.41.59.51 0 1.02-.2 1.41-.59l7.78-7.78 2.81-2.81c.8-.78.8-2.07 0-2.86zM5.41 20L4 18.59l7.72-7.72 1.47 1.35L5.41 20z\"/>\n",
              "  </svg>\n",
              "      </button>\n",
              "      \n",
              "  <style>\n",
              "    .colab-df-container {\n",
              "      display:flex;\n",
              "      flex-wrap:wrap;\n",
              "      gap: 12px;\n",
              "    }\n",
              "\n",
              "    .colab-df-convert {\n",
              "      background-color: #E8F0FE;\n",
              "      border: none;\n",
              "      border-radius: 50%;\n",
              "      cursor: pointer;\n",
              "      display: none;\n",
              "      fill: #1967D2;\n",
              "      height: 32px;\n",
              "      padding: 0 0 0 0;\n",
              "      width: 32px;\n",
              "    }\n",
              "\n",
              "    .colab-df-convert:hover {\n",
              "      background-color: #E2EBFA;\n",
              "      box-shadow: 0px 1px 2px rgba(60, 64, 67, 0.3), 0px 1px 3px 1px rgba(60, 64, 67, 0.15);\n",
              "      fill: #174EA6;\n",
              "    }\n",
              "\n",
              "    [theme=dark] .colab-df-convert {\n",
              "      background-color: #3B4455;\n",
              "      fill: #D2E3FC;\n",
              "    }\n",
              "\n",
              "    [theme=dark] .colab-df-convert:hover {\n",
              "      background-color: #434B5C;\n",
              "      box-shadow: 0px 1px 3px 1px rgba(0, 0, 0, 0.15);\n",
              "      filter: drop-shadow(0px 1px 2px rgba(0, 0, 0, 0.3));\n",
              "      fill: #FFFFFF;\n",
              "    }\n",
              "  </style>\n",
              "\n",
              "      <script>\n",
              "        const buttonEl =\n",
              "          document.querySelector('#df-333a296c-478b-4b88-bb50-19e5483480a4 button.colab-df-convert');\n",
              "        buttonEl.style.display =\n",
              "          google.colab.kernel.accessAllowed ? 'block' : 'none';\n",
              "\n",
              "        async function convertToInteractive(key) {\n",
              "          const element = document.querySelector('#df-333a296c-478b-4b88-bb50-19e5483480a4');\n",
              "          const dataTable =\n",
              "            await google.colab.kernel.invokeFunction('convertToInteractive',\n",
              "                                                     [key], {});\n",
              "          if (!dataTable) return;\n",
              "\n",
              "          const docLinkHtml = 'Like what you see? Visit the ' +\n",
              "            '<a target=\"_blank\" href=https://colab.research.google.com/notebooks/data_table.ipynb>data table notebook</a>'\n",
              "            + ' to learn more about interactive tables.';\n",
              "          element.innerHTML = '';\n",
              "          dataTable['output_type'] = 'display_data';\n",
              "          await google.colab.output.renderOutput(dataTable, element);\n",
              "          const docLink = document.createElement('div');\n",
              "          docLink.innerHTML = docLinkHtml;\n",
              "          element.appendChild(docLink);\n",
              "        }\n",
              "      </script>\n",
              "    </div>\n",
              "  </div>\n",
              "  "
            ]
          },
          "metadata": {},
          "execution_count": 68
        }
      ]
    },
    {
      "cell_type": "code",
      "source": [
        "# 상위 5개를 통해서 classification 하기\n",
        "for data in datas:\n",
        "  for row_index in range(len(data)):\n",
        "    column_idx = [0,1,2,3,4,5,6,7,8,9,10,11,12,13,14,15,16,17,18,19,20,21,22]\n",
        "    a = sorted(data.loc[row_index].tolist()[1:])\n",
        "    b = list(a)[-5:]\n",
        "    isMax = [0]\n",
        "    for i in range(len(data.columns)):\n",
        "      for num in b:\n",
        "        if data.loc[row_index][i] == num:\n",
        "          isMax.append(i)\n",
        "\n",
        "    remove_set = set(isMax)\n",
        "    column_idx = [i for i in column_idx if i not in remove_set]\n",
        "    data.iloc[[row_index], column_idx] = [-200 for i in range(len(column_idx))]\n",
        "  "
      ],
      "metadata": {
        "id": "HkW4jFwonoAM"
      },
      "execution_count": null,
      "outputs": []
    },
    {
      "cell_type": "markdown",
      "source": [
        "# Preprocessing & split\n",
        "- Concat all the data\n",
        "- split into 7:3"
      ],
      "metadata": {
        "id": "kOzkeE6KIp4h"
      }
    },
    {
      "cell_type": "code",
      "execution_count": null,
      "metadata": {
        "id": "WZa8hzUZC1Kt"
      },
      "outputs": [],
      "source": [
        "result = pd.concat(datas)"
      ]
    },
    {
      "cell_type": "code",
      "source": [
        "result"
      ],
      "metadata": {
        "colab": {
          "base_uri": "https://localhost:8080/",
          "height": 488
        },
        "id": "rGYcZFDh1rl8",
        "outputId": "6edabc40-e931-4747-e31e-4ef815d2610b"
      },
      "execution_count": null,
      "outputs": [
        {
          "output_type": "execute_result",
          "data": {
            "text/plain": [
              "    location    001    002    003    004    005    006    007    008    009  \\\n",
              "0        S01 -200.0  -72.0 -200.0  -79.0 -200.0 -200.0 -200.0 -200.0 -200.0   \n",
              "1        S01 -200.0  -70.0 -200.0 -200.0 -200.0 -200.0 -200.0 -200.0 -200.0   \n",
              "2        S01 -200.0  -73.0 -200.0 -200.0 -200.0 -200.0 -200.0 -200.0 -200.0   \n",
              "3        S01 -200.0  -74.0 -200.0 -200.0 -200.0 -200.0 -200.0 -200.0 -200.0   \n",
              "4        S01 -200.0  -72.0 -200.0 -200.0 -200.0 -200.0 -200.0 -200.0 -200.0   \n",
              "..       ...    ...    ...    ...    ...    ...    ...    ...    ...    ...   \n",
              "493      U01 -200.0 -200.0 -200.0 -200.0 -200.0 -200.0  -80.0 -200.0 -200.0   \n",
              "494      U01 -200.0 -200.0 -200.0 -200.0 -200.0 -200.0  -81.0 -200.0 -200.0   \n",
              "495      U01 -200.0 -200.0 -200.0 -200.0 -200.0 -200.0  -81.0 -200.0 -200.0   \n",
              "496      U01 -200.0 -200.0 -200.0 -200.0 -200.0 -200.0  -82.0 -200.0 -200.0   \n",
              "497      U01 -200.0 -200.0 -200.0 -200.0 -200.0 -200.0  -77.0 -200.0 -200.0   \n",
              "\n",
              "     ...    013    014    015    016    017    018    019    020    021    022  \n",
              "0    ...  -79.0  -63.0 -200.0 -200.0 -200.0 -200.0 -200.0  -55.0 -200.0 -200.0  \n",
              "1    ...  -74.0  -63.0 -200.0 -200.0 -200.0 -200.0 -200.0  -52.0 -200.0 -200.0  \n",
              "2    ...  -75.0  -67.0 -200.0 -200.0 -200.0 -200.0 -200.0  -50.0 -200.0 -200.0  \n",
              "3    ...  -76.0  -64.0 -200.0 -200.0 -200.0 -200.0 -200.0  -49.0 -200.0 -200.0  \n",
              "4    ...  -79.0  -65.0 -200.0 -200.0 -200.0 -200.0 -200.0  -47.0 -200.0 -200.0  \n",
              "..   ...    ...    ...    ...    ...    ...    ...    ...    ...    ...    ...  \n",
              "493  ... -200.0 -200.0  -81.0  -77.0  -53.0  -60.0  -81.0 -200.0 -200.0 -200.0  \n",
              "494  ... -200.0 -200.0  -82.0  -70.0  -59.0  -60.0 -200.0 -200.0 -200.0 -200.0  \n",
              "495  ... -200.0 -200.0  -81.0  -65.0  -69.0  -59.0  -80.0 -200.0 -200.0 -200.0  \n",
              "496  ... -200.0 -200.0  -82.0  -63.0  -62.0  -69.0  -76.0 -200.0 -200.0 -200.0  \n",
              "497  ... -200.0 -200.0  -79.0  -63.0  -60.0  -67.0  -79.0 -200.0 -200.0 -200.0  \n",
              "\n",
              "[15730 rows x 23 columns]"
            ],
            "text/html": [
              "\n",
              "  <div id=\"df-eda75cb5-6d15-4ba2-accc-3ca9735e6864\">\n",
              "    <div class=\"colab-df-container\">\n",
              "      <div>\n",
              "<style scoped>\n",
              "    .dataframe tbody tr th:only-of-type {\n",
              "        vertical-align: middle;\n",
              "    }\n",
              "\n",
              "    .dataframe tbody tr th {\n",
              "        vertical-align: top;\n",
              "    }\n",
              "\n",
              "    .dataframe thead th {\n",
              "        text-align: right;\n",
              "    }\n",
              "</style>\n",
              "<table border=\"1\" class=\"dataframe\">\n",
              "  <thead>\n",
              "    <tr style=\"text-align: right;\">\n",
              "      <th></th>\n",
              "      <th>location</th>\n",
              "      <th>001</th>\n",
              "      <th>002</th>\n",
              "      <th>003</th>\n",
              "      <th>004</th>\n",
              "      <th>005</th>\n",
              "      <th>006</th>\n",
              "      <th>007</th>\n",
              "      <th>008</th>\n",
              "      <th>009</th>\n",
              "      <th>...</th>\n",
              "      <th>013</th>\n",
              "      <th>014</th>\n",
              "      <th>015</th>\n",
              "      <th>016</th>\n",
              "      <th>017</th>\n",
              "      <th>018</th>\n",
              "      <th>019</th>\n",
              "      <th>020</th>\n",
              "      <th>021</th>\n",
              "      <th>022</th>\n",
              "    </tr>\n",
              "  </thead>\n",
              "  <tbody>\n",
              "    <tr>\n",
              "      <th>0</th>\n",
              "      <td>S01</td>\n",
              "      <td>-200.0</td>\n",
              "      <td>-72.0</td>\n",
              "      <td>-200.0</td>\n",
              "      <td>-79.0</td>\n",
              "      <td>-200.0</td>\n",
              "      <td>-200.0</td>\n",
              "      <td>-200.0</td>\n",
              "      <td>-200.0</td>\n",
              "      <td>-200.0</td>\n",
              "      <td>...</td>\n",
              "      <td>-79.0</td>\n",
              "      <td>-63.0</td>\n",
              "      <td>-200.0</td>\n",
              "      <td>-200.0</td>\n",
              "      <td>-200.0</td>\n",
              "      <td>-200.0</td>\n",
              "      <td>-200.0</td>\n",
              "      <td>-55.0</td>\n",
              "      <td>-200.0</td>\n",
              "      <td>-200.0</td>\n",
              "    </tr>\n",
              "    <tr>\n",
              "      <th>1</th>\n",
              "      <td>S01</td>\n",
              "      <td>-200.0</td>\n",
              "      <td>-70.0</td>\n",
              "      <td>-200.0</td>\n",
              "      <td>-200.0</td>\n",
              "      <td>-200.0</td>\n",
              "      <td>-200.0</td>\n",
              "      <td>-200.0</td>\n",
              "      <td>-200.0</td>\n",
              "      <td>-200.0</td>\n",
              "      <td>...</td>\n",
              "      <td>-74.0</td>\n",
              "      <td>-63.0</td>\n",
              "      <td>-200.0</td>\n",
              "      <td>-200.0</td>\n",
              "      <td>-200.0</td>\n",
              "      <td>-200.0</td>\n",
              "      <td>-200.0</td>\n",
              "      <td>-52.0</td>\n",
              "      <td>-200.0</td>\n",
              "      <td>-200.0</td>\n",
              "    </tr>\n",
              "    <tr>\n",
              "      <th>2</th>\n",
              "      <td>S01</td>\n",
              "      <td>-200.0</td>\n",
              "      <td>-73.0</td>\n",
              "      <td>-200.0</td>\n",
              "      <td>-200.0</td>\n",
              "      <td>-200.0</td>\n",
              "      <td>-200.0</td>\n",
              "      <td>-200.0</td>\n",
              "      <td>-200.0</td>\n",
              "      <td>-200.0</td>\n",
              "      <td>...</td>\n",
              "      <td>-75.0</td>\n",
              "      <td>-67.0</td>\n",
              "      <td>-200.0</td>\n",
              "      <td>-200.0</td>\n",
              "      <td>-200.0</td>\n",
              "      <td>-200.0</td>\n",
              "      <td>-200.0</td>\n",
              "      <td>-50.0</td>\n",
              "      <td>-200.0</td>\n",
              "      <td>-200.0</td>\n",
              "    </tr>\n",
              "    <tr>\n",
              "      <th>3</th>\n",
              "      <td>S01</td>\n",
              "      <td>-200.0</td>\n",
              "      <td>-74.0</td>\n",
              "      <td>-200.0</td>\n",
              "      <td>-200.0</td>\n",
              "      <td>-200.0</td>\n",
              "      <td>-200.0</td>\n",
              "      <td>-200.0</td>\n",
              "      <td>-200.0</td>\n",
              "      <td>-200.0</td>\n",
              "      <td>...</td>\n",
              "      <td>-76.0</td>\n",
              "      <td>-64.0</td>\n",
              "      <td>-200.0</td>\n",
              "      <td>-200.0</td>\n",
              "      <td>-200.0</td>\n",
              "      <td>-200.0</td>\n",
              "      <td>-200.0</td>\n",
              "      <td>-49.0</td>\n",
              "      <td>-200.0</td>\n",
              "      <td>-200.0</td>\n",
              "    </tr>\n",
              "    <tr>\n",
              "      <th>4</th>\n",
              "      <td>S01</td>\n",
              "      <td>-200.0</td>\n",
              "      <td>-72.0</td>\n",
              "      <td>-200.0</td>\n",
              "      <td>-200.0</td>\n",
              "      <td>-200.0</td>\n",
              "      <td>-200.0</td>\n",
              "      <td>-200.0</td>\n",
              "      <td>-200.0</td>\n",
              "      <td>-200.0</td>\n",
              "      <td>...</td>\n",
              "      <td>-79.0</td>\n",
              "      <td>-65.0</td>\n",
              "      <td>-200.0</td>\n",
              "      <td>-200.0</td>\n",
              "      <td>-200.0</td>\n",
              "      <td>-200.0</td>\n",
              "      <td>-200.0</td>\n",
              "      <td>-47.0</td>\n",
              "      <td>-200.0</td>\n",
              "      <td>-200.0</td>\n",
              "    </tr>\n",
              "    <tr>\n",
              "      <th>...</th>\n",
              "      <td>...</td>\n",
              "      <td>...</td>\n",
              "      <td>...</td>\n",
              "      <td>...</td>\n",
              "      <td>...</td>\n",
              "      <td>...</td>\n",
              "      <td>...</td>\n",
              "      <td>...</td>\n",
              "      <td>...</td>\n",
              "      <td>...</td>\n",
              "      <td>...</td>\n",
              "      <td>...</td>\n",
              "      <td>...</td>\n",
              "      <td>...</td>\n",
              "      <td>...</td>\n",
              "      <td>...</td>\n",
              "      <td>...</td>\n",
              "      <td>...</td>\n",
              "      <td>...</td>\n",
              "      <td>...</td>\n",
              "      <td>...</td>\n",
              "    </tr>\n",
              "    <tr>\n",
              "      <th>493</th>\n",
              "      <td>U01</td>\n",
              "      <td>-200.0</td>\n",
              "      <td>-200.0</td>\n",
              "      <td>-200.0</td>\n",
              "      <td>-200.0</td>\n",
              "      <td>-200.0</td>\n",
              "      <td>-200.0</td>\n",
              "      <td>-80.0</td>\n",
              "      <td>-200.0</td>\n",
              "      <td>-200.0</td>\n",
              "      <td>...</td>\n",
              "      <td>-200.0</td>\n",
              "      <td>-200.0</td>\n",
              "      <td>-81.0</td>\n",
              "      <td>-77.0</td>\n",
              "      <td>-53.0</td>\n",
              "      <td>-60.0</td>\n",
              "      <td>-81.0</td>\n",
              "      <td>-200.0</td>\n",
              "      <td>-200.0</td>\n",
              "      <td>-200.0</td>\n",
              "    </tr>\n",
              "    <tr>\n",
              "      <th>494</th>\n",
              "      <td>U01</td>\n",
              "      <td>-200.0</td>\n",
              "      <td>-200.0</td>\n",
              "      <td>-200.0</td>\n",
              "      <td>-200.0</td>\n",
              "      <td>-200.0</td>\n",
              "      <td>-200.0</td>\n",
              "      <td>-81.0</td>\n",
              "      <td>-200.0</td>\n",
              "      <td>-200.0</td>\n",
              "      <td>...</td>\n",
              "      <td>-200.0</td>\n",
              "      <td>-200.0</td>\n",
              "      <td>-82.0</td>\n",
              "      <td>-70.0</td>\n",
              "      <td>-59.0</td>\n",
              "      <td>-60.0</td>\n",
              "      <td>-200.0</td>\n",
              "      <td>-200.0</td>\n",
              "      <td>-200.0</td>\n",
              "      <td>-200.0</td>\n",
              "    </tr>\n",
              "    <tr>\n",
              "      <th>495</th>\n",
              "      <td>U01</td>\n",
              "      <td>-200.0</td>\n",
              "      <td>-200.0</td>\n",
              "      <td>-200.0</td>\n",
              "      <td>-200.0</td>\n",
              "      <td>-200.0</td>\n",
              "      <td>-200.0</td>\n",
              "      <td>-81.0</td>\n",
              "      <td>-200.0</td>\n",
              "      <td>-200.0</td>\n",
              "      <td>...</td>\n",
              "      <td>-200.0</td>\n",
              "      <td>-200.0</td>\n",
              "      <td>-81.0</td>\n",
              "      <td>-65.0</td>\n",
              "      <td>-69.0</td>\n",
              "      <td>-59.0</td>\n",
              "      <td>-80.0</td>\n",
              "      <td>-200.0</td>\n",
              "      <td>-200.0</td>\n",
              "      <td>-200.0</td>\n",
              "    </tr>\n",
              "    <tr>\n",
              "      <th>496</th>\n",
              "      <td>U01</td>\n",
              "      <td>-200.0</td>\n",
              "      <td>-200.0</td>\n",
              "      <td>-200.0</td>\n",
              "      <td>-200.0</td>\n",
              "      <td>-200.0</td>\n",
              "      <td>-200.0</td>\n",
              "      <td>-82.0</td>\n",
              "      <td>-200.0</td>\n",
              "      <td>-200.0</td>\n",
              "      <td>...</td>\n",
              "      <td>-200.0</td>\n",
              "      <td>-200.0</td>\n",
              "      <td>-82.0</td>\n",
              "      <td>-63.0</td>\n",
              "      <td>-62.0</td>\n",
              "      <td>-69.0</td>\n",
              "      <td>-76.0</td>\n",
              "      <td>-200.0</td>\n",
              "      <td>-200.0</td>\n",
              "      <td>-200.0</td>\n",
              "    </tr>\n",
              "    <tr>\n",
              "      <th>497</th>\n",
              "      <td>U01</td>\n",
              "      <td>-200.0</td>\n",
              "      <td>-200.0</td>\n",
              "      <td>-200.0</td>\n",
              "      <td>-200.0</td>\n",
              "      <td>-200.0</td>\n",
              "      <td>-200.0</td>\n",
              "      <td>-77.0</td>\n",
              "      <td>-200.0</td>\n",
              "      <td>-200.0</td>\n",
              "      <td>...</td>\n",
              "      <td>-200.0</td>\n",
              "      <td>-200.0</td>\n",
              "      <td>-79.0</td>\n",
              "      <td>-63.0</td>\n",
              "      <td>-60.0</td>\n",
              "      <td>-67.0</td>\n",
              "      <td>-79.0</td>\n",
              "      <td>-200.0</td>\n",
              "      <td>-200.0</td>\n",
              "      <td>-200.0</td>\n",
              "    </tr>\n",
              "  </tbody>\n",
              "</table>\n",
              "<p>15730 rows × 23 columns</p>\n",
              "</div>\n",
              "      <button class=\"colab-df-convert\" onclick=\"convertToInteractive('df-eda75cb5-6d15-4ba2-accc-3ca9735e6864')\"\n",
              "              title=\"Convert this dataframe to an interactive table.\"\n",
              "              style=\"display:none;\">\n",
              "        \n",
              "  <svg xmlns=\"http://www.w3.org/2000/svg\" height=\"24px\"viewBox=\"0 0 24 24\"\n",
              "       width=\"24px\">\n",
              "    <path d=\"M0 0h24v24H0V0z\" fill=\"none\"/>\n",
              "    <path d=\"M18.56 5.44l.94 2.06.94-2.06 2.06-.94-2.06-.94-.94-2.06-.94 2.06-2.06.94zm-11 1L8.5 8.5l.94-2.06 2.06-.94-2.06-.94L8.5 2.5l-.94 2.06-2.06.94zm10 10l.94 2.06.94-2.06 2.06-.94-2.06-.94-.94-2.06-.94 2.06-2.06.94z\"/><path d=\"M17.41 7.96l-1.37-1.37c-.4-.4-.92-.59-1.43-.59-.52 0-1.04.2-1.43.59L10.3 9.45l-7.72 7.72c-.78.78-.78 2.05 0 2.83L4 21.41c.39.39.9.59 1.41.59.51 0 1.02-.2 1.41-.59l7.78-7.78 2.81-2.81c.8-.78.8-2.07 0-2.86zM5.41 20L4 18.59l7.72-7.72 1.47 1.35L5.41 20z\"/>\n",
              "  </svg>\n",
              "      </button>\n",
              "      \n",
              "  <style>\n",
              "    .colab-df-container {\n",
              "      display:flex;\n",
              "      flex-wrap:wrap;\n",
              "      gap: 12px;\n",
              "    }\n",
              "\n",
              "    .colab-df-convert {\n",
              "      background-color: #E8F0FE;\n",
              "      border: none;\n",
              "      border-radius: 50%;\n",
              "      cursor: pointer;\n",
              "      display: none;\n",
              "      fill: #1967D2;\n",
              "      height: 32px;\n",
              "      padding: 0 0 0 0;\n",
              "      width: 32px;\n",
              "    }\n",
              "\n",
              "    .colab-df-convert:hover {\n",
              "      background-color: #E2EBFA;\n",
              "      box-shadow: 0px 1px 2px rgba(60, 64, 67, 0.3), 0px 1px 3px 1px rgba(60, 64, 67, 0.15);\n",
              "      fill: #174EA6;\n",
              "    }\n",
              "\n",
              "    [theme=dark] .colab-df-convert {\n",
              "      background-color: #3B4455;\n",
              "      fill: #D2E3FC;\n",
              "    }\n",
              "\n",
              "    [theme=dark] .colab-df-convert:hover {\n",
              "      background-color: #434B5C;\n",
              "      box-shadow: 0px 1px 3px 1px rgba(0, 0, 0, 0.15);\n",
              "      filter: drop-shadow(0px 1px 2px rgba(0, 0, 0, 0.3));\n",
              "      fill: #FFFFFF;\n",
              "    }\n",
              "  </style>\n",
              "\n",
              "      <script>\n",
              "        const buttonEl =\n",
              "          document.querySelector('#df-eda75cb5-6d15-4ba2-accc-3ca9735e6864 button.colab-df-convert');\n",
              "        buttonEl.style.display =\n",
              "          google.colab.kernel.accessAllowed ? 'block' : 'none';\n",
              "\n",
              "        async function convertToInteractive(key) {\n",
              "          const element = document.querySelector('#df-eda75cb5-6d15-4ba2-accc-3ca9735e6864');\n",
              "          const dataTable =\n",
              "            await google.colab.kernel.invokeFunction('convertToInteractive',\n",
              "                                                     [key], {});\n",
              "          if (!dataTable) return;\n",
              "\n",
              "          const docLinkHtml = 'Like what you see? Visit the ' +\n",
              "            '<a target=\"_blank\" href=https://colab.research.google.com/notebooks/data_table.ipynb>data table notebook</a>'\n",
              "            + ' to learn more about interactive tables.';\n",
              "          element.innerHTML = '';\n",
              "          dataTable['output_type'] = 'display_data';\n",
              "          await google.colab.output.renderOutput(dataTable, element);\n",
              "          const docLink = document.createElement('div');\n",
              "          docLink.innerHTML = docLinkHtml;\n",
              "          element.appendChild(docLink);\n",
              "        }\n",
              "      </script>\n",
              "    </div>\n",
              "  </div>\n",
              "  "
            ]
          },
          "metadata": {},
          "execution_count": 72
        }
      ]
    },
    {
      "cell_type": "code",
      "source": [
        "result.columns"
      ],
      "metadata": {
        "colab": {
          "base_uri": "https://localhost:8080/"
        },
        "id": "cvqvkpTmxSy8",
        "outputId": "df3f3866-7c94-4134-d27d-6af50b4badd4"
      },
      "execution_count": null,
      "outputs": [
        {
          "output_type": "execute_result",
          "data": {
            "text/plain": [
              "Index(['location', '001', '002', '003', '004', '005', '006', '007', '008',\n",
              "       '009', '010', '011', '012', '013', '014', '015', '016', '017', '018',\n",
              "       '019', '020', '021', '022'],\n",
              "      dtype='object')"
            ]
          },
          "metadata": {},
          "execution_count": 74
        }
      ]
    },
    {
      "cell_type": "markdown",
      "metadata": {
        "id": "8GcHkcWyJGyX"
      },
      "source": [
        "# DNN modeling\n",
        "- Multi-Classification with Top 5 beacons\n",
        "\n",
        "\n",
        "# Hyperparameter Tuning\n",
        "- Normalization : Weight Normalization\n",
        "- learning rate : [0.01, 0.001, 0.0001]\n",
        "- loss: categorical_crossentropy\n",
        "- Optimaization: Adam\n",
        "- epoch: 50\n",
        "- output layer: 31\n",
        "- activation: Relu\n",
        "- activation: Softmax\n",
        "\n",
        "# Result\n",
        "The hyperparameter search is complete. The optimal number of units in the first densely-connected\n",
        "layer is 224 and the optimal learning rate for the optimizer\n",
        "is 0.001.\n",
        "\n",
        "- loss: 0.2959\n",
        "- accuracy: 0.8853 \n",
        "- precision: 0.8909 \n",
        "- recall: 0.8813 \n",
        "- f1_score: 0.8779 \n",
        "- 450ms/epoch - 3ms/step\n"
      ]
    },
    {
      "cell_type": "code",
      "execution_count": null,
      "metadata": {
        "colab": {
          "base_uri": "https://localhost:8080/"
        },
        "id": "ac4lDSz6IWZc",
        "outputId": "26a2fbf1-799e-4fc4-c005-e9de5afa47db"
      },
      "outputs": [
        {
          "output_type": "stream",
          "name": "stderr",
          "text": [
            "/usr/local/lib/python3.7/dist-packages/sklearn/preprocessing/_label.py:115: DataConversionWarning: A column-vector y was passed when a 1d array was expected. Please change the shape of y to (n_samples, ), for example using ravel().\n",
            "  y = column_or_1d(y, warn=True)\n"
          ]
        }
      ],
      "source": [
        "np.set_printoptions(precision=2)\n",
        "le = LabelEncoder()\n",
        "\n",
        "X = np.array(result.iloc[:, 1:])\n",
        "y = le.fit_transform(np.array(result['location']).reshape(-1, 1))\n",
        "y = to_categorical(y)"
      ]
    },
    {
      "cell_type": "code",
      "source": [
        "len(X[0])"
      ],
      "metadata": {
        "colab": {
          "base_uri": "https://localhost:8080/"
        },
        "id": "T6jJePdoDoB8",
        "outputId": "a7f7dd34-5850-44cf-e337-4297c427e20f"
      },
      "execution_count": null,
      "outputs": [
        {
          "output_type": "execute_result",
          "data": {
            "text/plain": [
              "22"
            ]
          },
          "metadata": {},
          "execution_count": 76
        }
      ]
    },
    {
      "cell_type": "code",
      "source": [
        "X = np.asarray(X).astype(np.float32)"
      ],
      "metadata": {
        "id": "-KOBBHHGbdj_"
      },
      "execution_count": null,
      "outputs": []
    },
    {
      "cell_type": "code",
      "source": [
        "len(X[0])"
      ],
      "metadata": {
        "colab": {
          "base_uri": "https://localhost:8080/"
        },
        "id": "MOb1CCzAvK-N",
        "outputId": "b21c1ad3-b0f0-4a98-f0ae-4caaeb79d100"
      },
      "execution_count": null,
      "outputs": [
        {
          "output_type": "execute_result",
          "data": {
            "text/plain": [
              "22"
            ]
          },
          "metadata": {},
          "execution_count": 78
        }
      ]
    },
    {
      "cell_type": "code",
      "execution_count": null,
      "metadata": {
        "id": "v3YL2YrcJdSs"
      },
      "outputs": [],
      "source": [
        "X_train, X_test, y_train, y_test = train_test_split(X, y, test_size = 0.3, random_state=42,shuffle=True)"
      ]
    },
    {
      "cell_type": "code",
      "execution_count": null,
      "metadata": {
        "colab": {
          "base_uri": "https://localhost:8080/"
        },
        "id": "hggFwyvcKnui",
        "outputId": "d098fa96-3c22-4ba2-d423-063f342d5beb"
      },
      "outputs": [
        {
          "output_type": "stream",
          "name": "stdout",
          "text": [
            "Looking in indexes: https://pypi.org/simple, https://us-python.pkg.dev/colab-wheels/public/simple/\n",
            "Collecting tensorflow-addons\n",
            "  Downloading tensorflow_addons-0.17.1-cp37-cp37m-manylinux_2_17_x86_64.manylinux2014_x86_64.whl (1.1 MB)\n",
            "\u001b[K     |████████████████████████████████| 1.1 MB 6.9 MB/s \n",
            "\u001b[?25hRequirement already satisfied: typeguard>=2.7 in /usr/local/lib/python3.7/dist-packages (from tensorflow-addons) (2.7.1)\n",
            "Requirement already satisfied: packaging in /usr/local/lib/python3.7/dist-packages (from tensorflow-addons) (21.3)\n",
            "Requirement already satisfied: pyparsing!=3.0.5,>=2.0.2 in /usr/local/lib/python3.7/dist-packages (from packaging->tensorflow-addons) (3.0.9)\n",
            "Installing collected packages: tensorflow-addons\n",
            "Successfully installed tensorflow-addons-0.17.1\n"
          ]
        }
      ],
      "source": [
        "!pip install tensorflow-addons"
      ]
    },
    {
      "cell_type": "code",
      "execution_count": null,
      "metadata": {
        "id": "QKtCv7QTKgtc"
      },
      "outputs": [],
      "source": [
        "import tensorflow_addons as tfa"
      ]
    },
    {
      "cell_type": "code",
      "execution_count": null,
      "metadata": {
        "id": "b0CTr69Mo5D0"
      },
      "outputs": [],
      "source": [
        "class ClearTrainingOutput(tf.keras.callbacks.Callback):\n",
        "  def on_train_end(*args, **kwargs):\n",
        "    IPython.display.clear_output(wait = True)"
      ]
    },
    {
      "cell_type": "code",
      "execution_count": null,
      "metadata": {
        "colab": {
          "base_uri": "https://localhost:8080/"
        },
        "id": "hqQw8jj6pgVj",
        "outputId": "77ca223f-fa42-4333-b5ee-eb1e930102ce"
      },
      "outputs": [
        {
          "output_type": "stream",
          "name": "stdout",
          "text": [
            "Looking in indexes: https://pypi.org/simple, https://us-python.pkg.dev/colab-wheels/public/simple/\n",
            "Requirement already satisfied: IPython in /usr/local/lib/python3.7/dist-packages (5.5.0)\n",
            "Requirement already satisfied: simplegeneric>0.8 in /usr/local/lib/python3.7/dist-packages (from IPython) (0.8.1)\n",
            "Requirement already satisfied: traitlets>=4.2 in /usr/local/lib/python3.7/dist-packages (from IPython) (5.1.1)\n",
            "Requirement already satisfied: decorator in /usr/local/lib/python3.7/dist-packages (from IPython) (4.4.2)\n",
            "Requirement already satisfied: pexpect in /usr/local/lib/python3.7/dist-packages (from IPython) (4.8.0)\n",
            "Requirement already satisfied: prompt-toolkit<2.0.0,>=1.0.4 in /usr/local/lib/python3.7/dist-packages (from IPython) (1.0.18)\n",
            "Requirement already satisfied: setuptools>=18.5 in /usr/local/lib/python3.7/dist-packages (from IPython) (57.4.0)\n",
            "Requirement already satisfied: pickleshare in /usr/local/lib/python3.7/dist-packages (from IPython) (0.7.5)\n",
            "Requirement already satisfied: pygments in /usr/local/lib/python3.7/dist-packages (from IPython) (2.6.1)\n",
            "Requirement already satisfied: wcwidth in /usr/local/lib/python3.7/dist-packages (from prompt-toolkit<2.0.0,>=1.0.4->IPython) (0.2.5)\n",
            "Requirement already satisfied: six>=1.9.0 in /usr/local/lib/python3.7/dist-packages (from prompt-toolkit<2.0.0,>=1.0.4->IPython) (1.15.0)\n",
            "Requirement already satisfied: ptyprocess>=0.5 in /usr/local/lib/python3.7/dist-packages (from pexpect->IPython) (0.7.0)\n"
          ]
        }
      ],
      "source": [
        "!pip install IPython\n",
        "import IPython"
      ]
    },
    {
      "cell_type": "code",
      "execution_count": null,
      "metadata": {
        "id": "MnGfma1SJ7HJ"
      },
      "outputs": [],
      "source": [
        "tf.random.set_seed(42)\n",
        "initializer = tf.keras.initializers.HeNormal()\n",
        "\n",
        "def model_builder(hp):\n",
        "   model = keras.Sequential()\n",
        "    \n",
        "   # Dense layer unit number 32~256\n",
        "   hp_unit = hp.Int('units', min_value=32, max_value=256, step=32)\n",
        "   model.add(tfa.layers.WeightNormalization(tf.keras.layers.Dense(units=hp_unit, activation = tf.keras.activations.relu, input_shape=[22], kernel_initializer=initializer)))\n",
        "   model.add(tfa.layers.WeightNormalization(tf.keras.layers.Dense(units=hp_unit, activation = tf.keras.activations.relu, input_shape=[22],kernel_initializer=initializer)))\n",
        "   model.add(tfa.layers.WeightNormalization(tf.keras.layers.Dense(units=hp_unit, activation = tf.keras.activations.relu, input_shape=[22],kernel_initializer=initializer)))\n",
        "  #  model.add(keras.layers.Dropout(0.5))\n",
        "   model.add(keras.layers.Dense(31, activation = 'softmax'))\n",
        "\n",
        "   # (learning rate) = [0.01, 0.001, 0.0001]\n",
        "   hp_learning_rate = hp.Choice('learning_rate', values = [1e-2, 1e-3, 1e-4]) \n",
        "\n",
        "   opt = keras.optimizers.Adam(learning_rate=hp_learning_rate)\n",
        "   loss = tf.keras.losses.categorical_crossentropy\n",
        "   model.compile(optimizer= opt, loss=loss, metrics=['accuracy', tf.keras.metrics.Precision(), tf.keras.metrics.Recall(), tfa.metrics.F1Score(num_classes=31, average='macro', threshold=0.5)])\n",
        "\n",
        "\n",
        "   return model"
      ]
    },
    {
      "cell_type": "code",
      "source": [
        "len(X_train[0])"
      ],
      "metadata": {
        "colab": {
          "base_uri": "https://localhost:8080/"
        },
        "id": "bNXMFO9SqFxt",
        "outputId": "2933b0d3-6834-4405-ae1f-173e81627ff3"
      },
      "execution_count": null,
      "outputs": [
        {
          "output_type": "execute_result",
          "data": {
            "text/plain": [
              "22"
            ]
          },
          "metadata": {},
          "execution_count": 85
        }
      ]
    },
    {
      "cell_type": "code",
      "execution_count": null,
      "metadata": {
        "id": "OXze4LX8HQ7Z",
        "colab": {
          "base_uri": "https://localhost:8080/"
        },
        "outputId": "1a2dc3ba-9574-4eed-ea91-e2cdfcedede7"
      },
      "outputs": [
        {
          "output_type": "stream",
          "name": "stdout",
          "text": [
            "\u001b[?25l\r\u001b[K     |██▍                             | 10 kB 16.3 MB/s eta 0:00:01\r\u001b[K     |████▉                           | 20 kB 20.7 MB/s eta 0:00:01\r\u001b[K     |███████▎                        | 30 kB 14.0 MB/s eta 0:00:01\r\u001b[K     |█████████▋                      | 40 kB 9.7 MB/s eta 0:00:01\r\u001b[K     |████████████                    | 51 kB 6.8 MB/s eta 0:00:01\r\u001b[K     |██████████████▌                 | 61 kB 8.0 MB/s eta 0:00:01\r\u001b[K     |█████████████████               | 71 kB 8.4 MB/s eta 0:00:01\r\u001b[K     |███████████████████▎            | 81 kB 7.6 MB/s eta 0:00:01\r\u001b[K     |█████████████████████▊          | 92 kB 8.4 MB/s eta 0:00:01\r\u001b[K     |████████████████████████▏       | 102 kB 8.7 MB/s eta 0:00:01\r\u001b[K     |██████████████████████████▋     | 112 kB 8.7 MB/s eta 0:00:01\r\u001b[K     |█████████████████████████████   | 122 kB 8.7 MB/s eta 0:00:01\r\u001b[K     |███████████████████████████████▍| 133 kB 8.7 MB/s eta 0:00:01\r\u001b[K     |████████████████████████████████| 135 kB 8.7 MB/s \n",
            "\u001b[?25h"
          ]
        },
        {
          "output_type": "stream",
          "name": "stderr",
          "text": [
            "/usr/local/lib/python3.7/dist-packages/ipykernel_launcher.py:2: DeprecationWarning: `import kerastuner` is deprecated, please use `import keras_tuner`.\n",
            "  \n"
          ]
        }
      ],
      "source": [
        "!pip install -q -U keras-tuner\n",
        "import kerastuner as kt"
      ]
    },
    {
      "cell_type": "code",
      "execution_count": null,
      "metadata": {
        "id": "_o3IDER5Kw28",
        "colab": {
          "base_uri": "https://localhost:8080/"
        },
        "outputId": "bd0c31b1-8b25-404f-9c34-2303cd84740a"
      },
      "outputs": [
        {
          "output_type": "stream",
          "name": "stdout",
          "text": [
            "INFO:tensorflow:Reloading Oracle from existing project hi2/ios_clf_10/oracle.json\n"
          ]
        },
        {
          "output_type": "stream",
          "name": "stderr",
          "text": [
            "INFO:tensorflow:Reloading Oracle from existing project hi2/ios_clf_10/oracle.json\n"
          ]
        },
        {
          "output_type": "stream",
          "name": "stdout",
          "text": [
            "INFO:tensorflow:Reloading Tuner from hi2/ios_clf_10/tuner0.json\n"
          ]
        },
        {
          "output_type": "stream",
          "name": "stderr",
          "text": [
            "INFO:tensorflow:Reloading Tuner from hi2/ios_clf_10/tuner0.json\n"
          ]
        }
      ],
      "source": [
        "tuner = kt.Hyperband(model_builder,\n",
        "                     objective = 'val_accuracy', \n",
        "                     max_epochs = 30,\n",
        "                     factor=3,\n",
        "                     hyperband_iterations=2,\n",
        "                     directory = 'hi2',\n",
        "                     project_name = 'ios_clf_10')"
      ]
    },
    {
      "cell_type": "code",
      "execution_count": null,
      "metadata": {
        "colab": {
          "base_uri": "https://localhost:8080/"
        },
        "id": "dj0vLuknK8jm",
        "outputId": "02b08410-d782-44e4-ce9e-9548658f5328"
      },
      "outputs": [
        {
          "output_type": "stream",
          "name": "stdout",
          "text": [
            "INFO:tensorflow:Oracle triggered exit\n"
          ]
        },
        {
          "output_type": "stream",
          "name": "stderr",
          "text": [
            "INFO:tensorflow:Oracle triggered exit\n"
          ]
        },
        {
          "output_type": "stream",
          "name": "stdout",
          "text": [
            "\n",
            "The hyperparameter search is complete. The optimal number of units in the first densely-connected\n",
            "layer is 224 and the optimal learning rate for the optimizer\n",
            "is 0.0001.\n",
            "\n"
          ]
        }
      ],
      "source": [
        "tuner.search(X_train, y_train, epochs = 50, validation_data = (X_test, y_test), callbacks = [ClearTrainingOutput()])\n",
        "\n",
        "# Get the optimal hyperparameters\n",
        "best_hps = tuner.get_best_hyperparameters(num_trials = 1)[0]\n",
        "\n",
        "print(f\"\"\"\n",
        "The hyperparameter search is complete. The optimal number of units in the first densely-connected\n",
        "layer is {best_hps.get('units')} and the optimal learning rate for the optimizer\n",
        "is {best_hps.get('learning_rate')}.\n",
        "\"\"\")"
      ]
    },
    {
      "cell_type": "code",
      "execution_count": null,
      "metadata": {
        "id": "XCWhebSyK-LC",
        "colab": {
          "base_uri": "https://localhost:8080/"
        },
        "outputId": "a6930c36-1879-4eae-ae96-fc00f48dbd8e"
      },
      "outputs": [
        {
          "output_type": "stream",
          "name": "stdout",
          "text": [
            "Epoch 1/50\n",
            "345/345 [==============================] - 10s 17ms/step - loss: 1.6480 - accuracy: 0.4975 - precision_1: 0.7681 - recall_1: 0.2072 - f1_score: 0.2929 - val_loss: 1.0406 - val_accuracy: 0.6152 - val_precision_1: 0.7588 - val_recall_1: 0.4060 - val_f1_score: 0.4647\n",
            "Epoch 2/50\n",
            "345/345 [==============================] - 4s 11ms/step - loss: 0.9760 - accuracy: 0.6243 - precision_1: 0.7367 - recall_1: 0.4743 - f1_score: 0.5400 - val_loss: 0.9368 - val_accuracy: 0.6319 - val_precision_1: 0.7583 - val_recall_1: 0.4660 - val_f1_score: 0.5254\n",
            "Epoch 3/50\n",
            "345/345 [==============================] - 5s 14ms/step - loss: 0.9054 - accuracy: 0.6470 - precision_1: 0.7490 - recall_1: 0.5170 - f1_score: 0.5773 - val_loss: 0.9092 - val_accuracy: 0.6476 - val_precision_1: 0.7303 - val_recall_1: 0.5382 - val_f1_score: 0.5732\n",
            "Epoch 4/50\n",
            "345/345 [==============================] - 4s 13ms/step - loss: 0.8678 - accuracy: 0.6649 - precision_1: 0.7540 - recall_1: 0.5441 - f1_score: 0.5997 - val_loss: 0.8823 - val_accuracy: 0.6592 - val_precision_1: 0.7486 - val_recall_1: 0.5257 - val_f1_score: 0.5646\n",
            "Epoch 5/50\n",
            "345/345 [==============================] - 5s 15ms/step - loss: 0.8445 - accuracy: 0.6691 - precision_1: 0.7543 - recall_1: 0.5551 - f1_score: 0.6129 - val_loss: 0.8570 - val_accuracy: 0.6620 - val_precision_1: 0.7441 - val_recall_1: 0.5607 - val_f1_score: 0.5896\n",
            "Epoch 6/50\n",
            "345/345 [==============================] - 5s 15ms/step - loss: 0.8219 - accuracy: 0.6763 - precision_1: 0.7650 - recall_1: 0.5650 - f1_score: 0.6182 - val_loss: 0.8458 - val_accuracy: 0.6857 - val_precision_1: 0.7654 - val_recall_1: 0.5516 - val_f1_score: 0.6021\n",
            "Epoch 7/50\n",
            "345/345 [==============================] - 6s 17ms/step - loss: 0.8046 - accuracy: 0.6833 - precision_1: 0.7632 - recall_1: 0.5710 - f1_score: 0.6250 - val_loss: 0.8521 - val_accuracy: 0.6391 - val_precision_1: 0.7033 - val_recall_1: 0.5917 - val_f1_score: 0.6039\n",
            "Epoch 8/50\n",
            "345/345 [==============================] - 5s 15ms/step - loss: 0.7884 - accuracy: 0.6888 - precision_1: 0.7707 - recall_1: 0.5873 - f1_score: 0.6421 - val_loss: 0.8172 - val_accuracy: 0.6902 - val_precision_1: 0.7668 - val_recall_1: 0.5747 - val_f1_score: 0.6244\n",
            "Epoch 9/50\n",
            "345/345 [==============================] - 5s 14ms/step - loss: 0.7731 - accuracy: 0.7013 - precision_1: 0.7769 - recall_1: 0.5960 - f1_score: 0.6503 - val_loss: 0.8306 - val_accuracy: 0.7078 - val_precision_1: 0.7804 - val_recall_1: 0.5730 - val_f1_score: 0.6128\n",
            "Epoch 10/50\n",
            "345/345 [==============================] - 5s 15ms/step - loss: 0.7578 - accuracy: 0.7069 - precision_1: 0.7820 - recall_1: 0.6046 - f1_score: 0.6572 - val_loss: 0.8034 - val_accuracy: 0.6993 - val_precision_1: 0.7831 - val_recall_1: 0.5885 - val_f1_score: 0.6220\n",
            "Epoch 11/50\n",
            "345/345 [==============================] - 7s 20ms/step - loss: 0.7470 - accuracy: 0.7097 - precision_1: 0.7845 - recall_1: 0.6081 - f1_score: 0.6609 - val_loss: 0.7767 - val_accuracy: 0.7031 - val_precision_1: 0.7832 - val_recall_1: 0.6224 - val_f1_score: 0.6646\n",
            "Epoch 12/50\n",
            "345/345 [==============================] - 4s 11ms/step - loss: 0.7338 - accuracy: 0.7140 - precision_1: 0.7840 - recall_1: 0.6198 - f1_score: 0.6706 - val_loss: 0.7763 - val_accuracy: 0.7090 - val_precision_1: 0.7995 - val_recall_1: 0.5967 - val_f1_score: 0.6476\n",
            "Epoch 13/50\n",
            "345/345 [==============================] - 4s 11ms/step - loss: 0.7231 - accuracy: 0.7176 - precision_1: 0.7932 - recall_1: 0.6240 - f1_score: 0.6763 - val_loss: 0.7703 - val_accuracy: 0.6972 - val_precision_1: 0.7720 - val_recall_1: 0.6135 - val_f1_score: 0.6453\n",
            "Epoch 14/50\n",
            "345/345 [==============================] - 3s 8ms/step - loss: 0.7070 - accuracy: 0.7231 - precision_1: 0.7889 - recall_1: 0.6276 - f1_score: 0.6779 - val_loss: 0.7670 - val_accuracy: 0.7042 - val_precision_1: 0.7737 - val_recall_1: 0.5999 - val_f1_score: 0.6430\n",
            "Epoch 15/50\n",
            "345/345 [==============================] - 2s 5ms/step - loss: 0.7010 - accuracy: 0.7267 - precision_1: 0.7920 - recall_1: 0.6317 - f1_score: 0.6820 - val_loss: 0.7521 - val_accuracy: 0.7224 - val_precision_1: 0.7919 - val_recall_1: 0.6169 - val_f1_score: 0.6538\n",
            "Epoch 16/50\n",
            "345/345 [==============================] - 2s 6ms/step - loss: 0.6849 - accuracy: 0.7305 - precision_1: 0.7940 - recall_1: 0.6488 - f1_score: 0.6966 - val_loss: 0.7711 - val_accuracy: 0.6853 - val_precision_1: 0.7450 - val_recall_1: 0.6258 - val_f1_score: 0.6489\n",
            "Epoch 17/50\n",
            "345/345 [==============================] - 2s 5ms/step - loss: 0.6772 - accuracy: 0.7364 - precision_1: 0.8043 - recall_1: 0.6526 - f1_score: 0.7013 - val_loss: 0.7287 - val_accuracy: 0.7290 - val_precision_1: 0.7871 - val_recall_1: 0.6362 - val_f1_score: 0.6793\n",
            "Epoch 18/50\n",
            "345/345 [==============================] - 2s 5ms/step - loss: 0.6698 - accuracy: 0.7401 - precision_1: 0.7996 - recall_1: 0.6556 - f1_score: 0.7041 - val_loss: 0.7425 - val_accuracy: 0.7074 - val_precision_1: 0.7664 - val_recall_1: 0.6304 - val_f1_score: 0.6685\n",
            "Epoch 19/50\n",
            "345/345 [==============================] - 2s 5ms/step - loss: 0.6577 - accuracy: 0.7441 - precision_1: 0.8086 - recall_1: 0.6610 - f1_score: 0.7098 - val_loss: 0.7350 - val_accuracy: 0.7103 - val_precision_1: 0.7677 - val_recall_1: 0.6309 - val_f1_score: 0.6596\n",
            "Epoch 20/50\n",
            "345/345 [==============================] - 2s 5ms/step - loss: 0.6493 - accuracy: 0.7486 - precision_1: 0.8077 - recall_1: 0.6700 - f1_score: 0.7153 - val_loss: 0.7152 - val_accuracy: 0.7260 - val_precision_1: 0.8040 - val_recall_1: 0.6588 - val_f1_score: 0.6971\n",
            "Epoch 21/50\n",
            "345/345 [==============================] - 2s 5ms/step - loss: 0.6393 - accuracy: 0.7561 - precision_1: 0.8072 - recall_1: 0.6798 - f1_score: 0.7243 - val_loss: 0.7228 - val_accuracy: 0.7313 - val_precision_1: 0.7801 - val_recall_1: 0.6654 - val_f1_score: 0.6932\n",
            "Epoch 22/50\n",
            "345/345 [==============================] - 2s 6ms/step - loss: 0.6315 - accuracy: 0.7563 - precision_1: 0.8090 - recall_1: 0.6751 - f1_score: 0.7202 - val_loss: 0.7215 - val_accuracy: 0.7309 - val_precision_1: 0.7881 - val_recall_1: 0.6658 - val_f1_score: 0.6939\n",
            "Epoch 23/50\n",
            "345/345 [==============================] - 2s 6ms/step - loss: 0.6264 - accuracy: 0.7539 - precision_1: 0.8072 - recall_1: 0.6808 - f1_score: 0.7227 - val_loss: 0.7228 - val_accuracy: 0.7184 - val_precision_1: 0.7739 - val_recall_1: 0.6565 - val_f1_score: 0.6841\n",
            "Epoch 24/50\n",
            "345/345 [==============================] - 2s 5ms/step - loss: 0.6193 - accuracy: 0.7614 - precision_1: 0.8144 - recall_1: 0.6900 - f1_score: 0.7329 - val_loss: 0.7035 - val_accuracy: 0.7279 - val_precision_1: 0.7865 - val_recall_1: 0.6675 - val_f1_score: 0.6955\n",
            "Epoch 25/50\n",
            "345/345 [==============================] - 2s 5ms/step - loss: 0.6114 - accuracy: 0.7659 - precision_1: 0.8192 - recall_1: 0.6912 - f1_score: 0.7356 - val_loss: 0.6890 - val_accuracy: 0.7499 - val_precision_1: 0.7953 - val_recall_1: 0.6834 - val_f1_score: 0.7145\n",
            "Epoch 26/50\n",
            "345/345 [==============================] - 2s 6ms/step - loss: 0.6042 - accuracy: 0.7622 - precision_1: 0.8136 - recall_1: 0.6928 - f1_score: 0.7349 - val_loss: 0.6886 - val_accuracy: 0.7357 - val_precision_1: 0.7896 - val_recall_1: 0.6758 - val_f1_score: 0.7072\n",
            "Epoch 27/50\n",
            "345/345 [==============================] - 2s 5ms/step - loss: 0.6001 - accuracy: 0.7656 - precision_1: 0.8155 - recall_1: 0.6971 - f1_score: 0.7387 - val_loss: 0.6947 - val_accuracy: 0.7394 - val_precision_1: 0.7983 - val_recall_1: 0.6775 - val_f1_score: 0.7116\n",
            "Epoch 28/50\n",
            "345/345 [==============================] - 2s 6ms/step - loss: 0.5913 - accuracy: 0.7670 - precision_1: 0.8188 - recall_1: 0.7011 - f1_score: 0.7429 - val_loss: 0.6866 - val_accuracy: 0.7449 - val_precision_1: 0.7982 - val_recall_1: 0.6815 - val_f1_score: 0.7180\n",
            "Epoch 29/50\n",
            "345/345 [==============================] - 2s 6ms/step - loss: 0.5847 - accuracy: 0.7723 - precision_1: 0.8203 - recall_1: 0.7044 - f1_score: 0.7450 - val_loss: 0.6913 - val_accuracy: 0.7434 - val_precision_1: 0.7950 - val_recall_1: 0.6762 - val_f1_score: 0.7070\n",
            "Epoch 30/50\n",
            "345/345 [==============================] - 2s 5ms/step - loss: 0.5768 - accuracy: 0.7725 - precision_1: 0.8199 - recall_1: 0.7105 - f1_score: 0.7502 - val_loss: 0.6761 - val_accuracy: 0.7425 - val_precision_1: 0.7869 - val_recall_1: 0.6730 - val_f1_score: 0.6972\n",
            "Epoch 31/50\n",
            "345/345 [==============================] - 2s 5ms/step - loss: 0.5737 - accuracy: 0.7734 - precision_1: 0.8235 - recall_1: 0.7136 - f1_score: 0.7521 - val_loss: 0.6721 - val_accuracy: 0.7400 - val_precision_1: 0.7866 - val_recall_1: 0.6849 - val_f1_score: 0.7068\n",
            "Epoch 32/50\n",
            "345/345 [==============================] - 2s 6ms/step - loss: 0.5634 - accuracy: 0.7812 - precision_1: 0.8259 - recall_1: 0.7170 - f1_score: 0.7562 - val_loss: 0.6549 - val_accuracy: 0.7531 - val_precision_1: 0.8085 - val_recall_1: 0.6997 - val_f1_score: 0.7279\n",
            "Epoch 33/50\n",
            "345/345 [==============================] - 2s 6ms/step - loss: 0.5634 - accuracy: 0.7796 - precision_1: 0.8223 - recall_1: 0.7148 - f1_score: 0.7540 - val_loss: 0.6709 - val_accuracy: 0.7559 - val_precision_1: 0.8051 - val_recall_1: 0.6917 - val_f1_score: 0.7171\n",
            "Epoch 34/50\n",
            "345/345 [==============================] - 2s 6ms/step - loss: 0.5539 - accuracy: 0.7809 - precision_1: 0.8241 - recall_1: 0.7207 - f1_score: 0.7576 - val_loss: 0.6600 - val_accuracy: 0.7512 - val_precision_1: 0.7975 - val_recall_1: 0.6987 - val_f1_score: 0.7211\n",
            "Epoch 35/50\n",
            "345/345 [==============================] - 2s 6ms/step - loss: 0.5511 - accuracy: 0.7824 - precision_1: 0.8292 - recall_1: 0.7267 - f1_score: 0.7638 - val_loss: 0.6591 - val_accuracy: 0.7538 - val_precision_1: 0.8025 - val_recall_1: 0.6991 - val_f1_score: 0.7283\n",
            "Epoch 36/50\n",
            "345/345 [==============================] - 2s 5ms/step - loss: 0.5420 - accuracy: 0.7893 - precision_1: 0.8305 - recall_1: 0.7324 - f1_score: 0.7683 - val_loss: 0.6597 - val_accuracy: 0.7531 - val_precision_1: 0.7971 - val_recall_1: 0.7093 - val_f1_score: 0.7303\n",
            "Epoch 37/50\n",
            "345/345 [==============================] - 2s 5ms/step - loss: 0.5389 - accuracy: 0.7857 - precision_1: 0.8288 - recall_1: 0.7287 - f1_score: 0.7649 - val_loss: 0.6482 - val_accuracy: 0.7601 - val_precision_1: 0.8131 - val_recall_1: 0.6934 - val_f1_score: 0.7294\n",
            "Epoch 38/50\n",
            "345/345 [==============================] - 2s 5ms/step - loss: 0.5327 - accuracy: 0.7891 - precision_1: 0.8301 - recall_1: 0.7354 - f1_score: 0.7701 - val_loss: 0.6561 - val_accuracy: 0.7644 - val_precision_1: 0.8107 - val_recall_1: 0.7086 - val_f1_score: 0.7444\n",
            "Epoch 39/50\n",
            "345/345 [==============================] - 2s 5ms/step - loss: 0.5297 - accuracy: 0.7915 - precision_1: 0.8293 - recall_1: 0.7394 - f1_score: 0.7721 - val_loss: 0.6571 - val_accuracy: 0.7635 - val_precision_1: 0.8088 - val_recall_1: 0.7082 - val_f1_score: 0.7384\n",
            "Epoch 40/50\n",
            "345/345 [==============================] - 3s 10ms/step - loss: 0.5263 - accuracy: 0.7908 - precision_1: 0.8311 - recall_1: 0.7436 - f1_score: 0.7762 - val_loss: 0.6527 - val_accuracy: 0.7510 - val_precision_1: 0.7934 - val_recall_1: 0.7033 - val_f1_score: 0.7222\n",
            "Epoch 41/50\n",
            "345/345 [==============================] - 2s 7ms/step - loss: 0.5217 - accuracy: 0.7936 - precision_1: 0.8343 - recall_1: 0.7450 - f1_score: 0.7781 - val_loss: 0.6452 - val_accuracy: 0.7588 - val_precision_1: 0.8033 - val_recall_1: 0.7112 - val_f1_score: 0.7297\n",
            "Epoch 42/50\n",
            "345/345 [==============================] - 2s 5ms/step - loss: 0.5152 - accuracy: 0.7991 - precision_1: 0.8382 - recall_1: 0.7492 - f1_score: 0.7825 - val_loss: 0.6309 - val_accuracy: 0.7779 - val_precision_1: 0.8232 - val_recall_1: 0.7254 - val_f1_score: 0.7545\n",
            "Epoch 43/50\n",
            "345/345 [==============================] - 2s 5ms/step - loss: 0.5124 - accuracy: 0.7996 - precision_1: 0.8347 - recall_1: 0.7505 - f1_score: 0.7819 - val_loss: 0.6260 - val_accuracy: 0.7790 - val_precision_1: 0.8170 - val_recall_1: 0.7302 - val_f1_score: 0.7556\n",
            "Epoch 44/50\n",
            "345/345 [==============================] - 2s 6ms/step - loss: 0.5049 - accuracy: 0.8011 - precision_1: 0.8388 - recall_1: 0.7545 - f1_score: 0.7857 - val_loss: 0.6313 - val_accuracy: 0.7669 - val_precision_1: 0.8182 - val_recall_1: 0.7179 - val_f1_score: 0.7425\n",
            "Epoch 45/50\n",
            "345/345 [==============================] - 2s 6ms/step - loss: 0.5085 - accuracy: 0.7979 - precision_1: 0.8350 - recall_1: 0.7512 - f1_score: 0.7824 - val_loss: 0.6368 - val_accuracy: 0.7650 - val_precision_1: 0.8082 - val_recall_1: 0.7222 - val_f1_score: 0.7375\n",
            "Epoch 46/50\n",
            "345/345 [==============================] - 2s 6ms/step - loss: 0.5060 - accuracy: 0.8030 - precision_1: 0.8390 - recall_1: 0.7557 - f1_score: 0.7866 - val_loss: 0.6398 - val_accuracy: 0.7677 - val_precision_1: 0.8034 - val_recall_1: 0.7315 - val_f1_score: 0.7516\n",
            "Epoch 47/50\n",
            "345/345 [==============================] - 2s 6ms/step - loss: 0.4961 - accuracy: 0.8020 - precision_1: 0.8396 - recall_1: 0.7588 - f1_score: 0.7887 - val_loss: 0.6186 - val_accuracy: 0.7663 - val_precision_1: 0.8010 - val_recall_1: 0.7319 - val_f1_score: 0.7567\n",
            "Epoch 48/50\n",
            "345/345 [==============================] - 2s 6ms/step - loss: 0.4919 - accuracy: 0.8106 - precision_1: 0.8468 - recall_1: 0.7649 - f1_score: 0.7957 - val_loss: 0.6219 - val_accuracy: 0.7716 - val_precision_1: 0.8067 - val_recall_1: 0.7338 - val_f1_score: 0.7583\n",
            "Epoch 49/50\n",
            "345/345 [==============================] - 2s 6ms/step - loss: 0.4865 - accuracy: 0.8088 - precision_1: 0.8428 - recall_1: 0.7654 - f1_score: 0.7942 - val_loss: 0.6189 - val_accuracy: 0.7756 - val_precision_1: 0.8089 - val_recall_1: 0.7389 - val_f1_score: 0.7652\n",
            "Epoch 50/50\n",
            "345/345 [==============================] - 3s 9ms/step - loss: 0.4927 - accuracy: 0.8071 - precision_1: 0.8403 - recall_1: 0.7648 - f1_score: 0.7935 - val_loss: 0.6390 - val_accuracy: 0.7601 - val_precision_1: 0.8030 - val_recall_1: 0.7169 - val_f1_score: 0.7357\n"
          ]
        }
      ],
      "source": [
        "model_based_tuner = tuner.hypermodel.build(best_hps)\n",
        "history = model_based_tuner.fit(X_train, y_train, batch_size=32, epochs=50, validation_data=(X_test,y_test), callbacks= [ClearTrainingOutput()])"
      ]
    },
    {
      "cell_type": "code",
      "execution_count": null,
      "metadata": {
        "colab": {
          "base_uri": "https://localhost:8080/"
        },
        "id": "Eo9HBVfRK-4b",
        "outputId": "86644bbb-30a9-4b84-cc38-b527d66ae9b8"
      },
      "outputs": [
        {
          "output_type": "execute_result",
          "data": {
            "text/plain": [
              "dict_keys(['loss', 'accuracy', 'precision_1', 'recall_1', 'f1_score', 'val_loss', 'val_accuracy', 'val_precision_1', 'val_recall_1', 'val_f1_score'])"
            ]
          },
          "metadata": {},
          "execution_count": 90
        }
      ],
      "source": [
        "model_based_tuner_dict = history.history\n",
        "model_based_tuner_dict.keys()"
      ]
    },
    {
      "cell_type": "code",
      "execution_count": null,
      "metadata": {
        "colab": {
          "base_uri": "https://localhost:8080/"
        },
        "id": "_jFaTqoG2-Mw",
        "outputId": "6d8b5f31-ad25-4978-e290-8eb744b6ed20"
      },
      "outputs": [
        {
          "output_type": "stream",
          "name": "stdout",
          "text": [
            "148/148 - 0s - loss: 0.6390 - accuracy: 0.7601 - precision_1: 0.8030 - recall_1: 0.7169 - f1_score: 0.7357 - 296ms/epoch - 2ms/step\n"
          ]
        }
      ],
      "source": [
        "results = model_based_tuner.evaluate(X_test,  y_test, verbose=2)"
      ]
    },
    {
      "cell_type": "code",
      "source": [
        "keras.utils.plot_model(model_based_tuner, \"my_first_model_with_shape_info.png\", show_shapes=True)"
      ],
      "metadata": {
        "colab": {
          "base_uri": "https://localhost:8080/",
          "height": 533
        },
        "id": "J4hqjwWtzONG",
        "outputId": "dbd5a688-f794-40c5-c5ec-c81a2964962a"
      },
      "execution_count": null,
      "outputs": [
        {
          "output_type": "execute_result",
          "data": {
            "text/plain": [
              "<IPython.core.display.Image object>"
            ],
            "image/png": "[encoded data removed]"
          },
          "metadata": {},
          "execution_count": 92
        }
      ]
    },
    {
      "cell_type": "markdown",
      "source": [
        "# Ploting"
      ],
      "metadata": {
        "id": "NkZ6FRaRJuT8"
      }
    },
    {
      "cell_type": "code",
      "execution_count": null,
      "metadata": {
        "colab": {
          "base_uri": "https://localhost:8080/",
          "height": 295
        },
        "id": "ZsLSBHgxLLS8",
        "outputId": "84f2daa7-1be5-43d6-e447-4771d1786415"
      },
      "outputs": [
        {
          "output_type": "display_data",
          "data": {
            "text/plain": [
              "<Figure size 432x288 with 1 Axes>"
            ],
            "image/png": "[encoded data removed]"
          },
          "metadata": {
            "needs_background": "light"
          }
        }
      ],
      "source": [
        "acc = model_based_tuner_dict['accuracy']\n",
        "val_acc = model_based_tuner_dict['val_accuracy']\n",
        "loss = model_based_tuner_dict['loss']\n",
        "val_loss = model_based_tuner_dict['val_loss']\n",
        "recall = model_based_tuner_dict['recall_1']\n",
        "val_recall = model_based_tuner_dict['val_recall_1']\n",
        "f1_score = model_based_tuner_dict['f1_score']\n",
        "val_f1_score = model_based_tuner_dict['val_f1_score']\n",
        "\n",
        "epochs = range(1, len(acc) + 1)\n",
        "\n",
        "# \"bo\"는 \"파란색 점\"입니다\n",
        "plt.plot(epochs, loss, 'bo', label='Training loss')\n",
        "# b는 \"파란 실선\"입니다\n",
        "plt.plot(epochs, val_loss, 'b', label='Validation loss')\n",
        "plt.title('Training and validation loss')\n",
        "plt.xlabel('Epochs')\n",
        "plt.ylabel('Loss')\n",
        "plt.legend()\n",
        "\n",
        "plt.show()"
      ]
    },
    {
      "cell_type": "code",
      "execution_count": null,
      "metadata": {
        "id": "T4nI3BaWLRhI",
        "colab": {
          "base_uri": "https://localhost:8080/",
          "height": 295
        },
        "outputId": "c4f2c574-54d2-404a-cf30-b4b185e6952b"
      },
      "outputs": [
        {
          "output_type": "display_data",
          "data": {
            "text/plain": [
              "<Figure size 432x288 with 1 Axes>"
            ],
            "image/png": "[encoded data removed]"
          },
          "metadata": {
            "needs_background": "light"
          }
        }
      ],
      "source": [
        "plt.clf()   # 그림을 초기화합니다\n",
        "\n",
        "plt.plot(epochs, acc, 'bo', label='Training acc')\n",
        "plt.plot(epochs, val_acc, 'b', label='Validation acc')\n",
        "plt.title('Training and validation accuracy')\n",
        "plt.xlabel('Epochs')\n",
        "plt.ylabel('Accuracy')\n",
        "plt.legend()\n",
        "\n",
        "plt.show()"
      ]
    },
    {
      "cell_type": "code",
      "execution_count": null,
      "metadata": {
        "id": "B3_23STWzv8h",
        "colab": {
          "base_uri": "https://localhost:8080/",
          "height": 295
        },
        "outputId": "541ca3f6-a5af-4449-a93b-a51d38bddb60"
      },
      "outputs": [
        {
          "output_type": "display_data",
          "data": {
            "text/plain": [
              "<Figure size 432x288 with 1 Axes>"
            ],
            "image/png": "[encoded data removed]"
          },
          "metadata": {
            "needs_background": "light"
          }
        }
      ],
      "source": [
        "plt.clf()   # 그림을 초기화합니다\n",
        "\n",
        "plt.plot(epochs, recall, 'bo', label='Training recall')\n",
        "plt.plot(epochs, val_recall, 'b', label='Validation recall')\n",
        "plt.title('Training and validation recall')\n",
        "plt.xlabel('Epochs')\n",
        "plt.ylabel('recall')\n",
        "plt.legend()\n",
        "\n",
        "plt.show()"
      ]
    },
    {
      "cell_type": "code",
      "execution_count": null,
      "metadata": {
        "id": "UzhWcljsz7-n",
        "colab": {
          "base_uri": "https://localhost:8080/",
          "height": 295
        },
        "outputId": "eb350888-b0c1-4293-e270-7377f28e0c86"
      },
      "outputs": [
        {
          "output_type": "display_data",
          "data": {
            "text/plain": [
              "<Figure size 432x288 with 1 Axes>"
            ],
            "image/png": "[encoded data removed]"
          },
          "metadata": {
            "needs_background": "light"
          }
        }
      ],
      "source": [
        "plt.clf()   # 그림을 초기화합니다\n",
        "\n",
        "plt.plot(epochs, f1_score, 'bo', label='Training f1_score')\n",
        "plt.plot(epochs, val_f1_score, 'b', label='Validation f1_score')\n",
        "plt.title('Training and validation f1_score')\n",
        "plt.xlabel('Epochs')\n",
        "plt.ylabel('f1_score')\n",
        "plt.legend()\n",
        "\n",
        "plt.show()"
      ]
    },
    {
      "cell_type": "code",
      "source": [
        "X_test[0]"
      ],
      "metadata": {
        "id": "LkgYnGGuv7Yz",
        "colab": {
          "base_uri": "https://localhost:8080/"
        },
        "outputId": "ee3a51d9-87c2-40ea-ed23-702711b97f41"
      },
      "execution_count": null,
      "outputs": [
        {
          "output_type": "execute_result",
          "data": {
            "text/plain": [
              "array([ -69., -200.,  -71., -200.,  -69.,  -61.,  -66.,  -71.,  -71.,\n",
              "       -200., -200., -200., -200., -200., -200., -200., -200., -200.,\n",
              "       -200., -200., -200., -200.], dtype=float32)"
            ]
          },
          "metadata": {},
          "execution_count": 97
        }
      ]
    },
    {
      "cell_type": "markdown",
      "source": [
        "#Confusion Matrix"
      ],
      "metadata": {
        "id": "_XdtN3K6JwcL"
      }
    },
    {
      "cell_type": "code",
      "execution_count": null,
      "metadata": {
        "id": "AaRLoqHaAprt",
        "colab": {
          "base_uri": "https://localhost:8080/",
          "height": 1000
        },
        "outputId": "f78a4a7e-e5ed-4335-8a0b-d9f6d6f3dacf"
      },
      "outputs": [
        {
          "output_type": "stream",
          "name": "stdout",
          "text": [
            "4719\n",
            "[ 3 12  9 ... 11 15 25]\n",
            "Confusion Matrix\n"
          ]
        },
        {
          "output_type": "display_data",
          "data": {
            "text/plain": [
              "<Figure size 1440x1440 with 2 Axes>"
            ],
            "image/png": "[encoded data removed]"
          },
          "metadata": {
            "needs_background": "light"
          }
        }
      ],
      "source": [
        "from sklearn.metrics import confusion_matrix\n",
        "y_test_arg=np.argmax(y_test,axis=1)\n",
        "Y_pred = np.argmax(model_based_tuner.predict(X_test),axis=1)\n",
        "print(len(X_test))\n",
        "print(Y_pred)\n",
        "print('Confusion Matrix')\n",
        "\n",
        "cf_matrix = confusion_matrix(y_test_arg, Y_pred)\n",
        "\n",
        "plt.figure(figsize=(20, 20)) \n",
        "ax = sns.heatmap(cf_matrix, annot = True)\n",
        "ax.set_title('indoor localization classification\\n')\n",
        "ax.set_xlabel('\\nPredict Value')\n",
        "ax.set_ylabel('Actual Value ')\n",
        "plt.show()"
      ]
    },
    {
      "cell_type": "code",
      "source": [
        "X_test[1]"
      ],
      "metadata": {
        "id": "qrJqMEh51Jgt",
        "colab": {
          "base_uri": "https://localhost:8080/"
        },
        "outputId": "10aabd95-03ef-408f-8aa7-542cd7d5350d"
      },
      "execution_count": null,
      "outputs": [
        {
          "output_type": "execute_result",
          "data": {
            "text/plain": [
              "array([-200.  , -200.  , -200.  ,  -62.6 , -200.  , -200.  , -200.  ,\n",
              "       -200.  , -200.  ,  -59.12, -200.  , -200.  ,  -63.43,  -71.14,\n",
              "       -200.  , -200.  , -200.  , -200.  , -200.  , -200.  , -200.  ,\n",
              "       -200.  ], dtype=float32)"
            ]
          },
          "metadata": {},
          "execution_count": 36
        }
      ]
    },
    {
      "cell_type": "code",
      "execution_count": null,
      "metadata": {
        "id": "6eadBaMvoJog"
      },
      "outputs": [],
      "source": [
        "# # Convert the model.\n",
        "# converter = tf.lite.TFLiteConverter.from_keras_model(model_based_tuner)\n",
        "# tflite_model = converter.convert()\n",
        "\n",
        "# # Save the model.\n",
        "# with open('ios_beacon4_concat5.tflite', 'wb') as f:\n",
        "#   f.write(tflite_model)"
      ]
    },
    {
      "cell_type": "markdown",
      "source": [
        "# TEST Data"
      ],
      "metadata": {
        "id": "tzO9istpGlgq"
      }
    },
    {
      "cell_type": "code",
      "source": [
        "testdatas = [] \n",
        "data_name = [('S', [1,2,3,4,5,6,7,8,9]), ('E', [1,2,3]), ('R',[1,2,3,4,5]), ('H', [1,2]), ('A', [1,2,3,4,5,6,7,8,9,10,11]), ('U', [1]) ]\n",
        "\n",
        "#Filtered_Test_U01\n",
        "\n",
        "for data in data_name:\n",
        "  for index in data[1]: \n",
        "    if index < 10:\n",
        "      no_supervised = pd.DataFrame(pd.read_csv(f'../test_data/Filtered_Test_{data[0]}0{index}.csv'))\n",
        "      no_supervised.drop('direction', axis=1, inplace=True)\n",
        "      no_supervised.drop('timeStamp', axis=1, inplace=True)\n",
        "      no_supervised.drop('heading', axis=1, inplace=True)\n",
        "      no_supervised.insert(0, 'location' ,f'{data[0]}0{index}')\n",
        "    else:\n",
        "      no_supervised = pd.DataFrame(pd.read_csv(f'../test_data/Filtered_Test_{data[0]}{index}.csv'))\n",
        "      no_supervised.drop('direction', axis=1, inplace=True)\n",
        "      no_supervised.drop('heading', axis=1, inplace=True)\n",
        "      no_supervised.drop('timeStamp', axis=1, inplace=True)\n",
        "      no_supervised.insert(0, 'location' ,f'{data[0]}{index}')\n",
        "    testdatas.append(no_supervised)\n",
        "\n",
        "\n",
        "def tominus200(x) :\n",
        "  if float(x) <= -90 :\n",
        "    return -200\n",
        "  return float(x)\n",
        "\n",
        "beacons = ['001','002','003','004','005','006','007','008','009','010','011','012','013','014','015','016','017','018','019','020','021', '022']\n",
        "for data in testdatas:\n",
        "  for beacon in beacons:\n",
        "    data[beacon] = data[beacon].apply(tominus200)"
      ],
      "metadata": {
        "id": "AMP7yXnLGixM"
      },
      "execution_count": null,
      "outputs": []
    },
    {
      "cell_type": "code",
      "execution_count": null,
      "metadata": {
        "id": "Stowmovvp1v8",
        "colab": {
          "base_uri": "https://localhost:8080/",
          "height": 488
        },
        "outputId": "c6f78f94-bee2-4b7f-f7da-6b81d910655a"
      },
      "outputs": [
        {
          "output_type": "execute_result",
          "data": {
            "text/plain": [
              "    location         001        002    003        004         005  006    007  \\\n",
              "0        S01 -200.000000  -70.00000 -200.0  -88.00000 -200.000000 -200 -200.0   \n",
              "1        S01  -89.498505  -70.00000 -200.0  -86.99900 -200.000000 -200 -200.0   \n",
              "2        S01  -89.666230 -200.00000 -200.0 -200.00000 -200.000000 -200 -200.0   \n",
              "3        S01 -200.000000  -68.99667 -200.0  -85.66156 -200.000000 -200 -200.0   \n",
              "4        S01 -200.000000  -68.99751 -200.0  -84.73978 -200.000000 -200 -200.0   \n",
              "..       ...         ...        ...    ...        ...         ...  ...    ...   \n",
              "180      S01  -88.792760  -73.70121 -200.0  -84.95001 -200.000000 -200 -200.0   \n",
              "181      S01  -88.408200  -73.53934 -200.0 -200.00000 -200.000000 -200 -200.0   \n",
              "182      S01  -88.084200 -200.00000 -200.0 -200.00000 -200.000000 -200 -200.0   \n",
              "183      S01 -200.000000 -200.00000 -200.0  -84.99593  -89.910965 -200 -200.0   \n",
              "184      S01  -88.255455  -73.77817 -200.0  -84.90864 -200.000000 -200 -200.0   \n",
              "\n",
              "            008  009  ...         013         014  015  016  017  018  019  \\\n",
              "0   -200.000000 -200  ...  -84.000000  -62.000000 -200 -200 -200 -200 -200   \n",
              "1   -200.000000 -200  ...  -83.499504  -63.501500 -200 -200 -200 -200 -200   \n",
              "2    -89.996670 -200  ...  -82.663570 -200.000000 -200 -200 -200 -200 -200   \n",
              "3   -200.000000 -200  ...  -82.244770  -63.668220 -200 -200 -200 -200 -200   \n",
              "4    -89.494026 -200  ... -200.000000  -64.003494 -200 -200 -200 -200 -200   \n",
              "..          ...  ...  ...         ...         ...  ...  ...  ...  ...  ...   \n",
              "180 -200.000000 -200  ...  -82.309880  -71.537890 -200 -200 -200 -200 -200   \n",
              "181 -200.000000 -200  ...  -82.252600  -71.514366 -200 -200 -200 -200 -200   \n",
              "182 -200.000000 -200  ...  -82.066610 -200.000000 -200 -200 -200 -200 -200   \n",
              "183 -200.000000 -200  ...  -81.845024  -71.579346 -200 -200 -200 -200 -200   \n",
              "184 -200.000000 -200  ... -200.000000  -71.597740 -200 -200 -200 -200 -200   \n",
              "\n",
              "            020  021  022  \n",
              "0    -53.000000 -200 -200  \n",
              "1    -53.000000 -200 -200  \n",
              "2    -53.000000 -200 -200  \n",
              "3   -200.000000 -200 -200  \n",
              "4    -53.503490 -200 -200  \n",
              "..          ...  ...  ...  \n",
              "180  -60.398052 -200 -200  \n",
              "181  -60.293175 -200 -200  \n",
              "182  -60.149147 -200 -200  \n",
              "183 -200.000000 -200 -200  \n",
              "184  -60.273830 -200 -200  \n",
              "\n",
              "[185 rows x 23 columns]"
            ],
            "text/html": [
              "\n",
              "  <div id=\"df-97277ef4-9c83-46c4-8319-01a74ed6390c\">\n",
              "    <div class=\"colab-df-container\">\n",
              "      <div>\n",
              "<style scoped>\n",
              "    .dataframe tbody tr th:only-of-type {\n",
              "        vertical-align: middle;\n",
              "    }\n",
              "\n",
              "    .dataframe tbody tr th {\n",
              "        vertical-align: top;\n",
              "    }\n",
              "\n",
              "    .dataframe thead th {\n",
              "        text-align: right;\n",
              "    }\n",
              "</style>\n",
              "<table border=\"1\" class=\"dataframe\">\n",
              "  <thead>\n",
              "    <tr style=\"text-align: right;\">\n",
              "      <th></th>\n",
              "      <th>location</th>\n",
              "      <th>001</th>\n",
              "      <th>002</th>\n",
              "      <th>003</th>\n",
              "      <th>004</th>\n",
              "      <th>005</th>\n",
              "      <th>006</th>\n",
              "      <th>007</th>\n",
              "      <th>008</th>\n",
              "      <th>009</th>\n",
              "      <th>...</th>\n",
              "      <th>013</th>\n",
              "      <th>014</th>\n",
              "      <th>015</th>\n",
              "      <th>016</th>\n",
              "      <th>017</th>\n",
              "      <th>018</th>\n",
              "      <th>019</th>\n",
              "      <th>020</th>\n",
              "      <th>021</th>\n",
              "      <th>022</th>\n",
              "    </tr>\n",
              "  </thead>\n",
              "  <tbody>\n",
              "    <tr>\n",
              "      <th>0</th>\n",
              "      <td>S01</td>\n",
              "      <td>-200.000000</td>\n",
              "      <td>-70.00000</td>\n",
              "      <td>-200.0</td>\n",
              "      <td>-88.00000</td>\n",
              "      <td>-200.000000</td>\n",
              "      <td>-200</td>\n",
              "      <td>-200.0</td>\n",
              "      <td>-200.000000</td>\n",
              "      <td>-200</td>\n",
              "      <td>...</td>\n",
              "      <td>-84.000000</td>\n",
              "      <td>-62.000000</td>\n",
              "      <td>-200</td>\n",
              "      <td>-200</td>\n",
              "      <td>-200</td>\n",
              "      <td>-200</td>\n",
              "      <td>-200</td>\n",
              "      <td>-53.000000</td>\n",
              "      <td>-200</td>\n",
              "      <td>-200</td>\n",
              "    </tr>\n",
              "    <tr>\n",
              "      <th>1</th>\n",
              "      <td>S01</td>\n",
              "      <td>-89.498505</td>\n",
              "      <td>-70.00000</td>\n",
              "      <td>-200.0</td>\n",
              "      <td>-86.99900</td>\n",
              "      <td>-200.000000</td>\n",
              "      <td>-200</td>\n",
              "      <td>-200.0</td>\n",
              "      <td>-200.000000</td>\n",
              "      <td>-200</td>\n",
              "      <td>...</td>\n",
              "      <td>-83.499504</td>\n",
              "      <td>-63.501500</td>\n",
              "      <td>-200</td>\n",
              "      <td>-200</td>\n",
              "      <td>-200</td>\n",
              "      <td>-200</td>\n",
              "      <td>-200</td>\n",
              "      <td>-53.000000</td>\n",
              "      <td>-200</td>\n",
              "      <td>-200</td>\n",
              "    </tr>\n",
              "    <tr>\n",
              "      <th>2</th>\n",
              "      <td>S01</td>\n",
              "      <td>-89.666230</td>\n",
              "      <td>-200.00000</td>\n",
              "      <td>-200.0</td>\n",
              "      <td>-200.00000</td>\n",
              "      <td>-200.000000</td>\n",
              "      <td>-200</td>\n",
              "      <td>-200.0</td>\n",
              "      <td>-89.996670</td>\n",
              "      <td>-200</td>\n",
              "      <td>...</td>\n",
              "      <td>-82.663570</td>\n",
              "      <td>-200.000000</td>\n",
              "      <td>-200</td>\n",
              "      <td>-200</td>\n",
              "      <td>-200</td>\n",
              "      <td>-200</td>\n",
              "      <td>-200</td>\n",
              "      <td>-53.000000</td>\n",
              "      <td>-200</td>\n",
              "      <td>-200</td>\n",
              "    </tr>\n",
              "    <tr>\n",
              "      <th>3</th>\n",
              "      <td>S01</td>\n",
              "      <td>-200.000000</td>\n",
              "      <td>-68.99667</td>\n",
              "      <td>-200.0</td>\n",
              "      <td>-85.66156</td>\n",
              "      <td>-200.000000</td>\n",
              "      <td>-200</td>\n",
              "      <td>-200.0</td>\n",
              "      <td>-200.000000</td>\n",
              "      <td>-200</td>\n",
              "      <td>...</td>\n",
              "      <td>-82.244770</td>\n",
              "      <td>-63.668220</td>\n",
              "      <td>-200</td>\n",
              "      <td>-200</td>\n",
              "      <td>-200</td>\n",
              "      <td>-200</td>\n",
              "      <td>-200</td>\n",
              "      <td>-200.000000</td>\n",
              "      <td>-200</td>\n",
              "      <td>-200</td>\n",
              "    </tr>\n",
              "    <tr>\n",
              "      <th>4</th>\n",
              "      <td>S01</td>\n",
              "      <td>-200.000000</td>\n",
              "      <td>-68.99751</td>\n",
              "      <td>-200.0</td>\n",
              "      <td>-84.73978</td>\n",
              "      <td>-200.000000</td>\n",
              "      <td>-200</td>\n",
              "      <td>-200.0</td>\n",
              "      <td>-89.494026</td>\n",
              "      <td>-200</td>\n",
              "      <td>...</td>\n",
              "      <td>-200.000000</td>\n",
              "      <td>-64.003494</td>\n",
              "      <td>-200</td>\n",
              "      <td>-200</td>\n",
              "      <td>-200</td>\n",
              "      <td>-200</td>\n",
              "      <td>-200</td>\n",
              "      <td>-53.503490</td>\n",
              "      <td>-200</td>\n",
              "      <td>-200</td>\n",
              "    </tr>\n",
              "    <tr>\n",
              "      <th>...</th>\n",
              "      <td>...</td>\n",
              "      <td>...</td>\n",
              "      <td>...</td>\n",
              "      <td>...</td>\n",
              "      <td>...</td>\n",
              "      <td>...</td>\n",
              "      <td>...</td>\n",
              "      <td>...</td>\n",
              "      <td>...</td>\n",
              "      <td>...</td>\n",
              "      <td>...</td>\n",
              "      <td>...</td>\n",
              "      <td>...</td>\n",
              "      <td>...</td>\n",
              "      <td>...</td>\n",
              "      <td>...</td>\n",
              "      <td>...</td>\n",
              "      <td>...</td>\n",
              "      <td>...</td>\n",
              "      <td>...</td>\n",
              "      <td>...</td>\n",
              "    </tr>\n",
              "    <tr>\n",
              "      <th>180</th>\n",
              "      <td>S01</td>\n",
              "      <td>-88.792760</td>\n",
              "      <td>-73.70121</td>\n",
              "      <td>-200.0</td>\n",
              "      <td>-84.95001</td>\n",
              "      <td>-200.000000</td>\n",
              "      <td>-200</td>\n",
              "      <td>-200.0</td>\n",
              "      <td>-200.000000</td>\n",
              "      <td>-200</td>\n",
              "      <td>...</td>\n",
              "      <td>-82.309880</td>\n",
              "      <td>-71.537890</td>\n",
              "      <td>-200</td>\n",
              "      <td>-200</td>\n",
              "      <td>-200</td>\n",
              "      <td>-200</td>\n",
              "      <td>-200</td>\n",
              "      <td>-60.398052</td>\n",
              "      <td>-200</td>\n",
              "      <td>-200</td>\n",
              "    </tr>\n",
              "    <tr>\n",
              "      <th>181</th>\n",
              "      <td>S01</td>\n",
              "      <td>-88.408200</td>\n",
              "      <td>-73.53934</td>\n",
              "      <td>-200.0</td>\n",
              "      <td>-200.00000</td>\n",
              "      <td>-200.000000</td>\n",
              "      <td>-200</td>\n",
              "      <td>-200.0</td>\n",
              "      <td>-200.000000</td>\n",
              "      <td>-200</td>\n",
              "      <td>...</td>\n",
              "      <td>-82.252600</td>\n",
              "      <td>-71.514366</td>\n",
              "      <td>-200</td>\n",
              "      <td>-200</td>\n",
              "      <td>-200</td>\n",
              "      <td>-200</td>\n",
              "      <td>-200</td>\n",
              "      <td>-60.293175</td>\n",
              "      <td>-200</td>\n",
              "      <td>-200</td>\n",
              "    </tr>\n",
              "    <tr>\n",
              "      <th>182</th>\n",
              "      <td>S01</td>\n",
              "      <td>-88.084200</td>\n",
              "      <td>-200.00000</td>\n",
              "      <td>-200.0</td>\n",
              "      <td>-200.00000</td>\n",
              "      <td>-200.000000</td>\n",
              "      <td>-200</td>\n",
              "      <td>-200.0</td>\n",
              "      <td>-200.000000</td>\n",
              "      <td>-200</td>\n",
              "      <td>...</td>\n",
              "      <td>-82.066610</td>\n",
              "      <td>-200.000000</td>\n",
              "      <td>-200</td>\n",
              "      <td>-200</td>\n",
              "      <td>-200</td>\n",
              "      <td>-200</td>\n",
              "      <td>-200</td>\n",
              "      <td>-60.149147</td>\n",
              "      <td>-200</td>\n",
              "      <td>-200</td>\n",
              "    </tr>\n",
              "    <tr>\n",
              "      <th>183</th>\n",
              "      <td>S01</td>\n",
              "      <td>-200.000000</td>\n",
              "      <td>-200.00000</td>\n",
              "      <td>-200.0</td>\n",
              "      <td>-84.99593</td>\n",
              "      <td>-89.910965</td>\n",
              "      <td>-200</td>\n",
              "      <td>-200.0</td>\n",
              "      <td>-200.000000</td>\n",
              "      <td>-200</td>\n",
              "      <td>...</td>\n",
              "      <td>-81.845024</td>\n",
              "      <td>-71.579346</td>\n",
              "      <td>-200</td>\n",
              "      <td>-200</td>\n",
              "      <td>-200</td>\n",
              "      <td>-200</td>\n",
              "      <td>-200</td>\n",
              "      <td>-200.000000</td>\n",
              "      <td>-200</td>\n",
              "      <td>-200</td>\n",
              "    </tr>\n",
              "    <tr>\n",
              "      <th>184</th>\n",
              "      <td>S01</td>\n",
              "      <td>-88.255455</td>\n",
              "      <td>-73.77817</td>\n",
              "      <td>-200.0</td>\n",
              "      <td>-84.90864</td>\n",
              "      <td>-200.000000</td>\n",
              "      <td>-200</td>\n",
              "      <td>-200.0</td>\n",
              "      <td>-200.000000</td>\n",
              "      <td>-200</td>\n",
              "      <td>...</td>\n",
              "      <td>-200.000000</td>\n",
              "      <td>-71.597740</td>\n",
              "      <td>-200</td>\n",
              "      <td>-200</td>\n",
              "      <td>-200</td>\n",
              "      <td>-200</td>\n",
              "      <td>-200</td>\n",
              "      <td>-60.273830</td>\n",
              "      <td>-200</td>\n",
              "      <td>-200</td>\n",
              "    </tr>\n",
              "  </tbody>\n",
              "</table>\n",
              "<p>185 rows × 23 columns</p>\n",
              "</div>\n",
              "      <button class=\"colab-df-convert\" onclick=\"convertToInteractive('df-97277ef4-9c83-46c4-8319-01a74ed6390c')\"\n",
              "              title=\"Convert this dataframe to an interactive table.\"\n",
              "              style=\"display:none;\">\n",
              "        \n",
              "  <svg xmlns=\"http://www.w3.org/2000/svg\" height=\"24px\"viewBox=\"0 0 24 24\"\n",
              "       width=\"24px\">\n",
              "    <path d=\"M0 0h24v24H0V0z\" fill=\"none\"/>\n",
              "    <path d=\"M18.56 5.44l.94 2.06.94-2.06 2.06-.94-2.06-.94-.94-2.06-.94 2.06-2.06.94zm-11 1L8.5 8.5l.94-2.06 2.06-.94-2.06-.94L8.5 2.5l-.94 2.06-2.06.94zm10 10l.94 2.06.94-2.06 2.06-.94-2.06-.94-.94-2.06-.94 2.06-2.06.94z\"/><path d=\"M17.41 7.96l-1.37-1.37c-.4-.4-.92-.59-1.43-.59-.52 0-1.04.2-1.43.59L10.3 9.45l-7.72 7.72c-.78.78-.78 2.05 0 2.83L4 21.41c.39.39.9.59 1.41.59.51 0 1.02-.2 1.41-.59l7.78-7.78 2.81-2.81c.8-.78.8-2.07 0-2.86zM5.41 20L4 18.59l7.72-7.72 1.47 1.35L5.41 20z\"/>\n",
              "  </svg>\n",
              "      </button>\n",
              "      \n",
              "  <style>\n",
              "    .colab-df-container {\n",
              "      display:flex;\n",
              "      flex-wrap:wrap;\n",
              "      gap: 12px;\n",
              "    }\n",
              "\n",
              "    .colab-df-convert {\n",
              "      background-color: #E8F0FE;\n",
              "      border: none;\n",
              "      border-radius: 50%;\n",
              "      cursor: pointer;\n",
              "      display: none;\n",
              "      fill: #1967D2;\n",
              "      height: 32px;\n",
              "      padding: 0 0 0 0;\n",
              "      width: 32px;\n",
              "    }\n",
              "\n",
              "    .colab-df-convert:hover {\n",
              "      background-color: #E2EBFA;\n",
              "      box-shadow: 0px 1px 2px rgba(60, 64, 67, 0.3), 0px 1px 3px 1px rgba(60, 64, 67, 0.15);\n",
              "      fill: #174EA6;\n",
              "    }\n",
              "\n",
              "    [theme=dark] .colab-df-convert {\n",
              "      background-color: #3B4455;\n",
              "      fill: #D2E3FC;\n",
              "    }\n",
              "\n",
              "    [theme=dark] .colab-df-convert:hover {\n",
              "      background-color: #434B5C;\n",
              "      box-shadow: 0px 1px 3px 1px rgba(0, 0, 0, 0.15);\n",
              "      filter: drop-shadow(0px 1px 2px rgba(0, 0, 0, 0.3));\n",
              "      fill: #FFFFFF;\n",
              "    }\n",
              "  </style>\n",
              "\n",
              "      <script>\n",
              "        const buttonEl =\n",
              "          document.querySelector('#df-97277ef4-9c83-46c4-8319-01a74ed6390c button.colab-df-convert');\n",
              "        buttonEl.style.display =\n",
              "          google.colab.kernel.accessAllowed ? 'block' : 'none';\n",
              "\n",
              "        async function convertToInteractive(key) {\n",
              "          const element = document.querySelector('#df-97277ef4-9c83-46c4-8319-01a74ed6390c');\n",
              "          const dataTable =\n",
              "            await google.colab.kernel.invokeFunction('convertToInteractive',\n",
              "                                                     [key], {});\n",
              "          if (!dataTable) return;\n",
              "\n",
              "          const docLinkHtml = 'Like what you see? Visit the ' +\n",
              "            '<a target=\"_blank\" href=https://colab.research.google.com/notebooks/data_table.ipynb>data table notebook</a>'\n",
              "            + ' to learn more about interactive tables.';\n",
              "          element.innerHTML = '';\n",
              "          dataTable['output_type'] = 'display_data';\n",
              "          await google.colab.output.renderOutput(dataTable, element);\n",
              "          const docLink = document.createElement('div');\n",
              "          docLink.innerHTML = docLinkHtml;\n",
              "          element.appendChild(docLink);\n",
              "        }\n",
              "      </script>\n",
              "    </div>\n",
              "  </div>\n",
              "  "
            ]
          },
          "metadata": {},
          "execution_count": 100
        }
      ],
      "source": [
        "testdatas[0]"
      ]
    },
    {
      "cell_type": "code",
      "source": [
        "for data in testdatas:\n",
        "  for row_index in range(len(data)):\n",
        "    if row_index % 2 == 1:\n",
        "      for col_index in range(1, len(data.columns)):\n",
        "        if data.iloc[row_index - 1, col_index] > data.iloc[row_index, col_index]:\n",
        "          data.iloc[row_index, col_index] = data.iloc[row_index - 1, col_index]\n"
      ],
      "metadata": {
        "id": "VJmD1v0wJP2y"
      },
      "execution_count": null,
      "outputs": []
    },
    {
      "cell_type": "code",
      "execution_count": null,
      "metadata": {
        "id": "jvnytW5ivpap"
      },
      "outputs": [],
      "source": [
        "# 상위 4개를 통해서 classification 하기\n",
        "for data in testdatas:\n",
        "  for row_index in range(len(data)):\n",
        "    column_idx = [0,1,2,3,4,5,6,7,8,9,10,11,12,13,14,15,16,17,18,19,20,21,22]\n",
        "    a = sorted(data.loc[row_index].tolist()[1:])\n",
        "    b = list(a)[-4:]\n",
        "    isMax = [0]\n",
        "    for i in range(len(data.columns)):\n",
        "      for num in b:\n",
        "        if data.loc[row_index][i] == num:\n",
        "          isMax.append(i)\n",
        "\n",
        "    remove_set = set(isMax)\n",
        "    column_idx = [i for i in column_idx if i not in remove_set]\n",
        "    data.iloc[[row_index], column_idx] = [-200 for i in range(len(column_idx))]\n",
        "  "
      ]
    },
    {
      "cell_type": "code",
      "execution_count": null,
      "metadata": {
        "id": "ejxJdLKY1Fgx"
      },
      "outputs": [],
      "source": [
        "for index in range(len(testdatas)):\n",
        "  testdatas[index] = testdatas[index].iloc[1::2,:]"
      ]
    },
    {
      "cell_type": "code",
      "source": [
        "for index in range(len(testdatas)):\n",
        "  testdatas[index].reset_index(inplace=True)"
      ],
      "metadata": {
        "id": "_72Q4ZEKORey"
      },
      "execution_count": null,
      "outputs": []
    },
    {
      "cell_type": "code",
      "source": [
        "for index in range(len(testdatas)):\n",
        "  testdatas[index].drop('index', axis=1, inplace=True)"
      ],
      "metadata": {
        "id": "YOfQI_GKQjBt",
        "colab": {
          "base_uri": "https://localhost:8080/"
        },
        "outputId": "821e1314-9e0e-4a35-8616-3fc6642f2046"
      },
      "execution_count": null,
      "outputs": [
        {
          "output_type": "stream",
          "name": "stderr",
          "text": [
            "/usr/local/lib/python3.7/dist-packages/pandas/core/frame.py:4913: SettingWithCopyWarning: \n",
            "A value is trying to be set on a copy of a slice from a DataFrame\n",
            "\n",
            "See the caveats in the documentation: https://pandas.pydata.org/pandas-docs/stable/user_guide/indexing.html#returning-a-view-versus-a-copy\n",
            "  errors=errors,\n"
          ]
        }
      ]
    },
    {
      "cell_type": "code",
      "source": [
        "result_test = pd.concat(testdatas)"
      ],
      "metadata": {
        "id": "muCm_yzGRHW2"
      },
      "execution_count": null,
      "outputs": []
    },
    {
      "cell_type": "code",
      "source": [
        "result_test.reset_index(inplace=True)"
      ],
      "metadata": {
        "id": "A5gZl4CWRWnT"
      },
      "execution_count": null,
      "outputs": []
    },
    {
      "cell_type": "code",
      "source": [
        "result_test.drop('index', axis=1, inplace=True)"
      ],
      "metadata": {
        "id": "1SBImU_KRcxi"
      },
      "execution_count": null,
      "outputs": []
    },
    {
      "cell_type": "code",
      "source": [
        "np.set_printoptions(precision=2)\n",
        "le = LabelEncoder()\n",
        "\n",
        "X = np.array(result_test.iloc[:, 1:])\n",
        "y = le.fit_transform(np.array(result_test['location']).reshape(-1, 1))\n",
        "y = to_categorical(y)"
      ],
      "metadata": {
        "id": "XklIsvOQUiyE",
        "colab": {
          "base_uri": "https://localhost:8080/"
        },
        "outputId": "452333ce-52b4-4b1f-ea03-2f2ddff3ae9b"
      },
      "execution_count": null,
      "outputs": [
        {
          "output_type": "stream",
          "name": "stderr",
          "text": [
            "/usr/local/lib/python3.7/dist-packages/sklearn/preprocessing/_label.py:115: DataConversionWarning: A column-vector y was passed when a 1d array was expected. Please change the shape of y to (n_samples, ), for example using ravel().\n",
            "  y = column_or_1d(y, warn=True)\n"
          ]
        }
      ]
    },
    {
      "cell_type": "code",
      "source": [
        "from sklearn.metrics import confusion_matrix\n",
        "\n",
        "labels = ['S01','S02', 'S03','S04','S05','S06','S07','S08','S09', 'E01','E02','E03', 'R01', 'R02', 'R03', 'R04',\n",
        "           'R05', 'H01', 'H02', 'A01', 'A02', 'A03','A04','A05','A06','A07','A08','A09','A10', 'A11', 'U01']\n",
        "y_test_arg=np.argmax(y,axis=1)\n",
        "y_test2 = le.inverse_transform(y_test_arg)\n",
        "Y_pred = np.argmax(model_based_tuner.predict(X),axis=1)\n",
        "Y_pred2 = le.inverse_transform(Y_pred)\n",
        "\n",
        "# print(Y_pred)\n",
        "# print('Confusion Matrix')\n",
        "tick_marks = np.arange(len(labels))\n",
        "cf_matrix = confusion_matrix(y_test2, Y_pred2, labels = labels)\n",
        "cmn = cf_matrix.astype('float') / cf_matrix.sum(axis=1)[:, np.newaxis]\n",
        "\n",
        "plt.figure(figsize=(20, 20)) \n",
        "ax = sns.heatmap(cf_matrix, annot = True, fmt='.2f')\n",
        "plt.xticks(tick_marks, labels, rotation=45)\n",
        "plt.yticks(tick_marks, labels)\n",
        "\n",
        "ax.set_title('indoor localization classification\\n')\n",
        "ax.set_xlabel('\\nPredict Value')\n",
        "ax.set_ylabel('Actual Value ')\n",
        "plt.show()"
      ],
      "metadata": {
        "id": "iPYS4rFzRjRK",
        "colab": {
          "base_uri": "https://localhost:8080/",
          "height": 1000
        },
        "outputId": "681a3c36-4de6-4eed-fa46-371027f58c19"
      },
      "execution_count": null,
      "outputs": [
        {
          "output_type": "display_data",
          "data": {
            "text/plain": [
              "<Figure size 1440x1440 with 2 Axes>"
            ],
            "image/png": "[encoded data removed]"
          },
          "metadata": {
            "needs_background": "light"
          }
        }
      ]
    },
    {
      "cell_type": "code",
      "source": [
        "from sklearn.metrics import f1_score\n",
        "from sklearn.metrics import accuracy_score\n",
        "from sklearn.metrics import precision_score\n",
        "from sklearn.metrics import recall_score\n",
        "\n",
        "print(\"f1score: \", f1_score(y_true=y_test_arg, y_pred=Y_pred, average='weighted'))\n",
        "print(\"accuracy: \", accuracy_score(y_true=y_test_arg, y_pred=Y_pred))\n",
        "print(\"precision: \", precision_score(y_true=y_test_arg, y_pred=Y_pred, average='weighted'))\n",
        "print(\"recall: \", recall_score(y_true=y_test_arg, y_pred=Y_pred,  average='weighted'))"
      ],
      "metadata": {
        "id": "2lXEQ2M8RqMj",
        "colab": {
          "base_uri": "https://localhost:8080/"
        },
        "outputId": "b1e1eff6-6b98-4f1f-b97c-2ed9b192e524"
      },
      "execution_count": null,
      "outputs": [
        {
          "output_type": "stream",
          "name": "stdout",
          "text": [
            "f1score:  0.591874465171369\n",
            "accuracy:  0.6240837696335079\n",
            "precision:  0.6549123466382387\n",
            "recall:  0.6240837696335079\n"
          ]
        },
        {
          "output_type": "stream",
          "name": "stderr",
          "text": [
            "/usr/local/lib/python3.7/dist-packages/sklearn/metrics/_classification.py:1318: UndefinedMetricWarning: Precision is ill-defined and being set to 0.0 in labels with no predicted samples. Use `zero_division` parameter to control this behavior.\n",
            "  _warn_prf(average, modifier, msg_start, len(result))\n"
          ]
        }
      ]
    },
    {
      "cell_type": "code",
      "source": [
        "y_test_arg"
      ],
      "metadata": {
        "colab": {
          "base_uri": "https://localhost:8080/"
        },
        "id": "gF0gYFCckdMY",
        "outputId": "0e1548c0-e9f1-4a8b-e4a4-8758c2ab04c3"
      },
      "execution_count": null,
      "outputs": [
        {
          "output_type": "execute_result",
          "data": {
            "text/plain": [
              "array([21, 21, 21, ..., 30, 30, 30])"
            ]
          },
          "metadata": {},
          "execution_count": 51
        }
      ]
    },
    {
      "cell_type": "code",
      "source": [
        "import numpy as np\n",
        "import pandas as pd\n",
        "import matplotlib.pyplot as plt\n",
        "import seaborn as sns\n",
        "from sklearn.datasets import make_classification\n",
        "from sklearn.ensemble import RandomForestClassifier\n",
        "from sklearn.model_selection import train_test_split\n",
        "from sklearn.metrics import roc_auc_score\n",
        "from sklearn.metrics import roc_curve, auc\n",
        "\n",
        "\n",
        "fpr = dict()\n",
        "tpr = dict()\n",
        "roc_auc = dict()\n",
        "\n",
        "y_score = model_based_tuner.predict(X)\n",
        "\n",
        "for i in range(31):\n",
        "  fpr[i], tpr[i], _ = roc_curve(y[:, i], y_score[:, i])\n",
        "  roc_auc[i] = auc(fpr[i], tpr[i])\n",
        "\n",
        "fpr[\"micro\"], tpr[\"micro\"], _ = roc_curve(y.ravel(), y_score.ravel())\n",
        "roc_auc[\"micro\"] = auc(fpr[\"micro\"], tpr[\"micro\"])"
      ],
      "metadata": {
        "id": "EgRLBmhAVrmr"
      },
      "execution_count": null,
      "outputs": []
    },
    {
      "cell_type": "code",
      "source": [
        "roc_count = 0"
      ],
      "metadata": {
        "id": "e133YqOGTVCw"
      },
      "execution_count": null,
      "outputs": []
    },
    {
      "cell_type": "code",
      "source": [
        "from numpy.lib.function_base import interp\n",
        "from itertools import cycle\n",
        "import random\n",
        "\n",
        "all_fpr = np.unique(np.concatenate([fpr[i] for i in range(31)]))\n",
        "\n",
        "mean_tpr = np.zeros_like(all_fpr)\n",
        "for i in range(31):\n",
        "  mean_tpr += interp(all_fpr, fpr[i], tpr[i])\n",
        "\n",
        "mean_tpr /= 31\n",
        "\n",
        "fpr['micro'] = all_fpr\n",
        "tpr['micro'] = mean_tpr\n",
        "roc_auc['micro'] = auc(fpr['micro'], tpr['micro'])\n",
        "\n",
        "plt.plot(fpr['micro'], tpr['micro'], label='micro-average ROC curve (area = {0:0.2f})'\n",
        "''.format(roc_auc['micro']),\n",
        "         color='deeppink', linestyle=':', linewidth=4)\n",
        "\n",
        "plt.plot(fpr['micro'], tpr['micro'], label='micro-average ROC curve (area = {0:0.2f})'\n",
        "''.format(roc_auc['micro']),\n",
        "         color='navy', linestyle=':', linewidth=4)\n",
        "\n",
        "colors = []\n",
        "for i in range(31):\n",
        "  colors.append(\"#\"+''.join([random.choice('0123456789ABCDEF') for j in range(6)]))\n",
        "\n",
        "\n",
        "\n",
        "for i, color in zip(range(roc_count, 5), colors):\n",
        "  \n",
        "  # plt.plot(fpr[i], tpr[i], color=color, lw=2, label='ROC curve of class {0} (area = {1:0.2f})'''.format(i, roc_auc[i]))\n",
        "  plt.plot(fpr[i], tpr[i], color=color, lw=2, label='class {0} (area = {1:0.2f})'''.format(labels[i], roc_auc[i]))\n",
        "\n",
        "plt.plot([0,1], [0,1], 'k--', lw=2)\n",
        "plt.xlim([0.0, 1.0])\n",
        "plt.ylim([0.0, 1.05])\n",
        "plt.xlabel('False Positive Rate')\n",
        "plt.ylabel('True Positive Rate')\n",
        "plt.legend(loc='lower right')\n",
        "plt.show()"
      ],
      "metadata": {
        "colab": {
          "base_uri": "https://localhost:8080/",
          "height": 279
        },
        "id": "e_CIEznmkOrT",
        "outputId": "208d03c5-f1b1-482b-af93-e95ffa1cd0e3"
      },
      "execution_count": null,
      "outputs": [
        {
          "output_type": "display_data",
          "data": {
            "text/plain": [
              "<Figure size 432x288 with 1 Axes>"
            ],
            "image/png": "[encoded data removed]"
          },
          "metadata": {
            "needs_background": "light"
          }
        }
      ]
    },
    {
      "cell_type": "code",
      "source": [
        "from sklearn.metrics import classification_report\n",
        "\n",
        "report = classification_report(y_test2, Y_pred2, target_names=labels)"
      ],
      "metadata": {
        "id": "pjxADMS7qllK",
        "colab": {
          "base_uri": "https://localhost:8080/"
        },
        "outputId": "f4b95eee-a1d9-4eb7-836b-656d9eff35db"
      },
      "execution_count": null,
      "outputs": [
        {
          "output_type": "stream",
          "name": "stderr",
          "text": [
            "/usr/local/lib/python3.7/dist-packages/sklearn/metrics/_classification.py:1318: UndefinedMetricWarning: Precision and F-score are ill-defined and being set to 0.0 in labels with no predicted samples. Use `zero_division` parameter to control this behavior.\n",
            "  _warn_prf(average, modifier, msg_start, len(result))\n",
            "/usr/local/lib/python3.7/dist-packages/sklearn/metrics/_classification.py:1318: UndefinedMetricWarning: Precision and F-score are ill-defined and being set to 0.0 in labels with no predicted samples. Use `zero_division` parameter to control this behavior.\n",
            "  _warn_prf(average, modifier, msg_start, len(result))\n",
            "/usr/local/lib/python3.7/dist-packages/sklearn/metrics/_classification.py:1318: UndefinedMetricWarning: Precision and F-score are ill-defined and being set to 0.0 in labels with no predicted samples. Use `zero_division` parameter to control this behavior.\n",
            "  _warn_prf(average, modifier, msg_start, len(result))\n"
          ]
        }
      ]
    },
    {
      "cell_type": "code",
      "source": [
        ""
      ],
      "metadata": {
        "id": "R1QpkPnAs6Ia"
      },
      "execution_count": null,
      "outputs": []
    },
    {
      "cell_type": "code",
      "source": [
        "# model_based_tuner.save('ios_beacon_DNN_4')"
      ],
      "metadata": {
        "colab": {
          "base_uri": "https://localhost:8080/"
        },
        "id": "Bq34IS8FuZ-z",
        "outputId": "9e1e4e91-4183-4bd2-fc8d-00eb313d9fa2"
      },
      "execution_count": null,
      "outputs": [
        {
          "output_type": "stream",
          "name": "stderr",
          "text": [
            "WARNING:absl:Found untraced functions such as dense_12_layer_call_fn, dense_12_layer_call_and_return_conditional_losses, dense_12_layer_call_fn, dense_12_layer_call_and_return_conditional_losses, dense_13_layer_call_fn while saving (showing 5 of 12). These functions will not be directly callable after loading.\n"
          ]
        },
        {
          "output_type": "stream",
          "name": "stdout",
          "text": [
            "INFO:tensorflow:Assets written to: ios_beacon_DNN_4/assets\n"
          ]
        },
        {
          "output_type": "stream",
          "name": "stderr",
          "text": [
            "INFO:tensorflow:Assets written to: ios_beacon_DNN_4/assets\n"
          ]
        }
      ]
    },
    {
      "cell_type": "code",
      "source": [
        ""
      ],
      "metadata": {
        "id": "RQsNziwZTOVj"
      },
      "execution_count": null,
      "outputs": []
    }
  ],
  "metadata": {
    "colab": {
      "collapsed_sections": [
        "dqjBbl2nDCPC",
        "vSjAlV3hHq8N",
        "LVIRvehqSC7Q"
      ],
      "name": "iOS_clf_beacon_4_non_KF.ipynb",
      "provenance": []
    },
    "kernelspec": {
      "display_name": "Python 3",
      "name": "python3"
    },
    "language_info": {
      "name": "python"
    }
  },
  "nbformat": 4,
  "nbformat_minor": 0
}