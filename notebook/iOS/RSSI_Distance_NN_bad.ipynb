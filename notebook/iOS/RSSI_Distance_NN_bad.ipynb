{
  "nbformat": 4,
  "nbformat_minor": 0,
  "metadata": {
    "colab": {
      "name": "RSSI_Distance_NN_bad.ipynb",
      "provenance": [],
      "collapsed_sections": []
    },
    "kernelspec": {
      "name": "python3",
      "display_name": "Python 3"
    },
    "language_info": {
      "name": "python"
    }
  },
  "cells": [
    {
      "cell_type": "code",
      "execution_count": null,
      "metadata": {
        "id": "dkM3rq0YeUnD"
      },
      "outputs": [],
      "source": [
        "import pandas as pd\n",
        "import pickle\n",
        "import numpy as np\n",
        "import matplotlib.pyplot as plt\n",
        "import seaborn as sns"
      ]
    },
    {
      "cell_type": "code",
      "source": [
        "%cd drive/MyDrive/BEST/regression_data/"
      ],
      "metadata": {
        "colab": {
          "base_uri": "https://localhost:8080/"
        },
        "id": "LqjZT0RreZsO",
        "outputId": "ce0883e9-9b08-4271-c23b-26d6134c9f01"
      },
      "execution_count": null,
      "outputs": [
        {
          "output_type": "stream",
          "name": "stdout",
          "text": [
            "[Errno 2] No such file or directory: 'drive/MyDrive/BEST/regression_data/'\n",
            "/content/drive/MyDrive/BEST/regression_data\n"
          ]
        }
      ]
    },
    {
      "cell_type": "code",
      "source": [
        "datas = []\n",
        "for i in range(1, 31):\n",
        "  datas.append(pd.DataFrame(pd.read_csv(f'{round(i*0.1, 1)}.csv')))"
      ],
      "metadata": {
        "id": "CmbsFUE5eb1d"
      },
      "execution_count": null,
      "outputs": []
    },
    {
      "cell_type": "code",
      "source": [
        "datas[0]"
      ],
      "metadata": {
        "colab": {
          "base_uri": "https://localhost:8080/",
          "height": 424
        },
        "id": "ms1B_OUX9WSW",
        "outputId": "5f36517c-cc1f-48cf-db1a-42bc5306cf5f"
      },
      "execution_count": null,
      "outputs": [
        {
          "output_type": "execute_result",
          "data": {
            "text/plain": [
              "                     timeStamp       rssi\n",
              "0    2022-07-28 20:24:40 +0000  -65.35325\n",
              "1    2022-07-28 20:24:41 +0000  -65.32319\n",
              "2    2022-07-28 20:24:42 +0000  -65.44927\n",
              "3    2022-07-28 20:24:43 +0000 -200.00000\n",
              "4    2022-07-28 20:24:44 +0000 -200.00000\n",
              "..                         ...        ...\n",
              "189  2022-07-28 20:27:49 +0000 -200.00000\n",
              "190  2022-07-28 20:27:50 +0000  -65.41531\n",
              "191  2022-07-28 20:27:51 +0000  -65.38402\n",
              "192  2022-07-28 20:27:52 +0000  -65.39764\n",
              "193  2022-07-28 20:27:53 +0000 -200.00000\n",
              "\n",
              "[194 rows x 2 columns]"
            ],
            "text/html": [
              "\n",
              "  <div id=\"df-653415ce-e5fe-488f-ad7f-111dd42f7911\">\n",
              "    <div class=\"colab-df-container\">\n",
              "      <div>\n",
              "<style scoped>\n",
              "    .dataframe tbody tr th:only-of-type {\n",
              "        vertical-align: middle;\n",
              "    }\n",
              "\n",
              "    .dataframe tbody tr th {\n",
              "        vertical-align: top;\n",
              "    }\n",
              "\n",
              "    .dataframe thead th {\n",
              "        text-align: right;\n",
              "    }\n",
              "</style>\n",
              "<table border=\"1\" class=\"dataframe\">\n",
              "  <thead>\n",
              "    <tr style=\"text-align: right;\">\n",
              "      <th></th>\n",
              "      <th>timeStamp</th>\n",
              "      <th>rssi</th>\n",
              "    </tr>\n",
              "  </thead>\n",
              "  <tbody>\n",
              "    <tr>\n",
              "      <th>0</th>\n",
              "      <td>2022-07-28 20:24:40 +0000</td>\n",
              "      <td>-65.35325</td>\n",
              "    </tr>\n",
              "    <tr>\n",
              "      <th>1</th>\n",
              "      <td>2022-07-28 20:24:41 +0000</td>\n",
              "      <td>-65.32319</td>\n",
              "    </tr>\n",
              "    <tr>\n",
              "      <th>2</th>\n",
              "      <td>2022-07-28 20:24:42 +0000</td>\n",
              "      <td>-65.44927</td>\n",
              "    </tr>\n",
              "    <tr>\n",
              "      <th>3</th>\n",
              "      <td>2022-07-28 20:24:43 +0000</td>\n",
              "      <td>-200.00000</td>\n",
              "    </tr>\n",
              "    <tr>\n",
              "      <th>4</th>\n",
              "      <td>2022-07-28 20:24:44 +0000</td>\n",
              "      <td>-200.00000</td>\n",
              "    </tr>\n",
              "    <tr>\n",
              "      <th>...</th>\n",
              "      <td>...</td>\n",
              "      <td>...</td>\n",
              "    </tr>\n",
              "    <tr>\n",
              "      <th>189</th>\n",
              "      <td>2022-07-28 20:27:49 +0000</td>\n",
              "      <td>-200.00000</td>\n",
              "    </tr>\n",
              "    <tr>\n",
              "      <th>190</th>\n",
              "      <td>2022-07-28 20:27:50 +0000</td>\n",
              "      <td>-65.41531</td>\n",
              "    </tr>\n",
              "    <tr>\n",
              "      <th>191</th>\n",
              "      <td>2022-07-28 20:27:51 +0000</td>\n",
              "      <td>-65.38402</td>\n",
              "    </tr>\n",
              "    <tr>\n",
              "      <th>192</th>\n",
              "      <td>2022-07-28 20:27:52 +0000</td>\n",
              "      <td>-65.39764</td>\n",
              "    </tr>\n",
              "    <tr>\n",
              "      <th>193</th>\n",
              "      <td>2022-07-28 20:27:53 +0000</td>\n",
              "      <td>-200.00000</td>\n",
              "    </tr>\n",
              "  </tbody>\n",
              "</table>\n",
              "<p>194 rows × 2 columns</p>\n",
              "</div>\n",
              "      <button class=\"colab-df-convert\" onclick=\"convertToInteractive('df-653415ce-e5fe-488f-ad7f-111dd42f7911')\"\n",
              "              title=\"Convert this dataframe to an interactive table.\"\n",
              "              style=\"display:none;\">\n",
              "        \n",
              "  <svg xmlns=\"http://www.w3.org/2000/svg\" height=\"24px\"viewBox=\"0 0 24 24\"\n",
              "       width=\"24px\">\n",
              "    <path d=\"M0 0h24v24H0V0z\" fill=\"none\"/>\n",
              "    <path d=\"M18.56 5.44l.94 2.06.94-2.06 2.06-.94-2.06-.94-.94-2.06-.94 2.06-2.06.94zm-11 1L8.5 8.5l.94-2.06 2.06-.94-2.06-.94L8.5 2.5l-.94 2.06-2.06.94zm10 10l.94 2.06.94-2.06 2.06-.94-2.06-.94-.94-2.06-.94 2.06-2.06.94z\"/><path d=\"M17.41 7.96l-1.37-1.37c-.4-.4-.92-.59-1.43-.59-.52 0-1.04.2-1.43.59L10.3 9.45l-7.72 7.72c-.78.78-.78 2.05 0 2.83L4 21.41c.39.39.9.59 1.41.59.51 0 1.02-.2 1.41-.59l7.78-7.78 2.81-2.81c.8-.78.8-2.07 0-2.86zM5.41 20L4 18.59l7.72-7.72 1.47 1.35L5.41 20z\"/>\n",
              "  </svg>\n",
              "      </button>\n",
              "      \n",
              "  <style>\n",
              "    .colab-df-container {\n",
              "      display:flex;\n",
              "      flex-wrap:wrap;\n",
              "      gap: 12px;\n",
              "    }\n",
              "\n",
              "    .colab-df-convert {\n",
              "      background-color: #E8F0FE;\n",
              "      border: none;\n",
              "      border-radius: 50%;\n",
              "      cursor: pointer;\n",
              "      display: none;\n",
              "      fill: #1967D2;\n",
              "      height: 32px;\n",
              "      padding: 0 0 0 0;\n",
              "      width: 32px;\n",
              "    }\n",
              "\n",
              "    .colab-df-convert:hover {\n",
              "      background-color: #E2EBFA;\n",
              "      box-shadow: 0px 1px 2px rgba(60, 64, 67, 0.3), 0px 1px 3px 1px rgba(60, 64, 67, 0.15);\n",
              "      fill: #174EA6;\n",
              "    }\n",
              "\n",
              "    [theme=dark] .colab-df-convert {\n",
              "      background-color: #3B4455;\n",
              "      fill: #D2E3FC;\n",
              "    }\n",
              "\n",
              "    [theme=dark] .colab-df-convert:hover {\n",
              "      background-color: #434B5C;\n",
              "      box-shadow: 0px 1px 3px 1px rgba(0, 0, 0, 0.15);\n",
              "      filter: drop-shadow(0px 1px 2px rgba(0, 0, 0, 0.3));\n",
              "      fill: #FFFFFF;\n",
              "    }\n",
              "  </style>\n",
              "\n",
              "      <script>\n",
              "        const buttonEl =\n",
              "          document.querySelector('#df-653415ce-e5fe-488f-ad7f-111dd42f7911 button.colab-df-convert');\n",
              "        buttonEl.style.display =\n",
              "          google.colab.kernel.accessAllowed ? 'block' : 'none';\n",
              "\n",
              "        async function convertToInteractive(key) {\n",
              "          const element = document.querySelector('#df-653415ce-e5fe-488f-ad7f-111dd42f7911');\n",
              "          const dataTable =\n",
              "            await google.colab.kernel.invokeFunction('convertToInteractive',\n",
              "                                                     [key], {});\n",
              "          if (!dataTable) return;\n",
              "\n",
              "          const docLinkHtml = 'Like what you see? Visit the ' +\n",
              "            '<a target=\"_blank\" href=https://colab.research.google.com/notebooks/data_table.ipynb>data table notebook</a>'\n",
              "            + ' to learn more about interactive tables.';\n",
              "          element.innerHTML = '';\n",
              "          dataTable['output_type'] = 'display_data';\n",
              "          await google.colab.output.renderOutput(dataTable, element);\n",
              "          const docLink = document.createElement('div');\n",
              "          docLink.innerHTML = docLinkHtml;\n",
              "          element.appendChild(docLink);\n",
              "        }\n",
              "      </script>\n",
              "    </div>\n",
              "  </div>\n",
              "  "
            ]
          },
          "metadata": {},
          "execution_count": 35
        }
      ]
    },
    {
      "cell_type": "code",
      "source": [
        "for i in range(1, len(datas)+1):\n",
        "  datas[i-1].drop(['timeStamp'], axis=1, inplace = True)\n",
        "  datas[i-1].insert(0, 'dist', (31 - i)*0.1)"
      ],
      "metadata": {
        "id": "wknLgi6PeeUt"
      },
      "execution_count": null,
      "outputs": []
    },
    {
      "cell_type": "code",
      "source": [
        "for data in datas:\n",
        "  for column in data.columns[1:]:\n",
        "    for i, rssi in enumerate(data[f\"{column}\"]):\n",
        "      temp = 0\n",
        "      if i == 0 :\n",
        "        continue\n",
        "      if data[f\"{column}\"][i] == -200 and data[f\"{column}\"][i-1] != -200:\n",
        "        data[f\"{column}\"][i] = data[f\"{column}\"][i-1]"
      ],
      "metadata": {
        "id": "cRXR8gL8-D7D"
      },
      "execution_count": null,
      "outputs": []
    },
    {
      "cell_type": "code",
      "source": [
        "result = pd.concat(datas)\n",
        "plt.scatter(result['dist'], result[' rssi'])\n",
        "plt.show()"
      ],
      "metadata": {
        "colab": {
          "base_uri": "https://localhost:8080/",
          "height": 265
        },
        "id": "66VnOmbcer-l",
        "outputId": "2cb9f59a-23be-434f-952f-4d48f009479b"
      },
      "execution_count": null,
      "outputs": [
        {
          "output_type": "display_data",
          "data": {
            "text/plain": [
              "<Figure size 432x288 with 1 Axes>"
            ],
            "image/png": "[encoded data removed]"
          },
          "metadata": {
            "needs_background": "light"
          }
        }
      ]
    },
    {
      "cell_type": "code",
      "source": [
        "ticks = [round((x*0.1), 1) for x in range(1, 31)]\n",
        "\n",
        "fig = plt.subplots(1, 1, figsize=(10, 5))\n",
        "ax1 = sns.regplot(x='dist', y=' rssi', data=result)\n",
        "ax1.set_xticks(ticks)\n",
        "ax1.set_title('rssi', size=20)"
      ],
      "metadata": {
        "colab": {
          "base_uri": "https://localhost:8080/",
          "height": 373
        },
        "id": "hpAgCH1z-Sk4",
        "outputId": "d7ae711a-dd7e-49fe-ac8b-5835ba46c55f"
      },
      "execution_count": null,
      "outputs": [
        {
          "output_type": "execute_result",
          "data": {
            "text/plain": [
              "Text(0.5, 1.0, 'rssi')"
            ]
          },
          "metadata": {},
          "execution_count": 39
        },
        {
          "output_type": "display_data",
          "data": {
            "text/plain": [
              "<Figure size 720x360 with 1 Axes>"
            ],
            "image/png": "[encoded data removed]"
          },
          "metadata": {
            "needs_background": "light"
          }
        }
      ]
    },
    {
      "cell_type": "code",
      "source": [
        "from sklearn.pipeline import Pipeline\n",
        "from sklearn.preprocessing import StandardScaler\n",
        "from sklearn.svm import SVR\n",
        "from sklearn import preprocessing\n",
        "from sklearn import utils\n",
        "from sklearn.metrics import r2_score, mean_squared_error, mean_absolute_error\n",
        "from sklearn.model_selection import train_test_split"
      ],
      "metadata": {
        "id": "bLhhNyaNhKWx"
      },
      "execution_count": null,
      "outputs": []
    },
    {
      "cell_type": "code",
      "source": [
        "np.set_printoptions(precision=2)\n",
        "X = np.array(result[' rssi'])\n",
        "y = np.array(result['dist']).reshape(-1, 1)"
      ],
      "metadata": {
        "id": "-iqgTGiThNUO"
      },
      "execution_count": null,
      "outputs": []
    },
    {
      "cell_type": "code",
      "source": [
        "import pathlib\n",
        "import tensorflow as tf\n",
        "from tensorflow import keras\n",
        "from tensorflow.keras import layers\n",
        "\n",
        "X_train, X_test, y_train, y_test = train_test_split(X, y, test_size = 0.3, random_state=42,shuffle=True)"
      ],
      "metadata": {
        "id": "82Ojlu0qg91s"
      },
      "execution_count": null,
      "outputs": []
    },
    {
      "cell_type": "code",
      "source": [
        "plt.scatter(y_train, X_train)\n",
        "plt.show()"
      ],
      "metadata": {
        "colab": {
          "base_uri": "https://localhost:8080/",
          "height": 265
        },
        "id": "NvU09plbhHXT",
        "outputId": "9cfaf496-6022-4d45-f84a-94e6574701aa"
      },
      "execution_count": null,
      "outputs": [
        {
          "output_type": "display_data",
          "data": {
            "text/plain": [
              "<Figure size 432x288 with 1 Axes>"
            ],
            "image/png": "[encoded data removed]"
          },
          "metadata": {
            "needs_background": "light"
          }
        }
      ]
    },
    {
      "cell_type": "code",
      "source": [
        "plt.scatter(y_test, X_test)\n",
        "plt.show()"
      ],
      "metadata": {
        "colab": {
          "base_uri": "https://localhost:8080/",
          "height": 265
        },
        "id": "fKCevNmhhU9p",
        "outputId": "bc512e53-677a-4d4a-a32d-95bfd60467d3"
      },
      "execution_count": null,
      "outputs": [
        {
          "output_type": "display_data",
          "data": {
            "text/plain": [
              "<Figure size 432x288 with 1 Axes>"
            ],
            "image/png": "[encoded data removed]"
          },
          "metadata": {
            "needs_background": "light"
          }
        }
      ]
    },
    {
      "cell_type": "code",
      "source": [
        "plt.figure(figsize=(12,6))\n",
        "plt.scatter(y_train, X_train, c='b',label='Training data')\n",
        "plt.scatter(y_test, X_test, c='g',label='Testing data')\n",
        "plt.legend()"
      ],
      "metadata": {
        "colab": {
          "base_uri": "https://localhost:8080/",
          "height": 392
        },
        "id": "sQVDSr3ChWlq",
        "outputId": "ef010ec4-c964-4f76-b28f-d75dfe17b688"
      },
      "execution_count": null,
      "outputs": [
        {
          "output_type": "execute_result",
          "data": {
            "text/plain": [
              "<matplotlib.legend.Legend at 0x7f714bdf6150>"
            ]
          },
          "metadata": {},
          "execution_count": 45
        },
        {
          "output_type": "display_data",
          "data": {
            "text/plain": [
              "<Figure size 864x432 with 1 Axes>"
            ],
            "image/png": "[encoded data removed]"
          },
          "metadata": {
            "needs_background": "light"
          }
        }
      ]
    },
    {
      "cell_type": "code",
      "source": [
        "tf.random.set_seed(42)\n",
        "model = tf.keras.Sequential([\n",
        "                            tf.keras.layers.Dense(64, activation = tf.keras.activations.relu, input_shape=[1]),\n",
        "                             tf.keras.layers.Dense(64, activation = tf.keras.activations.relu),\n",
        "                             tf.keras.layers.Dense(64, activation = tf.keras.activations.relu),                  \n",
        "                             tf.keras.layers.Dense(1)\n",
        "                            \n",
        "])\n",
        "compiled_model = model.compile(loss=tf.keras.losses.mean_squared_error, optimizer = tf.keras.optimizers.Adam(),\n",
        "              metrics=['mae', 'mse'])\n",
        "\n",
        "history = model.fit(X_train.reshape(-1,1), y_train, epochs = 50, batch_size = 32, validation_data = (X_test, y_test))"
      ],
      "metadata": {
        "colab": {
          "base_uri": "https://localhost:8080/"
        },
        "id": "wmBhrx2-hbaa",
        "outputId": "a4625e68-24b3-4519-a76f-1ffca8b3aacd"
      },
      "execution_count": null,
      "outputs": [
        {
          "output_type": "stream",
          "name": "stdout",
          "text": [
            "Epoch 1/50\n",
            "132/132 [==============================] - 1s 5ms/step - loss: 0.7473 - mae: 0.7277 - mse: 0.7473 - val_loss: 0.7659 - val_mae: 0.7541 - val_mse: 0.7659\n",
            "Epoch 2/50\n",
            "132/132 [==============================] - 1s 4ms/step - loss: 0.7092 - mae: 0.7081 - mse: 0.7092 - val_loss: 0.6615 - val_mae: 0.6967 - val_mse: 0.6615\n",
            "Epoch 3/50\n",
            "132/132 [==============================] - 1s 4ms/step - loss: 0.6649 - mae: 0.6964 - mse: 0.6649 - val_loss: 0.7475 - val_mae: 0.7454 - val_mse: 0.7475\n",
            "Epoch 4/50\n",
            "132/132 [==============================] - 1s 5ms/step - loss: 0.6705 - mae: 0.7000 - mse: 0.6705 - val_loss: 0.6717 - val_mae: 0.7092 - val_mse: 0.6717\n",
            "Epoch 5/50\n",
            "132/132 [==============================] - 1s 4ms/step - loss: 0.6568 - mae: 0.6937 - mse: 0.6568 - val_loss: 0.6683 - val_mae: 0.7073 - val_mse: 0.6683\n",
            "Epoch 6/50\n",
            "132/132 [==============================] - 0s 3ms/step - loss: 0.6709 - mae: 0.6980 - mse: 0.6709 - val_loss: 0.6572 - val_mae: 0.6842 - val_mse: 0.6572\n",
            "Epoch 7/50\n",
            "132/132 [==============================] - 0s 3ms/step - loss: 0.6687 - mae: 0.6943 - mse: 0.6687 - val_loss: 0.6518 - val_mae: 0.6846 - val_mse: 0.6518\n",
            "Epoch 8/50\n",
            "132/132 [==============================] - 0s 3ms/step - loss: 0.6520 - mae: 0.6897 - mse: 0.6520 - val_loss: 0.6512 - val_mae: 0.6950 - val_mse: 0.6512\n",
            "Epoch 9/50\n",
            "132/132 [==============================] - 1s 4ms/step - loss: 0.6541 - mae: 0.6881 - mse: 0.6541 - val_loss: 0.6437 - val_mae: 0.6852 - val_mse: 0.6437\n",
            "Epoch 10/50\n",
            "132/132 [==============================] - 1s 4ms/step - loss: 0.6474 - mae: 0.6863 - mse: 0.6474 - val_loss: 0.6984 - val_mae: 0.7218 - val_mse: 0.6984\n",
            "Epoch 11/50\n",
            "132/132 [==============================] - 0s 3ms/step - loss: 0.6459 - mae: 0.6858 - mse: 0.6459 - val_loss: 0.6510 - val_mae: 0.6969 - val_mse: 0.6510\n",
            "Epoch 12/50\n",
            "132/132 [==============================] - 1s 4ms/step - loss: 0.6352 - mae: 0.6808 - mse: 0.6352 - val_loss: 0.6367 - val_mae: 0.6778 - val_mse: 0.6367\n",
            "Epoch 13/50\n",
            "132/132 [==============================] - 0s 3ms/step - loss: 0.6347 - mae: 0.6800 - mse: 0.6347 - val_loss: 0.6738 - val_mae: 0.7089 - val_mse: 0.6738\n",
            "Epoch 14/50\n",
            "132/132 [==============================] - 1s 4ms/step - loss: 0.6326 - mae: 0.6783 - mse: 0.6326 - val_loss: 0.6607 - val_mae: 0.6731 - val_mse: 0.6607\n",
            "Epoch 15/50\n",
            "132/132 [==============================] - 0s 4ms/step - loss: 0.6491 - mae: 0.6849 - mse: 0.6491 - val_loss: 0.6317 - val_mae: 0.6772 - val_mse: 0.6317\n",
            "Epoch 16/50\n",
            "132/132 [==============================] - 0s 3ms/step - loss: 0.6421 - mae: 0.6819 - mse: 0.6421 - val_loss: 0.6375 - val_mae: 0.6878 - val_mse: 0.6375\n",
            "Epoch 17/50\n",
            "132/132 [==============================] - 1s 4ms/step - loss: 0.6293 - mae: 0.6775 - mse: 0.6293 - val_loss: 0.6453 - val_mae: 0.6696 - val_mse: 0.6453\n",
            "Epoch 18/50\n",
            "132/132 [==============================] - 1s 4ms/step - loss: 0.6228 - mae: 0.6732 - mse: 0.6228 - val_loss: 0.6261 - val_mae: 0.6687 - val_mse: 0.6261\n",
            "Epoch 19/50\n",
            "132/132 [==============================] - 0s 3ms/step - loss: 0.6259 - mae: 0.6730 - mse: 0.6259 - val_loss: 0.6341 - val_mae: 0.6654 - val_mse: 0.6341\n",
            "Epoch 20/50\n",
            "132/132 [==============================] - 0s 3ms/step - loss: 0.6228 - mae: 0.6709 - mse: 0.6228 - val_loss: 0.6510 - val_mae: 0.6964 - val_mse: 0.6510\n",
            "Epoch 21/50\n",
            "132/132 [==============================] - 0s 4ms/step - loss: 0.6181 - mae: 0.6682 - mse: 0.6181 - val_loss: 0.6445 - val_mae: 0.6926 - val_mse: 0.6445\n",
            "Epoch 22/50\n",
            "132/132 [==============================] - 0s 3ms/step - loss: 0.6256 - mae: 0.6695 - mse: 0.6256 - val_loss: 0.6517 - val_mae: 0.6958 - val_mse: 0.6517\n",
            "Epoch 23/50\n",
            "132/132 [==============================] - 0s 4ms/step - loss: 0.6098 - mae: 0.6639 - mse: 0.6098 - val_loss: 0.6559 - val_mae: 0.6977 - val_mse: 0.6559\n",
            "Epoch 24/50\n",
            "132/132 [==============================] - 0s 3ms/step - loss: 0.6096 - mae: 0.6633 - mse: 0.6096 - val_loss: 0.6163 - val_mae: 0.6757 - val_mse: 0.6163\n",
            "Epoch 25/50\n",
            "132/132 [==============================] - 1s 4ms/step - loss: 0.5974 - mae: 0.6576 - mse: 0.5974 - val_loss: 0.6062 - val_mae: 0.6682 - val_mse: 0.6062\n",
            "Epoch 26/50\n",
            "132/132 [==============================] - 1s 4ms/step - loss: 0.5961 - mae: 0.6540 - mse: 0.5961 - val_loss: 0.6043 - val_mae: 0.6675 - val_mse: 0.6043\n",
            "Epoch 27/50\n",
            "132/132 [==============================] - 1s 4ms/step - loss: 0.6019 - mae: 0.6594 - mse: 0.6019 - val_loss: 0.5931 - val_mae: 0.6456 - val_mse: 0.5931\n",
            "Epoch 28/50\n",
            "132/132 [==============================] - 0s 3ms/step - loss: 0.5909 - mae: 0.6511 - mse: 0.5909 - val_loss: 0.6393 - val_mae: 0.6434 - val_mse: 0.6393\n",
            "Epoch 29/50\n",
            "132/132 [==============================] - 0s 3ms/step - loss: 0.6078 - mae: 0.6566 - mse: 0.6078 - val_loss: 0.6025 - val_mae: 0.6666 - val_mse: 0.6025\n",
            "Epoch 30/50\n",
            "132/132 [==============================] - 0s 3ms/step - loss: 0.5783 - mae: 0.6439 - mse: 0.5783 - val_loss: 0.6581 - val_mae: 0.7024 - val_mse: 0.6581\n",
            "Epoch 31/50\n",
            "132/132 [==============================] - 1s 4ms/step - loss: 0.5802 - mae: 0.6438 - mse: 0.5802 - val_loss: 0.5818 - val_mae: 0.6518 - val_mse: 0.5818\n",
            "Epoch 32/50\n",
            "132/132 [==============================] - 0s 4ms/step - loss: 0.5782 - mae: 0.6408 - mse: 0.5782 - val_loss: 0.5881 - val_mae: 0.6565 - val_mse: 0.5881\n",
            "Epoch 33/50\n",
            "132/132 [==============================] - 0s 3ms/step - loss: 0.5693 - mae: 0.6359 - mse: 0.5693 - val_loss: 0.5647 - val_mae: 0.6351 - val_mse: 0.5647\n",
            "Epoch 34/50\n",
            "132/132 [==============================] - 0s 3ms/step - loss: 0.5602 - mae: 0.6304 - mse: 0.5602 - val_loss: 0.6122 - val_mae: 0.6221 - val_mse: 0.6122\n",
            "Epoch 35/50\n",
            "132/132 [==============================] - 0s 4ms/step - loss: 0.5710 - mae: 0.6326 - mse: 0.5710 - val_loss: 0.5920 - val_mae: 0.6604 - val_mse: 0.5920\n",
            "Epoch 36/50\n",
            "132/132 [==============================] - 0s 4ms/step - loss: 0.5671 - mae: 0.6302 - mse: 0.5671 - val_loss: 0.5541 - val_mae: 0.6305 - val_mse: 0.5541\n",
            "Epoch 37/50\n",
            "132/132 [==============================] - 0s 3ms/step - loss: 0.5500 - mae: 0.6219 - mse: 0.5500 - val_loss: 0.5549 - val_mae: 0.6325 - val_mse: 0.5549\n",
            "Epoch 38/50\n",
            "132/132 [==============================] - 1s 4ms/step - loss: 0.5472 - mae: 0.6181 - mse: 0.5472 - val_loss: 0.5412 - val_mae: 0.6038 - val_mse: 0.5412\n",
            "Epoch 39/50\n",
            "132/132 [==============================] - 0s 3ms/step - loss: 0.5428 - mae: 0.6134 - mse: 0.5428 - val_loss: 0.5316 - val_mae: 0.6097 - val_mse: 0.5316\n",
            "Epoch 40/50\n",
            "132/132 [==============================] - 1s 4ms/step - loss: 0.5478 - mae: 0.6148 - mse: 0.5478 - val_loss: 0.5723 - val_mae: 0.5942 - val_mse: 0.5723\n",
            "Epoch 41/50\n",
            "132/132 [==============================] - 0s 4ms/step - loss: 0.5510 - mae: 0.6164 - mse: 0.5510 - val_loss: 0.5230 - val_mae: 0.5998 - val_mse: 0.5230\n",
            "Epoch 42/50\n",
            "132/132 [==============================] - 1s 4ms/step - loss: 0.5249 - mae: 0.6004 - mse: 0.5249 - val_loss: 0.5223 - val_mae: 0.6057 - val_mse: 0.5223\n",
            "Epoch 43/50\n",
            "132/132 [==============================] - 1s 5ms/step - loss: 0.5356 - mae: 0.6061 - mse: 0.5356 - val_loss: 0.5124 - val_mae: 0.5903 - val_mse: 0.5124\n",
            "Epoch 44/50\n",
            "132/132 [==============================] - 1s 8ms/step - loss: 0.5158 - mae: 0.5931 - mse: 0.5158 - val_loss: 0.5208 - val_mae: 0.6075 - val_mse: 0.5208\n",
            "Epoch 45/50\n",
            "132/132 [==============================] - 1s 7ms/step - loss: 0.5057 - mae: 0.5855 - mse: 0.5057 - val_loss: 0.4999 - val_mae: 0.5784 - val_mse: 0.4999\n",
            "Epoch 46/50\n",
            "132/132 [==============================] - 1s 9ms/step - loss: 0.5120 - mae: 0.5885 - mse: 0.5120 - val_loss: 0.4989 - val_mae: 0.5838 - val_mse: 0.4989\n",
            "Epoch 47/50\n",
            "132/132 [==============================] - 1s 8ms/step - loss: 0.5100 - mae: 0.5855 - mse: 0.5100 - val_loss: 0.5449 - val_mae: 0.6324 - val_mse: 0.5449\n",
            "Epoch 48/50\n",
            "132/132 [==============================] - 1s 7ms/step - loss: 0.4952 - mae: 0.5764 - mse: 0.4952 - val_loss: 0.4991 - val_mae: 0.5573 - val_mse: 0.4991\n",
            "Epoch 49/50\n",
            "132/132 [==============================] - 1s 6ms/step - loss: 0.4877 - mae: 0.5687 - mse: 0.4877 - val_loss: 0.5126 - val_mae: 0.5545 - val_mse: 0.5126\n",
            "Epoch 50/50\n",
            "132/132 [==============================] - 1s 6ms/step - loss: 0.4904 - mae: 0.5717 - mse: 0.4904 - val_loss: 0.4825 - val_mae: 0.5510 - val_mse: 0.4825\n"
          ]
        }
      ]
    },
    {
      "cell_type": "code",
      "source": [
        "y_pred = model.predict(X_test)\n",
        "model.summary()\n",
        "\n",
        "def plot_preds(traindata = X_train,\n",
        "               trainlabels = y_train,\n",
        "               testdata = X_test,\n",
        "               testlabels = y_test,\n",
        "               predictions = y_pred):\n",
        "  plt.figure(figsize=(12,6))\n",
        "  plt.scatter(trainlabels, traindata, c=\"b\", label=\"Training data\")\n",
        "  plt.scatter(testlabels, testdata, c=\"g\", label=\"Testing data\")\n",
        "  plt.scatter(predictions, testdata,  c=\"r\", label=\"Predictions\")\n",
        "  plt.legend()\n",
        "\n"
      ],
      "metadata": {
        "colab": {
          "base_uri": "https://localhost:8080/"
        },
        "id": "V196f3KiheDn",
        "outputId": "2694be6e-c1df-44c2-a345-c1cfab333822"
      },
      "execution_count": null,
      "outputs": [
        {
          "output_type": "stream",
          "name": "stdout",
          "text": [
            "Model: \"sequential_6\"\n",
            "_________________________________________________________________\n",
            " Layer (type)                Output Shape              Param #   \n",
            "=================================================================\n",
            " dense_24 (Dense)            (None, 64)                128       \n",
            "                                                                 \n",
            " dense_25 (Dense)            (None, 64)                4160      \n",
            "                                                                 \n",
            " dense_26 (Dense)            (None, 64)                4160      \n",
            "                                                                 \n",
            " dense_27 (Dense)            (None, 1)                 65        \n",
            "                                                                 \n",
            "=================================================================\n",
            "Total params: 8,513\n",
            "Trainable params: 8,513\n",
            "Non-trainable params: 0\n",
            "_________________________________________________________________\n"
          ]
        }
      ]
    },
    {
      "cell_type": "code",
      "source": [
        "plot_preds()"
      ],
      "metadata": {
        "colab": {
          "base_uri": "https://localhost:8080/",
          "height": 374
        },
        "id": "87hvsHxW_wcZ",
        "outputId": "64ecad41-1202-4b7c-d716-054f46ea9e7a"
      },
      "execution_count": null,
      "outputs": [
        {
          "output_type": "display_data",
          "data": {
            "text/plain": [
              "<Figure size 864x432 with 1 Axes>"
            ],
            "image/png": "[encoded data removed]"
          },
          "metadata": {
            "needs_background": "light"
          }
        }
      ]
    },
    {
      "cell_type": "code",
      "source": [
        "#앞서 만든 기준 모델과 비교하기 위해 적은 수의 은닉 유닛을 가진 모델\n",
        "tf.random.set_seed(42)\n",
        "small_model = tf.keras.Sequential([\n",
        "                            tf.keras.layers.Dense(4, activation = tf.keras.activations.relu, input_shape=[1]),\n",
        "                             tf.keras.layers.Dense(4, activation = tf.keras.activations.relu),\n",
        "                             tf.keras.layers.Dense(4, activation = tf.keras.activations.relu),                  \n",
        "                             tf.keras.layers.Dense(1)\n",
        "                            \n",
        "])\n",
        "small_model.compile(loss=tf.keras.losses.mean_squared_error, optimizer = tf.keras.optimizers.Adam(),\n",
        "              metrics=['mae', 'mse'])\n",
        "\n",
        "smaller_history = small_model.fit(X_train.reshape(-1,1), y_train, epochs = 50, batch_size = 32, validation_data = (X_test, y_test))"
      ],
      "metadata": {
        "colab": {
          "base_uri": "https://localhost:8080/"
        },
        "id": "bmqI3ruF0UX3",
        "outputId": "d1e75dfc-7a92-4ce2-cda0-0e2f82cdbfdf"
      },
      "execution_count": null,
      "outputs": [
        {
          "output_type": "stream",
          "name": "stdout",
          "text": [
            "Epoch 1/50\n",
            "132/132 [==============================] - 3s 10ms/step - loss: 3.3779 - mae: 1.4541 - mse: 3.3779 - val_loss: 0.6833 - val_mae: 0.6921 - val_mse: 0.6833\n",
            "Epoch 2/50\n",
            "132/132 [==============================] - 1s 8ms/step - loss: 0.6519 - mae: 0.6871 - mse: 0.6519 - val_loss: 0.6633 - val_mae: 0.7014 - val_mse: 0.6633\n",
            "Epoch 3/50\n",
            "132/132 [==============================] - 1s 9ms/step - loss: 0.6461 - mae: 0.6890 - mse: 0.6461 - val_loss: 0.6650 - val_mae: 0.7033 - val_mse: 0.6650\n",
            "Epoch 4/50\n",
            "132/132 [==============================] - 1s 6ms/step - loss: 0.6463 - mae: 0.6894 - mse: 0.6463 - val_loss: 0.6641 - val_mae: 0.7025 - val_mse: 0.6641\n",
            "Epoch 5/50\n",
            "132/132 [==============================] - 1s 6ms/step - loss: 0.6459 - mae: 0.6897 - mse: 0.6459 - val_loss: 0.6590 - val_mae: 0.6957 - val_mse: 0.6590\n",
            "Epoch 6/50\n",
            "132/132 [==============================] - 1s 5ms/step - loss: 0.6456 - mae: 0.6881 - mse: 0.6456 - val_loss: 0.6613 - val_mae: 0.6998 - val_mse: 0.6613\n",
            "Epoch 7/50\n",
            "132/132 [==============================] - 1s 4ms/step - loss: 0.6450 - mae: 0.6886 - mse: 0.6450 - val_loss: 0.6585 - val_mae: 0.6958 - val_mse: 0.6585\n",
            "Epoch 8/50\n",
            "132/132 [==============================] - 0s 3ms/step - loss: 0.6448 - mae: 0.6878 - mse: 0.6448 - val_loss: 0.6601 - val_mae: 0.6988 - val_mse: 0.6601\n",
            "Epoch 9/50\n",
            "132/132 [==============================] - 0s 3ms/step - loss: 0.6442 - mae: 0.6886 - mse: 0.6442 - val_loss: 0.6565 - val_mae: 0.6939 - val_mse: 0.6565\n",
            "Epoch 10/50\n",
            "132/132 [==============================] - 0s 3ms/step - loss: 0.6441 - mae: 0.6867 - mse: 0.6441 - val_loss: 0.6597 - val_mae: 0.6991 - val_mse: 0.6597\n",
            "Epoch 11/50\n",
            "132/132 [==============================] - 0s 3ms/step - loss: 0.6430 - mae: 0.6871 - mse: 0.6430 - val_loss: 0.6578 - val_mae: 0.6970 - val_mse: 0.6578\n",
            "Epoch 12/50\n",
            "132/132 [==============================] - 0s 3ms/step - loss: 0.6435 - mae: 0.6873 - mse: 0.6435 - val_loss: 0.6556 - val_mae: 0.6940 - val_mse: 0.6556\n",
            "Epoch 13/50\n",
            "132/132 [==============================] - 0s 3ms/step - loss: 0.6418 - mae: 0.6856 - mse: 0.6418 - val_loss: 0.6614 - val_mae: 0.7018 - val_mse: 0.6614\n",
            "Epoch 14/50\n",
            "132/132 [==============================] - 0s 3ms/step - loss: 0.6412 - mae: 0.6875 - mse: 0.6412 - val_loss: 0.6531 - val_mae: 0.6916 - val_mse: 0.6531\n",
            "Epoch 15/50\n",
            "132/132 [==============================] - 0s 3ms/step - loss: 0.6409 - mae: 0.6848 - mse: 0.6409 - val_loss: 0.6570 - val_mae: 0.6981 - val_mse: 0.6570\n",
            "Epoch 16/50\n",
            "132/132 [==============================] - 0s 3ms/step - loss: 0.6405 - mae: 0.6859 - mse: 0.6405 - val_loss: 0.6513 - val_mae: 0.6904 - val_mse: 0.6513\n",
            "Epoch 17/50\n",
            "132/132 [==============================] - 0s 4ms/step - loss: 0.6406 - mae: 0.6858 - mse: 0.6406 - val_loss: 0.6546 - val_mae: 0.6962 - val_mse: 0.6546\n",
            "Epoch 18/50\n",
            "132/132 [==============================] - 1s 4ms/step - loss: 0.6378 - mae: 0.6841 - mse: 0.6378 - val_loss: 0.6500 - val_mae: 0.6900 - val_mse: 0.6500\n",
            "Epoch 19/50\n",
            "132/132 [==============================] - 0s 4ms/step - loss: 0.6378 - mae: 0.6838 - mse: 0.6378 - val_loss: 0.6555 - val_mae: 0.6982 - val_mse: 0.6555\n",
            "Epoch 20/50\n",
            "132/132 [==============================] - 0s 3ms/step - loss: 0.6379 - mae: 0.6839 - mse: 0.6379 - val_loss: 0.6487 - val_mae: 0.6901 - val_mse: 0.6487\n",
            "Epoch 21/50\n",
            "132/132 [==============================] - 0s 3ms/step - loss: 0.6374 - mae: 0.6832 - mse: 0.6374 - val_loss: 0.6463 - val_mae: 0.6858 - val_mse: 0.6463\n",
            "Epoch 22/50\n",
            "132/132 [==============================] - 0s 3ms/step - loss: 0.6363 - mae: 0.6832 - mse: 0.6363 - val_loss: 0.6457 - val_mae: 0.6873 - val_mse: 0.6457\n",
            "Epoch 23/50\n",
            "132/132 [==============================] - 0s 3ms/step - loss: 0.6332 - mae: 0.6815 - mse: 0.6332 - val_loss: 0.6500 - val_mae: 0.6945 - val_mse: 0.6500\n",
            "Epoch 24/50\n",
            "132/132 [==============================] - 0s 3ms/step - loss: 0.6330 - mae: 0.6819 - mse: 0.6330 - val_loss: 0.6427 - val_mae: 0.6843 - val_mse: 0.6427\n",
            "Epoch 25/50\n",
            "132/132 [==============================] - 0s 3ms/step - loss: 0.6328 - mae: 0.6802 - mse: 0.6328 - val_loss: 0.6519 - val_mae: 0.6971 - val_mse: 0.6519\n",
            "Epoch 26/50\n",
            "132/132 [==============================] - 0s 3ms/step - loss: 0.6333 - mae: 0.6811 - mse: 0.6333 - val_loss: 0.6444 - val_mae: 0.6903 - val_mse: 0.6444\n",
            "Epoch 27/50\n",
            "132/132 [==============================] - 0s 3ms/step - loss: 0.6289 - mae: 0.6792 - mse: 0.6289 - val_loss: 0.6390 - val_mae: 0.6825 - val_mse: 0.6390\n",
            "Epoch 28/50\n",
            "132/132 [==============================] - 0s 3ms/step - loss: 0.6279 - mae: 0.6779 - mse: 0.6279 - val_loss: 0.6379 - val_mae: 0.6798 - val_mse: 0.6379\n",
            "Epoch 29/50\n",
            "132/132 [==============================] - 0s 3ms/step - loss: 0.6303 - mae: 0.6782 - mse: 0.6303 - val_loss: 0.6391 - val_mae: 0.6862 - val_mse: 0.6391\n",
            "Epoch 30/50\n",
            "132/132 [==============================] - 0s 3ms/step - loss: 0.6248 - mae: 0.6754 - mse: 0.6248 - val_loss: 0.6451 - val_mae: 0.6931 - val_mse: 0.6451\n",
            "Epoch 31/50\n",
            "132/132 [==============================] - 0s 3ms/step - loss: 0.6231 - mae: 0.6755 - mse: 0.6231 - val_loss: 0.6452 - val_mae: 0.6935 - val_mse: 0.6452\n",
            "Epoch 32/50\n",
            "132/132 [==============================] - 0s 3ms/step - loss: 0.6244 - mae: 0.6747 - mse: 0.6244 - val_loss: 0.6619 - val_mae: 0.7031 - val_mse: 0.6619\n",
            "Epoch 33/50\n",
            "132/132 [==============================] - 0s 3ms/step - loss: 0.6223 - mae: 0.6754 - mse: 0.6223 - val_loss: 0.6331 - val_mae: 0.6827 - val_mse: 0.6331\n",
            "Epoch 34/50\n",
            "132/132 [==============================] - 0s 3ms/step - loss: 0.6183 - mae: 0.6731 - mse: 0.6183 - val_loss: 0.6289 - val_mae: 0.6772 - val_mse: 0.6289\n",
            "Epoch 35/50\n",
            "132/132 [==============================] - 0s 3ms/step - loss: 0.6185 - mae: 0.6726 - mse: 0.6185 - val_loss: 0.6281 - val_mae: 0.6780 - val_mse: 0.6281\n",
            "Epoch 36/50\n",
            "132/132 [==============================] - 0s 3ms/step - loss: 0.6187 - mae: 0.6717 - mse: 0.6187 - val_loss: 0.6304 - val_mae: 0.6825 - val_mse: 0.6304\n",
            "Epoch 37/50\n",
            "132/132 [==============================] - 0s 2ms/step - loss: 0.6176 - mae: 0.6720 - mse: 0.6176 - val_loss: 0.6234 - val_mae: 0.6727 - val_mse: 0.6234\n",
            "Epoch 38/50\n",
            "132/132 [==============================] - 0s 3ms/step - loss: 0.6131 - mae: 0.6687 - mse: 0.6131 - val_loss: 0.6235 - val_mae: 0.6756 - val_mse: 0.6235\n",
            "Epoch 39/50\n",
            "132/132 [==============================] - 0s 3ms/step - loss: 0.6119 - mae: 0.6680 - mse: 0.6119 - val_loss: 0.6276 - val_mae: 0.6818 - val_mse: 0.6276\n",
            "Epoch 40/50\n",
            "132/132 [==============================] - 0s 3ms/step - loss: 0.6104 - mae: 0.6676 - mse: 0.6104 - val_loss: 0.6181 - val_mae: 0.6680 - val_mse: 0.6181\n",
            "Epoch 41/50\n",
            "132/132 [==============================] - 0s 3ms/step - loss: 0.6082 - mae: 0.6648 - mse: 0.6082 - val_loss: 0.6241 - val_mae: 0.6797 - val_mse: 0.6241\n",
            "Epoch 42/50\n",
            "132/132 [==============================] - 0s 4ms/step - loss: 0.6068 - mae: 0.6652 - mse: 0.6068 - val_loss: 0.6220 - val_mae: 0.6783 - val_mse: 0.6220\n",
            "Epoch 43/50\n",
            "132/132 [==============================] - 0s 3ms/step - loss: 0.6072 - mae: 0.6648 - mse: 0.6072 - val_loss: 0.6196 - val_mae: 0.6767 - val_mse: 0.6196\n",
            "Epoch 44/50\n",
            "132/132 [==============================] - 0s 3ms/step - loss: 0.6035 - mae: 0.6630 - mse: 0.6035 - val_loss: 0.6134 - val_mae: 0.6704 - val_mse: 0.6134\n",
            "Epoch 45/50\n",
            "132/132 [==============================] - 0s 3ms/step - loss: 0.6011 - mae: 0.6604 - mse: 0.6011 - val_loss: 0.6313 - val_mae: 0.6852 - val_mse: 0.6313\n",
            "Epoch 46/50\n",
            "132/132 [==============================] - 0s 4ms/step - loss: 0.5995 - mae: 0.6598 - mse: 0.5995 - val_loss: 0.6122 - val_mae: 0.6714 - val_mse: 0.6122\n",
            "Epoch 47/50\n",
            "132/132 [==============================] - 0s 3ms/step - loss: 0.5985 - mae: 0.6600 - mse: 0.5985 - val_loss: 0.6084 - val_mae: 0.6680 - val_mse: 0.6084\n",
            "Epoch 48/50\n",
            "132/132 [==============================] - 0s 3ms/step - loss: 0.5958 - mae: 0.6571 - mse: 0.5958 - val_loss: 0.6193 - val_mae: 0.6778 - val_mse: 0.6193\n",
            "Epoch 49/50\n",
            "132/132 [==============================] - 0s 3ms/step - loss: 0.5951 - mae: 0.6577 - mse: 0.5951 - val_loss: 0.6016 - val_mae: 0.6613 - val_mse: 0.6016\n",
            "Epoch 50/50\n",
            "132/132 [==============================] - 0s 3ms/step - loss: 0.5924 - mae: 0.6551 - mse: 0.5924 - val_loss: 0.5984 - val_mae: 0.6577 - val_mse: 0.5984\n"
          ]
        }
      ]
    },
    {
      "cell_type": "code",
      "source": [
        "small_model.summary()\n",
        "plot_preds()"
      ],
      "metadata": {
        "colab": {
          "base_uri": "https://localhost:8080/",
          "height": 678
        },
        "id": "ZYmoTL5o0qiR",
        "outputId": "5f3d158e-d103-4775-b453-f0a258e78f49"
      },
      "execution_count": null,
      "outputs": [
        {
          "output_type": "stream",
          "name": "stdout",
          "text": [
            "Model: \"sequential_7\"\n",
            "_________________________________________________________________\n",
            " Layer (type)                Output Shape              Param #   \n",
            "=================================================================\n",
            " dense_28 (Dense)            (None, 4)                 8         \n",
            "                                                                 \n",
            " dense_29 (Dense)            (None, 4)                 20        \n",
            "                                                                 \n",
            " dense_30 (Dense)            (None, 4)                 20        \n",
            "                                                                 \n",
            " dense_31 (Dense)            (None, 1)                 5         \n",
            "                                                                 \n",
            "=================================================================\n",
            "Total params: 53\n",
            "Trainable params: 53\n",
            "Non-trainable params: 0\n",
            "_________________________________________________________________\n"
          ]
        },
        {
          "output_type": "display_data",
          "data": {
            "text/plain": [
              "<Figure size 864x432 with 1 Axes>"
            ],
            "image/png": "[encoded data removed]"
          },
          "metadata": {
            "needs_background": "light"
          }
        }
      ]
    },
    {
      "cell_type": "code",
      "source": [
        "# 과대적합 찾기\n",
        "tf.random.set_seed(42)\n",
        "bigger_model = tf.keras.Sequential([\n",
        "                            tf.keras.layers.Dense(512, activation = tf.keras.activations.relu, input_shape=[1]),\n",
        "                             tf.keras.layers.Dense(512, activation = tf.keras.activations.relu),\n",
        "                             tf.keras.layers.Dense(512, activation = tf.keras.activations.relu),                  \n",
        "                             tf.keras.layers.Dense(1)\n",
        "                            \n",
        "])\n",
        "bigger_model.compile(loss=tf.keras.losses.mean_squared_error, optimizer = tf.keras.optimizers.Adam(),\n",
        "              metrics=['mae', 'mse'])\n",
        "\n",
        "bigger_history = bigger_model.fit(X_train.reshape(-1,1), y_train, epochs = 50, batch_size = 32, validation_data = (X_test, y_test))"
      ],
      "metadata": {
        "colab": {
          "base_uri": "https://localhost:8080/"
        },
        "id": "crbKw_pC0y9Q",
        "outputId": "95a0b48a-e8f6-45bf-be2f-45ecbcb5a5fd"
      },
      "execution_count": null,
      "outputs": [
        {
          "output_type": "stream",
          "name": "stdout",
          "text": [
            "Epoch 1/50\n",
            "132/132 [==============================] - 2s 15ms/step - loss: 2.2687 - mae: 0.9659 - mse: 2.2687 - val_loss: 0.7521 - val_mae: 0.7477 - val_mse: 0.7521\n",
            "Epoch 2/50\n",
            "132/132 [==============================] - 2s 11ms/step - loss: 0.7106 - mae: 0.7106 - mse: 0.7106 - val_loss: 0.6749 - val_mae: 0.6933 - val_mse: 0.6749\n",
            "Epoch 3/50\n",
            "132/132 [==============================] - 2s 12ms/step - loss: 0.6653 - mae: 0.6974 - mse: 0.6653 - val_loss: 0.7254 - val_mae: 0.7360 - val_mse: 0.7254\n",
            "Epoch 4/50\n",
            "132/132 [==============================] - 2s 13ms/step - loss: 0.6719 - mae: 0.7005 - mse: 0.6719 - val_loss: 0.6821 - val_mae: 0.7152 - val_mse: 0.6821\n",
            "Epoch 5/50\n",
            "132/132 [==============================] - 2s 12ms/step - loss: 0.6560 - mae: 0.6938 - mse: 0.6560 - val_loss: 0.6652 - val_mae: 0.7040 - val_mse: 0.6652\n",
            "Epoch 6/50\n",
            "132/132 [==============================] - 2s 12ms/step - loss: 0.6654 - mae: 0.6972 - mse: 0.6654 - val_loss: 0.6566 - val_mae: 0.6945 - val_mse: 0.6566\n",
            "Epoch 7/50\n",
            "132/132 [==============================] - 2s 12ms/step - loss: 0.6601 - mae: 0.6938 - mse: 0.6601 - val_loss: 0.6553 - val_mae: 0.6878 - val_mse: 0.6553\n",
            "Epoch 8/50\n",
            "132/132 [==============================] - 1s 11ms/step - loss: 0.6661 - mae: 0.6972 - mse: 0.6661 - val_loss: 0.6590 - val_mae: 0.7007 - val_mse: 0.6590\n",
            "Epoch 9/50\n",
            "132/132 [==============================] - 1s 11ms/step - loss: 0.6624 - mae: 0.6927 - mse: 0.6624 - val_loss: 0.6563 - val_mae: 0.6988 - val_mse: 0.6563\n",
            "Epoch 10/50\n",
            "132/132 [==============================] - 2s 11ms/step - loss: 0.6616 - mae: 0.6911 - mse: 0.6616 - val_loss: 0.6876 - val_mae: 0.7167 - val_mse: 0.6876\n",
            "Epoch 11/50\n",
            "132/132 [==============================] - 1s 11ms/step - loss: 0.6670 - mae: 0.6962 - mse: 0.6670 - val_loss: 0.6649 - val_mae: 0.7055 - val_mse: 0.6649\n",
            "Epoch 12/50\n",
            "132/132 [==============================] - 2s 12ms/step - loss: 0.6552 - mae: 0.6904 - mse: 0.6552 - val_loss: 0.6416 - val_mae: 0.6826 - val_mse: 0.6416\n",
            "Epoch 13/50\n",
            "132/132 [==============================] - 3s 21ms/step - loss: 0.6513 - mae: 0.6878 - mse: 0.6513 - val_loss: 0.8823 - val_mae: 0.8031 - val_mse: 0.8823\n",
            "Epoch 14/50\n",
            "132/132 [==============================] - 2s 12ms/step - loss: 0.6433 - mae: 0.6851 - mse: 0.6433 - val_loss: 0.8018 - val_mae: 0.7182 - val_mse: 0.8018\n",
            "Epoch 15/50\n",
            "132/132 [==============================] - 2s 12ms/step - loss: 0.6662 - mae: 0.6926 - mse: 0.6662 - val_loss: 0.7561 - val_mae: 0.7512 - val_mse: 0.7561\n",
            "Epoch 16/50\n",
            "132/132 [==============================] - 1s 11ms/step - loss: 0.6435 - mae: 0.6833 - mse: 0.6435 - val_loss: 0.6437 - val_mae: 0.6927 - val_mse: 0.6437\n",
            "Epoch 17/50\n",
            "132/132 [==============================] - 1s 11ms/step - loss: 0.6750 - mae: 0.6946 - mse: 0.6750 - val_loss: 0.7190 - val_mae: 0.7316 - val_mse: 0.7190\n",
            "Epoch 18/50\n",
            "132/132 [==============================] - 2s 12ms/step - loss: 0.6296 - mae: 0.6779 - mse: 0.6296 - val_loss: 0.6784 - val_mae: 0.6731 - val_mse: 0.6784\n",
            "Epoch 19/50\n",
            "132/132 [==============================] - 1s 11ms/step - loss: 0.6552 - mae: 0.6861 - mse: 0.6552 - val_loss: 0.6259 - val_mae: 0.6751 - val_mse: 0.6259\n",
            "Epoch 20/50\n",
            "132/132 [==============================] - 1s 11ms/step - loss: 0.6377 - mae: 0.6789 - mse: 0.6377 - val_loss: 0.6762 - val_mae: 0.7093 - val_mse: 0.6762\n",
            "Epoch 21/50\n",
            "132/132 [==============================] - 2s 12ms/step - loss: 0.6339 - mae: 0.6748 - mse: 0.6339 - val_loss: 0.6480 - val_mae: 0.6948 - val_mse: 0.6480\n",
            "Epoch 22/50\n",
            "132/132 [==============================] - 2s 12ms/step - loss: 0.6376 - mae: 0.6748 - mse: 0.6376 - val_loss: 0.7793 - val_mae: 0.7624 - val_mse: 0.7793\n",
            "Epoch 23/50\n",
            "132/132 [==============================] - 2s 12ms/step - loss: 0.6278 - mae: 0.6725 - mse: 0.6278 - val_loss: 0.6156 - val_mae: 0.6725 - val_mse: 0.6156\n",
            "Epoch 24/50\n",
            "132/132 [==============================] - 1s 11ms/step - loss: 0.6303 - mae: 0.6723 - mse: 0.6303 - val_loss: 0.6120 - val_mae: 0.6709 - val_mse: 0.6120\n",
            "Epoch 25/50\n",
            "132/132 [==============================] - 2s 12ms/step - loss: 0.6021 - mae: 0.6591 - mse: 0.6021 - val_loss: 0.6144 - val_mae: 0.6746 - val_mse: 0.6144\n",
            "Epoch 26/50\n",
            "132/132 [==============================] - 1s 11ms/step - loss: 0.5958 - mae: 0.6547 - mse: 0.5958 - val_loss: 0.6024 - val_mae: 0.6664 - val_mse: 0.6024\n",
            "Epoch 27/50\n",
            "132/132 [==============================] - 2s 12ms/step - loss: 0.6077 - mae: 0.6569 - mse: 0.6077 - val_loss: 0.6103 - val_mae: 0.6713 - val_mse: 0.6103\n",
            "Epoch 28/50\n",
            "132/132 [==============================] - 2s 12ms/step - loss: 0.5989 - mae: 0.6515 - mse: 0.5989 - val_loss: 0.5825 - val_mae: 0.6491 - val_mse: 0.5825\n",
            "Epoch 29/50\n",
            "132/132 [==============================] - 2s 12ms/step - loss: 0.5898 - mae: 0.6457 - mse: 0.5898 - val_loss: 0.5925 - val_mae: 0.6594 - val_mse: 0.5925\n",
            "Epoch 30/50\n",
            "132/132 [==============================] - 2s 12ms/step - loss: 0.5870 - mae: 0.6422 - mse: 0.5870 - val_loss: 0.6056 - val_mae: 0.6686 - val_mse: 0.6056\n",
            "Epoch 31/50\n",
            "132/132 [==============================] - 1s 11ms/step - loss: 0.5808 - mae: 0.6389 - mse: 0.5808 - val_loss: 0.5846 - val_mae: 0.6542 - val_mse: 0.5846\n",
            "Epoch 32/50\n",
            "132/132 [==============================] - 1s 11ms/step - loss: 0.5607 - mae: 0.6287 - mse: 0.5607 - val_loss: 0.5515 - val_mae: 0.6287 - val_mse: 0.5515\n",
            "Epoch 33/50\n",
            "132/132 [==============================] - 2s 12ms/step - loss: 0.5689 - mae: 0.6276 - mse: 0.5689 - val_loss: 0.5494 - val_mae: 0.6285 - val_mse: 0.5494\n",
            "Epoch 34/50\n",
            "132/132 [==============================] - 2s 15ms/step - loss: 0.5435 - mae: 0.6131 - mse: 0.5435 - val_loss: 0.5480 - val_mae: 0.6293 - val_mse: 0.5480\n",
            "Epoch 35/50\n",
            "132/132 [==============================] - 2s 17ms/step - loss: 0.5354 - mae: 0.6061 - mse: 0.5354 - val_loss: 0.5337 - val_mae: 0.6184 - val_mse: 0.5337\n",
            "Epoch 36/50\n",
            "132/132 [==============================] - 1s 11ms/step - loss: 0.5401 - mae: 0.6067 - mse: 0.5401 - val_loss: 0.5076 - val_mae: 0.5838 - val_mse: 0.5076\n",
            "Epoch 37/50\n",
            "132/132 [==============================] - 2s 12ms/step - loss: 0.5231 - mae: 0.5956 - mse: 0.5231 - val_loss: 0.6318 - val_mae: 0.6921 - val_mse: 0.6318\n",
            "Epoch 38/50\n",
            "132/132 [==============================] - 2s 12ms/step - loss: 0.5335 - mae: 0.5998 - mse: 0.5335 - val_loss: 0.5513 - val_mae: 0.6374 - val_mse: 0.5513\n",
            "Epoch 39/50\n",
            "132/132 [==============================] - 1s 11ms/step - loss: 0.5173 - mae: 0.5899 - mse: 0.5173 - val_loss: 0.4941 - val_mae: 0.5595 - val_mse: 0.4941\n",
            "Epoch 40/50\n",
            "132/132 [==============================] - 1s 11ms/step - loss: 0.4982 - mae: 0.5778 - mse: 0.4982 - val_loss: 0.5114 - val_mae: 0.5533 - val_mse: 0.5114\n",
            "Epoch 41/50\n",
            "132/132 [==============================] - 1s 11ms/step - loss: 0.4994 - mae: 0.5729 - mse: 0.4994 - val_loss: 0.4735 - val_mae: 0.5578 - val_mse: 0.4735\n",
            "Epoch 42/50\n",
            "132/132 [==============================] - 1s 11ms/step - loss: 0.5055 - mae: 0.5793 - mse: 0.5055 - val_loss: 0.5823 - val_mae: 0.6641 - val_mse: 0.5823\n",
            "Epoch 43/50\n",
            "132/132 [==============================] - 2s 12ms/step - loss: 0.5042 - mae: 0.5760 - mse: 0.5042 - val_loss: 0.5918 - val_mae: 0.5872 - val_mse: 0.5918\n",
            "Epoch 44/50\n",
            "132/132 [==============================] - 2s 12ms/step - loss: 0.4808 - mae: 0.5612 - mse: 0.4808 - val_loss: 0.4650 - val_mae: 0.5402 - val_mse: 0.4650\n",
            "Epoch 45/50\n",
            "132/132 [==============================] - 2s 11ms/step - loss: 0.4694 - mae: 0.5524 - mse: 0.4694 - val_loss: 0.4759 - val_mae: 0.5716 - val_mse: 0.4759\n",
            "Epoch 46/50\n",
            "132/132 [==============================] - 1s 11ms/step - loss: 0.4947 - mae: 0.5685 - mse: 0.4947 - val_loss: 0.4934 - val_mae: 0.5376 - val_mse: 0.4934\n",
            "Epoch 47/50\n",
            "132/132 [==============================] - 2s 12ms/step - loss: 0.4882 - mae: 0.5650 - mse: 0.4882 - val_loss: 0.4640 - val_mae: 0.5564 - val_mse: 0.4640\n",
            "Epoch 48/50\n",
            "132/132 [==============================] - 2s 12ms/step - loss: 0.4683 - mae: 0.5500 - mse: 0.4683 - val_loss: 0.5204 - val_mae: 0.5451 - val_mse: 0.5204\n",
            "Epoch 49/50\n",
            "132/132 [==============================] - 2s 12ms/step - loss: 0.4745 - mae: 0.5541 - mse: 0.4745 - val_loss: 0.4502 - val_mae: 0.5379 - val_mse: 0.4502\n",
            "Epoch 50/50\n",
            "132/132 [==============================] - 2s 12ms/step - loss: 0.4757 - mae: 0.5563 - mse: 0.4757 - val_loss: 0.4564 - val_mae: 0.5294 - val_mse: 0.4564\n"
          ]
        }
      ]
    },
    {
      "cell_type": "code",
      "source": [
        "def plot_history(histories, key='mse'):\n",
        "  plt.figure(figsize=(16,10))\n",
        "\n",
        "  for name, history in histories:\n",
        "    print(history)\n",
        "    print(name)\n",
        "    val = plt.plot(history.epoch, history.history['val_'+key],\n",
        "                   '--', label=name.title()+' Val')\n",
        "    plt.plot(history.epoch, history.history[key], color=val[0].get_color(),\n",
        "             label=name.title()+' Train')\n",
        "\n",
        "  plt.xlabel('Epochs')\n",
        "  plt.ylabel(key.replace('_',' ').title())\n",
        "  plt.legend()\n",
        "\n",
        "  plt.xlim([0,max(history.epoch)])\n",
        "\n",
        "\n",
        "plot_history([('baseline', history),\n",
        "              ('smaller', smaller_history),\n",
        "              ('bigger', bigger_history)])\n"
      ],
      "metadata": {
        "colab": {
          "base_uri": "https://localhost:8080/",
          "height": 713
        },
        "id": "Ttg51D3b1Gcm",
        "outputId": "0467ddd4-e612-4f3d-eabd-4431856afbf9"
      },
      "execution_count": null,
      "outputs": [
        {
          "output_type": "stream",
          "name": "stdout",
          "text": [
            "<keras.callbacks.History object at 0x7f714b0b5f50>\n",
            "baseline\n",
            "<keras.callbacks.History object at 0x7f714b19ae50>\n",
            "smaller\n",
            "<keras.callbacks.History object at 0x7f714bbf47d0>\n",
            "bigger\n"
          ]
        },
        {
          "output_type": "display_data",
          "data": {
            "text/plain": [
              "<Figure size 1152x720 with 1 Axes>"
            ],
            "image/png": "[encoded data removed]"
          },
          "metadata": {
            "needs_background": "light"
          }
        }
      ]
    },
    {
      "cell_type": "code",
      "source": [
        "# weight\n",
        "tf.random.set_seed(42)\n",
        "L2_model = tf.keras.Sequential([\n",
        "                            tf.keras.layers.Dense(64, activation = tf.keras.activations.relu,\n",
        "                                                  kernel_regularizer=keras.regularizers.l2(0.001),  input_shape=[1]),\n",
        "                             tf.keras.layers.Dense(64, activation = tf.keras.activations.relu,\n",
        "                                                   kernel_regularizer=keras.regularizers.l2(0.001)),\n",
        "                             tf.keras.layers.Dense(64, activation = tf.keras.activations.relu,\n",
        "                                                   kernel_regularizer=keras.regularizers.l2(0.001)),                  \n",
        "                             tf.keras.layers.Dense(1)\n",
        "                            \n",
        "])\n",
        "L2_model.compile(loss=tf.keras.losses.mean_squared_error, optimizer = tf.keras.optimizers.Adam(),\n",
        "              metrics=['mae', 'mse'])\n",
        "\n",
        "L2_history = L2_model.fit(X_train.reshape(-1,1), y_train, epochs = 50, batch_size = 32, validation_data = (X_test, y_test))"
      ],
      "metadata": {
        "colab": {
          "base_uri": "https://localhost:8080/"
        },
        "id": "ZiZLQnSpa_TO",
        "outputId": "41932e3a-b9d3-418f-88b8-50de3ff14fcb"
      },
      "execution_count": null,
      "outputs": [
        {
          "output_type": "stream",
          "name": "stdout",
          "text": [
            "Epoch 1/50\n",
            "132/132 [==============================] - 1s 4ms/step - loss: 0.8199 - mae: 0.7283 - mse: 0.7475 - val_loss: 0.8027 - val_mae: 0.7521 - val_mse: 0.7616\n",
            "Epoch 2/50\n",
            "132/132 [==============================] - 1s 4ms/step - loss: 0.7404 - mae: 0.7073 - mse: 0.7070 - val_loss: 0.7177 - val_mae: 0.7185 - val_mse: 0.6882\n",
            "Epoch 3/50\n",
            "132/132 [==============================] - 0s 3ms/step - loss: 0.6950 - mae: 0.6972 - mse: 0.6663 - val_loss: 0.7700 - val_mae: 0.7427 - val_mse: 0.7419\n",
            "Epoch 4/50\n",
            "132/132 [==============================] - 0s 4ms/step - loss: 0.7096 - mae: 0.7040 - mse: 0.6818 - val_loss: 0.7022 - val_mae: 0.7111 - val_mse: 0.6747\n",
            "Epoch 5/50\n",
            "132/132 [==============================] - 0s 3ms/step - loss: 0.6851 - mae: 0.6940 - mse: 0.6578 - val_loss: 0.6948 - val_mae: 0.7069 - val_mse: 0.6677\n",
            "Epoch 6/50\n",
            "132/132 [==============================] - 0s 3ms/step - loss: 0.6927 - mae: 0.6960 - mse: 0.6658 - val_loss: 0.6763 - val_mae: 0.6869 - val_mse: 0.6497\n",
            "Epoch 7/50\n",
            "132/132 [==============================] - 0s 3ms/step - loss: 0.6898 - mae: 0.6925 - mse: 0.6633 - val_loss: 0.6750 - val_mae: 0.6838 - val_mse: 0.6488\n",
            "Epoch 8/50\n",
            "132/132 [==============================] - 1s 10ms/step - loss: 0.6752 - mae: 0.6881 - mse: 0.6491 - val_loss: 0.6738 - val_mae: 0.6914 - val_mse: 0.6479\n",
            "Epoch 9/50\n",
            "132/132 [==============================] - 0s 4ms/step - loss: 0.6833 - mae: 0.6889 - mse: 0.6576 - val_loss: 0.6762 - val_mae: 0.6795 - val_mse: 0.6508\n",
            "Epoch 10/50\n",
            "132/132 [==============================] - 1s 10ms/step - loss: 0.6693 - mae: 0.6853 - mse: 0.6441 - val_loss: 0.6937 - val_mae: 0.7072 - val_mse: 0.6686\n",
            "Epoch 11/50\n",
            "132/132 [==============================] - 0s 3ms/step - loss: 0.6682 - mae: 0.6845 - mse: 0.6433 - val_loss: 0.6664 - val_mae: 0.6890 - val_mse: 0.6417\n",
            "Epoch 12/50\n",
            "132/132 [==============================] - 0s 3ms/step - loss: 0.6614 - mae: 0.6805 - mse: 0.6368 - val_loss: 0.6622 - val_mae: 0.6752 - val_mse: 0.6376\n",
            "Epoch 13/50\n",
            "132/132 [==============================] - 0s 4ms/step - loss: 0.6569 - mae: 0.6786 - mse: 0.6325 - val_loss: 0.6942 - val_mae: 0.7068 - val_mse: 0.6700\n",
            "Epoch 14/50\n",
            "132/132 [==============================] - 0s 3ms/step - loss: 0.6540 - mae: 0.6767 - mse: 0.6300 - val_loss: 0.6785 - val_mae: 0.6711 - val_mse: 0.6547\n",
            "Epoch 15/50\n",
            "132/132 [==============================] - 1s 4ms/step - loss: 0.6606 - mae: 0.6800 - mse: 0.6370 - val_loss: 0.6572 - val_mae: 0.6856 - val_mse: 0.6337\n",
            "Epoch 16/50\n",
            "132/132 [==============================] - 0s 3ms/step - loss: 0.6591 - mae: 0.6779 - mse: 0.6358 - val_loss: 0.6626 - val_mae: 0.6904 - val_mse: 0.6395\n",
            "Epoch 17/50\n",
            "132/132 [==============================] - 0s 3ms/step - loss: 0.6482 - mae: 0.6745 - mse: 0.6252 - val_loss: 0.6629 - val_mae: 0.6651 - val_mse: 0.6401\n",
            "Epoch 18/50\n",
            "132/132 [==============================] - 0s 3ms/step - loss: 0.6396 - mae: 0.6693 - mse: 0.6171 - val_loss: 0.6418 - val_mae: 0.6634 - val_mse: 0.6194\n",
            "Epoch 19/50\n",
            "132/132 [==============================] - 0s 3ms/step - loss: 0.6419 - mae: 0.6686 - mse: 0.6196 - val_loss: 0.6488 - val_mae: 0.6590 - val_mse: 0.6267\n",
            "Epoch 20/50\n",
            "132/132 [==============================] - 0s 3ms/step - loss: 0.6345 - mae: 0.6645 - mse: 0.6126 - val_loss: 0.6783 - val_mae: 0.6982 - val_mse: 0.6566\n",
            "Epoch 21/50\n",
            "132/132 [==============================] - 0s 3ms/step - loss: 0.6345 - mae: 0.6637 - mse: 0.6129 - val_loss: 0.6538 - val_mae: 0.6853 - val_mse: 0.6324\n",
            "Epoch 22/50\n",
            "132/132 [==============================] - 0s 3ms/step - loss: 0.6390 - mae: 0.6646 - mse: 0.6179 - val_loss: 0.6773 - val_mae: 0.6978 - val_mse: 0.6563\n",
            "Epoch 23/50\n",
            "132/132 [==============================] - 0s 3ms/step - loss: 0.6254 - mae: 0.6603 - mse: 0.6046 - val_loss: 0.6718 - val_mae: 0.6949 - val_mse: 0.6511\n",
            "Epoch 24/50\n",
            "132/132 [==============================] - 0s 3ms/step - loss: 0.6253 - mae: 0.6597 - mse: 0.6048 - val_loss: 0.6372 - val_mae: 0.6760 - val_mse: 0.6169\n",
            "Epoch 25/50\n",
            "132/132 [==============================] - 1s 4ms/step - loss: 0.6111 - mae: 0.6528 - mse: 0.5910 - val_loss: 0.6193 - val_mae: 0.6640 - val_mse: 0.5993\n",
            "Epoch 26/50\n",
            "132/132 [==============================] - 0s 4ms/step - loss: 0.6068 - mae: 0.6482 - mse: 0.5871 - val_loss: 0.6255 - val_mae: 0.6687 - val_mse: 0.6059\n",
            "Epoch 27/50\n",
            "132/132 [==============================] - 1s 4ms/step - loss: 0.6173 - mae: 0.6553 - mse: 0.5979 - val_loss: 0.6160 - val_mae: 0.6350 - val_mse: 0.5967\n",
            "Epoch 28/50\n",
            "132/132 [==============================] - 0s 3ms/step - loss: 0.6055 - mae: 0.6467 - mse: 0.5864 - val_loss: 0.6522 - val_mae: 0.6366 - val_mse: 0.6334\n",
            "Epoch 29/50\n",
            "132/132 [==============================] - 0s 3ms/step - loss: 0.6131 - mae: 0.6470 - mse: 0.5944 - val_loss: 0.5944 - val_mae: 0.6460 - val_mse: 0.5759\n",
            "Epoch 30/50\n",
            "132/132 [==============================] - 0s 3ms/step - loss: 0.5860 - mae: 0.6359 - mse: 0.5676 - val_loss: 0.6753 - val_mae: 0.7031 - val_mse: 0.6571\n",
            "Epoch 31/50\n",
            "132/132 [==============================] - 0s 3ms/step - loss: 0.5867 - mae: 0.6338 - mse: 0.5687 - val_loss: 0.5827 - val_mae: 0.6392 - val_mse: 0.5649\n",
            "Epoch 32/50\n",
            "132/132 [==============================] - 0s 4ms/step - loss: 0.5872 - mae: 0.6333 - mse: 0.5696 - val_loss: 0.6139 - val_mae: 0.6643 - val_mse: 0.5965\n",
            "Epoch 33/50\n",
            "132/132 [==============================] - 0s 3ms/step - loss: 0.5720 - mae: 0.6240 - mse: 0.5547 - val_loss: 0.5647 - val_mae: 0.6126 - val_mse: 0.5476\n",
            "Epoch 34/50\n",
            "132/132 [==============================] - 0s 3ms/step - loss: 0.5588 - mae: 0.6160 - mse: 0.5419 - val_loss: 0.5694 - val_mae: 0.5977 - val_mse: 0.5527\n",
            "Epoch 35/50\n",
            "132/132 [==============================] - 0s 3ms/step - loss: 0.5656 - mae: 0.6168 - mse: 0.5491 - val_loss: 0.6200 - val_mae: 0.6723 - val_mse: 0.6037\n",
            "Epoch 36/50\n",
            "132/132 [==============================] - 0s 4ms/step - loss: 0.5590 - mae: 0.6114 - mse: 0.5428 - val_loss: 0.5804 - val_mae: 0.6443 - val_mse: 0.5644\n",
            "Epoch 37/50\n",
            "132/132 [==============================] - 0s 3ms/step - loss: 0.5480 - mae: 0.6051 - mse: 0.5322 - val_loss: 0.5613 - val_mae: 0.6294 - val_mse: 0.5457\n",
            "Epoch 38/50\n",
            "132/132 [==============================] - 0s 3ms/step - loss: 0.5435 - mae: 0.6007 - mse: 0.5281 - val_loss: 0.5250 - val_mae: 0.5874 - val_mse: 0.5098\n",
            "Epoch 39/50\n",
            "132/132 [==============================] - 0s 4ms/step - loss: 0.5395 - mae: 0.5977 - mse: 0.5245 - val_loss: 0.5231 - val_mae: 0.5934 - val_mse: 0.5082\n",
            "Epoch 40/50\n",
            "132/132 [==============================] - 0s 3ms/step - loss: 0.5277 - mae: 0.5900 - mse: 0.5131 - val_loss: 0.5223 - val_mae: 0.5675 - val_mse: 0.5078\n",
            "Epoch 41/50\n",
            "132/132 [==============================] - 0s 4ms/step - loss: 0.5331 - mae: 0.5898 - mse: 0.5188 - val_loss: 0.5189 - val_mae: 0.5628 - val_mse: 0.5048\n",
            "Epoch 42/50\n",
            "132/132 [==============================] - 0s 3ms/step - loss: 0.5140 - mae: 0.5776 - mse: 0.5000 - val_loss: 0.5001 - val_mae: 0.5667 - val_mse: 0.4864\n",
            "Epoch 43/50\n",
            "132/132 [==============================] - 0s 4ms/step - loss: 0.5355 - mae: 0.5916 - mse: 0.5219 - val_loss: 0.5227 - val_mae: 0.5552 - val_mse: 0.5093\n",
            "Epoch 44/50\n",
            "132/132 [==============================] - 0s 3ms/step - loss: 0.5056 - mae: 0.5716 - mse: 0.4924 - val_loss: 0.5084 - val_mae: 0.5864 - val_mse: 0.4954\n",
            "Epoch 45/50\n",
            "132/132 [==============================] - 0s 3ms/step - loss: 0.4934 - mae: 0.5625 - mse: 0.4805 - val_loss: 0.4898 - val_mae: 0.5643 - val_mse: 0.4772\n",
            "Epoch 46/50\n",
            "132/132 [==============================] - 0s 4ms/step - loss: 0.5006 - mae: 0.5672 - mse: 0.4881 - val_loss: 0.4806 - val_mae: 0.5503 - val_mse: 0.4683\n",
            "Epoch 47/50\n",
            "132/132 [==============================] - 0s 3ms/step - loss: 0.4963 - mae: 0.5639 - mse: 0.4841 - val_loss: 0.5171 - val_mae: 0.6030 - val_mse: 0.5052\n",
            "Epoch 48/50\n",
            "132/132 [==============================] - 0s 3ms/step - loss: 0.4833 - mae: 0.5554 - mse: 0.4716 - val_loss: 0.5112 - val_mae: 0.5394 - val_mse: 0.4996\n",
            "Epoch 49/50\n",
            "132/132 [==============================] - 0s 3ms/step - loss: 0.4798 - mae: 0.5499 - mse: 0.4683 - val_loss: 0.4844 - val_mae: 0.5335 - val_mse: 0.4732\n",
            "Epoch 50/50\n",
            "132/132 [==============================] - 0s 3ms/step - loss: 0.4830 - mae: 0.5548 - mse: 0.4719 - val_loss: 0.4813 - val_mae: 0.5326 - val_mse: 0.4704\n"
          ]
        }
      ]
    },
    {
      "cell_type": "code",
      "source": [
        "# 과대적합 찾기\n",
        "tf.random.set_seed(42)\n",
        "middle_model = tf.keras.Sequential([\n",
        "                            tf.keras.layers.Dense(256, activation = tf.keras.activations.relu, input_shape=[1]),\n",
        "                             tf.keras.layers.Dense(256, activation = tf.keras.activations.relu),\n",
        "                             tf.keras.layers.Dense(256, activation = tf.keras.activations.relu),                  \n",
        "                             tf.keras.layers.Dense(1)\n",
        "                            \n",
        "])\n",
        "middle_model.compile(loss=tf.keras.losses.mean_squared_error, optimizer = tf.keras.optimizers.Adam(),\n",
        "              metrics=['mae', 'mse'])\n",
        "\n",
        "middle_history = middle_model.fit(X_train.reshape(-1,1), y_train, epochs = 50, batch_size = 32, validation_data = (X_test, y_test))"
      ],
      "metadata": {
        "id": "jLRaDtk_hf2Y",
        "colab": {
          "base_uri": "https://localhost:8080/"
        },
        "outputId": "8782e8c6-fdf8-4f27-c4a3-ac3c25a1bc2e"
      },
      "execution_count": null,
      "outputs": [
        {
          "output_type": "stream",
          "name": "stdout",
          "text": [
            "Epoch 1/50\n",
            "132/132 [==============================] - 1s 6ms/step - loss: 1.2888 - mae: 0.8623 - mse: 1.2888 - val_loss: 0.6704 - val_mae: 0.7057 - val_mse: 0.6704\n",
            "Epoch 2/50\n",
            "132/132 [==============================] - 1s 5ms/step - loss: 0.7372 - mae: 0.7219 - mse: 0.7372 - val_loss: 0.6999 - val_mae: 0.7240 - val_mse: 0.6999\n",
            "Epoch 3/50\n",
            "132/132 [==============================] - 1s 5ms/step - loss: 0.7081 - mae: 0.7135 - mse: 0.7081 - val_loss: 0.6608 - val_mae: 0.6966 - val_mse: 0.6608\n",
            "Epoch 4/50\n",
            "132/132 [==============================] - 1s 5ms/step - loss: 0.7023 - mae: 0.7109 - mse: 0.7023 - val_loss: 0.6936 - val_mae: 0.7207 - val_mse: 0.6936\n",
            "Epoch 5/50\n",
            "132/132 [==============================] - 1s 5ms/step - loss: 0.6657 - mae: 0.6975 - mse: 0.6657 - val_loss: 0.6684 - val_mae: 0.7070 - val_mse: 0.6684\n",
            "Epoch 6/50\n",
            "132/132 [==============================] - 1s 5ms/step - loss: 0.6764 - mae: 0.7002 - mse: 0.6764 - val_loss: 0.6639 - val_mae: 0.6861 - val_mse: 0.6639\n",
            "Epoch 7/50\n",
            "132/132 [==============================] - 1s 5ms/step - loss: 0.6668 - mae: 0.6943 - mse: 0.6668 - val_loss: 0.6530 - val_mae: 0.6859 - val_mse: 0.6530\n",
            "Epoch 8/50\n",
            "132/132 [==============================] - 1s 5ms/step - loss: 0.6520 - mae: 0.6900 - mse: 0.6520 - val_loss: 0.6497 - val_mae: 0.6921 - val_mse: 0.6497\n",
            "Epoch 9/50\n",
            "132/132 [==============================] - 1s 5ms/step - loss: 0.6568 - mae: 0.6898 - mse: 0.6568 - val_loss: 0.6528 - val_mae: 0.6969 - val_mse: 0.6528\n",
            "Epoch 10/50\n",
            "132/132 [==============================] - 1s 5ms/step - loss: 0.6520 - mae: 0.6873 - mse: 0.6520 - val_loss: 0.7151 - val_mae: 0.7293 - val_mse: 0.7151\n",
            "Epoch 11/50\n",
            "132/132 [==============================] - 1s 5ms/step - loss: 0.6518 - mae: 0.6885 - mse: 0.6518 - val_loss: 0.6675 - val_mae: 0.7065 - val_mse: 0.6675\n",
            "Epoch 12/50\n",
            "132/132 [==============================] - 1s 5ms/step - loss: 0.6467 - mae: 0.6855 - mse: 0.6467 - val_loss: 0.6359 - val_mae: 0.6821 - val_mse: 0.6359\n",
            "Epoch 13/50\n",
            "132/132 [==============================] - 1s 5ms/step - loss: 0.6436 - mae: 0.6834 - mse: 0.6436 - val_loss: 0.8299 - val_mae: 0.7835 - val_mse: 0.8299\n",
            "Epoch 14/50\n",
            "132/132 [==============================] - 1s 5ms/step - loss: 0.6485 - mae: 0.6863 - mse: 0.6485 - val_loss: 0.7729 - val_mae: 0.7046 - val_mse: 0.7729\n",
            "Epoch 15/50\n",
            "132/132 [==============================] - 1s 4ms/step - loss: 0.6564 - mae: 0.6878 - mse: 0.6564 - val_loss: 0.6660 - val_mae: 0.7048 - val_mse: 0.6660\n",
            "Epoch 16/50\n",
            "132/132 [==============================] - 1s 5ms/step - loss: 0.6456 - mae: 0.6833 - mse: 0.6456 - val_loss: 0.6391 - val_mae: 0.6898 - val_mse: 0.6391\n",
            "Epoch 17/50\n",
            "132/132 [==============================] - 1s 5ms/step - loss: 0.6664 - mae: 0.6919 - mse: 0.6664 - val_loss: 0.6388 - val_mae: 0.6898 - val_mse: 0.6388\n",
            "Epoch 18/50\n",
            "132/132 [==============================] - 1s 5ms/step - loss: 0.6237 - mae: 0.6739 - mse: 0.6237 - val_loss: 0.6755 - val_mae: 0.6687 - val_mse: 0.6755\n",
            "Epoch 19/50\n",
            "132/132 [==============================] - 1s 5ms/step - loss: 0.6460 - mae: 0.6810 - mse: 0.6460 - val_loss: 0.6221 - val_mae: 0.6761 - val_mse: 0.6221\n",
            "Epoch 20/50\n",
            "132/132 [==============================] - 1s 5ms/step - loss: 0.6304 - mae: 0.6744 - mse: 0.6304 - val_loss: 0.6760 - val_mae: 0.7087 - val_mse: 0.6760\n",
            "Epoch 21/50\n",
            "132/132 [==============================] - 1s 5ms/step - loss: 0.6288 - mae: 0.6716 - mse: 0.6288 - val_loss: 0.6424 - val_mae: 0.6915 - val_mse: 0.6424\n",
            "Epoch 22/50\n",
            "132/132 [==============================] - 1s 5ms/step - loss: 0.6317 - mae: 0.6710 - mse: 0.6317 - val_loss: 0.7702 - val_mae: 0.7584 - val_mse: 0.7702\n",
            "Epoch 23/50\n",
            "132/132 [==============================] - 1s 5ms/step - loss: 0.6199 - mae: 0.6672 - mse: 0.6199 - val_loss: 0.6064 - val_mae: 0.6648 - val_mse: 0.6064\n",
            "Epoch 24/50\n",
            "132/132 [==============================] - 1s 5ms/step - loss: 0.6238 - mae: 0.6682 - mse: 0.6238 - val_loss: 0.6047 - val_mae: 0.6656 - val_mse: 0.6047\n",
            "Epoch 25/50\n",
            "132/132 [==============================] - 1s 5ms/step - loss: 0.5962 - mae: 0.6552 - mse: 0.5962 - val_loss: 0.6087 - val_mae: 0.6708 - val_mse: 0.6087\n",
            "Epoch 26/50\n",
            "132/132 [==============================] - 1s 5ms/step - loss: 0.5904 - mae: 0.6512 - mse: 0.5904 - val_loss: 0.6018 - val_mae: 0.6662 - val_mse: 0.6018\n",
            "Epoch 27/50\n",
            "132/132 [==============================] - 1s 5ms/step - loss: 0.6050 - mae: 0.6553 - mse: 0.6050 - val_loss: 0.6546 - val_mae: 0.6993 - val_mse: 0.6546\n",
            "Epoch 28/50\n",
            "132/132 [==============================] - 1s 5ms/step - loss: 0.5909 - mae: 0.6479 - mse: 0.5909 - val_loss: 0.5789 - val_mae: 0.6432 - val_mse: 0.5789\n",
            "Epoch 29/50\n",
            "132/132 [==============================] - 1s 5ms/step - loss: 0.5879 - mae: 0.6445 - mse: 0.5879 - val_loss: 0.5901 - val_mae: 0.6579 - val_mse: 0.5901\n",
            "Epoch 30/50\n",
            "132/132 [==============================] - 1s 5ms/step - loss: 0.5867 - mae: 0.6424 - mse: 0.5867 - val_loss: 0.6352 - val_mae: 0.6896 - val_mse: 0.6352\n",
            "Epoch 31/50\n",
            "132/132 [==============================] - 1s 5ms/step - loss: 0.5789 - mae: 0.6387 - mse: 0.5789 - val_loss: 0.5705 - val_mae: 0.6440 - val_mse: 0.5705\n",
            "Epoch 32/50\n",
            "132/132 [==============================] - 1s 5ms/step - loss: 0.5677 - mae: 0.6333 - mse: 0.5677 - val_loss: 0.5579 - val_mae: 0.6339 - val_mse: 0.5579\n",
            "Epoch 33/50\n",
            "132/132 [==============================] - 1s 4ms/step - loss: 0.5771 - mae: 0.6336 - mse: 0.5771 - val_loss: 0.5690 - val_mae: 0.6129 - val_mse: 0.5690\n",
            "Epoch 34/50\n",
            "132/132 [==============================] - 1s 5ms/step - loss: 0.5494 - mae: 0.6187 - mse: 0.5494 - val_loss: 0.5480 - val_mae: 0.6277 - val_mse: 0.5480\n",
            "Epoch 35/50\n",
            "132/132 [==============================] - 1s 5ms/step - loss: 0.5500 - mae: 0.6164 - mse: 0.5500 - val_loss: 0.6225 - val_mae: 0.6837 - val_mse: 0.6225\n",
            "Epoch 36/50\n",
            "132/132 [==============================] - 1s 5ms/step - loss: 0.5514 - mae: 0.6162 - mse: 0.5514 - val_loss: 0.5210 - val_mae: 0.5992 - val_mse: 0.5210\n",
            "Epoch 37/50\n",
            "132/132 [==============================] - 1s 5ms/step - loss: 0.5357 - mae: 0.6076 - mse: 0.5357 - val_loss: 0.6020 - val_mae: 0.6712 - val_mse: 0.6020\n",
            "Epoch 38/50\n",
            "132/132 [==============================] - 1s 5ms/step - loss: 0.5509 - mae: 0.6139 - mse: 0.5509 - val_loss: 0.5309 - val_mae: 0.6128 - val_mse: 0.5309\n",
            "Epoch 39/50\n",
            "132/132 [==============================] - 1s 5ms/step - loss: 0.5321 - mae: 0.6046 - mse: 0.5321 - val_loss: 0.5235 - val_mae: 0.5751 - val_mse: 0.5235\n",
            "Epoch 40/50\n",
            "132/132 [==============================] - 1s 5ms/step - loss: 0.5167 - mae: 0.5933 - mse: 0.5167 - val_loss: 0.5031 - val_mae: 0.5717 - val_mse: 0.5031\n",
            "Epoch 41/50\n",
            "132/132 [==============================] - 1s 5ms/step - loss: 0.5247 - mae: 0.5938 - mse: 0.5247 - val_loss: 0.4968 - val_mae: 0.5713 - val_mse: 0.4968\n",
            "Epoch 42/50\n",
            "132/132 [==============================] - 1s 5ms/step - loss: 0.5142 - mae: 0.5871 - mse: 0.5142 - val_loss: 0.5283 - val_mae: 0.6183 - val_mse: 0.5283\n",
            "Epoch 43/50\n",
            "132/132 [==============================] - 1s 5ms/step - loss: 0.5248 - mae: 0.5930 - mse: 0.5248 - val_loss: 0.5789 - val_mae: 0.5859 - val_mse: 0.5789\n",
            "Epoch 44/50\n",
            "132/132 [==============================] - 1s 5ms/step - loss: 0.5089 - mae: 0.5814 - mse: 0.5089 - val_loss: 0.4810 - val_mae: 0.5627 - val_mse: 0.4810\n",
            "Epoch 45/50\n",
            "132/132 [==============================] - 1s 5ms/step - loss: 0.4890 - mae: 0.5685 - mse: 0.4890 - val_loss: 0.4821 - val_mae: 0.5708 - val_mse: 0.4821\n",
            "Epoch 46/50\n",
            "132/132 [==============================] - 1s 5ms/step - loss: 0.4971 - mae: 0.5739 - mse: 0.4971 - val_loss: 0.4742 - val_mae: 0.5609 - val_mse: 0.4742\n",
            "Epoch 47/50\n",
            "132/132 [==============================] - 1s 5ms/step - loss: 0.5044 - mae: 0.5763 - mse: 0.5044 - val_loss: 0.4847 - val_mae: 0.5772 - val_mse: 0.4847\n",
            "Epoch 48/50\n",
            "132/132 [==============================] - 1s 5ms/step - loss: 0.4764 - mae: 0.5578 - mse: 0.4764 - val_loss: 0.5289 - val_mae: 0.5535 - val_mse: 0.5289\n",
            "Epoch 49/50\n",
            "132/132 [==============================] - 1s 6ms/step - loss: 0.4778 - mae: 0.5577 - mse: 0.4778 - val_loss: 0.4577 - val_mae: 0.5419 - val_mse: 0.4577\n",
            "Epoch 50/50\n",
            "132/132 [==============================] - 1s 5ms/step - loss: 0.4821 - mae: 0.5635 - mse: 0.4821 - val_loss: 0.4767 - val_mae: 0.5434 - val_mse: 0.4767\n"
          ]
        }
      ]
    },
    {
      "cell_type": "code",
      "source": [],
      "metadata": {
        "id": "DUaepdRucBcR"
      },
      "execution_count": null,
      "outputs": []
    },
    {
      "cell_type": "markdown",
      "source": [
        "Dropout"
      ],
      "metadata": {
        "id": "N5LxG44qboIy"
      }
    },
    {
      "cell_type": "code",
      "source": [
        "# weight\n",
        "tf.random.set_seed(42)\n",
        "dpt_model = tf.keras.Sequential([\n",
        "                            tf.keras.layers.Dense(64, activation = tf.keras.activations.relu,  input_shape=[1]),\n",
        "                            keras.layers.Dropout(0.5),\n",
        "                             tf.keras.layers.Dense(64, activation = tf.keras.activations.relu),\n",
        "                             keras.layers.Dropout(0.5),\n",
        "                             tf.keras.layers.Dense(64, activation = tf.keras.activations.relu),  \n",
        "                             keras.layers.Dropout(0.5),              \n",
        "                             tf.keras.layers.Dense(1)\n",
        "                            \n",
        "])\n",
        "dpt_model.compile(loss=tf.keras.losses.mean_squared_error, optimizer = tf.keras.optimizers.Adam(),\n",
        "              metrics=['mae', 'mse'])\n",
        "\n",
        "dpt_history = dpt_model.fit(X_train.reshape(-1,1), y_train, epochs = 50, batch_size = 32, validation_data = (X_test, y_test))"
      ],
      "metadata": {
        "id": "ivk_2cm7cFd5",
        "colab": {
          "base_uri": "https://localhost:8080/"
        },
        "outputId": "203bcbf2-7439-4a35-d0a1-ea9bad91c173"
      },
      "execution_count": null,
      "outputs": [
        {
          "output_type": "stream",
          "name": "stdout",
          "text": [
            "Epoch 1/50\n",
            "132/132 [==============================] - 1s 6ms/step - loss: 17.8830 - mae: 3.0243 - mse: 17.8830 - val_loss: 3.0418 - val_mae: 1.5171 - val_mse: 3.0418\n",
            "Epoch 2/50\n",
            "132/132 [==============================] - 1s 4ms/step - loss: 3.5861 - mae: 1.4950 - mse: 3.5861 - val_loss: 2.6797 - val_mae: 1.3916 - val_mse: 2.6797\n",
            "Epoch 3/50\n",
            "132/132 [==============================] - 0s 3ms/step - loss: 2.2512 - mae: 1.1997 - mse: 2.2512 - val_loss: 2.2914 - val_mae: 1.2585 - val_mse: 2.2914\n",
            "Epoch 4/50\n",
            "132/132 [==============================] - 0s 3ms/step - loss: 1.6931 - mae: 1.0430 - mse: 1.6931 - val_loss: 1.9183 - val_mae: 1.1315 - val_mse: 1.9183\n",
            "Epoch 5/50\n",
            "132/132 [==============================] - 0s 3ms/step - loss: 1.4144 - mae: 0.9620 - mse: 1.4144 - val_loss: 1.7190 - val_mae: 1.0653 - val_mse: 1.7190\n",
            "Epoch 6/50\n",
            "132/132 [==============================] - 0s 4ms/step - loss: 1.2846 - mae: 0.9256 - mse: 1.2846 - val_loss: 1.4881 - val_mae: 0.9863 - val_mse: 1.4881\n",
            "Epoch 7/50\n",
            "132/132 [==============================] - 1s 4ms/step - loss: 1.1627 - mae: 0.8902 - mse: 1.1627 - val_loss: 1.3641 - val_mae: 0.9435 - val_mse: 1.3641\n",
            "Epoch 8/50\n",
            "132/132 [==============================] - 0s 3ms/step - loss: 1.0932 - mae: 0.8611 - mse: 1.0932 - val_loss: 1.2569 - val_mae: 0.9061 - val_mse: 1.2569\n",
            "Epoch 9/50\n",
            "132/132 [==============================] - 1s 4ms/step - loss: 1.0361 - mae: 0.8419 - mse: 1.0361 - val_loss: 1.1970 - val_mae: 0.8855 - val_mse: 1.1970\n",
            "Epoch 10/50\n",
            "132/132 [==============================] - 0s 4ms/step - loss: 1.0012 - mae: 0.8323 - mse: 1.0012 - val_loss: 1.1282 - val_mae: 0.8612 - val_mse: 1.1282\n",
            "Epoch 11/50\n",
            "132/132 [==============================] - 0s 3ms/step - loss: 0.9734 - mae: 0.8207 - mse: 0.9734 - val_loss: 1.0685 - val_mae: 0.8408 - val_mse: 1.0685\n",
            "Epoch 12/50\n",
            "132/132 [==============================] - 0s 3ms/step - loss: 0.9274 - mae: 0.8054 - mse: 0.9274 - val_loss: 0.9980 - val_mae: 0.8169 - val_mse: 0.9980\n",
            "Epoch 13/50\n",
            "132/132 [==============================] - 0s 4ms/step - loss: 0.8950 - mae: 0.7945 - mse: 0.8950 - val_loss: 0.9477 - val_mae: 0.7995 - val_mse: 0.9477\n",
            "Epoch 14/50\n",
            "132/132 [==============================] - 0s 3ms/step - loss: 0.8641 - mae: 0.7819 - mse: 0.8641 - val_loss: 0.9181 - val_mae: 0.7884 - val_mse: 0.9181\n",
            "Epoch 15/50\n",
            "132/132 [==============================] - 0s 3ms/step - loss: 0.8522 - mae: 0.7770 - mse: 0.8522 - val_loss: 0.8958 - val_mae: 0.7820 - val_mse: 0.8958\n",
            "Epoch 16/50\n",
            "132/132 [==============================] - 0s 3ms/step - loss: 0.8383 - mae: 0.7754 - mse: 0.8383 - val_loss: 0.9012 - val_mae: 0.7823 - val_mse: 0.9012\n",
            "Epoch 17/50\n",
            "132/132 [==============================] - 0s 3ms/step - loss: 0.8195 - mae: 0.7672 - mse: 0.8195 - val_loss: 0.8394 - val_mae: 0.7661 - val_mse: 0.8394\n",
            "Epoch 18/50\n",
            "132/132 [==============================] - 0s 3ms/step - loss: 0.8058 - mae: 0.7615 - mse: 0.8058 - val_loss: 0.8282 - val_mae: 0.7632 - val_mse: 0.8282\n",
            "Epoch 19/50\n",
            "132/132 [==============================] - 0s 4ms/step - loss: 0.8074 - mae: 0.7663 - mse: 0.8074 - val_loss: 0.8080 - val_mae: 0.7579 - val_mse: 0.8080\n",
            "Epoch 20/50\n",
            "132/132 [==============================] - 0s 3ms/step - loss: 0.7928 - mae: 0.7620 - mse: 0.7928 - val_loss: 0.8088 - val_mae: 0.7573 - val_mse: 0.8088\n",
            "Epoch 21/50\n",
            "132/132 [==============================] - 0s 3ms/step - loss: 0.7878 - mae: 0.7563 - mse: 0.7878 - val_loss: 0.8065 - val_mae: 0.7562 - val_mse: 0.8065\n",
            "Epoch 22/50\n",
            "132/132 [==============================] - 1s 4ms/step - loss: 0.7733 - mae: 0.7528 - mse: 0.7733 - val_loss: 0.7835 - val_mae: 0.7497 - val_mse: 0.7835\n",
            "Epoch 23/50\n",
            "132/132 [==============================] - 1s 4ms/step - loss: 0.7644 - mae: 0.7465 - mse: 0.7644 - val_loss: 0.7706 - val_mae: 0.7472 - val_mse: 0.7706\n",
            "Epoch 24/50\n",
            "132/132 [==============================] - 0s 3ms/step - loss: 0.7619 - mae: 0.7482 - mse: 0.7619 - val_loss: 0.7660 - val_mae: 0.7460 - val_mse: 0.7660\n",
            "Epoch 25/50\n",
            "132/132 [==============================] - 0s 3ms/step - loss: 0.7625 - mae: 0.7484 - mse: 0.7625 - val_loss: 0.7622 - val_mae: 0.7450 - val_mse: 0.7622\n",
            "Epoch 26/50\n",
            "132/132 [==============================] - 0s 4ms/step - loss: 0.7551 - mae: 0.7439 - mse: 0.7551 - val_loss: 0.7570 - val_mae: 0.7434 - val_mse: 0.7570\n",
            "Epoch 27/50\n",
            "132/132 [==============================] - 0s 4ms/step - loss: 0.7530 - mae: 0.7448 - mse: 0.7530 - val_loss: 0.7535 - val_mae: 0.7423 - val_mse: 0.7535\n",
            "Epoch 28/50\n",
            "132/132 [==============================] - 0s 3ms/step - loss: 0.7507 - mae: 0.7434 - mse: 0.7507 - val_loss: 0.7501 - val_mae: 0.7423 - val_mse: 0.7501\n",
            "Epoch 29/50\n",
            "132/132 [==============================] - 0s 4ms/step - loss: 0.7424 - mae: 0.7401 - mse: 0.7424 - val_loss: 0.7461 - val_mae: 0.7436 - val_mse: 0.7461\n",
            "Epoch 30/50\n",
            "132/132 [==============================] - 0s 3ms/step - loss: 0.7452 - mae: 0.7413 - mse: 0.7452 - val_loss: 0.7457 - val_mae: 0.7426 - val_mse: 0.7457\n",
            "Epoch 31/50\n",
            "132/132 [==============================] - 0s 4ms/step - loss: 0.7407 - mae: 0.7403 - mse: 0.7407 - val_loss: 0.7442 - val_mae: 0.7437 - val_mse: 0.7442\n",
            "Epoch 32/50\n",
            "132/132 [==============================] - 0s 4ms/step - loss: 0.7331 - mae: 0.7385 - mse: 0.7331 - val_loss: 0.7433 - val_mae: 0.7435 - val_mse: 0.7433\n",
            "Epoch 33/50\n",
            "132/132 [==============================] - 0s 3ms/step - loss: 0.7359 - mae: 0.7388 - mse: 0.7359 - val_loss: 0.7431 - val_mae: 0.7435 - val_mse: 0.7431\n",
            "Epoch 34/50\n",
            "132/132 [==============================] - 0s 3ms/step - loss: 0.7320 - mae: 0.7369 - mse: 0.7320 - val_loss: 0.7432 - val_mae: 0.7429 - val_mse: 0.7432\n",
            "Epoch 35/50\n",
            "132/132 [==============================] - 0s 3ms/step - loss: 0.7346 - mae: 0.7387 - mse: 0.7346 - val_loss: 0.7422 - val_mae: 0.7429 - val_mse: 0.7422\n",
            "Epoch 36/50\n",
            "132/132 [==============================] - 0s 3ms/step - loss: 0.7349 - mae: 0.7376 - mse: 0.7349 - val_loss: 0.7424 - val_mae: 0.7435 - val_mse: 0.7424\n",
            "Epoch 37/50\n",
            "132/132 [==============================] - 0s 3ms/step - loss: 0.7287 - mae: 0.7354 - mse: 0.7287 - val_loss: 0.7418 - val_mae: 0.7431 - val_mse: 0.7418\n",
            "Epoch 38/50\n",
            "132/132 [==============================] - 0s 3ms/step - loss: 0.7314 - mae: 0.7377 - mse: 0.7314 - val_loss: 0.7424 - val_mae: 0.7434 - val_mse: 0.7424\n",
            "Epoch 39/50\n",
            "132/132 [==============================] - 1s 4ms/step - loss: 0.7310 - mae: 0.7369 - mse: 0.7310 - val_loss: 0.7445 - val_mae: 0.7467 - val_mse: 0.7445\n",
            "Epoch 40/50\n",
            "132/132 [==============================] - 0s 3ms/step - loss: 0.7308 - mae: 0.7370 - mse: 0.7308 - val_loss: 0.7448 - val_mae: 0.7470 - val_mse: 0.7448\n",
            "Epoch 41/50\n",
            "132/132 [==============================] - 0s 3ms/step - loss: 0.7297 - mae: 0.7361 - mse: 0.7297 - val_loss: 0.7462 - val_mae: 0.7480 - val_mse: 0.7462\n",
            "Epoch 42/50\n",
            "132/132 [==============================] - 0s 3ms/step - loss: 0.7280 - mae: 0.7367 - mse: 0.7280 - val_loss: 0.7435 - val_mae: 0.7456 - val_mse: 0.7435\n",
            "Epoch 43/50\n",
            "132/132 [==============================] - 0s 3ms/step - loss: 0.7278 - mae: 0.7361 - mse: 0.7278 - val_loss: 0.7451 - val_mae: 0.7473 - val_mse: 0.7451\n",
            "Epoch 44/50\n",
            "132/132 [==============================] - 1s 4ms/step - loss: 0.7279 - mae: 0.7357 - mse: 0.7279 - val_loss: 0.7479 - val_mae: 0.7490 - val_mse: 0.7479\n",
            "Epoch 45/50\n",
            "132/132 [==============================] - 1s 4ms/step - loss: 0.7265 - mae: 0.7352 - mse: 0.7265 - val_loss: 0.7468 - val_mae: 0.7484 - val_mse: 0.7468\n",
            "Epoch 46/50\n",
            "132/132 [==============================] - 0s 3ms/step - loss: 0.7252 - mae: 0.7349 - mse: 0.7252 - val_loss: 0.7473 - val_mae: 0.7487 - val_mse: 0.7473\n",
            "Epoch 47/50\n",
            "132/132 [==============================] - 0s 3ms/step - loss: 0.7267 - mae: 0.7354 - mse: 0.7267 - val_loss: 0.7477 - val_mae: 0.7489 - val_mse: 0.7477\n",
            "Epoch 48/50\n",
            "132/132 [==============================] - 0s 4ms/step - loss: 0.7260 - mae: 0.7347 - mse: 0.7260 - val_loss: 0.7451 - val_mae: 0.7474 - val_mse: 0.7451\n",
            "Epoch 49/50\n",
            "132/132 [==============================] - 0s 3ms/step - loss: 0.7251 - mae: 0.7343 - mse: 0.7251 - val_loss: 0.7452 - val_mae: 0.7474 - val_mse: 0.7452\n",
            "Epoch 50/50\n",
            "132/132 [==============================] - 0s 3ms/step - loss: 0.7263 - mae: 0.7347 - mse: 0.7263 - val_loss: 0.7465 - val_mae: 0.7482 - val_mse: 0.7465\n"
          ]
        }
      ]
    },
    {
      "cell_type": "code",
      "source": [
        "plot_history([('baseline', history),\n",
        "              ('middle', middle_history),\n",
        "              ('L2', L2_history)])"
      ],
      "metadata": {
        "id": "phLSPyM7cb7u",
        "colab": {
          "base_uri": "https://localhost:8080/",
          "height": 713
        },
        "outputId": "3b972b8f-c9a0-4f56-8cd0-41c67716e62a"
      },
      "execution_count": null,
      "outputs": [
        {
          "output_type": "stream",
          "name": "stdout",
          "text": [
            "<keras.callbacks.History object at 0x7f71503b2b50>\n",
            "baseline\n",
            "<keras.callbacks.History object at 0x7f714c1c9bd0>\n",
            "middle\n",
            "<keras.callbacks.History object at 0x7f714b12c050>\n",
            "L2\n"
          ]
        },
        {
          "output_type": "display_data",
          "data": {
            "text/plain": [
              "<Figure size 1152x720 with 1 Axes>"
            ],
            "image/png": "[encoded data removed]"
          },
          "metadata": {
            "needs_background": "light"
          }
        }
      ]
    },
    {
      "cell_type": "code",
      "source": [
        "plot_preds(traindata = X_train, trainlabels = y_train, testdata = X_test, testlabels = y_test, predictions = y_pred)"
      ],
      "metadata": {
        "id": "gpVjQGDriHcB",
        "colab": {
          "base_uri": "https://localhost:8080/",
          "height": 374
        },
        "outputId": "f3690df4-81f1-44ee-ab22-f61d5075a8e1"
      },
      "execution_count": null,
      "outputs": [
        {
          "output_type": "display_data",
          "data": {
            "text/plain": [
              "<Figure size 864x432 with 1 Axes>"
            ],
            "image/png": "[encoded data removed]"
          },
          "metadata": {
            "needs_background": "light"
          }
        }
      ]
    },
    {
      "cell_type": "code",
      "source": [
        "score = model.evaluate(X_test, y_test, batch_size=32)"
      ],
      "metadata": {
        "colab": {
          "base_uri": "https://localhost:8080/"
        },
        "id": "YHz8Dp8niQNq",
        "outputId": "92e86d33-f3d6-4e7c-cced-d242a3751e23"
      },
      "execution_count": null,
      "outputs": [
        {
          "output_type": "stream",
          "name": "stdout",
          "text": [
            "57/57 [==============================] - 0s 1ms/step - loss: 0.5625 - mae: 0.5672 - mse: 0.5625\n"
          ]
        }
      ]
    },
    {
      "cell_type": "markdown",
      "source": [
        "# Keras Tuner"
      ],
      "metadata": {
        "id": "fPoTSEuLdf6n"
      }
    },
    {
      "cell_type": "code",
      "source": [
        "import IPython"
      ],
      "metadata": {
        "id": "pet3ho0TdiLY"
      },
      "execution_count": null,
      "outputs": []
    },
    {
      "cell_type": "code",
      "source": [
        "!pip install -q -U keras-tuner\n",
        "import kerastuner as kt"
      ],
      "metadata": {
        "colab": {
          "base_uri": "https://localhost:8080/"
        },
        "id": "10mkARP8dkFw",
        "outputId": "43f693eb-29c0-4e0a-a907-a3065d78f064"
      },
      "execution_count": null,
      "outputs": [
        {
          "output_type": "stream",
          "name": "stdout",
          "text": [
            "\u001b[?25l\r\u001b[K     |██▍                             | 10 kB 16.4 MB/s eta 0:00:01\r\u001b[K     |████▉                           | 20 kB 19.9 MB/s eta 0:00:01\r\u001b[K     |███████▎                        | 30 kB 11.8 MB/s eta 0:00:01\r\u001b[K     |█████████▋                      | 40 kB 9.6 MB/s eta 0:00:01\r\u001b[K     |████████████                    | 51 kB 4.9 MB/s eta 0:00:01\r\u001b[K     |██████████████▌                 | 61 kB 5.6 MB/s eta 0:00:01\r\u001b[K     |█████████████████               | 71 kB 5.7 MB/s eta 0:00:01\r\u001b[K     |███████████████████▎            | 81 kB 4.3 MB/s eta 0:00:01\r\u001b[K     |█████████████████████▊          | 92 kB 4.8 MB/s eta 0:00:01\r\u001b[K     |████████████████████████▏       | 102 kB 5.2 MB/s eta 0:00:01\r\u001b[K     |██████████████████████████▋     | 112 kB 5.2 MB/s eta 0:00:01\r\u001b[K     |█████████████████████████████   | 122 kB 5.2 MB/s eta 0:00:01\r\u001b[K     |███████████████████████████████▍| 133 kB 5.2 MB/s eta 0:00:01\r\u001b[K     |████████████████████████████████| 135 kB 5.2 MB/s \n",
            "\u001b[?25h"
          ]
        },
        {
          "output_type": "stream",
          "name": "stderr",
          "text": [
            "/usr/local/lib/python3.7/dist-packages/ipykernel_launcher.py:2: DeprecationWarning: `import kerastuner` is deprecated, please use `import keras_tuner`.\n",
            "  \n"
          ]
        }
      ]
    },
    {
      "cell_type": "code",
      "source": [
        "def model_builder(hp):\n",
        "   model = keras.Sequential()\n",
        "    \n",
        "   # 첫번째 Dense 레이어 32~512까지 노드 수 조정\n",
        "   hp_unit = hp.Int('units', min_value=32, max_value=256, step=32)\n",
        "   model.add(tf.keras.layers.Dense(units=hp_unit, activation='relu'))\n",
        "   model.add(tf.keras.layers.Dense(units=hp_unit, activation='relu'))\n",
        "   model.add(tf.keras.layers.Dense(units=hp_unit, activation='relu'))\n",
        "   model.add(keras.layers.Dense(1))\n",
        "  \n",
        "   # 학습률(learning rate)을 조정[0.01, 0.001, 0.0001]\n",
        "   # hp.choice: 그 list 안에서 뽑는다.\n",
        "   hp_learning_rate = hp.Choice('learning_rate', values = [1e-2, 1e-3, 1e-4]) \n",
        "\n",
        "   opt = keras.optimizers.Adam(learning_rate=hp_learning_rate)\n",
        "   loss = tf.keras.losses.mean_squared_error\n",
        "   model.compile(optimizer= opt, loss=loss, metrics=['mse'])\n",
        "\n",
        "   return model"
      ],
      "metadata": {
        "id": "puH3oxufjnlN"
      },
      "execution_count": null,
      "outputs": []
    },
    {
      "cell_type": "code",
      "source": [
        "tuner = kt.Hyperband(model_builder,\n",
        "                     objective = 'val_mse', \n",
        "                     max_epochs = 30,\n",
        "                     factor=3,\n",
        "                     hyperband_iterations=2,\n",
        "                     directory = 'my_dir',\n",
        "                     project_name = 'iOS')"
      ],
      "metadata": {
        "id": "8xh5TH2fk5Sb"
      },
      "execution_count": null,
      "outputs": []
    },
    {
      "cell_type": "code",
      "source": [
        "class ClearTrainingOutput(tf.keras.callbacks.Callback):\n",
        "  def on_train_end(*args, **kwargs):\n",
        "    IPython.display.clear_output(wait = True)"
      ],
      "metadata": {
        "id": "pR6Kvexpl4se"
      },
      "execution_count": null,
      "outputs": []
    },
    {
      "cell_type": "code",
      "source": [
        "tuner.search(X_train.reshape(-1, 1), y_train, epochs = 50, validation_data = (X_test, y_test), callbacks = [ClearTrainingOutput()])\n",
        "\n",
        "# Get the optimal hyperparameters\n",
        "best_hps = tuner.get_best_hyperparameters(num_trials = 1)[0]\n",
        "\n",
        "print(f\"\"\"\n",
        "The hyperparameter search is complete. The optimal number of units in the first densely-connected\n",
        "layer is {best_hps.get('units')} and the optimal learning rate for the optimizer\n",
        "is {best_hps.get('learning_rate')}.\n",
        "\"\"\")"
      ],
      "metadata": {
        "colab": {
          "base_uri": "https://localhost:8080/"
        },
        "id": "VY4oEoNwfH8J",
        "outputId": "39ed7094-fa3f-49a7-fcd0-b7b2c9c73a67"
      },
      "execution_count": null,
      "outputs": [
        {
          "output_type": "stream",
          "name": "stdout",
          "text": [
            "Trial 22 Complete [00h 00m 01s]\n",
            "val_mse: 0.5553023815155029\n",
            "\n",
            "Best val_mse So Far: 0.5511124730110168\n",
            "Total elapsed time: 00h 01m 00s\n",
            "\n",
            "The hyperparameter search is complete. The optimal number of units in the first densely-connected\n",
            "layer is 64 and the optimal learning rate for the optimizer\n",
            "is 0.01.\n",
            "\n"
          ]
        }
      ]
    },
    {
      "cell_type": "code",
      "source": [
        "model_based_tuner = tuner.hypermodel.build(best_hps)\n",
        "model_based_tuner.fit(X_train.reshape(-1,1), y_train, batch_size=32, epochs=50, validation_data=(X_train,y_train))"
      ],
      "metadata": {
        "id": "EBIiYM46fP7E",
        "colab": {
          "base_uri": "https://localhost:8080/"
        },
        "outputId": "db3eb942-6645-4cbd-b6a3-64cfb4e01e64"
      },
      "execution_count": null,
      "outputs": [
        {
          "output_type": "stream",
          "name": "stdout",
          "text": [
            "Epoch 1/50\n",
            "22/22 [==============================] - 1s 14ms/step - loss: 9.8097 - mse: 9.8097 - val_loss: 0.5922 - val_mse: 0.5922\n",
            "Epoch 2/50\n",
            "22/22 [==============================] - 0s 5ms/step - loss: 0.6663 - mse: 0.6663 - val_loss: 0.7098 - val_mse: 0.7098\n",
            "Epoch 3/50\n",
            "22/22 [==============================] - 0s 4ms/step - loss: 0.6557 - mse: 0.6557 - val_loss: 0.6356 - val_mse: 0.6356\n",
            "Epoch 4/50\n",
            "22/22 [==============================] - 0s 4ms/step - loss: 0.6220 - mse: 0.6220 - val_loss: 0.6194 - val_mse: 0.6194\n",
            "Epoch 5/50\n",
            "22/22 [==============================] - 0s 8ms/step - loss: 0.6372 - mse: 0.6372 - val_loss: 0.6162 - val_mse: 0.6162\n",
            "Epoch 6/50\n",
            "22/22 [==============================] - 0s 8ms/step - loss: 0.6085 - mse: 0.6085 - val_loss: 0.6036 - val_mse: 0.6036\n",
            "Epoch 7/50\n",
            "22/22 [==============================] - 0s 6ms/step - loss: 0.5981 - mse: 0.5981 - val_loss: 0.5902 - val_mse: 0.5902\n",
            "Epoch 8/50\n",
            "22/22 [==============================] - 0s 6ms/step - loss: 0.6348 - mse: 0.6348 - val_loss: 0.6035 - val_mse: 0.6035\n",
            "Epoch 9/50\n",
            "22/22 [==============================] - 0s 4ms/step - loss: 0.5995 - mse: 0.5995 - val_loss: 0.5842 - val_mse: 0.5842\n",
            "Epoch 10/50\n",
            "22/22 [==============================] - 0s 4ms/step - loss: 0.5963 - mse: 0.5963 - val_loss: 0.6178 - val_mse: 0.6178\n",
            "Epoch 11/50\n",
            "22/22 [==============================] - 0s 11ms/step - loss: 0.6171 - mse: 0.6171 - val_loss: 0.6624 - val_mse: 0.6624\n",
            "Epoch 12/50\n",
            "22/22 [==============================] - 0s 8ms/step - loss: 0.6451 - mse: 0.6451 - val_loss: 0.5784 - val_mse: 0.5784\n",
            "Epoch 13/50\n",
            "22/22 [==============================] - 0s 8ms/step - loss: 0.6044 - mse: 0.6044 - val_loss: 0.6087 - val_mse: 0.6087\n",
            "Epoch 14/50\n",
            "22/22 [==============================] - 0s 6ms/step - loss: 0.6069 - mse: 0.6069 - val_loss: 0.6565 - val_mse: 0.6565\n",
            "Epoch 15/50\n",
            "22/22 [==============================] - 0s 10ms/step - loss: 0.6348 - mse: 0.6348 - val_loss: 0.5918 - val_mse: 0.5918\n",
            "Epoch 16/50\n",
            "22/22 [==============================] - 0s 9ms/step - loss: 0.5770 - mse: 0.5770 - val_loss: 0.5650 - val_mse: 0.5650\n",
            "Epoch 17/50\n",
            "22/22 [==============================] - 0s 10ms/step - loss: 0.6166 - mse: 0.6166 - val_loss: 0.5645 - val_mse: 0.5645\n",
            "Epoch 18/50\n",
            "22/22 [==============================] - 0s 10ms/step - loss: 0.5704 - mse: 0.5704 - val_loss: 0.5719 - val_mse: 0.5719\n",
            "Epoch 19/50\n",
            "22/22 [==============================] - 0s 9ms/step - loss: 0.6018 - mse: 0.6018 - val_loss: 0.7012 - val_mse: 0.7012\n",
            "Epoch 20/50\n",
            "22/22 [==============================] - 0s 12ms/step - loss: 0.5921 - mse: 0.5921 - val_loss: 0.5761 - val_mse: 0.5761\n",
            "Epoch 21/50\n",
            "22/22 [==============================] - 0s 7ms/step - loss: 0.5751 - mse: 0.5751 - val_loss: 0.5505 - val_mse: 0.5505\n",
            "Epoch 22/50\n",
            "22/22 [==============================] - 0s 17ms/step - loss: 0.5557 - mse: 0.5557 - val_loss: 0.5471 - val_mse: 0.5471\n",
            "Epoch 23/50\n",
            "22/22 [==============================] - 0s 9ms/step - loss: 0.5938 - mse: 0.5938 - val_loss: 0.7402 - val_mse: 0.7402\n",
            "Epoch 24/50\n",
            "22/22 [==============================] - 0s 10ms/step - loss: 0.6514 - mse: 0.6514 - val_loss: 0.5608 - val_mse: 0.5608\n",
            "Epoch 25/50\n",
            "22/22 [==============================] - 0s 9ms/step - loss: 0.5813 - mse: 0.5813 - val_loss: 0.7474 - val_mse: 0.7474\n",
            "Epoch 26/50\n",
            "22/22 [==============================] - 0s 8ms/step - loss: 0.6291 - mse: 0.6291 - val_loss: 0.5848 - val_mse: 0.5848\n",
            "Epoch 27/50\n",
            "22/22 [==============================] - 0s 11ms/step - loss: 0.5664 - mse: 0.5664 - val_loss: 0.5413 - val_mse: 0.5413\n",
            "Epoch 28/50\n",
            "22/22 [==============================] - 0s 9ms/step - loss: 0.5545 - mse: 0.5545 - val_loss: 0.5918 - val_mse: 0.5918\n",
            "Epoch 29/50\n",
            "22/22 [==============================] - 0s 9ms/step - loss: 0.5532 - mse: 0.5532 - val_loss: 0.5669 - val_mse: 0.5669\n",
            "Epoch 30/50\n",
            "22/22 [==============================] - 0s 9ms/step - loss: 0.5781 - mse: 0.5781 - val_loss: 0.5310 - val_mse: 0.5310\n",
            "Epoch 31/50\n",
            "22/22 [==============================] - 0s 12ms/step - loss: 0.5568 - mse: 0.5568 - val_loss: 0.5285 - val_mse: 0.5285\n",
            "Epoch 32/50\n",
            "22/22 [==============================] - 0s 10ms/step - loss: 0.5334 - mse: 0.5334 - val_loss: 0.5441 - val_mse: 0.5441\n",
            "Epoch 33/50\n",
            "22/22 [==============================] - 0s 11ms/step - loss: 0.5319 - mse: 0.5319 - val_loss: 0.5195 - val_mse: 0.5195\n",
            "Epoch 34/50\n",
            "22/22 [==============================] - 0s 8ms/step - loss: 0.5941 - mse: 0.5941 - val_loss: 0.5277 - val_mse: 0.5277\n",
            "Epoch 35/50\n",
            "22/22 [==============================] - 0s 9ms/step - loss: 0.5307 - mse: 0.5307 - val_loss: 0.5250 - val_mse: 0.5250\n",
            "Epoch 36/50\n",
            "22/22 [==============================] - 0s 9ms/step - loss: 0.5422 - mse: 0.5422 - val_loss: 0.5191 - val_mse: 0.5191\n",
            "Epoch 37/50\n",
            "22/22 [==============================] - 0s 15ms/step - loss: 0.5361 - mse: 0.5361 - val_loss: 0.6215 - val_mse: 0.6215\n",
            "Epoch 38/50\n",
            "22/22 [==============================] - 0s 13ms/step - loss: 0.6101 - mse: 0.6101 - val_loss: 0.5655 - val_mse: 0.5655\n",
            "Epoch 39/50\n",
            "22/22 [==============================] - 0s 17ms/step - loss: 0.5805 - mse: 0.5805 - val_loss: 0.5611 - val_mse: 0.5611\n",
            "Epoch 40/50\n",
            "22/22 [==============================] - 0s 9ms/step - loss: 0.5513 - mse: 0.5513 - val_loss: 0.6928 - val_mse: 0.6928\n",
            "Epoch 41/50\n",
            "22/22 [==============================] - 0s 8ms/step - loss: 0.6398 - mse: 0.6398 - val_loss: 0.5053 - val_mse: 0.5053\n",
            "Epoch 42/50\n",
            "22/22 [==============================] - 0s 13ms/step - loss: 0.5594 - mse: 0.5594 - val_loss: 0.6713 - val_mse: 0.6713\n",
            "Epoch 43/50\n",
            "22/22 [==============================] - 0s 10ms/step - loss: 0.5288 - mse: 0.5288 - val_loss: 0.5403 - val_mse: 0.5403\n",
            "Epoch 44/50\n",
            "22/22 [==============================] - 0s 9ms/step - loss: 0.5130 - mse: 0.5130 - val_loss: 0.5321 - val_mse: 0.5321\n",
            "Epoch 45/50\n",
            "22/22 [==============================] - 0s 8ms/step - loss: 0.5065 - mse: 0.5065 - val_loss: 0.4933 - val_mse: 0.4933\n",
            "Epoch 46/50\n",
            "22/22 [==============================] - 0s 8ms/step - loss: 0.5019 - mse: 0.5019 - val_loss: 0.5119 - val_mse: 0.5119\n",
            "Epoch 47/50\n",
            "22/22 [==============================] - 0s 8ms/step - loss: 0.5161 - mse: 0.5161 - val_loss: 0.5584 - val_mse: 0.5584\n",
            "Epoch 48/50\n",
            "22/22 [==============================] - 0s 10ms/step - loss: 0.5331 - mse: 0.5331 - val_loss: 0.4989 - val_mse: 0.4989\n",
            "Epoch 49/50\n",
            "22/22 [==============================] - 0s 11ms/step - loss: 0.5107 - mse: 0.5107 - val_loss: 0.4779 - val_mse: 0.4779\n",
            "Epoch 50/50\n",
            "22/22 [==============================] - 0s 10ms/step - loss: 0.5009 - mse: 0.5009 - val_loss: 0.4811 - val_mse: 0.4811\n"
          ]
        },
        {
          "output_type": "execute_result",
          "data": {
            "text/plain": [
              "<keras.callbacks.History at 0x7f5e5e08d090>"
            ]
          },
          "metadata": {},
          "execution_count": 60
        }
      ]
    },
    {
      "cell_type": "code",
      "source": [
        "model_based_tuner.summary()"
      ],
      "metadata": {
        "id": "mHgsrKbtwBYQ",
        "colab": {
          "base_uri": "https://localhost:8080/"
        },
        "outputId": "594b08b7-caae-4bb1-b3eb-e9fd11256f07"
      },
      "execution_count": null,
      "outputs": [
        {
          "output_type": "stream",
          "name": "stdout",
          "text": [
            "Model: \"sequential_1\"\n",
            "_________________________________________________________________\n",
            " Layer (type)                Output Shape              Param #   \n",
            "=================================================================\n",
            " dense_4 (Dense)             (None, 64)                128       \n",
            "                                                                 \n",
            " dense_5 (Dense)             (None, 64)                4160      \n",
            "                                                                 \n",
            " dense_6 (Dense)             (None, 64)                4160      \n",
            "                                                                 \n",
            " dense_7 (Dense)             (None, 1)                 65        \n",
            "                                                                 \n",
            "=================================================================\n",
            "Total params: 8,513\n",
            "Trainable params: 8,513\n",
            "Non-trainable params: 0\n",
            "_________________________________________________________________\n"
          ]
        }
      ]
    },
    {
      "cell_type": "code",
      "source": [
        "score = model_based_tuner.evaluate(X_test, y_test, batch_size=32)"
      ],
      "metadata": {
        "colab": {
          "base_uri": "https://localhost:8080/"
        },
        "id": "lZeTsJwiwDN3",
        "outputId": "0c62cdb7-121b-46e6-dfeb-3d8a06380d1f"
      },
      "execution_count": null,
      "outputs": [
        {
          "output_type": "stream",
          "name": "stdout",
          "text": [
            "10/10 [==============================] - 0s 7ms/step - loss: 0.4535 - mse: 0.4535\n"
          ]
        }
      ]
    },
    {
      "cell_type": "code",
      "source": [
        "# Convert the model.\n",
        "converter = tf.lite.TFLiteConverter.from_keras_model(model_based_tuner)\n",
        "tflite_model = converter.convert()\n",
        "\n",
        "# Save the model.\n",
        "with open('model/model.tflite', 'wb') as f:\n",
        "  f.write(tflite_model)"
      ],
      "metadata": {
        "colab": {
          "base_uri": "https://localhost:8080/"
        },
        "id": "FI0eENsIx_fB",
        "outputId": "6b14e042-78d0-4ad5-a57d-3fdaf360d104"
      },
      "execution_count": null,
      "outputs": [
        {
          "output_type": "stream",
          "name": "stdout",
          "text": [
            "INFO:tensorflow:Assets written to: /tmp/tmpc1m2fnym/assets\n"
          ]
        },
        {
          "output_type": "stream",
          "name": "stderr",
          "text": [
            "WARNING:absl:Buffer deduplication procedure will be skipped when flatbuffer library is not properly loaded\n"
          ]
        }
      ]
    },
    {
      "cell_type": "code",
      "source": [
        "interpreter = tf.lite.Interpreter(model_path=\"model/model.tflite\")\n",
        "interpreter.allocate_tensors()\n",
        "\n",
        "# Print input shape and type\n",
        "inputs = interpreter.get_input_details()\n",
        "print('{} input(s):'.format(len(inputs)))\n",
        "for i in range(0, len(inputs)):\n",
        "    print('{} {}'.format(inputs[i]['shape'], inputs[i]['dtype']))\n",
        "\n",
        "# Print output shape and type\n",
        "outputs = interpreter.get_output_details()\n",
        "print('\\n{} output(s):'.format(len(outputs)))\n",
        "for i in range(0, len(outputs)):\n",
        "    print('{} {}'.format(outputs[i]['shape'], outputs[i]['dtype']))"
      ],
      "metadata": {
        "colab": {
          "base_uri": "https://localhost:8080/"
        },
        "id": "Lmb1ttF1zmBi",
        "outputId": "7afc7bbc-4efc-482a-db08-5e98eac4ed46"
      },
      "execution_count": null,
      "outputs": [
        {
          "output_type": "stream",
          "name": "stdout",
          "text": [
            "1 input(s):\n",
            "[1 1] <class 'numpy.float32'>\n",
            "\n",
            "1 output(s):\n",
            "[1 1] <class 'numpy.float32'>\n"
          ]
        }
      ]
    },
    {
      "cell_type": "code",
      "source": [],
      "metadata": {
        "id": "d5ZWObN9mMUs"
      },
      "execution_count": null,
      "outputs": []
    }
  ]
}