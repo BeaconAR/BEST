{
  "cells": [
    {
      "cell_type": "markdown",
      "source": [
        "# Multi-Classification Modeling with top 4 beacons with DNN no preprocessing\n",
        "## Index\n",
        "- Load data & import modules\n",
        "- Preprocessing & split\n",
        "- DNN modeling\n",
        "- Ploting \n",
        "- Confusion Matrix\n"
      ],
      "metadata": {
        "id": "gd5UUhkdIGGL"
      }
    },
    {
      "cell_type": "markdown",
      "source": [
        "# Load data & import moduels\n",
        "- tensorflow version 2.9.1 required"
      ],
      "metadata": {
        "id": "TcTQHY5UIP-e"
      }
    },
    {
      "cell_type": "code",
      "source": [
        "import pandas as pd\n",
        "import pickle\n",
        "import numpy as np\n",
        "import matplotlib.pyplot as plt\n",
        "import seaborn as sns"
      ],
      "metadata": {
        "id": "cTDUZDjxIC3v"
      },
      "execution_count": null,
      "outputs": []
    },
    {
      "cell_type": "code",
      "execution_count": null,
      "metadata": {
        "colab": {
          "base_uri": "https://localhost:8080/"
        },
        "id": "Zdt7c5DNldhK",
        "outputId": "4b9bbcee-f894-4ac3-a118-f2ac83c2ea90"
      },
      "outputs": [
        {
          "output_type": "stream",
          "name": "stdout",
          "text": [
            "/content/drive/MyDrive/BEST/ios_clf_direction\n"
          ]
        }
      ],
      "source": [
        "%cd drive/MyDrive/BEST/ios_clf_direction"
      ]
    },
    {
      "cell_type": "code",
      "execution_count": null,
      "metadata": {
        "id": "2Lu3AtAiFI-R"
      },
      "outputs": [],
      "source": [
        "datas = [] \n",
        "data_name = [('S', [1,2,3,4,5,6,7,8,9]), ('E', [1,2,3]), ('R',[1,2,3,4,5]), ('H', [1,2]), ('A', [1,2,3,4,5,6,7,8,9,10,11]), ('U', [1]) ]\n",
        "\n",
        "#ios_clf_data_4_concatedS04\n",
        "\n",
        "for data in data_name:\n",
        "  for index in data[1]: \n",
        "    if index < 10:\n",
        "      no_supervised = pd.DataFrame(pd.read_csv(f'Filtered_{data[0]}0{index}.csv'))\n",
        "      no_supervised.drop(['timeStamp'], axis=1, inplace = True)\n",
        "      no_supervised.insert(0, 'location' ,f'{data[0]}0{index}')\n",
        "    else:\n",
        "      no_supervised = pd.DataFrame(pd.read_csv(f'Filtered_{data[0]}{index}.csv'))\n",
        "      no_supervised.drop(['timeStamp'], axis=1, inplace = True)\n",
        "      no_supervised.insert(0, 'location' ,f'{data[0]}{index}')\n",
        "    datas.append(no_supervised)\n",
        "\n",
        "def tominus200(x) :\n",
        "  if float(x) <= -90 :\n",
        "    return -200\n",
        "  return float(x)\n",
        "\n",
        "beacons = ['001','002','003','004','005','006','007','008','009','010','011','012','013','014','015','016','017','018','019','020','021', '022']\n",
        "for data in datas:\n",
        "  for beacon in beacons:\n",
        "    data[beacon] = data[beacon].apply(tominus200)"
      ]
    },
    {
      "cell_type": "code",
      "execution_count": null,
      "metadata": {
        "colab": {
          "base_uri": "https://localhost:8080/"
        },
        "id": "0ZAvszpiCpCl",
        "outputId": "8c4be649-65cf-4e06-f5df-353e612a0b7a"
      },
      "outputs": [
        {
          "output_type": "stream",
          "name": "stdout",
          "text": [
            "Looking in indexes: https://pypi.org/simple, https://us-python.pkg.dev/colab-wheels/public/simple/\n",
            "Requirement already satisfied: wurlitzer in /usr/local/lib/python3.7/dist-packages (3.0.2)\n"
          ]
        }
      ],
      "source": [
        "!pip install wurlitzer"
      ]
    },
    {
      "cell_type": "code",
      "execution_count": null,
      "metadata": {
        "id": "C-8A57c6CXUC"
      },
      "outputs": [],
      "source": [
        "import os\n",
        "import numpy as np\n",
        "import pandas as pd\n",
        "import tensorflow as tf\n",
        "import math\n",
        "\n",
        "try:\n",
        "  from wurlitzer import sys_pipes\n",
        "except:\n",
        "  from colabtools.googlelog import CaptureLog as sys_pipes\n",
        "\n",
        "from IPython.core.magic import register_line_magic\n",
        "from IPython.display import Javascript"
      ]
    },
    {
      "cell_type": "code",
      "execution_count": null,
      "metadata": {
        "id": "PwBC0R26Cvpm"
      },
      "outputs": [],
      "source": [
        "from sklearn.pipeline import Pipeline\n",
        "from sklearn.preprocessing import StandardScaler\n",
        "from sklearn.preprocessing import OneHotEncoder\n",
        "from sklearn.svm import SVR\n",
        "from sklearn import preprocessing\n",
        "from sklearn import utils\n",
        "from sklearn.metrics import r2_score, mean_squared_error, mean_absolute_error\n",
        "from sklearn.model_selection import train_test_split\n",
        "from sklearn.preprocessing import LabelEncoder\n",
        "import pathlib"
      ]
    },
    {
      "cell_type": "code",
      "execution_count": null,
      "metadata": {
        "id": "dq82UoF6CxD1",
        "colab": {
          "base_uri": "https://localhost:8080/"
        },
        "outputId": "22e020fb-288d-46d9-8a7a-bb0682d00d58"
      },
      "outputs": [
        {
          "output_type": "stream",
          "name": "stdout",
          "text": [
            "2.8.2\n"
          ]
        }
      ],
      "source": [
        "from tensorflow import keras\n",
        "from tensorflow.keras import layers\n",
        "from tensorflow.keras.utils import to_categorical\n",
        "print(tf.__version__)"
      ]
    },
    {
      "cell_type": "markdown",
      "source": [
        "# Preprocessing & split\n",
        "- Concat all the data\n",
        "- split into 7:3"
      ],
      "metadata": {
        "id": "kOzkeE6KIp4h"
      }
    },
    {
      "cell_type": "code",
      "execution_count": null,
      "metadata": {
        "id": "WZa8hzUZC1Kt"
      },
      "outputs": [],
      "source": [
        "result = pd.concat(datas)"
      ]
    },
    {
      "cell_type": "code",
      "source": [
        "result.loc[result['location'] == 'A011', 'location'] = 'A11'\n",
        "result.loc[result['location'] == 'A010', 'location'] = 'A10'"
      ],
      "metadata": {
        "id": "be5y4N4Na81Y"
      },
      "execution_count": null,
      "outputs": []
    },
    {
      "cell_type": "code",
      "source": [
        "result.drop('heading', axis=1, inplace=True)\n",
        "result.drop('direction', axis=1, inplace=True)"
      ],
      "metadata": {
        "id": "ZzFWnlM-eLe8"
      },
      "execution_count": null,
      "outputs": []
    },
    {
      "cell_type": "code",
      "source": [
        "data_all = []\n",
        "\n",
        "for data in data_name:\n",
        "  for index in data[1]: \n",
        "    if index < 10:\n",
        "      prev = pd.DataFrame(pd.read_csv(f'../clf_data_iOS/{data[0]}0{index}.csv'))\n",
        "      prev.drop(['timeStamp', 'accer_x', 'accer_y','accer_z','gyro_x','gyro_y','gyro_z','magn_x','magn_y','magn_z'], axis=1, inplace=True)\n",
        "      prev.insert(0, 'location' ,f'{data[0]}0{index}')\n",
        "\n",
        "    else:\n",
        "      prev = pd.DataFrame(pd.read_csv(f'../clf_data_iOS/{data[0]}{index}.csv'))\n",
        "      prev.drop(['timeStamp', 'accer_x', 'accer_y','accer_z','gyro_x','gyro_y','gyro_z','magn_x','magn_y','magn_z'], axis=1, inplace=True)\n",
        "      prev.insert(0, 'location' ,f'{data[0]}{index}')\n",
        "    data_all.append(prev)\n",
        "\n",
        "def tominus200(x) :\n",
        "  if float(x) <= -90 :\n",
        "    return -200\n",
        "  return float(x)\n",
        "\n",
        "beacons = ['001','002','003','004','005','006','007','008','009','010','011','012','013','014','015','016','017','018','019','020','021', '022']\n",
        "for data in data_all:\n",
        "  for beacon in beacons:\n",
        "    data[beacon] = data[beacon].apply(tominus200)"
      ],
      "metadata": {
        "id": "1GhyL4NlxHBt"
      },
      "execution_count": null,
      "outputs": []
    },
    {
      "cell_type": "code",
      "source": [
        "data_all[0]"
      ],
      "metadata": {
        "colab": {
          "base_uri": "https://localhost:8080/",
          "height": 488
        },
        "id": "9zOwLoh9ehzc",
        "outputId": "a6595e7f-4db3-4999-eef9-c4afe0747b19"
      },
      "execution_count": null,
      "outputs": [
        {
          "output_type": "execute_result",
          "data": {
            "text/plain": [
              "    location         001         002        003        004         005  \\\n",
              "0        S01  -77.000000  -70.000000  -87.00000  -74.00000  -87.000000   \n",
              "1        S01  -77.000000  -68.999000  -83.99700  -76.00200 -200.000000   \n",
              "2        S01  -76.665560 -200.000000  -82.66023  -76.67021 -200.000000   \n",
              "3        S01 -200.000000  -72.343760  -81.99053 -200.00000  -85.498505   \n",
              "4        S01  -77.253240  -73.767690 -200.00000  -77.25672  -85.666230   \n",
              "..       ...         ...         ...        ...        ...         ...   \n",
              "482      S01  -85.619850 -200.000000  -87.47549  -82.10920 -200.000000   \n",
              "483      S01 -200.000000  -75.836460 -200.00000 -200.00000 -200.000000   \n",
              "484      S01  -85.767685  -76.106026 -200.00000  -82.14816 -200.000000   \n",
              "485      S01  -85.909050  -76.101390  -87.67336  -82.18542 -200.000000   \n",
              "486      S01  -86.175440  -76.140686  -87.95006  -82.30851 -200.000000   \n",
              "\n",
              "            006         007         008         009  ...         013  \\\n",
              "0   -200.000000 -200.000000 -200.000000  -83.000000  ... -200.000000   \n",
              "1   -200.000000 -200.000000 -200.000000  -83.500496  ... -200.000000   \n",
              "2    -88.498505 -200.000000  -82.000000  -84.001990  ...  -73.000000   \n",
              "3    -87.328450  -86.997000  -82.500496 -200.000000  ...  -73.500496   \n",
              "4    -86.490530  -85.994675  -81.998670  -84.504980  ...  -73.667550   \n",
              "..          ...         ...         ...         ...  ...         ...   \n",
              "482 -200.000000 -200.000000  -89.567800  -88.407950  ...  -76.530260   \n",
              "483 -200.000000 -200.000000  -89.674170 -200.000000  ...  -76.725746   \n",
              "484 -200.000000 -200.000000  -89.863360 -200.000000  ...  -77.131355   \n",
              "485 -200.000000 -200.000000 -200.000000  -88.652520  ...  -77.650440   \n",
              "486 -200.000000 -200.000000  -89.869330  -88.842660  ... -200.000000   \n",
              "\n",
              "            014  015  016  017  018  019         020  021  022  \n",
              "0    -61.000000 -200 -200 -200 -200 -200  -63.000000 -200 -200  \n",
              "1    -62.001000 -200 -200 -200 -200 -200  -64.001000 -200 -200  \n",
              "2    -62.335106 -200 -200 -200 -200 -200 -200.000000 -200 -200  \n",
              "3    -62.502487 -200 -200 -200 -200 -200  -60.990680 -200 -200  \n",
              "4   -200.000000 -200 -200 -200 -200 -200  -59.734303 -200 -200  \n",
              "..          ...  ...  ...  ...  ...  ...         ...  ...  ...  \n",
              "482  -68.148990 -200 -200 -200 -200 -200 -200.000000 -200 -200  \n",
              "483  -68.273674 -200 -200 -200 -200 -200  -51.603380 -200 -200  \n",
              "484 -200.000000 -200 -200 -200 -200 -200  -51.708195 -200 -200  \n",
              "485  -68.305440 -200 -200 -200 -200 -200  -51.852160 -200 -200  \n",
              "486  -68.379555 -200 -200 -200 -200 -200  -52.121037 -200 -200  \n",
              "\n",
              "[487 rows x 23 columns]"
            ],
            "text/html": [
              "\n",
              "  <div id=\"df-a0869996-1e55-4c60-9ab0-2604f9d1eae5\">\n",
              "    <div class=\"colab-df-container\">\n",
              "      <div>\n",
              "<style scoped>\n",
              "    .dataframe tbody tr th:only-of-type {\n",
              "        vertical-align: middle;\n",
              "    }\n",
              "\n",
              "    .dataframe tbody tr th {\n",
              "        vertical-align: top;\n",
              "    }\n",
              "\n",
              "    .dataframe thead th {\n",
              "        text-align: right;\n",
              "    }\n",
              "</style>\n",
              "<table border=\"1\" class=\"dataframe\">\n",
              "  <thead>\n",
              "    <tr style=\"text-align: right;\">\n",
              "      <th></th>\n",
              "      <th>location</th>\n",
              "      <th>001</th>\n",
              "      <th>002</th>\n",
              "      <th>003</th>\n",
              "      <th>004</th>\n",
              "      <th>005</th>\n",
              "      <th>006</th>\n",
              "      <th>007</th>\n",
              "      <th>008</th>\n",
              "      <th>009</th>\n",
              "      <th>...</th>\n",
              "      <th>013</th>\n",
              "      <th>014</th>\n",
              "      <th>015</th>\n",
              "      <th>016</th>\n",
              "      <th>017</th>\n",
              "      <th>018</th>\n",
              "      <th>019</th>\n",
              "      <th>020</th>\n",
              "      <th>021</th>\n",
              "      <th>022</th>\n",
              "    </tr>\n",
              "  </thead>\n",
              "  <tbody>\n",
              "    <tr>\n",
              "      <th>0</th>\n",
              "      <td>S01</td>\n",
              "      <td>-77.000000</td>\n",
              "      <td>-70.000000</td>\n",
              "      <td>-87.00000</td>\n",
              "      <td>-74.00000</td>\n",
              "      <td>-87.000000</td>\n",
              "      <td>-200.000000</td>\n",
              "      <td>-200.000000</td>\n",
              "      <td>-200.000000</td>\n",
              "      <td>-83.000000</td>\n",
              "      <td>...</td>\n",
              "      <td>-200.000000</td>\n",
              "      <td>-61.000000</td>\n",
              "      <td>-200</td>\n",
              "      <td>-200</td>\n",
              "      <td>-200</td>\n",
              "      <td>-200</td>\n",
              "      <td>-200</td>\n",
              "      <td>-63.000000</td>\n",
              "      <td>-200</td>\n",
              "      <td>-200</td>\n",
              "    </tr>\n",
              "    <tr>\n",
              "      <th>1</th>\n",
              "      <td>S01</td>\n",
              "      <td>-77.000000</td>\n",
              "      <td>-68.999000</td>\n",
              "      <td>-83.99700</td>\n",
              "      <td>-76.00200</td>\n",
              "      <td>-200.000000</td>\n",
              "      <td>-200.000000</td>\n",
              "      <td>-200.000000</td>\n",
              "      <td>-200.000000</td>\n",
              "      <td>-83.500496</td>\n",
              "      <td>...</td>\n",
              "      <td>-200.000000</td>\n",
              "      <td>-62.001000</td>\n",
              "      <td>-200</td>\n",
              "      <td>-200</td>\n",
              "      <td>-200</td>\n",
              "      <td>-200</td>\n",
              "      <td>-200</td>\n",
              "      <td>-64.001000</td>\n",
              "      <td>-200</td>\n",
              "      <td>-200</td>\n",
              "    </tr>\n",
              "    <tr>\n",
              "      <th>2</th>\n",
              "      <td>S01</td>\n",
              "      <td>-76.665560</td>\n",
              "      <td>-200.000000</td>\n",
              "      <td>-82.66023</td>\n",
              "      <td>-76.67021</td>\n",
              "      <td>-200.000000</td>\n",
              "      <td>-88.498505</td>\n",
              "      <td>-200.000000</td>\n",
              "      <td>-82.000000</td>\n",
              "      <td>-84.001990</td>\n",
              "      <td>...</td>\n",
              "      <td>-73.000000</td>\n",
              "      <td>-62.335106</td>\n",
              "      <td>-200</td>\n",
              "      <td>-200</td>\n",
              "      <td>-200</td>\n",
              "      <td>-200</td>\n",
              "      <td>-200</td>\n",
              "      <td>-200.000000</td>\n",
              "      <td>-200</td>\n",
              "      <td>-200</td>\n",
              "    </tr>\n",
              "    <tr>\n",
              "      <th>3</th>\n",
              "      <td>S01</td>\n",
              "      <td>-200.000000</td>\n",
              "      <td>-72.343760</td>\n",
              "      <td>-81.99053</td>\n",
              "      <td>-200.00000</td>\n",
              "      <td>-85.498505</td>\n",
              "      <td>-87.328450</td>\n",
              "      <td>-86.997000</td>\n",
              "      <td>-82.500496</td>\n",
              "      <td>-200.000000</td>\n",
              "      <td>...</td>\n",
              "      <td>-73.500496</td>\n",
              "      <td>-62.502487</td>\n",
              "      <td>-200</td>\n",
              "      <td>-200</td>\n",
              "      <td>-200</td>\n",
              "      <td>-200</td>\n",
              "      <td>-200</td>\n",
              "      <td>-60.990680</td>\n",
              "      <td>-200</td>\n",
              "      <td>-200</td>\n",
              "    </tr>\n",
              "    <tr>\n",
              "      <th>4</th>\n",
              "      <td>S01</td>\n",
              "      <td>-77.253240</td>\n",
              "      <td>-73.767690</td>\n",
              "      <td>-200.00000</td>\n",
              "      <td>-77.25672</td>\n",
              "      <td>-85.666230</td>\n",
              "      <td>-86.490530</td>\n",
              "      <td>-85.994675</td>\n",
              "      <td>-81.998670</td>\n",
              "      <td>-84.504980</td>\n",
              "      <td>...</td>\n",
              "      <td>-73.667550</td>\n",
              "      <td>-200.000000</td>\n",
              "      <td>-200</td>\n",
              "      <td>-200</td>\n",
              "      <td>-200</td>\n",
              "      <td>-200</td>\n",
              "      <td>-200</td>\n",
              "      <td>-59.734303</td>\n",
              "      <td>-200</td>\n",
              "      <td>-200</td>\n",
              "    </tr>\n",
              "    <tr>\n",
              "      <th>...</th>\n",
              "      <td>...</td>\n",
              "      <td>...</td>\n",
              "      <td>...</td>\n",
              "      <td>...</td>\n",
              "      <td>...</td>\n",
              "      <td>...</td>\n",
              "      <td>...</td>\n",
              "      <td>...</td>\n",
              "      <td>...</td>\n",
              "      <td>...</td>\n",
              "      <td>...</td>\n",
              "      <td>...</td>\n",
              "      <td>...</td>\n",
              "      <td>...</td>\n",
              "      <td>...</td>\n",
              "      <td>...</td>\n",
              "      <td>...</td>\n",
              "      <td>...</td>\n",
              "      <td>...</td>\n",
              "      <td>...</td>\n",
              "      <td>...</td>\n",
              "    </tr>\n",
              "    <tr>\n",
              "      <th>482</th>\n",
              "      <td>S01</td>\n",
              "      <td>-85.619850</td>\n",
              "      <td>-200.000000</td>\n",
              "      <td>-87.47549</td>\n",
              "      <td>-82.10920</td>\n",
              "      <td>-200.000000</td>\n",
              "      <td>-200.000000</td>\n",
              "      <td>-200.000000</td>\n",
              "      <td>-89.567800</td>\n",
              "      <td>-88.407950</td>\n",
              "      <td>...</td>\n",
              "      <td>-76.530260</td>\n",
              "      <td>-68.148990</td>\n",
              "      <td>-200</td>\n",
              "      <td>-200</td>\n",
              "      <td>-200</td>\n",
              "      <td>-200</td>\n",
              "      <td>-200</td>\n",
              "      <td>-200.000000</td>\n",
              "      <td>-200</td>\n",
              "      <td>-200</td>\n",
              "    </tr>\n",
              "    <tr>\n",
              "      <th>483</th>\n",
              "      <td>S01</td>\n",
              "      <td>-200.000000</td>\n",
              "      <td>-75.836460</td>\n",
              "      <td>-200.00000</td>\n",
              "      <td>-200.00000</td>\n",
              "      <td>-200.000000</td>\n",
              "      <td>-200.000000</td>\n",
              "      <td>-200.000000</td>\n",
              "      <td>-89.674170</td>\n",
              "      <td>-200.000000</td>\n",
              "      <td>...</td>\n",
              "      <td>-76.725746</td>\n",
              "      <td>-68.273674</td>\n",
              "      <td>-200</td>\n",
              "      <td>-200</td>\n",
              "      <td>-200</td>\n",
              "      <td>-200</td>\n",
              "      <td>-200</td>\n",
              "      <td>-51.603380</td>\n",
              "      <td>-200</td>\n",
              "      <td>-200</td>\n",
              "    </tr>\n",
              "    <tr>\n",
              "      <th>484</th>\n",
              "      <td>S01</td>\n",
              "      <td>-85.767685</td>\n",
              "      <td>-76.106026</td>\n",
              "      <td>-200.00000</td>\n",
              "      <td>-82.14816</td>\n",
              "      <td>-200.000000</td>\n",
              "      <td>-200.000000</td>\n",
              "      <td>-200.000000</td>\n",
              "      <td>-89.863360</td>\n",
              "      <td>-200.000000</td>\n",
              "      <td>...</td>\n",
              "      <td>-77.131355</td>\n",
              "      <td>-200.000000</td>\n",
              "      <td>-200</td>\n",
              "      <td>-200</td>\n",
              "      <td>-200</td>\n",
              "      <td>-200</td>\n",
              "      <td>-200</td>\n",
              "      <td>-51.708195</td>\n",
              "      <td>-200</td>\n",
              "      <td>-200</td>\n",
              "    </tr>\n",
              "    <tr>\n",
              "      <th>485</th>\n",
              "      <td>S01</td>\n",
              "      <td>-85.909050</td>\n",
              "      <td>-76.101390</td>\n",
              "      <td>-87.67336</td>\n",
              "      <td>-82.18542</td>\n",
              "      <td>-200.000000</td>\n",
              "      <td>-200.000000</td>\n",
              "      <td>-200.000000</td>\n",
              "      <td>-200.000000</td>\n",
              "      <td>-88.652520</td>\n",
              "      <td>...</td>\n",
              "      <td>-77.650440</td>\n",
              "      <td>-68.305440</td>\n",
              "      <td>-200</td>\n",
              "      <td>-200</td>\n",
              "      <td>-200</td>\n",
              "      <td>-200</td>\n",
              "      <td>-200</td>\n",
              "      <td>-51.852160</td>\n",
              "      <td>-200</td>\n",
              "      <td>-200</td>\n",
              "    </tr>\n",
              "    <tr>\n",
              "      <th>486</th>\n",
              "      <td>S01</td>\n",
              "      <td>-86.175440</td>\n",
              "      <td>-76.140686</td>\n",
              "      <td>-87.95006</td>\n",
              "      <td>-82.30851</td>\n",
              "      <td>-200.000000</td>\n",
              "      <td>-200.000000</td>\n",
              "      <td>-200.000000</td>\n",
              "      <td>-89.869330</td>\n",
              "      <td>-88.842660</td>\n",
              "      <td>...</td>\n",
              "      <td>-200.000000</td>\n",
              "      <td>-68.379555</td>\n",
              "      <td>-200</td>\n",
              "      <td>-200</td>\n",
              "      <td>-200</td>\n",
              "      <td>-200</td>\n",
              "      <td>-200</td>\n",
              "      <td>-52.121037</td>\n",
              "      <td>-200</td>\n",
              "      <td>-200</td>\n",
              "    </tr>\n",
              "  </tbody>\n",
              "</table>\n",
              "<p>487 rows × 23 columns</p>\n",
              "</div>\n",
              "      <button class=\"colab-df-convert\" onclick=\"convertToInteractive('df-a0869996-1e55-4c60-9ab0-2604f9d1eae5')\"\n",
              "              title=\"Convert this dataframe to an interactive table.\"\n",
              "              style=\"display:none;\">\n",
              "        \n",
              "  <svg xmlns=\"http://www.w3.org/2000/svg\" height=\"24px\"viewBox=\"0 0 24 24\"\n",
              "       width=\"24px\">\n",
              "    <path d=\"M0 0h24v24H0V0z\" fill=\"none\"/>\n",
              "    <path d=\"M18.56 5.44l.94 2.06.94-2.06 2.06-.94-2.06-.94-.94-2.06-.94 2.06-2.06.94zm-11 1L8.5 8.5l.94-2.06 2.06-.94-2.06-.94L8.5 2.5l-.94 2.06-2.06.94zm10 10l.94 2.06.94-2.06 2.06-.94-2.06-.94-.94-2.06-.94 2.06-2.06.94z\"/><path d=\"M17.41 7.96l-1.37-1.37c-.4-.4-.92-.59-1.43-.59-.52 0-1.04.2-1.43.59L10.3 9.45l-7.72 7.72c-.78.78-.78 2.05 0 2.83L4 21.41c.39.39.9.59 1.41.59.51 0 1.02-.2 1.41-.59l7.78-7.78 2.81-2.81c.8-.78.8-2.07 0-2.86zM5.41 20L4 18.59l7.72-7.72 1.47 1.35L5.41 20z\"/>\n",
              "  </svg>\n",
              "      </button>\n",
              "      \n",
              "  <style>\n",
              "    .colab-df-container {\n",
              "      display:flex;\n",
              "      flex-wrap:wrap;\n",
              "      gap: 12px;\n",
              "    }\n",
              "\n",
              "    .colab-df-convert {\n",
              "      background-color: #E8F0FE;\n",
              "      border: none;\n",
              "      border-radius: 50%;\n",
              "      cursor: pointer;\n",
              "      display: none;\n",
              "      fill: #1967D2;\n",
              "      height: 32px;\n",
              "      padding: 0 0 0 0;\n",
              "      width: 32px;\n",
              "    }\n",
              "\n",
              "    .colab-df-convert:hover {\n",
              "      background-color: #E2EBFA;\n",
              "      box-shadow: 0px 1px 2px rgba(60, 64, 67, 0.3), 0px 1px 3px 1px rgba(60, 64, 67, 0.15);\n",
              "      fill: #174EA6;\n",
              "    }\n",
              "\n",
              "    [theme=dark] .colab-df-convert {\n",
              "      background-color: #3B4455;\n",
              "      fill: #D2E3FC;\n",
              "    }\n",
              "\n",
              "    [theme=dark] .colab-df-convert:hover {\n",
              "      background-color: #434B5C;\n",
              "      box-shadow: 0px 1px 3px 1px rgba(0, 0, 0, 0.15);\n",
              "      filter: drop-shadow(0px 1px 2px rgba(0, 0, 0, 0.3));\n",
              "      fill: #FFFFFF;\n",
              "    }\n",
              "  </style>\n",
              "\n",
              "      <script>\n",
              "        const buttonEl =\n",
              "          document.querySelector('#df-a0869996-1e55-4c60-9ab0-2604f9d1eae5 button.colab-df-convert');\n",
              "        buttonEl.style.display =\n",
              "          google.colab.kernel.accessAllowed ? 'block' : 'none';\n",
              "\n",
              "        async function convertToInteractive(key) {\n",
              "          const element = document.querySelector('#df-a0869996-1e55-4c60-9ab0-2604f9d1eae5');\n",
              "          const dataTable =\n",
              "            await google.colab.kernel.invokeFunction('convertToInteractive',\n",
              "                                                     [key], {});\n",
              "          if (!dataTable) return;\n",
              "\n",
              "          const docLinkHtml = 'Like what you see? Visit the ' +\n",
              "            '<a target=\"_blank\" href=https://colab.research.google.com/notebooks/data_table.ipynb>data table notebook</a>'\n",
              "            + ' to learn more about interactive tables.';\n",
              "          element.innerHTML = '';\n",
              "          dataTable['output_type'] = 'display_data';\n",
              "          await google.colab.output.renderOutput(dataTable, element);\n",
              "          const docLink = document.createElement('div');\n",
              "          docLink.innerHTML = docLinkHtml;\n",
              "          element.appendChild(docLink);\n",
              "        }\n",
              "      </script>\n",
              "    </div>\n",
              "  </div>\n",
              "  "
            ]
          },
          "metadata": {},
          "execution_count": 101
        }
      ]
    },
    {
      "cell_type": "code",
      "source": [
        "result = []\n",
        "for index in range(len(datas)):\n",
        "  new = pd.concat([datas[index], data_all[index]])\n",
        "  result.append(new)"
      ],
      "metadata": {
        "id": "cvqvkpTmxSy8"
      },
      "execution_count": null,
      "outputs": []
    },
    {
      "cell_type": "code",
      "source": [
        "result = pd.concat(result)"
      ],
      "metadata": {
        "id": "6wrWzKbQfLN8"
      },
      "execution_count": null,
      "outputs": []
    },
    {
      "cell_type": "code",
      "source": [
        "result.drop('heading', axis=1, inplace=True)\n",
        "result.drop('direction', axis=1, inplace=True)"
      ],
      "metadata": {
        "id": "6P2NYEXXfXJk"
      },
      "execution_count": null,
      "outputs": []
    },
    {
      "cell_type": "code",
      "source": [
        "result.loc[result['location'] == 'A011', 'location'] = 'A11'\n",
        "result.loc[result['location'] == 'A010', 'location'] = 'A10'"
      ],
      "metadata": {
        "id": "UWG2MThofaAS"
      },
      "execution_count": null,
      "outputs": []
    },
    {
      "cell_type": "markdown",
      "metadata": {
        "id": "8GcHkcWyJGyX"
      },
      "source": [
        "# DNN modeling\n",
        "- Multi-Classification with Top 5 beacons\n",
        "\n",
        "\n",
        "# Hyperparameter Tuning\n",
        "- Normalization : Weight Normalization\n",
        "- learning rate : [0.01, 0.001, 0.0001]\n",
        "- loss: categorical_crossentropy\n",
        "- Optimaization: Adam\n",
        "- epoch: 50\n",
        "- output layer: 31\n",
        "- activation: Relu\n",
        "- activation: Softmax\n",
        "\n",
        "# Result\n",
        "The hyperparameter search is complete. The optimal number of units in the first densely-connected\n",
        "layer is 224 and the optimal learning rate for the optimizer\n",
        "is 0.001.\n",
        "\n",
        "- loss: 0.2959\n",
        "- accuracy: 0.8853 \n",
        "- precision: 0.8909 \n",
        "- recall: 0.8813 \n",
        "- f1_score: 0.8779 \n",
        "- 450ms/epoch - 3ms/step\n"
      ]
    },
    {
      "cell_type": "code",
      "execution_count": null,
      "metadata": {
        "colab": {
          "base_uri": "https://localhost:8080/"
        },
        "id": "ac4lDSz6IWZc",
        "outputId": "3b4fa9aa-caee-46d9-a3b2-5755be5b34d7"
      },
      "outputs": [
        {
          "output_type": "stream",
          "name": "stderr",
          "text": [
            "/usr/local/lib/python3.7/dist-packages/sklearn/preprocessing/_label.py:115: DataConversionWarning: A column-vector y was passed when a 1d array was expected. Please change the shape of y to (n_samples, ), for example using ravel().\n",
            "  y = column_or_1d(y, warn=True)\n"
          ]
        }
      ],
      "source": [
        "np.set_printoptions(precision=2)\n",
        "le = LabelEncoder()\n",
        "\n",
        "X = np.array(result.iloc[:, 1:])\n",
        "y = le.fit_transform(np.array(result['location']).reshape(-1, 1))\n",
        "y = to_categorical(y)"
      ]
    },
    {
      "cell_type": "code",
      "source": [
        "len(X[0])"
      ],
      "metadata": {
        "colab": {
          "base_uri": "https://localhost:8080/"
        },
        "id": "T6jJePdoDoB8",
        "outputId": "d1a3ccf2-d68e-432b-acd7-d7ae127be884"
      },
      "execution_count": null,
      "outputs": [
        {
          "output_type": "execute_result",
          "data": {
            "text/plain": [
              "22"
            ]
          },
          "metadata": {},
          "execution_count": 107
        }
      ]
    },
    {
      "cell_type": "code",
      "source": [
        "X = np.asarray(X).astype(np.float32)"
      ],
      "metadata": {
        "id": "-KOBBHHGbdj_"
      },
      "execution_count": null,
      "outputs": []
    },
    {
      "cell_type": "code",
      "source": [
        "len(X[0])"
      ],
      "metadata": {
        "colab": {
          "base_uri": "https://localhost:8080/"
        },
        "id": "MOb1CCzAvK-N",
        "outputId": "f4d0e54e-7d2c-4717-fe9c-83cbb77aa672"
      },
      "execution_count": null,
      "outputs": [
        {
          "output_type": "execute_result",
          "data": {
            "text/plain": [
              "22"
            ]
          },
          "metadata": {},
          "execution_count": 109
        }
      ]
    },
    {
      "cell_type": "code",
      "execution_count": null,
      "metadata": {
        "id": "v3YL2YrcJdSs"
      },
      "outputs": [],
      "source": [
        "X_train, X_test, y_train, y_test = train_test_split(X, y, test_size = 0.3, random_state=42,shuffle=True)"
      ]
    },
    {
      "cell_type": "code",
      "execution_count": null,
      "metadata": {
        "colab": {
          "base_uri": "https://localhost:8080/"
        },
        "id": "hggFwyvcKnui",
        "outputId": "b2857dcc-6044-40f8-d489-914e9e6b814f"
      },
      "outputs": [
        {
          "output_type": "stream",
          "name": "stdout",
          "text": [
            "Looking in indexes: https://pypi.org/simple, https://us-python.pkg.dev/colab-wheels/public/simple/\n",
            "Requirement already satisfied: tensorflow-addons in /usr/local/lib/python3.7/dist-packages (0.17.1)\n",
            "Requirement already satisfied: typeguard>=2.7 in /usr/local/lib/python3.7/dist-packages (from tensorflow-addons) (2.7.1)\n",
            "Requirement already satisfied: packaging in /usr/local/lib/python3.7/dist-packages (from tensorflow-addons) (21.3)\n",
            "Requirement already satisfied: pyparsing!=3.0.5,>=2.0.2 in /usr/local/lib/python3.7/dist-packages (from packaging->tensorflow-addons) (3.0.9)\n"
          ]
        }
      ],
      "source": [
        "!pip install tensorflow-addons"
      ]
    },
    {
      "cell_type": "code",
      "execution_count": null,
      "metadata": {
        "id": "QKtCv7QTKgtc"
      },
      "outputs": [],
      "source": [
        "import tensorflow_addons as tfa"
      ]
    },
    {
      "cell_type": "code",
      "execution_count": null,
      "metadata": {
        "id": "b0CTr69Mo5D0"
      },
      "outputs": [],
      "source": [
        "class ClearTrainingOutput(tf.keras.callbacks.Callback):\n",
        "  def on_train_end(*args, **kwargs):\n",
        "    IPython.display.clear_output(wait = True)"
      ]
    },
    {
      "cell_type": "code",
      "execution_count": null,
      "metadata": {
        "colab": {
          "base_uri": "https://localhost:8080/"
        },
        "id": "hqQw8jj6pgVj",
        "outputId": "570c89a9-33bc-4851-ea32-b5e4bdc134f6"
      },
      "outputs": [
        {
          "output_type": "stream",
          "name": "stdout",
          "text": [
            "Looking in indexes: https://pypi.org/simple, https://us-python.pkg.dev/colab-wheels/public/simple/\n",
            "Requirement already satisfied: IPython in /usr/local/lib/python3.7/dist-packages (5.5.0)\n",
            "Requirement already satisfied: decorator in /usr/local/lib/python3.7/dist-packages (from IPython) (4.4.2)\n",
            "Requirement already satisfied: setuptools>=18.5 in /usr/local/lib/python3.7/dist-packages (from IPython) (57.4.0)\n",
            "Requirement already satisfied: traitlets>=4.2 in /usr/local/lib/python3.7/dist-packages (from IPython) (5.1.1)\n",
            "Requirement already satisfied: simplegeneric>0.8 in /usr/local/lib/python3.7/dist-packages (from IPython) (0.8.1)\n",
            "Requirement already satisfied: pexpect in /usr/local/lib/python3.7/dist-packages (from IPython) (4.8.0)\n",
            "Requirement already satisfied: pygments in /usr/local/lib/python3.7/dist-packages (from IPython) (2.6.1)\n",
            "Requirement already satisfied: prompt-toolkit<2.0.0,>=1.0.4 in /usr/local/lib/python3.7/dist-packages (from IPython) (1.0.18)\n",
            "Requirement already satisfied: pickleshare in /usr/local/lib/python3.7/dist-packages (from IPython) (0.7.5)\n",
            "Requirement already satisfied: wcwidth in /usr/local/lib/python3.7/dist-packages (from prompt-toolkit<2.0.0,>=1.0.4->IPython) (0.2.5)\n",
            "Requirement already satisfied: six>=1.9.0 in /usr/local/lib/python3.7/dist-packages (from prompt-toolkit<2.0.0,>=1.0.4->IPython) (1.15.0)\n",
            "Requirement already satisfied: ptyprocess>=0.5 in /usr/local/lib/python3.7/dist-packages (from pexpect->IPython) (0.7.0)\n"
          ]
        }
      ],
      "source": [
        "!pip install IPython\n",
        "import IPython"
      ]
    },
    {
      "cell_type": "code",
      "execution_count": null,
      "metadata": {
        "id": "MnGfma1SJ7HJ"
      },
      "outputs": [],
      "source": [
        "tf.random.set_seed(42)\n",
        "initializer = tf.keras.initializers.HeNormal()\n",
        "\n",
        "def model_builder(hp):\n",
        "   model = keras.Sequential()\n",
        "    \n",
        "   # Dense layer unit number 32~256\n",
        "   hp_unit = hp.Int('units', min_value=32, max_value=256, step=32)\n",
        "   model.add(tfa.layers.WeightNormalization(tf.keras.layers.Dense(units=hp_unit, activation = tf.keras.activations.relu, input_shape=[22], kernel_initializer=initializer)))\n",
        "   model.add(tfa.layers.WeightNormalization(tf.keras.layers.Dense(units=hp_unit, activation = tf.keras.activations.relu, input_shape=[22],kernel_initializer=initializer)))\n",
        "   model.add(tfa.layers.WeightNormalization(tf.keras.layers.Dense(units=hp_unit, activation = tf.keras.activations.relu, input_shape=[22],kernel_initializer=initializer)))\n",
        "  #  model.add(keras.layers.Dropout(0.5))\n",
        "   model.add(keras.layers.Dense(31, activation = 'softmax'))\n",
        "\n",
        "   # (learning rate) = [0.01, 0.001, 0.0001]\n",
        "   hp_learning_rate = hp.Choice('learning_rate', values = [1e-2, 1e-3, 1e-4]) \n",
        "\n",
        "   opt = keras.optimizers.Adam(learning_rate=hp_learning_rate)\n",
        "   loss = tf.keras.losses.categorical_crossentropy\n",
        "   model.compile(optimizer= opt, loss=loss, metrics=['accuracy', tf.keras.metrics.Precision(), tf.keras.metrics.Recall(), tfa.metrics.F1Score(num_classes=31, average='macro', threshold=0.5)])\n",
        "\n",
        "\n",
        "   return model"
      ]
    },
    {
      "cell_type": "code",
      "source": [
        "len(X_train[0])"
      ],
      "metadata": {
        "colab": {
          "base_uri": "https://localhost:8080/"
        },
        "id": "bNXMFO9SqFxt",
        "outputId": "a25b8276-179a-41e4-eed8-f5d947c3f1e0"
      },
      "execution_count": null,
      "outputs": [
        {
          "output_type": "execute_result",
          "data": {
            "text/plain": [
              "22"
            ]
          },
          "metadata": {},
          "execution_count": 116
        }
      ]
    },
    {
      "cell_type": "code",
      "execution_count": null,
      "metadata": {
        "id": "OXze4LX8HQ7Z"
      },
      "outputs": [],
      "source": [
        "!pip install -q -U keras-tuner\n",
        "import kerastuner as kt"
      ]
    },
    {
      "cell_type": "code",
      "execution_count": null,
      "metadata": {
        "id": "_o3IDER5Kw28",
        "colab": {
          "base_uri": "https://localhost:8080/"
        },
        "outputId": "daa215b1-bee4-4d25-b201-0672829c147c"
      },
      "outputs": [
        {
          "output_type": "stream",
          "name": "stdout",
          "text": [
            "INFO:tensorflow:Reloading Oracle from existing project hi2/ios_clf_10/oracle.json\n"
          ]
        },
        {
          "output_type": "stream",
          "name": "stderr",
          "text": [
            "INFO:tensorflow:Reloading Oracle from existing project hi2/ios_clf_10/oracle.json\n"
          ]
        },
        {
          "output_type": "stream",
          "name": "stdout",
          "text": [
            "INFO:tensorflow:Reloading Tuner from hi2/ios_clf_10/tuner0.json\n"
          ]
        },
        {
          "output_type": "stream",
          "name": "stderr",
          "text": [
            "INFO:tensorflow:Reloading Tuner from hi2/ios_clf_10/tuner0.json\n"
          ]
        }
      ],
      "source": [
        "tuner = kt.Hyperband(model_builder,\n",
        "                     objective = 'val_accuracy', \n",
        "                     max_epochs = 30,\n",
        "                     factor=3,\n",
        "                     hyperband_iterations=2,\n",
        "                     directory = 'hi2',\n",
        "                     project_name = 'ios_clf_10')"
      ]
    },
    {
      "cell_type": "code",
      "execution_count": null,
      "metadata": {
        "colab": {
          "base_uri": "https://localhost:8080/"
        },
        "id": "dj0vLuknK8jm",
        "outputId": "8aff93da-b7ef-406e-f9cd-0e8da076cd1f"
      },
      "outputs": [
        {
          "output_type": "stream",
          "name": "stdout",
          "text": [
            "INFO:tensorflow:Oracle triggered exit\n"
          ]
        },
        {
          "output_type": "stream",
          "name": "stderr",
          "text": [
            "INFO:tensorflow:Oracle triggered exit\n"
          ]
        },
        {
          "output_type": "stream",
          "name": "stdout",
          "text": [
            "\n",
            "The hyperparameter search is complete. The optimal number of units in the first densely-connected\n",
            "layer is 224 and the optimal learning rate for the optimizer\n",
            "is 0.0001.\n",
            "\n"
          ]
        }
      ],
      "source": [
        "tuner.search(X_train, y_train, epochs = 50, validation_data = (X_test, y_test), callbacks = [ClearTrainingOutput()])\n",
        "\n",
        "# Get the optimal hyperparameters\n",
        "best_hps = tuner.get_best_hyperparameters(num_trials = 1)[0]\n",
        "\n",
        "print(f\"\"\"\n",
        "The hyperparameter search is complete. The optimal number of units in the first densely-connected\n",
        "layer is {best_hps.get('units')} and the optimal learning rate for the optimizer\n",
        "is {best_hps.get('learning_rate')}.\n",
        "\"\"\")"
      ]
    },
    {
      "cell_type": "code",
      "execution_count": null,
      "metadata": {
        "id": "XCWhebSyK-LC",
        "colab": {
          "base_uri": "https://localhost:8080/"
        },
        "outputId": "8016d858-2f12-41c2-82e3-ae7bc0487934"
      },
      "outputs": [
        {
          "output_type": "stream",
          "name": "stdout",
          "text": [
            "Epoch 1/50\n",
            "674/674 [==============================] - 13s 15ms/step - loss: 2.0347 - accuracy: 0.3576 - precision_5: 0.7508 - recall_5: 0.0652 - f1_score: 0.1079 - val_loss: 1.4024 - val_accuracy: 0.5245 - val_precision_5: 0.7896 - val_recall_5: 0.1801 - val_f1_score: 0.2533\n",
            "Epoch 2/50\n",
            "674/674 [==============================] - 8s 12ms/step - loss: 1.2291 - accuracy: 0.5774 - precision_5: 0.7875 - recall_5: 0.2903 - f1_score: 0.3940 - val_loss: 1.0636 - val_accuracy: 0.6285 - val_precision_5: 0.8111 - val_recall_5: 0.3928 - val_f1_score: 0.4914\n",
            "Epoch 3/50\n",
            "674/674 [==============================] - 8s 11ms/step - loss: 1.0069 - accuracy: 0.6493 - precision_5: 0.8017 - recall_5: 0.4423 - f1_score: 0.5485 - val_loss: 0.9167 - val_accuracy: 0.6706 - val_precision_5: 0.8118 - val_recall_5: 0.4987 - val_f1_score: 0.5865\n",
            "Epoch 4/50\n",
            "674/674 [==============================] - 8s 12ms/step - loss: 0.8885 - accuracy: 0.6805 - precision_5: 0.8016 - recall_5: 0.5195 - f1_score: 0.6153 - val_loss: 0.8114 - val_accuracy: 0.7055 - val_precision_5: 0.8285 - val_recall_5: 0.5552 - val_f1_score: 0.6442\n",
            "Epoch 5/50\n",
            "674/674 [==============================] - 5s 7ms/step - loss: 0.8072 - accuracy: 0.7084 - precision_5: 0.8137 - recall_5: 0.5743 - f1_score: 0.6614 - val_loss: 0.7481 - val_accuracy: 0.7343 - val_precision_5: 0.8270 - val_recall_5: 0.6163 - val_f1_score: 0.6922\n",
            "Epoch 6/50\n",
            "674/674 [==============================] - 4s 6ms/step - loss: 0.7529 - accuracy: 0.7237 - precision_5: 0.8153 - recall_5: 0.6106 - f1_score: 0.6886 - val_loss: 0.7077 - val_accuracy: 0.7417 - val_precision_5: 0.8276 - val_recall_5: 0.6303 - val_f1_score: 0.7015\n",
            "Epoch 7/50\n",
            "674/674 [==============================] - 4s 6ms/step - loss: 0.7090 - accuracy: 0.7395 - precision_5: 0.8202 - recall_5: 0.6379 - f1_score: 0.7093 - val_loss: 0.6714 - val_accuracy: 0.7509 - val_precision_5: 0.8235 - val_recall_5: 0.6556 - val_f1_score: 0.7173\n",
            "Epoch 8/50\n",
            "674/674 [==============================] - 4s 6ms/step - loss: 0.6742 - accuracy: 0.7481 - precision_5: 0.8211 - recall_5: 0.6609 - f1_score: 0.7252 - val_loss: 0.6350 - val_accuracy: 0.7687 - val_precision_5: 0.8445 - val_recall_5: 0.6728 - val_f1_score: 0.7389\n",
            "Epoch 9/50\n",
            "674/674 [==============================] - 4s 6ms/step - loss: 0.6421 - accuracy: 0.7629 - precision_5: 0.8289 - recall_5: 0.6806 - f1_score: 0.7411 - val_loss: 0.6006 - val_accuracy: 0.7812 - val_precision_5: 0.8452 - val_recall_5: 0.6964 - val_f1_score: 0.7552\n",
            "Epoch 10/50\n",
            "674/674 [==============================] - 4s 6ms/step - loss: 0.6200 - accuracy: 0.7704 - precision_5: 0.8327 - recall_5: 0.6928 - f1_score: 0.7503 - val_loss: 0.5781 - val_accuracy: 0.7904 - val_precision_5: 0.8460 - val_recall_5: 0.7148 - val_f1_score: 0.7693\n",
            "Epoch 11/50\n",
            "674/674 [==============================] - 4s 6ms/step - loss: 0.5962 - accuracy: 0.7806 - precision_5: 0.8354 - recall_5: 0.7079 - f1_score: 0.7616 - val_loss: 0.5595 - val_accuracy: 0.7897 - val_precision_5: 0.8476 - val_recall_5: 0.7249 - val_f1_score: 0.7763\n",
            "Epoch 12/50\n",
            "674/674 [==============================] - 4s 6ms/step - loss: 0.5755 - accuracy: 0.7818 - precision_5: 0.8364 - recall_5: 0.7189 - f1_score: 0.7685 - val_loss: 0.5534 - val_accuracy: 0.7977 - val_precision_5: 0.8509 - val_recall_5: 0.7303 - val_f1_score: 0.7787\n",
            "Epoch 13/50\n",
            "674/674 [==============================] - 4s 6ms/step - loss: 0.5562 - accuracy: 0.7931 - precision_5: 0.8438 - recall_5: 0.7308 - f1_score: 0.7785 - val_loss: 0.5214 - val_accuracy: 0.8117 - val_precision_5: 0.8583 - val_recall_5: 0.7430 - val_f1_score: 0.7893\n",
            "Epoch 14/50\n",
            "674/674 [==============================] - 4s 6ms/step - loss: 0.5355 - accuracy: 0.8001 - precision_5: 0.8491 - recall_5: 0.7427 - f1_score: 0.7883 - val_loss: 0.5096 - val_accuracy: 0.8110 - val_precision_5: 0.8529 - val_recall_5: 0.7564 - val_f1_score: 0.7974\n",
            "Epoch 15/50\n",
            "674/674 [==============================] - 4s 6ms/step - loss: 0.5177 - accuracy: 0.8080 - precision_5: 0.8529 - recall_5: 0.7528 - f1_score: 0.7958 - val_loss: 0.4931 - val_accuracy: 0.8195 - val_precision_5: 0.8615 - val_recall_5: 0.7647 - val_f1_score: 0.8029\n",
            "Epoch 16/50\n",
            "674/674 [==============================] - 4s 6ms/step - loss: 0.5039 - accuracy: 0.8124 - precision_5: 0.8566 - recall_5: 0.7583 - f1_score: 0.8006 - val_loss: 0.4860 - val_accuracy: 0.8171 - val_precision_5: 0.8565 - val_recall_5: 0.7717 - val_f1_score: 0.8028\n",
            "Epoch 17/50\n",
            "674/674 [==============================] - 4s 6ms/step - loss: 0.4881 - accuracy: 0.8178 - precision_5: 0.8600 - recall_5: 0.7696 - f1_score: 0.8088 - val_loss: 0.4569 - val_accuracy: 0.8339 - val_precision_5: 0.8726 - val_recall_5: 0.7871 - val_f1_score: 0.8226\n",
            "Epoch 18/50\n",
            "674/674 [==============================] - 4s 6ms/step - loss: 0.4760 - accuracy: 0.8228 - precision_5: 0.8628 - recall_5: 0.7769 - f1_score: 0.8140 - val_loss: 0.4399 - val_accuracy: 0.8356 - val_precision_5: 0.8740 - val_recall_5: 0.7927 - val_f1_score: 0.8286\n",
            "Epoch 19/50\n",
            "674/674 [==============================] - 4s 6ms/step - loss: 0.4637 - accuracy: 0.8272 - precision_5: 0.8643 - recall_5: 0.7835 - f1_score: 0.8187 - val_loss: 0.4257 - val_accuracy: 0.8485 - val_precision_5: 0.8858 - val_recall_5: 0.8011 - val_f1_score: 0.8355\n",
            "Epoch 20/50\n",
            "674/674 [==============================] - 4s 6ms/step - loss: 0.4471 - accuracy: 0.8346 - precision_5: 0.8693 - recall_5: 0.7915 - f1_score: 0.8253 - val_loss: 0.4237 - val_accuracy: 0.8418 - val_precision_5: 0.8688 - val_recall_5: 0.7994 - val_f1_score: 0.8305\n",
            "Epoch 21/50\n",
            "674/674 [==============================] - 4s 6ms/step - loss: 0.4372 - accuracy: 0.8380 - precision_5: 0.8726 - recall_5: 0.7972 - f1_score: 0.8301 - val_loss: 0.4073 - val_accuracy: 0.8533 - val_precision_5: 0.8867 - val_recall_5: 0.8120 - val_f1_score: 0.8419\n",
            "Epoch 22/50\n",
            "674/674 [==============================] - 4s 6ms/step - loss: 0.4251 - accuracy: 0.8420 - precision_5: 0.8750 - recall_5: 0.8027 - f1_score: 0.8341 - val_loss: 0.3854 - val_accuracy: 0.8662 - val_precision_5: 0.8964 - val_recall_5: 0.8271 - val_f1_score: 0.8567\n",
            "Epoch 23/50\n",
            "674/674 [==============================] - 4s 6ms/step - loss: 0.4118 - accuracy: 0.8504 - precision_5: 0.8814 - recall_5: 0.8128 - f1_score: 0.8429 - val_loss: 0.3677 - val_accuracy: 0.8707 - val_precision_5: 0.9016 - val_recall_5: 0.8362 - val_f1_score: 0.8648\n",
            "Epoch 24/50\n",
            "674/674 [==============================] - 4s 6ms/step - loss: 0.4027 - accuracy: 0.8521 - precision_5: 0.8820 - recall_5: 0.8173 - f1_score: 0.8458 - val_loss: 0.3899 - val_accuracy: 0.8568 - val_precision_5: 0.8889 - val_recall_5: 0.8226 - val_f1_score: 0.8490\n",
            "Epoch 25/50\n",
            "674/674 [==============================] - 4s 6ms/step - loss: 0.3884 - accuracy: 0.8581 - precision_5: 0.8869 - recall_5: 0.8263 - f1_score: 0.8530 - val_loss: 0.3650 - val_accuracy: 0.8698 - val_precision_5: 0.8975 - val_recall_5: 0.8371 - val_f1_score: 0.8622\n",
            "Epoch 26/50\n",
            "674/674 [==============================] - 4s 6ms/step - loss: 0.3804 - accuracy: 0.8612 - precision_5: 0.8865 - recall_5: 0.8301 - f1_score: 0.8552 - val_loss: 0.3490 - val_accuracy: 0.8722 - val_precision_5: 0.8978 - val_recall_5: 0.8427 - val_f1_score: 0.8639\n",
            "Epoch 27/50\n",
            "674/674 [==============================] - 4s 6ms/step - loss: 0.3732 - accuracy: 0.8625 - precision_5: 0.8876 - recall_5: 0.8295 - f1_score: 0.8552 - val_loss: 0.3523 - val_accuracy: 0.8727 - val_precision_5: 0.8986 - val_recall_5: 0.8424 - val_f1_score: 0.8647\n",
            "Epoch 28/50\n",
            "674/674 [==============================] - 4s 6ms/step - loss: 0.3611 - accuracy: 0.8674 - precision_5: 0.8914 - recall_5: 0.8377 - f1_score: 0.8614 - val_loss: 0.3501 - val_accuracy: 0.8715 - val_precision_5: 0.8963 - val_recall_5: 0.8432 - val_f1_score: 0.8661\n",
            "Epoch 29/50\n",
            "674/674 [==============================] - 5s 7ms/step - loss: 0.3537 - accuracy: 0.8668 - precision_5: 0.8925 - recall_5: 0.8400 - f1_score: 0.8633 - val_loss: 0.3274 - val_accuracy: 0.8778 - val_precision_5: 0.9072 - val_recall_5: 0.8528 - val_f1_score: 0.8742\n",
            "Epoch 30/50\n",
            "674/674 [==============================] - 4s 6ms/step - loss: 0.3435 - accuracy: 0.8740 - precision_5: 0.8969 - recall_5: 0.8480 - f1_score: 0.8697 - val_loss: 0.3192 - val_accuracy: 0.8821 - val_precision_5: 0.9032 - val_recall_5: 0.8613 - val_f1_score: 0.8809\n",
            "Epoch 31/50\n",
            "674/674 [==============================] - 4s 6ms/step - loss: 0.3381 - accuracy: 0.8738 - precision_5: 0.8961 - recall_5: 0.8502 - f1_score: 0.8706 - val_loss: 0.3142 - val_accuracy: 0.8864 - val_precision_5: 0.9087 - val_recall_5: 0.8603 - val_f1_score: 0.8796\n",
            "Epoch 32/50\n",
            "674/674 [==============================] - 4s 6ms/step - loss: 0.3302 - accuracy: 0.8796 - precision_5: 0.8993 - recall_5: 0.8566 - f1_score: 0.8755 - val_loss: 0.3183 - val_accuracy: 0.8801 - val_precision_5: 0.9011 - val_recall_5: 0.8577 - val_f1_score: 0.8766\n",
            "Epoch 33/50\n",
            "674/674 [==============================] - 4s 6ms/step - loss: 0.3203 - accuracy: 0.8819 - precision_5: 0.9019 - recall_5: 0.8584 - f1_score: 0.8777 - val_loss: 0.3005 - val_accuracy: 0.8870 - val_precision_5: 0.9092 - val_recall_5: 0.8662 - val_f1_score: 0.8835\n",
            "Epoch 34/50\n",
            "674/674 [==============================] - 4s 6ms/step - loss: 0.3150 - accuracy: 0.8838 - precision_5: 0.9045 - recall_5: 0.8622 - f1_score: 0.8809 - val_loss: 0.2959 - val_accuracy: 0.8901 - val_precision_5: 0.9079 - val_recall_5: 0.8664 - val_f1_score: 0.8839\n",
            "Epoch 35/50\n",
            "674/674 [==============================] - 4s 6ms/step - loss: 0.3091 - accuracy: 0.8863 - precision_5: 0.9046 - recall_5: 0.8647 - f1_score: 0.8824 - val_loss: 0.2982 - val_accuracy: 0.8874 - val_precision_5: 0.9069 - val_recall_5: 0.8682 - val_f1_score: 0.8818\n",
            "Epoch 36/50\n",
            "674/674 [==============================] - 4s 6ms/step - loss: 0.3018 - accuracy: 0.8898 - precision_5: 0.9074 - recall_5: 0.8688 - f1_score: 0.8860 - val_loss: 0.2726 - val_accuracy: 0.8990 - val_precision_5: 0.9167 - val_recall_5: 0.8773 - val_f1_score: 0.8941\n",
            "Epoch 37/50\n",
            "674/674 [==============================] - 4s 6ms/step - loss: 0.2917 - accuracy: 0.8943 - precision_5: 0.9106 - recall_5: 0.8729 - f1_score: 0.8896 - val_loss: 0.3005 - val_accuracy: 0.8866 - val_precision_5: 0.9061 - val_recall_5: 0.8663 - val_f1_score: 0.8809\n",
            "Epoch 38/50\n",
            "674/674 [==============================] - 4s 6ms/step - loss: 0.2920 - accuracy: 0.8921 - precision_5: 0.9091 - recall_5: 0.8729 - f1_score: 0.8890 - val_loss: 0.2867 - val_accuracy: 0.8944 - val_precision_5: 0.9104 - val_recall_5: 0.8749 - val_f1_score: 0.8882\n",
            "Epoch 39/50\n",
            "674/674 [==============================] - 4s 6ms/step - loss: 0.2823 - accuracy: 0.8950 - precision_5: 0.9111 - recall_5: 0.8774 - f1_score: 0.8922 - val_loss: 0.2600 - val_accuracy: 0.9075 - val_precision_5: 0.9245 - val_recall_5: 0.8886 - val_f1_score: 0.9017\n",
            "Epoch 40/50\n",
            "674/674 [==============================] - 4s 6ms/step - loss: 0.2772 - accuracy: 0.8970 - precision_5: 0.9130 - recall_5: 0.8807 - f1_score: 0.8949 - val_loss: 0.2581 - val_accuracy: 0.9051 - val_precision_5: 0.9203 - val_recall_5: 0.8851 - val_f1_score: 0.9004\n",
            "Epoch 41/50\n",
            "674/674 [==============================] - 4s 6ms/step - loss: 0.2716 - accuracy: 0.9001 - precision_5: 0.9149 - recall_5: 0.8851 - f1_score: 0.8981 - val_loss: 0.2525 - val_accuracy: 0.9086 - val_precision_5: 0.9235 - val_recall_5: 0.8924 - val_f1_score: 0.9052\n",
            "Epoch 42/50\n",
            "674/674 [==============================] - 4s 6ms/step - loss: 0.2685 - accuracy: 0.9004 - precision_5: 0.9153 - recall_5: 0.8840 - f1_score: 0.8979 - val_loss: 0.2357 - val_accuracy: 0.9170 - val_precision_5: 0.9316 - val_recall_5: 0.9005 - val_f1_score: 0.9141\n",
            "Epoch 43/50\n",
            "674/674 [==============================] - 4s 6ms/step - loss: 0.2612 - accuracy: 0.9016 - precision_5: 0.9163 - recall_5: 0.8856 - f1_score: 0.8992 - val_loss: 0.2334 - val_accuracy: 0.9142 - val_precision_5: 0.9296 - val_recall_5: 0.8985 - val_f1_score: 0.9121\n",
            "Epoch 44/50\n",
            "674/674 [==============================] - 4s 6ms/step - loss: 0.2553 - accuracy: 0.9062 - precision_5: 0.9199 - recall_5: 0.8918 - f1_score: 0.9042 - val_loss: 0.2427 - val_accuracy: 0.9109 - val_precision_5: 0.9244 - val_recall_5: 0.8976 - val_f1_score: 0.9099\n",
            "Epoch 45/50\n",
            "674/674 [==============================] - 4s 6ms/step - loss: 0.2535 - accuracy: 0.9030 - precision_5: 0.9179 - recall_5: 0.8894 - f1_score: 0.9020 - val_loss: 0.2428 - val_accuracy: 0.9101 - val_precision_5: 0.9214 - val_recall_5: 0.8991 - val_f1_score: 0.9089\n",
            "Epoch 46/50\n",
            "674/674 [==============================] - 4s 6ms/step - loss: 0.2446 - accuracy: 0.9071 - precision_5: 0.9207 - recall_5: 0.8940 - f1_score: 0.9057 - val_loss: 0.2292 - val_accuracy: 0.9124 - val_precision_5: 0.9256 - val_recall_5: 0.8979 - val_f1_score: 0.9092\n",
            "Epoch 47/50\n",
            "674/674 [==============================] - 4s 6ms/step - loss: 0.2428 - accuracy: 0.9085 - precision_5: 0.9208 - recall_5: 0.8951 - f1_score: 0.9064 - val_loss: 0.2309 - val_accuracy: 0.9163 - val_precision_5: 0.9277 - val_recall_5: 0.9041 - val_f1_score: 0.9130\n",
            "Epoch 48/50\n",
            "674/674 [==============================] - 4s 6ms/step - loss: 0.2384 - accuracy: 0.9086 - precision_5: 0.9203 - recall_5: 0.8961 - f1_score: 0.9067 - val_loss: 0.2253 - val_accuracy: 0.9174 - val_precision_5: 0.9277 - val_recall_5: 0.9067 - val_f1_score: 0.9158\n",
            "Epoch 49/50\n",
            "674/674 [==============================] - 4s 6ms/step - loss: 0.2343 - accuracy: 0.9124 - precision_5: 0.9235 - recall_5: 0.8998 - f1_score: 0.9102 - val_loss: 0.2097 - val_accuracy: 0.9222 - val_precision_5: 0.9340 - val_recall_5: 0.9101 - val_f1_score: 0.9209\n",
            "Epoch 50/50\n",
            "674/674 [==============================] - 4s 6ms/step - loss: 0.2298 - accuracy: 0.9152 - precision_5: 0.9270 - recall_5: 0.9031 - f1_score: 0.9137 - val_loss: 0.2179 - val_accuracy: 0.9179 - val_precision_5: 0.9296 - val_recall_5: 0.9074 - val_f1_score: 0.9166\n"
          ]
        }
      ],
      "source": [
        "model_based_tuner = tuner.hypermodel.build(best_hps)\n",
        "history = model_based_tuner.fit(X_train, y_train, batch_size=32, epochs=50, validation_data=(X_train,y_train), callbacks= [ClearTrainingOutput()])"
      ]
    },
    {
      "cell_type": "code",
      "execution_count": null,
      "metadata": {
        "colab": {
          "base_uri": "https://localhost:8080/"
        },
        "id": "Eo9HBVfRK-4b",
        "outputId": "98826dde-b304-4537-f80a-abdf142cf5c5"
      },
      "outputs": [
        {
          "output_type": "execute_result",
          "data": {
            "text/plain": [
              "dict_keys(['loss', 'accuracy', 'precision_5', 'recall_5', 'f1_score', 'val_loss', 'val_accuracy', 'val_precision_5', 'val_recall_5', 'val_f1_score'])"
            ]
          },
          "metadata": {},
          "execution_count": 121
        }
      ],
      "source": [
        "model_based_tuner_dict = history.history\n",
        "model_based_tuner_dict.keys()"
      ]
    },
    {
      "cell_type": "code",
      "execution_count": null,
      "metadata": {
        "colab": {
          "base_uri": "https://localhost:8080/"
        },
        "id": "_jFaTqoG2-Mw",
        "outputId": "405ade6c-2731-413d-d691-f02e720f6be2"
      },
      "outputs": [
        {
          "output_type": "stream",
          "name": "stdout",
          "text": [
            "289/289 - 1s - loss: 0.4974 - accuracy: 0.8493 - precision_5: 0.8654 - recall_5: 0.8374 - f1_score: 0.8478 - 579ms/epoch - 2ms/step\n"
          ]
        }
      ],
      "source": [
        "results = model_based_tuner.evaluate(X_test,  y_test, verbose=2)"
      ]
    },
    {
      "cell_type": "code",
      "source": [
        "keras.utils.plot_model(model_based_tuner, \"beacon4_no_preprocessing.png\", show_shapes=True)"
      ],
      "metadata": {
        "colab": {
          "base_uri": "https://localhost:8080/",
          "height": 533
        },
        "id": "J4hqjwWtzONG",
        "outputId": "d1e5ce7d-f0b6-4c4d-b645-10d3bf51ea5a"
      },
      "execution_count": null,
      "outputs": [
        {
          "output_type": "execute_result",
          "data": {
            "text/plain": [
              "<IPython.core.display.Image object>"
            ],
            "image/png": "[encoded data removed]"
          },
          "metadata": {},
          "execution_count": 123
        }
      ]
    },
    {
      "cell_type": "markdown",
      "source": [
        "# Ploting"
      ],
      "metadata": {
        "id": "NkZ6FRaRJuT8"
      }
    },
    {
      "cell_type": "code",
      "execution_count": null,
      "metadata": {
        "colab": {
          "base_uri": "https://localhost:8080/",
          "height": 295
        },
        "id": "ZsLSBHgxLLS8",
        "outputId": "3e22a33e-292e-460f-980e-0b8b93d9cdb3"
      },
      "outputs": [
        {
          "output_type": "display_data",
          "data": {
            "text/plain": [
              "<Figure size 432x288 with 1 Axes>"
            ],
            "image/png": "[encoded data removed]"
          },
          "metadata": {
            "needs_background": "light"
          }
        }
      ],
      "source": [
        "acc = model_based_tuner_dict['accuracy']\n",
        "val_acc = model_based_tuner_dict['val_accuracy']\n",
        "loss = model_based_tuner_dict['loss']\n",
        "val_loss = model_based_tuner_dict['val_loss']\n",
        "recall = model_based_tuner_dict['recall_5']\n",
        "val_recall = model_based_tuner_dict['val_recall_5']\n",
        "f1_score = model_based_tuner_dict['f1_score']\n",
        "val_f1_score = model_based_tuner_dict['val_f1_score']\n",
        "\n",
        "epochs = range(1, len(acc) + 1)\n",
        "\n",
        "# \"bo\"는 \"파란색 점\"입니다\n",
        "plt.plot(epochs, loss, 'bo', label='Training loss')\n",
        "# b는 \"파란 실선\"입니다\n",
        "plt.plot(epochs, val_loss, 'b', label='Validation loss')\n",
        "plt.title('Training and validation loss')\n",
        "plt.xlabel('Epochs')\n",
        "plt.ylabel('Loss')\n",
        "plt.legend()\n",
        "\n",
        "plt.show()"
      ]
    },
    {
      "cell_type": "code",
      "execution_count": null,
      "metadata": {
        "id": "T4nI3BaWLRhI",
        "colab": {
          "base_uri": "https://localhost:8080/",
          "height": 295
        },
        "outputId": "e234f6bc-e602-4184-c4a5-25dc6a56542d"
      },
      "outputs": [
        {
          "output_type": "display_data",
          "data": {
            "text/plain": [
              "<Figure size 432x288 with 1 Axes>"
            ],
            "image/png": "[encoded data removed]"
          },
          "metadata": {
            "needs_background": "light"
          }
        }
      ],
      "source": [
        "plt.clf()   # 그림을 초기화합니다\n",
        "\n",
        "plt.plot(epochs, acc, 'bo', label='Training acc')\n",
        "plt.plot(epochs, val_acc, 'b', label='Validation acc')\n",
        "plt.title('Training and validation accuracy')\n",
        "plt.xlabel('Epochs')\n",
        "plt.ylabel('Accuracy')\n",
        "plt.legend()\n",
        "\n",
        "plt.show()"
      ]
    },
    {
      "cell_type": "code",
      "execution_count": null,
      "metadata": {
        "id": "B3_23STWzv8h",
        "colab": {
          "base_uri": "https://localhost:8080/",
          "height": 295
        },
        "outputId": "37e2f05f-1b17-4f53-bdf2-b98d81080c6c"
      },
      "outputs": [
        {
          "output_type": "display_data",
          "data": {
            "text/plain": [
              "<Figure size 432x288 with 1 Axes>"
            ],
            "image/png": "[encoded data removed]"
          },
          "metadata": {
            "needs_background": "light"
          }
        }
      ],
      "source": [
        "plt.clf()   # 그림을 초기화합니다\n",
        "\n",
        "plt.plot(epochs, recall, 'bo', label='Training recall')\n",
        "plt.plot(epochs, val_recall, 'b', label='Validation recall')\n",
        "plt.title('Training and validation recall')\n",
        "plt.xlabel('Epochs')\n",
        "plt.ylabel('recall')\n",
        "plt.legend()\n",
        "\n",
        "plt.show()"
      ]
    },
    {
      "cell_type": "code",
      "execution_count": null,
      "metadata": {
        "id": "UzhWcljsz7-n",
        "colab": {
          "base_uri": "https://localhost:8080/",
          "height": 295
        },
        "outputId": "72ee7fb2-c49f-4ef1-971b-e6a2eda4c82e"
      },
      "outputs": [
        {
          "output_type": "display_data",
          "data": {
            "text/plain": [
              "<Figure size 432x288 with 1 Axes>"
            ],
            "image/png": "[encoded data removed]"
          },
          "metadata": {
            "needs_background": "light"
          }
        }
      ],
      "source": [
        "plt.clf()   # 그림을 초기화합니다\n",
        "\n",
        "plt.plot(epochs, f1_score, 'bo', label='Training f1_score')\n",
        "plt.plot(epochs, val_f1_score, 'b', label='Validation f1_score')\n",
        "plt.title('Training and validation f1_score')\n",
        "plt.xlabel('Epochs')\n",
        "plt.ylabel('f1_score')\n",
        "plt.legend()\n",
        "\n",
        "plt.show()"
      ]
    },
    {
      "cell_type": "code",
      "source": [
        "X_test[0]"
      ],
      "metadata": {
        "id": "LkgYnGGuv7Yz",
        "colab": {
          "base_uri": "https://localhost:8080/"
        },
        "outputId": "0e5c9f9d-147d-4137-d5a5-a92cb9f45c7a"
      },
      "execution_count": null,
      "outputs": [
        {
          "output_type": "execute_result",
          "data": {
            "text/plain": [
              "array([-200.  ,  -85.92,  -67.28, -200.  ,  -77.88,  -76.18,  -80.3 ,\n",
              "        -76.78, -200.  ,  -79.79, -200.  ,  -86.4 ,  -85.47,  -79.18,\n",
              "       -200.  ,  -84.32, -200.  ,  -88.96, -200.  ,  -85.07, -200.  ,\n",
              "       -200.  ], dtype=float32)"
            ]
          },
          "metadata": {},
          "execution_count": 129
        }
      ]
    },
    {
      "cell_type": "markdown",
      "source": [
        "#Confusion Matrix"
      ],
      "metadata": {
        "id": "_XdtN3K6JwcL"
      }
    },
    {
      "cell_type": "code",
      "execution_count": null,
      "metadata": {
        "id": "AaRLoqHaAprt",
        "colab": {
          "base_uri": "https://localhost:8080/",
          "height": 986
        },
        "outputId": "a91a03af-cd60-4e69-a66a-535d25fca5f6"
      },
      "outputs": [
        {
          "output_type": "stream",
          "name": "stdout",
          "text": [
            "9242\n",
            "[16 17 10 ...  4 16 24]\n",
            "Confusion Matrix\n"
          ]
        },
        {
          "output_type": "display_data",
          "data": {
            "text/plain": [
              "<Figure size 1440x1440 with 2 Axes>"
            ],
            "image/png": "[encoded data removed]"
          },
          "metadata": {
            "needs_background": "light"
          }
        }
      ],
      "source": [
        "from sklearn.metrics import confusion_matrix\n",
        "y_test_arg=np.argmax(y_test,axis=1)\n",
        "Y_pred = np.argmax(model_based_tuner.predict(X_test),axis=1)\n",
        "print(len(X_test))\n",
        "print(Y_pred)\n",
        "print('Confusion Matrix')\n",
        "\n",
        "cf_matrix = confusion_matrix(y_test_arg, Y_pred)\n",
        "\n",
        "plt.figure(figsize=(20, 20)) \n",
        "ax = sns.heatmap(cf_matrix, annot = True)\n",
        "ax.set_title('indoor localization classification\\n')\n",
        "ax.set_xlabel('\\nPredict Value')\n",
        "ax.set_ylabel('Actual Value ')\n",
        "plt.show()"
      ]
    },
    {
      "cell_type": "markdown",
      "source": [
        "# TEST Data"
      ],
      "metadata": {
        "id": "tzO9istpGlgq"
      }
    },
    {
      "cell_type": "code",
      "source": [
        "testdatas = [] \n",
        "data_name = [('S', [1,2,3,4,5,6,7,8,9]), ('E', [1,2,3]), ('R',[1,2,3,4,5]), ('H', [1,2]), ('A', [1,2,3,4,5,6,7,8,9,10,11]), ('U', [1]) ]\n",
        "\n",
        "#Filtered_Test_U01\n",
        "\n",
        "for data in data_name:\n",
        "  for index in data[1]: \n",
        "    if index < 10:\n",
        "      no_supervised = pd.DataFrame(pd.read_csv(f'../test_data/Filtered_Test_{data[0]}0{index}.csv'))\n",
        "      no_supervised.drop('direction', axis=1, inplace=True)\n",
        "      no_supervised.drop('timeStamp', axis=1, inplace=True)\n",
        "      no_supervised.drop('heading', axis=1, inplace=True)\n",
        "      no_supervised.insert(0, 'location' ,f'{data[0]}0{index}')\n",
        "    else:\n",
        "      no_supervised = pd.DataFrame(pd.read_csv(f'../test_data/Filtered_Test_{data[0]}{index}.csv'))\n",
        "      no_supervised.drop('direction', axis=1, inplace=True)\n",
        "      no_supervised.drop('heading', axis=1, inplace=True)\n",
        "      no_supervised.drop('timeStamp', axis=1, inplace=True)\n",
        "      no_supervised.insert(0, 'location' ,f'{data[0]}{index}')\n",
        "    testdatas.append(no_supervised)\n",
        "\n",
        "\n",
        "def tominus200(x) :\n",
        "  if float(x) <= -90 :\n",
        "    return -200\n",
        "  return float(x)\n",
        "\n",
        "beacons = ['001','002','003','004','005','006','007','008','009','010','011','012','013','014','015','016','017','018','019','020','021', '022']\n",
        "for data in testdatas:\n",
        "  for beacon in beacons:\n",
        "    data[beacon] = data[beacon].apply(tominus200)"
      ],
      "metadata": {
        "id": "AMP7yXnLGixM"
      },
      "execution_count": null,
      "outputs": []
    },
    {
      "cell_type": "code",
      "execution_count": null,
      "metadata": {
        "id": "Stowmovvp1v8",
        "colab": {
          "base_uri": "https://localhost:8080/",
          "height": 488
        },
        "outputId": "1be983d0-7028-45b9-fc32-9d7e6c810172"
      },
      "outputs": [
        {
          "output_type": "execute_result",
          "data": {
            "text/plain": [
              "    location         001        002    003        004         005  006    007  \\\n",
              "0        S01 -200.000000  -70.00000 -200.0  -88.00000 -200.000000 -200 -200.0   \n",
              "1        S01  -89.498505  -70.00000 -200.0  -86.99900 -200.000000 -200 -200.0   \n",
              "2        S01  -89.666230 -200.00000 -200.0 -200.00000 -200.000000 -200 -200.0   \n",
              "3        S01 -200.000000  -68.99667 -200.0  -85.66156 -200.000000 -200 -200.0   \n",
              "4        S01 -200.000000  -68.99751 -200.0  -84.73978 -200.000000 -200 -200.0   \n",
              "..       ...         ...        ...    ...        ...         ...  ...    ...   \n",
              "180      S01  -88.792760  -73.70121 -200.0  -84.95001 -200.000000 -200 -200.0   \n",
              "181      S01  -88.408200  -73.53934 -200.0 -200.00000 -200.000000 -200 -200.0   \n",
              "182      S01  -88.084200 -200.00000 -200.0 -200.00000 -200.000000 -200 -200.0   \n",
              "183      S01 -200.000000 -200.00000 -200.0  -84.99593  -89.910965 -200 -200.0   \n",
              "184      S01  -88.255455  -73.77817 -200.0  -84.90864 -200.000000 -200 -200.0   \n",
              "\n",
              "            008  009  ...         013         014  015  016  017  018  019  \\\n",
              "0   -200.000000 -200  ...  -84.000000  -62.000000 -200 -200 -200 -200 -200   \n",
              "1   -200.000000 -200  ...  -83.499504  -63.501500 -200 -200 -200 -200 -200   \n",
              "2    -89.996670 -200  ...  -82.663570 -200.000000 -200 -200 -200 -200 -200   \n",
              "3   -200.000000 -200  ...  -82.244770  -63.668220 -200 -200 -200 -200 -200   \n",
              "4    -89.494026 -200  ... -200.000000  -64.003494 -200 -200 -200 -200 -200   \n",
              "..          ...  ...  ...         ...         ...  ...  ...  ...  ...  ...   \n",
              "180 -200.000000 -200  ...  -82.309880  -71.537890 -200 -200 -200 -200 -200   \n",
              "181 -200.000000 -200  ...  -82.252600  -71.514366 -200 -200 -200 -200 -200   \n",
              "182 -200.000000 -200  ...  -82.066610 -200.000000 -200 -200 -200 -200 -200   \n",
              "183 -200.000000 -200  ...  -81.845024  -71.579346 -200 -200 -200 -200 -200   \n",
              "184 -200.000000 -200  ... -200.000000  -71.597740 -200 -200 -200 -200 -200   \n",
              "\n",
              "            020  021  022  \n",
              "0    -53.000000 -200 -200  \n",
              "1    -53.000000 -200 -200  \n",
              "2    -53.000000 -200 -200  \n",
              "3   -200.000000 -200 -200  \n",
              "4    -53.503490 -200 -200  \n",
              "..          ...  ...  ...  \n",
              "180  -60.398052 -200 -200  \n",
              "181  -60.293175 -200 -200  \n",
              "182  -60.149147 -200 -200  \n",
              "183 -200.000000 -200 -200  \n",
              "184  -60.273830 -200 -200  \n",
              "\n",
              "[185 rows x 23 columns]"
            ],
            "text/html": [
              "\n",
              "  <div id=\"df-62855e27-7bce-4be0-af22-f1aeae35f331\">\n",
              "    <div class=\"colab-df-container\">\n",
              "      <div>\n",
              "<style scoped>\n",
              "    .dataframe tbody tr th:only-of-type {\n",
              "        vertical-align: middle;\n",
              "    }\n",
              "\n",
              "    .dataframe tbody tr th {\n",
              "        vertical-align: top;\n",
              "    }\n",
              "\n",
              "    .dataframe thead th {\n",
              "        text-align: right;\n",
              "    }\n",
              "</style>\n",
              "<table border=\"1\" class=\"dataframe\">\n",
              "  <thead>\n",
              "    <tr style=\"text-align: right;\">\n",
              "      <th></th>\n",
              "      <th>location</th>\n",
              "      <th>001</th>\n",
              "      <th>002</th>\n",
              "      <th>003</th>\n",
              "      <th>004</th>\n",
              "      <th>005</th>\n",
              "      <th>006</th>\n",
              "      <th>007</th>\n",
              "      <th>008</th>\n",
              "      <th>009</th>\n",
              "      <th>...</th>\n",
              "      <th>013</th>\n",
              "      <th>014</th>\n",
              "      <th>015</th>\n",
              "      <th>016</th>\n",
              "      <th>017</th>\n",
              "      <th>018</th>\n",
              "      <th>019</th>\n",
              "      <th>020</th>\n",
              "      <th>021</th>\n",
              "      <th>022</th>\n",
              "    </tr>\n",
              "  </thead>\n",
              "  <tbody>\n",
              "    <tr>\n",
              "      <th>0</th>\n",
              "      <td>S01</td>\n",
              "      <td>-200.000000</td>\n",
              "      <td>-70.00000</td>\n",
              "      <td>-200.0</td>\n",
              "      <td>-88.00000</td>\n",
              "      <td>-200.000000</td>\n",
              "      <td>-200</td>\n",
              "      <td>-200.0</td>\n",
              "      <td>-200.000000</td>\n",
              "      <td>-200</td>\n",
              "      <td>...</td>\n",
              "      <td>-84.000000</td>\n",
              "      <td>-62.000000</td>\n",
              "      <td>-200</td>\n",
              "      <td>-200</td>\n",
              "      <td>-200</td>\n",
              "      <td>-200</td>\n",
              "      <td>-200</td>\n",
              "      <td>-53.000000</td>\n",
              "      <td>-200</td>\n",
              "      <td>-200</td>\n",
              "    </tr>\n",
              "    <tr>\n",
              "      <th>1</th>\n",
              "      <td>S01</td>\n",
              "      <td>-89.498505</td>\n",
              "      <td>-70.00000</td>\n",
              "      <td>-200.0</td>\n",
              "      <td>-86.99900</td>\n",
              "      <td>-200.000000</td>\n",
              "      <td>-200</td>\n",
              "      <td>-200.0</td>\n",
              "      <td>-200.000000</td>\n",
              "      <td>-200</td>\n",
              "      <td>...</td>\n",
              "      <td>-83.499504</td>\n",
              "      <td>-63.501500</td>\n",
              "      <td>-200</td>\n",
              "      <td>-200</td>\n",
              "      <td>-200</td>\n",
              "      <td>-200</td>\n",
              "      <td>-200</td>\n",
              "      <td>-53.000000</td>\n",
              "      <td>-200</td>\n",
              "      <td>-200</td>\n",
              "    </tr>\n",
              "    <tr>\n",
              "      <th>2</th>\n",
              "      <td>S01</td>\n",
              "      <td>-89.666230</td>\n",
              "      <td>-200.00000</td>\n",
              "      <td>-200.0</td>\n",
              "      <td>-200.00000</td>\n",
              "      <td>-200.000000</td>\n",
              "      <td>-200</td>\n",
              "      <td>-200.0</td>\n",
              "      <td>-89.996670</td>\n",
              "      <td>-200</td>\n",
              "      <td>...</td>\n",
              "      <td>-82.663570</td>\n",
              "      <td>-200.000000</td>\n",
              "      <td>-200</td>\n",
              "      <td>-200</td>\n",
              "      <td>-200</td>\n",
              "      <td>-200</td>\n",
              "      <td>-200</td>\n",
              "      <td>-53.000000</td>\n",
              "      <td>-200</td>\n",
              "      <td>-200</td>\n",
              "    </tr>\n",
              "    <tr>\n",
              "      <th>3</th>\n",
              "      <td>S01</td>\n",
              "      <td>-200.000000</td>\n",
              "      <td>-68.99667</td>\n",
              "      <td>-200.0</td>\n",
              "      <td>-85.66156</td>\n",
              "      <td>-200.000000</td>\n",
              "      <td>-200</td>\n",
              "      <td>-200.0</td>\n",
              "      <td>-200.000000</td>\n",
              "      <td>-200</td>\n",
              "      <td>...</td>\n",
              "      <td>-82.244770</td>\n",
              "      <td>-63.668220</td>\n",
              "      <td>-200</td>\n",
              "      <td>-200</td>\n",
              "      <td>-200</td>\n",
              "      <td>-200</td>\n",
              "      <td>-200</td>\n",
              "      <td>-200.000000</td>\n",
              "      <td>-200</td>\n",
              "      <td>-200</td>\n",
              "    </tr>\n",
              "    <tr>\n",
              "      <th>4</th>\n",
              "      <td>S01</td>\n",
              "      <td>-200.000000</td>\n",
              "      <td>-68.99751</td>\n",
              "      <td>-200.0</td>\n",
              "      <td>-84.73978</td>\n",
              "      <td>-200.000000</td>\n",
              "      <td>-200</td>\n",
              "      <td>-200.0</td>\n",
              "      <td>-89.494026</td>\n",
              "      <td>-200</td>\n",
              "      <td>...</td>\n",
              "      <td>-200.000000</td>\n",
              "      <td>-64.003494</td>\n",
              "      <td>-200</td>\n",
              "      <td>-200</td>\n",
              "      <td>-200</td>\n",
              "      <td>-200</td>\n",
              "      <td>-200</td>\n",
              "      <td>-53.503490</td>\n",
              "      <td>-200</td>\n",
              "      <td>-200</td>\n",
              "    </tr>\n",
              "    <tr>\n",
              "      <th>...</th>\n",
              "      <td>...</td>\n",
              "      <td>...</td>\n",
              "      <td>...</td>\n",
              "      <td>...</td>\n",
              "      <td>...</td>\n",
              "      <td>...</td>\n",
              "      <td>...</td>\n",
              "      <td>...</td>\n",
              "      <td>...</td>\n",
              "      <td>...</td>\n",
              "      <td>...</td>\n",
              "      <td>...</td>\n",
              "      <td>...</td>\n",
              "      <td>...</td>\n",
              "      <td>...</td>\n",
              "      <td>...</td>\n",
              "      <td>...</td>\n",
              "      <td>...</td>\n",
              "      <td>...</td>\n",
              "      <td>...</td>\n",
              "      <td>...</td>\n",
              "    </tr>\n",
              "    <tr>\n",
              "      <th>180</th>\n",
              "      <td>S01</td>\n",
              "      <td>-88.792760</td>\n",
              "      <td>-73.70121</td>\n",
              "      <td>-200.0</td>\n",
              "      <td>-84.95001</td>\n",
              "      <td>-200.000000</td>\n",
              "      <td>-200</td>\n",
              "      <td>-200.0</td>\n",
              "      <td>-200.000000</td>\n",
              "      <td>-200</td>\n",
              "      <td>...</td>\n",
              "      <td>-82.309880</td>\n",
              "      <td>-71.537890</td>\n",
              "      <td>-200</td>\n",
              "      <td>-200</td>\n",
              "      <td>-200</td>\n",
              "      <td>-200</td>\n",
              "      <td>-200</td>\n",
              "      <td>-60.398052</td>\n",
              "      <td>-200</td>\n",
              "      <td>-200</td>\n",
              "    </tr>\n",
              "    <tr>\n",
              "      <th>181</th>\n",
              "      <td>S01</td>\n",
              "      <td>-88.408200</td>\n",
              "      <td>-73.53934</td>\n",
              "      <td>-200.0</td>\n",
              "      <td>-200.00000</td>\n",
              "      <td>-200.000000</td>\n",
              "      <td>-200</td>\n",
              "      <td>-200.0</td>\n",
              "      <td>-200.000000</td>\n",
              "      <td>-200</td>\n",
              "      <td>...</td>\n",
              "      <td>-82.252600</td>\n",
              "      <td>-71.514366</td>\n",
              "      <td>-200</td>\n",
              "      <td>-200</td>\n",
              "      <td>-200</td>\n",
              "      <td>-200</td>\n",
              "      <td>-200</td>\n",
              "      <td>-60.293175</td>\n",
              "      <td>-200</td>\n",
              "      <td>-200</td>\n",
              "    </tr>\n",
              "    <tr>\n",
              "      <th>182</th>\n",
              "      <td>S01</td>\n",
              "      <td>-88.084200</td>\n",
              "      <td>-200.00000</td>\n",
              "      <td>-200.0</td>\n",
              "      <td>-200.00000</td>\n",
              "      <td>-200.000000</td>\n",
              "      <td>-200</td>\n",
              "      <td>-200.0</td>\n",
              "      <td>-200.000000</td>\n",
              "      <td>-200</td>\n",
              "      <td>...</td>\n",
              "      <td>-82.066610</td>\n",
              "      <td>-200.000000</td>\n",
              "      <td>-200</td>\n",
              "      <td>-200</td>\n",
              "      <td>-200</td>\n",
              "      <td>-200</td>\n",
              "      <td>-200</td>\n",
              "      <td>-60.149147</td>\n",
              "      <td>-200</td>\n",
              "      <td>-200</td>\n",
              "    </tr>\n",
              "    <tr>\n",
              "      <th>183</th>\n",
              "      <td>S01</td>\n",
              "      <td>-200.000000</td>\n",
              "      <td>-200.00000</td>\n",
              "      <td>-200.0</td>\n",
              "      <td>-84.99593</td>\n",
              "      <td>-89.910965</td>\n",
              "      <td>-200</td>\n",
              "      <td>-200.0</td>\n",
              "      <td>-200.000000</td>\n",
              "      <td>-200</td>\n",
              "      <td>...</td>\n",
              "      <td>-81.845024</td>\n",
              "      <td>-71.579346</td>\n",
              "      <td>-200</td>\n",
              "      <td>-200</td>\n",
              "      <td>-200</td>\n",
              "      <td>-200</td>\n",
              "      <td>-200</td>\n",
              "      <td>-200.000000</td>\n",
              "      <td>-200</td>\n",
              "      <td>-200</td>\n",
              "    </tr>\n",
              "    <tr>\n",
              "      <th>184</th>\n",
              "      <td>S01</td>\n",
              "      <td>-88.255455</td>\n",
              "      <td>-73.77817</td>\n",
              "      <td>-200.0</td>\n",
              "      <td>-84.90864</td>\n",
              "      <td>-200.000000</td>\n",
              "      <td>-200</td>\n",
              "      <td>-200.0</td>\n",
              "      <td>-200.000000</td>\n",
              "      <td>-200</td>\n",
              "      <td>...</td>\n",
              "      <td>-200.000000</td>\n",
              "      <td>-71.597740</td>\n",
              "      <td>-200</td>\n",
              "      <td>-200</td>\n",
              "      <td>-200</td>\n",
              "      <td>-200</td>\n",
              "      <td>-200</td>\n",
              "      <td>-60.273830</td>\n",
              "      <td>-200</td>\n",
              "      <td>-200</td>\n",
              "    </tr>\n",
              "  </tbody>\n",
              "</table>\n",
              "<p>185 rows × 23 columns</p>\n",
              "</div>\n",
              "      <button class=\"colab-df-convert\" onclick=\"convertToInteractive('df-62855e27-7bce-4be0-af22-f1aeae35f331')\"\n",
              "              title=\"Convert this dataframe to an interactive table.\"\n",
              "              style=\"display:none;\">\n",
              "        \n",
              "  <svg xmlns=\"http://www.w3.org/2000/svg\" height=\"24px\"viewBox=\"0 0 24 24\"\n",
              "       width=\"24px\">\n",
              "    <path d=\"M0 0h24v24H0V0z\" fill=\"none\"/>\n",
              "    <path d=\"M18.56 5.44l.94 2.06.94-2.06 2.06-.94-2.06-.94-.94-2.06-.94 2.06-2.06.94zm-11 1L8.5 8.5l.94-2.06 2.06-.94-2.06-.94L8.5 2.5l-.94 2.06-2.06.94zm10 10l.94 2.06.94-2.06 2.06-.94-2.06-.94-.94-2.06-.94 2.06-2.06.94z\"/><path d=\"M17.41 7.96l-1.37-1.37c-.4-.4-.92-.59-1.43-.59-.52 0-1.04.2-1.43.59L10.3 9.45l-7.72 7.72c-.78.78-.78 2.05 0 2.83L4 21.41c.39.39.9.59 1.41.59.51 0 1.02-.2 1.41-.59l7.78-7.78 2.81-2.81c.8-.78.8-2.07 0-2.86zM5.41 20L4 18.59l7.72-7.72 1.47 1.35L5.41 20z\"/>\n",
              "  </svg>\n",
              "      </button>\n",
              "      \n",
              "  <style>\n",
              "    .colab-df-container {\n",
              "      display:flex;\n",
              "      flex-wrap:wrap;\n",
              "      gap: 12px;\n",
              "    }\n",
              "\n",
              "    .colab-df-convert {\n",
              "      background-color: #E8F0FE;\n",
              "      border: none;\n",
              "      border-radius: 50%;\n",
              "      cursor: pointer;\n",
              "      display: none;\n",
              "      fill: #1967D2;\n",
              "      height: 32px;\n",
              "      padding: 0 0 0 0;\n",
              "      width: 32px;\n",
              "    }\n",
              "\n",
              "    .colab-df-convert:hover {\n",
              "      background-color: #E2EBFA;\n",
              "      box-shadow: 0px 1px 2px rgba(60, 64, 67, 0.3), 0px 1px 3px 1px rgba(60, 64, 67, 0.15);\n",
              "      fill: #174EA6;\n",
              "    }\n",
              "\n",
              "    [theme=dark] .colab-df-convert {\n",
              "      background-color: #3B4455;\n",
              "      fill: #D2E3FC;\n",
              "    }\n",
              "\n",
              "    [theme=dark] .colab-df-convert:hover {\n",
              "      background-color: #434B5C;\n",
              "      box-shadow: 0px 1px 3px 1px rgba(0, 0, 0, 0.15);\n",
              "      filter: drop-shadow(0px 1px 2px rgba(0, 0, 0, 0.3));\n",
              "      fill: #FFFFFF;\n",
              "    }\n",
              "  </style>\n",
              "\n",
              "      <script>\n",
              "        const buttonEl =\n",
              "          document.querySelector('#df-62855e27-7bce-4be0-af22-f1aeae35f331 button.colab-df-convert');\n",
              "        buttonEl.style.display =\n",
              "          google.colab.kernel.accessAllowed ? 'block' : 'none';\n",
              "\n",
              "        async function convertToInteractive(key) {\n",
              "          const element = document.querySelector('#df-62855e27-7bce-4be0-af22-f1aeae35f331');\n",
              "          const dataTable =\n",
              "            await google.colab.kernel.invokeFunction('convertToInteractive',\n",
              "                                                     [key], {});\n",
              "          if (!dataTable) return;\n",
              "\n",
              "          const docLinkHtml = 'Like what you see? Visit the ' +\n",
              "            '<a target=\"_blank\" href=https://colab.research.google.com/notebooks/data_table.ipynb>data table notebook</a>'\n",
              "            + ' to learn more about interactive tables.';\n",
              "          element.innerHTML = '';\n",
              "          dataTable['output_type'] = 'display_data';\n",
              "          await google.colab.output.renderOutput(dataTable, element);\n",
              "          const docLink = document.createElement('div');\n",
              "          docLink.innerHTML = docLinkHtml;\n",
              "          element.appendChild(docLink);\n",
              "        }\n",
              "      </script>\n",
              "    </div>\n",
              "  </div>\n",
              "  "
            ]
          },
          "metadata": {},
          "execution_count": 149
        }
      ],
      "source": [
        "testdatas[0]"
      ]
    },
    {
      "cell_type": "code",
      "source": [
        "# for data in testdatas:\n",
        "#   for row_index in range(len(data)):\n",
        "#     if row_index % 2 == 1:\n",
        "#       for col_index in range(1, len(data.columns)):\n",
        "#         if data.iloc[row_index - 1, col_index] > data.iloc[row_index, col_index]:\n",
        "#           data.iloc[row_index, col_index] = data.iloc[row_index - 1, col_index]\n"
      ],
      "metadata": {
        "id": "VJmD1v0wJP2y"
      },
      "execution_count": null,
      "outputs": []
    },
    {
      "cell_type": "code",
      "execution_count": null,
      "metadata": {
        "id": "jvnytW5ivpap"
      },
      "outputs": [],
      "source": [
        "# 상위 4개를 통해서 classification 하기\n",
        "for data in testdatas:\n",
        "  for row_index in range(len(data)):\n",
        "    column_idx = [0,1,2,3,4,5,6,7,8,9,10,11,12,13,14,15,16,17,18,19,20,21,22]\n",
        "    a = sorted(data.loc[row_index].tolist()[1:])\n",
        "    b = list(a)[-4:]\n",
        "    isMax = [0]\n",
        "    for i in range(len(data.columns)):\n",
        "      for num in b:\n",
        "        if data.loc[row_index][i] == num:\n",
        "          isMax.append(i)\n",
        "\n",
        "    remove_set = set(isMax)\n",
        "    column_idx = [i for i in column_idx if i not in remove_set]\n",
        "    data.iloc[[row_index], column_idx] = [-200 for i in range(len(column_idx))]\n",
        "  "
      ]
    },
    {
      "cell_type": "code",
      "execution_count": null,
      "metadata": {
        "id": "ejxJdLKY1Fgx"
      },
      "outputs": [],
      "source": [
        "for index in range(len(testdatas)):\n",
        "  testdatas[index] = testdatas[index].iloc[1::2,:]"
      ]
    },
    {
      "cell_type": "code",
      "source": [
        "for index in range(len(testdatas)):\n",
        "  testdatas[index].reset_index(inplace=True)"
      ],
      "metadata": {
        "id": "_72Q4ZEKORey"
      },
      "execution_count": null,
      "outputs": []
    },
    {
      "cell_type": "code",
      "source": [
        "for index in range(len(testdatas)):\n",
        "  testdatas[index].drop('index', axis=1, inplace=True)"
      ],
      "metadata": {
        "id": "YOfQI_GKQjBt",
        "colab": {
          "base_uri": "https://localhost:8080/"
        },
        "outputId": "e28ee6d0-2620-4e56-da1b-55c443f609da"
      },
      "execution_count": null,
      "outputs": [
        {
          "output_type": "stream",
          "name": "stderr",
          "text": [
            "/usr/local/lib/python3.7/dist-packages/pandas/core/frame.py:4913: SettingWithCopyWarning: \n",
            "A value is trying to be set on a copy of a slice from a DataFrame\n",
            "\n",
            "See the caveats in the documentation: https://pandas.pydata.org/pandas-docs/stable/user_guide/indexing.html#returning-a-view-versus-a-copy\n",
            "  errors=errors,\n"
          ]
        }
      ]
    },
    {
      "cell_type": "code",
      "source": [
        "result_test = pd.concat(testdatas)"
      ],
      "metadata": {
        "id": "muCm_yzGRHW2"
      },
      "execution_count": null,
      "outputs": []
    },
    {
      "cell_type": "code",
      "source": [
        "result_test.reset_index(inplace=True)"
      ],
      "metadata": {
        "id": "A5gZl4CWRWnT"
      },
      "execution_count": null,
      "outputs": []
    },
    {
      "cell_type": "code",
      "source": [
        "result_test.drop('index', axis=1, inplace=True)"
      ],
      "metadata": {
        "id": "1SBImU_KRcxi"
      },
      "execution_count": null,
      "outputs": []
    },
    {
      "cell_type": "code",
      "source": [
        "result_test"
      ],
      "metadata": {
        "colab": {
          "base_uri": "https://localhost:8080/",
          "height": 488
        },
        "id": "HwNBORZIh3Um",
        "outputId": "c34dd347-c30d-4b3d-caba-1ea4ff98e139"
      },
      "execution_count": null,
      "outputs": [
        {
          "output_type": "execute_result",
          "data": {
            "text/plain": [
              "     location    001        002    003    004    005    006        007    008  \\\n",
              "0         S01 -200.0  -70.00000 -200.0 -200.0 -200.0 -200.0 -200.00000 -200.0   \n",
              "1         S01 -200.0  -68.99667 -200.0 -200.0 -200.0 -200.0 -200.00000 -200.0   \n",
              "2         S01 -200.0  -68.99802 -200.0 -200.0 -200.0 -200.0 -200.00000 -200.0   \n",
              "3         S01 -200.0  -69.73131 -200.0 -200.0 -200.0 -200.0 -200.00000 -200.0   \n",
              "4         S01 -200.0  -69.76606 -200.0 -200.0 -200.0 -200.0 -200.00000 -200.0   \n",
              "...       ...    ...        ...    ...    ...    ...    ...        ...    ...   \n",
              "2860      U01 -200.0 -200.00000 -200.0 -200.0 -200.0 -200.0 -200.00000 -200.0   \n",
              "2861      U01 -200.0 -200.00000 -200.0 -200.0 -200.0 -200.0 -200.00000 -200.0   \n",
              "2862      U01 -200.0 -200.00000 -200.0 -200.0 -200.0 -200.0  -82.44741 -200.0   \n",
              "2863      U01 -200.0 -200.00000 -200.0 -200.0 -200.0 -200.0  -82.66772 -200.0   \n",
              "2864      U01 -200.0 -200.00000 -200.0 -200.0 -200.0 -200.0 -200.00000 -200.0   \n",
              "\n",
              "        009  ...        013         014         015        016         017  \\\n",
              "0    -200.0  ... -200.00000  -63.501500 -200.000000 -200.00000 -200.000000   \n",
              "1    -200.0  ...  -82.24477  -63.668220 -200.000000 -200.00000 -200.000000   \n",
              "2    -200.0  ... -200.00000  -64.609955 -200.000000 -200.00000 -200.000000   \n",
              "3    -200.0  ...  -82.28488 -200.000000 -200.000000 -200.00000 -200.000000   \n",
              "4    -200.0  ... -200.00000  -66.952250 -200.000000 -200.00000 -200.000000   \n",
              "...     ...  ...        ...         ...         ...        ...         ...   \n",
              "2860 -200.0  ... -200.00000 -200.000000  -79.996635  -77.13914  -69.807520   \n",
              "2861 -200.0  ... -200.00000 -200.000000  -80.466540  -76.82682  -69.422320   \n",
              "2862 -200.0  ... -200.00000 -200.000000  -80.446140 -200.00000  -68.787285   \n",
              "2863 -200.0  ... -200.00000 -200.000000  -80.493520  -76.54314 -200.000000   \n",
              "2864 -200.0  ... -200.00000 -200.000000 -200.000000  -76.49858  -68.361000   \n",
              "\n",
              "             018        019         020    021    022  \n",
              "0    -200.000000 -200.00000  -53.000000 -200.0 -200.0  \n",
              "1    -200.000000 -200.00000 -200.000000 -200.0 -200.0  \n",
              "2    -200.000000 -200.00000  -53.603977 -200.0 -200.0  \n",
              "3    -200.000000 -200.00000  -53.427990 -200.0 -200.0  \n",
              "4    -200.000000 -200.00000  -53.501970 -200.0 -200.0  \n",
              "...          ...        ...         ...    ...    ...  \n",
              "2860  -59.319176 -200.00000 -200.000000 -200.0 -200.0  \n",
              "2861  -59.830044 -200.00000 -200.000000 -200.0 -200.0  \n",
              "2862  -60.530960 -200.00000 -200.000000 -200.0 -200.0  \n",
              "2863 -200.000000  -81.97551 -200.000000 -200.0 -200.0  \n",
              "2864  -61.385063  -81.76276 -200.000000 -200.0 -200.0  \n",
              "\n",
              "[2865 rows x 23 columns]"
            ],
            "text/html": [
              "\n",
              "  <div id=\"df-e5d01e59-3540-4cd1-ae01-babb800b7a40\">\n",
              "    <div class=\"colab-df-container\">\n",
              "      <div>\n",
              "<style scoped>\n",
              "    .dataframe tbody tr th:only-of-type {\n",
              "        vertical-align: middle;\n",
              "    }\n",
              "\n",
              "    .dataframe tbody tr th {\n",
              "        vertical-align: top;\n",
              "    }\n",
              "\n",
              "    .dataframe thead th {\n",
              "        text-align: right;\n",
              "    }\n",
              "</style>\n",
              "<table border=\"1\" class=\"dataframe\">\n",
              "  <thead>\n",
              "    <tr style=\"text-align: right;\">\n",
              "      <th></th>\n",
              "      <th>location</th>\n",
              "      <th>001</th>\n",
              "      <th>002</th>\n",
              "      <th>003</th>\n",
              "      <th>004</th>\n",
              "      <th>005</th>\n",
              "      <th>006</th>\n",
              "      <th>007</th>\n",
              "      <th>008</th>\n",
              "      <th>009</th>\n",
              "      <th>...</th>\n",
              "      <th>013</th>\n",
              "      <th>014</th>\n",
              "      <th>015</th>\n",
              "      <th>016</th>\n",
              "      <th>017</th>\n",
              "      <th>018</th>\n",
              "      <th>019</th>\n",
              "      <th>020</th>\n",
              "      <th>021</th>\n",
              "      <th>022</th>\n",
              "    </tr>\n",
              "  </thead>\n",
              "  <tbody>\n",
              "    <tr>\n",
              "      <th>0</th>\n",
              "      <td>S01</td>\n",
              "      <td>-200.0</td>\n",
              "      <td>-70.00000</td>\n",
              "      <td>-200.0</td>\n",
              "      <td>-200.0</td>\n",
              "      <td>-200.0</td>\n",
              "      <td>-200.0</td>\n",
              "      <td>-200.00000</td>\n",
              "      <td>-200.0</td>\n",
              "      <td>-200.0</td>\n",
              "      <td>...</td>\n",
              "      <td>-200.00000</td>\n",
              "      <td>-63.501500</td>\n",
              "      <td>-200.000000</td>\n",
              "      <td>-200.00000</td>\n",
              "      <td>-200.000000</td>\n",
              "      <td>-200.000000</td>\n",
              "      <td>-200.00000</td>\n",
              "      <td>-53.000000</td>\n",
              "      <td>-200.0</td>\n",
              "      <td>-200.0</td>\n",
              "    </tr>\n",
              "    <tr>\n",
              "      <th>1</th>\n",
              "      <td>S01</td>\n",
              "      <td>-200.0</td>\n",
              "      <td>-68.99667</td>\n",
              "      <td>-200.0</td>\n",
              "      <td>-200.0</td>\n",
              "      <td>-200.0</td>\n",
              "      <td>-200.0</td>\n",
              "      <td>-200.00000</td>\n",
              "      <td>-200.0</td>\n",
              "      <td>-200.0</td>\n",
              "      <td>...</td>\n",
              "      <td>-82.24477</td>\n",
              "      <td>-63.668220</td>\n",
              "      <td>-200.000000</td>\n",
              "      <td>-200.00000</td>\n",
              "      <td>-200.000000</td>\n",
              "      <td>-200.000000</td>\n",
              "      <td>-200.00000</td>\n",
              "      <td>-200.000000</td>\n",
              "      <td>-200.0</td>\n",
              "      <td>-200.0</td>\n",
              "    </tr>\n",
              "    <tr>\n",
              "      <th>2</th>\n",
              "      <td>S01</td>\n",
              "      <td>-200.0</td>\n",
              "      <td>-68.99802</td>\n",
              "      <td>-200.0</td>\n",
              "      <td>-200.0</td>\n",
              "      <td>-200.0</td>\n",
              "      <td>-200.0</td>\n",
              "      <td>-200.00000</td>\n",
              "      <td>-200.0</td>\n",
              "      <td>-200.0</td>\n",
              "      <td>...</td>\n",
              "      <td>-200.00000</td>\n",
              "      <td>-64.609955</td>\n",
              "      <td>-200.000000</td>\n",
              "      <td>-200.00000</td>\n",
              "      <td>-200.000000</td>\n",
              "      <td>-200.000000</td>\n",
              "      <td>-200.00000</td>\n",
              "      <td>-53.603977</td>\n",
              "      <td>-200.0</td>\n",
              "      <td>-200.0</td>\n",
              "    </tr>\n",
              "    <tr>\n",
              "      <th>3</th>\n",
              "      <td>S01</td>\n",
              "      <td>-200.0</td>\n",
              "      <td>-69.73131</td>\n",
              "      <td>-200.0</td>\n",
              "      <td>-200.0</td>\n",
              "      <td>-200.0</td>\n",
              "      <td>-200.0</td>\n",
              "      <td>-200.00000</td>\n",
              "      <td>-200.0</td>\n",
              "      <td>-200.0</td>\n",
              "      <td>...</td>\n",
              "      <td>-82.28488</td>\n",
              "      <td>-200.000000</td>\n",
              "      <td>-200.000000</td>\n",
              "      <td>-200.00000</td>\n",
              "      <td>-200.000000</td>\n",
              "      <td>-200.000000</td>\n",
              "      <td>-200.00000</td>\n",
              "      <td>-53.427990</td>\n",
              "      <td>-200.0</td>\n",
              "      <td>-200.0</td>\n",
              "    </tr>\n",
              "    <tr>\n",
              "      <th>4</th>\n",
              "      <td>S01</td>\n",
              "      <td>-200.0</td>\n",
              "      <td>-69.76606</td>\n",
              "      <td>-200.0</td>\n",
              "      <td>-200.0</td>\n",
              "      <td>-200.0</td>\n",
              "      <td>-200.0</td>\n",
              "      <td>-200.00000</td>\n",
              "      <td>-200.0</td>\n",
              "      <td>-200.0</td>\n",
              "      <td>...</td>\n",
              "      <td>-200.00000</td>\n",
              "      <td>-66.952250</td>\n",
              "      <td>-200.000000</td>\n",
              "      <td>-200.00000</td>\n",
              "      <td>-200.000000</td>\n",
              "      <td>-200.000000</td>\n",
              "      <td>-200.00000</td>\n",
              "      <td>-53.501970</td>\n",
              "      <td>-200.0</td>\n",
              "      <td>-200.0</td>\n",
              "    </tr>\n",
              "    <tr>\n",
              "      <th>...</th>\n",
              "      <td>...</td>\n",
              "      <td>...</td>\n",
              "      <td>...</td>\n",
              "      <td>...</td>\n",
              "      <td>...</td>\n",
              "      <td>...</td>\n",
              "      <td>...</td>\n",
              "      <td>...</td>\n",
              "      <td>...</td>\n",
              "      <td>...</td>\n",
              "      <td>...</td>\n",
              "      <td>...</td>\n",
              "      <td>...</td>\n",
              "      <td>...</td>\n",
              "      <td>...</td>\n",
              "      <td>...</td>\n",
              "      <td>...</td>\n",
              "      <td>...</td>\n",
              "      <td>...</td>\n",
              "      <td>...</td>\n",
              "      <td>...</td>\n",
              "    </tr>\n",
              "    <tr>\n",
              "      <th>2860</th>\n",
              "      <td>U01</td>\n",
              "      <td>-200.0</td>\n",
              "      <td>-200.00000</td>\n",
              "      <td>-200.0</td>\n",
              "      <td>-200.0</td>\n",
              "      <td>-200.0</td>\n",
              "      <td>-200.0</td>\n",
              "      <td>-200.00000</td>\n",
              "      <td>-200.0</td>\n",
              "      <td>-200.0</td>\n",
              "      <td>...</td>\n",
              "      <td>-200.00000</td>\n",
              "      <td>-200.000000</td>\n",
              "      <td>-79.996635</td>\n",
              "      <td>-77.13914</td>\n",
              "      <td>-69.807520</td>\n",
              "      <td>-59.319176</td>\n",
              "      <td>-200.00000</td>\n",
              "      <td>-200.000000</td>\n",
              "      <td>-200.0</td>\n",
              "      <td>-200.0</td>\n",
              "    </tr>\n",
              "    <tr>\n",
              "      <th>2861</th>\n",
              "      <td>U01</td>\n",
              "      <td>-200.0</td>\n",
              "      <td>-200.00000</td>\n",
              "      <td>-200.0</td>\n",
              "      <td>-200.0</td>\n",
              "      <td>-200.0</td>\n",
              "      <td>-200.0</td>\n",
              "      <td>-200.00000</td>\n",
              "      <td>-200.0</td>\n",
              "      <td>-200.0</td>\n",
              "      <td>...</td>\n",
              "      <td>-200.00000</td>\n",
              "      <td>-200.000000</td>\n",
              "      <td>-80.466540</td>\n",
              "      <td>-76.82682</td>\n",
              "      <td>-69.422320</td>\n",
              "      <td>-59.830044</td>\n",
              "      <td>-200.00000</td>\n",
              "      <td>-200.000000</td>\n",
              "      <td>-200.0</td>\n",
              "      <td>-200.0</td>\n",
              "    </tr>\n",
              "    <tr>\n",
              "      <th>2862</th>\n",
              "      <td>U01</td>\n",
              "      <td>-200.0</td>\n",
              "      <td>-200.00000</td>\n",
              "      <td>-200.0</td>\n",
              "      <td>-200.0</td>\n",
              "      <td>-200.0</td>\n",
              "      <td>-200.0</td>\n",
              "      <td>-82.44741</td>\n",
              "      <td>-200.0</td>\n",
              "      <td>-200.0</td>\n",
              "      <td>...</td>\n",
              "      <td>-200.00000</td>\n",
              "      <td>-200.000000</td>\n",
              "      <td>-80.446140</td>\n",
              "      <td>-200.00000</td>\n",
              "      <td>-68.787285</td>\n",
              "      <td>-60.530960</td>\n",
              "      <td>-200.00000</td>\n",
              "      <td>-200.000000</td>\n",
              "      <td>-200.0</td>\n",
              "      <td>-200.0</td>\n",
              "    </tr>\n",
              "    <tr>\n",
              "      <th>2863</th>\n",
              "      <td>U01</td>\n",
              "      <td>-200.0</td>\n",
              "      <td>-200.00000</td>\n",
              "      <td>-200.0</td>\n",
              "      <td>-200.0</td>\n",
              "      <td>-200.0</td>\n",
              "      <td>-200.0</td>\n",
              "      <td>-82.66772</td>\n",
              "      <td>-200.0</td>\n",
              "      <td>-200.0</td>\n",
              "      <td>...</td>\n",
              "      <td>-200.00000</td>\n",
              "      <td>-200.000000</td>\n",
              "      <td>-80.493520</td>\n",
              "      <td>-76.54314</td>\n",
              "      <td>-200.000000</td>\n",
              "      <td>-200.000000</td>\n",
              "      <td>-81.97551</td>\n",
              "      <td>-200.000000</td>\n",
              "      <td>-200.0</td>\n",
              "      <td>-200.0</td>\n",
              "    </tr>\n",
              "    <tr>\n",
              "      <th>2864</th>\n",
              "      <td>U01</td>\n",
              "      <td>-200.0</td>\n",
              "      <td>-200.00000</td>\n",
              "      <td>-200.0</td>\n",
              "      <td>-200.0</td>\n",
              "      <td>-200.0</td>\n",
              "      <td>-200.0</td>\n",
              "      <td>-200.00000</td>\n",
              "      <td>-200.0</td>\n",
              "      <td>-200.0</td>\n",
              "      <td>...</td>\n",
              "      <td>-200.00000</td>\n",
              "      <td>-200.000000</td>\n",
              "      <td>-200.000000</td>\n",
              "      <td>-76.49858</td>\n",
              "      <td>-68.361000</td>\n",
              "      <td>-61.385063</td>\n",
              "      <td>-81.76276</td>\n",
              "      <td>-200.000000</td>\n",
              "      <td>-200.0</td>\n",
              "      <td>-200.0</td>\n",
              "    </tr>\n",
              "  </tbody>\n",
              "</table>\n",
              "<p>2865 rows × 23 columns</p>\n",
              "</div>\n",
              "      <button class=\"colab-df-convert\" onclick=\"convertToInteractive('df-e5d01e59-3540-4cd1-ae01-babb800b7a40')\"\n",
              "              title=\"Convert this dataframe to an interactive table.\"\n",
              "              style=\"display:none;\">\n",
              "        \n",
              "  <svg xmlns=\"http://www.w3.org/2000/svg\" height=\"24px\"viewBox=\"0 0 24 24\"\n",
              "       width=\"24px\">\n",
              "    <path d=\"M0 0h24v24H0V0z\" fill=\"none\"/>\n",
              "    <path d=\"M18.56 5.44l.94 2.06.94-2.06 2.06-.94-2.06-.94-.94-2.06-.94 2.06-2.06.94zm-11 1L8.5 8.5l.94-2.06 2.06-.94-2.06-.94L8.5 2.5l-.94 2.06-2.06.94zm10 10l.94 2.06.94-2.06 2.06-.94-2.06-.94-.94-2.06-.94 2.06-2.06.94z\"/><path d=\"M17.41 7.96l-1.37-1.37c-.4-.4-.92-.59-1.43-.59-.52 0-1.04.2-1.43.59L10.3 9.45l-7.72 7.72c-.78.78-.78 2.05 0 2.83L4 21.41c.39.39.9.59 1.41.59.51 0 1.02-.2 1.41-.59l7.78-7.78 2.81-2.81c.8-.78.8-2.07 0-2.86zM5.41 20L4 18.59l7.72-7.72 1.47 1.35L5.41 20z\"/>\n",
              "  </svg>\n",
              "      </button>\n",
              "      \n",
              "  <style>\n",
              "    .colab-df-container {\n",
              "      display:flex;\n",
              "      flex-wrap:wrap;\n",
              "      gap: 12px;\n",
              "    }\n",
              "\n",
              "    .colab-df-convert {\n",
              "      background-color: #E8F0FE;\n",
              "      border: none;\n",
              "      border-radius: 50%;\n",
              "      cursor: pointer;\n",
              "      display: none;\n",
              "      fill: #1967D2;\n",
              "      height: 32px;\n",
              "      padding: 0 0 0 0;\n",
              "      width: 32px;\n",
              "    }\n",
              "\n",
              "    .colab-df-convert:hover {\n",
              "      background-color: #E2EBFA;\n",
              "      box-shadow: 0px 1px 2px rgba(60, 64, 67, 0.3), 0px 1px 3px 1px rgba(60, 64, 67, 0.15);\n",
              "      fill: #174EA6;\n",
              "    }\n",
              "\n",
              "    [theme=dark] .colab-df-convert {\n",
              "      background-color: #3B4455;\n",
              "      fill: #D2E3FC;\n",
              "    }\n",
              "\n",
              "    [theme=dark] .colab-df-convert:hover {\n",
              "      background-color: #434B5C;\n",
              "      box-shadow: 0px 1px 3px 1px rgba(0, 0, 0, 0.15);\n",
              "      filter: drop-shadow(0px 1px 2px rgba(0, 0, 0, 0.3));\n",
              "      fill: #FFFFFF;\n",
              "    }\n",
              "  </style>\n",
              "\n",
              "      <script>\n",
              "        const buttonEl =\n",
              "          document.querySelector('#df-e5d01e59-3540-4cd1-ae01-babb800b7a40 button.colab-df-convert');\n",
              "        buttonEl.style.display =\n",
              "          google.colab.kernel.accessAllowed ? 'block' : 'none';\n",
              "\n",
              "        async function convertToInteractive(key) {\n",
              "          const element = document.querySelector('#df-e5d01e59-3540-4cd1-ae01-babb800b7a40');\n",
              "          const dataTable =\n",
              "            await google.colab.kernel.invokeFunction('convertToInteractive',\n",
              "                                                     [key], {});\n",
              "          if (!dataTable) return;\n",
              "\n",
              "          const docLinkHtml = 'Like what you see? Visit the ' +\n",
              "            '<a target=\"_blank\" href=https://colab.research.google.com/notebooks/data_table.ipynb>data table notebook</a>'\n",
              "            + ' to learn more about interactive tables.';\n",
              "          element.innerHTML = '';\n",
              "          dataTable['output_type'] = 'display_data';\n",
              "          await google.colab.output.renderOutput(dataTable, element);\n",
              "          const docLink = document.createElement('div');\n",
              "          docLink.innerHTML = docLinkHtml;\n",
              "          element.appendChild(docLink);\n",
              "        }\n",
              "      </script>\n",
              "    </div>\n",
              "  </div>\n",
              "  "
            ]
          },
          "metadata": {},
          "execution_count": 157
        }
      ]
    },
    {
      "cell_type": "code",
      "source": [
        "np.set_printoptions(precision=2)\n",
        "le = LabelEncoder()\n",
        "\n",
        "X = np.array(result_test.iloc[:, 1:])\n",
        "y = le.fit_transform(np.array(result_test['location']).reshape(-1, 1))\n",
        "y = to_categorical(y)"
      ],
      "metadata": {
        "id": "XklIsvOQUiyE",
        "colab": {
          "base_uri": "https://localhost:8080/"
        },
        "outputId": "52e2da11-15fe-4370-8218-67ae2b6764ec"
      },
      "execution_count": null,
      "outputs": [
        {
          "output_type": "stream",
          "name": "stderr",
          "text": [
            "/usr/local/lib/python3.7/dist-packages/sklearn/preprocessing/_label.py:115: DataConversionWarning: A column-vector y was passed when a 1d array was expected. Please change the shape of y to (n_samples, ), for example using ravel().\n",
            "  y = column_or_1d(y, warn=True)\n"
          ]
        }
      ]
    },
    {
      "cell_type": "code",
      "source": [
        "from sklearn.metrics import confusion_matrix\n",
        "\n",
        "labels = ['S01','S02', 'S03','S04','S05','S06','S07','S08','S09', 'E01','E02','E03', 'R01', 'R02', 'R03', 'R04',\n",
        "           'R05', 'H01', 'H02', 'A01', 'A02', 'A03','A04','A05','A06','A07','A08','A09','A10', 'A11', 'U01']\n",
        "y_test_arg=np.argmax(y,axis=1)\n",
        "y_test2 = le.inverse_transform(y_test_arg)\n",
        "Y_pred = np.argmax(model_based_tuner.predict(X),axis=1)\n",
        "Y_pred2 = le.inverse_transform(Y_pred)\n",
        "\n",
        "# print(Y_pred)\n",
        "# print('Confusion Matrix')\n",
        "tick_marks = np.arange(len(labels))\n",
        "cf_matrix = confusion_matrix(y_test2, Y_pred2, labels = labels)\n",
        "cmn = cf_matrix.astype('float') / cf_matrix.sum(axis=1)[:, np.newaxis]\n",
        "\n",
        "plt.figure(figsize=(20, 20)) \n",
        "ax = sns.heatmap(cf_matrix, annot = True, fmt='.2f')\n",
        "plt.xticks(tick_marks, labels, rotation=45)\n",
        "plt.yticks(tick_marks, labels)\n",
        "\n",
        "ax.set_title('indoor localization classification\\n')\n",
        "ax.set_xlabel('\\nPredict Value')\n",
        "ax.set_ylabel('Actual Value ')\n",
        "plt.show()"
      ],
      "metadata": {
        "id": "iPYS4rFzRjRK",
        "colab": {
          "base_uri": "https://localhost:8080/",
          "height": 948
        },
        "outputId": "e568c32c-9a89-44f2-8dca-7510a98ea40e"
      },
      "execution_count": null,
      "outputs": [
        {
          "output_type": "display_data",
          "data": {
            "text/plain": [
              "<Figure size 1440x1440 with 2 Axes>"
            ],
            "image/png": "[encoded data removed]"
          },
          "metadata": {
            "needs_background": "light"
          }
        }
      ]
    },
    {
      "cell_type": "code",
      "source": [
        "from sklearn.metrics import f1_score\n",
        "from sklearn.metrics import accuracy_score\n",
        "from sklearn.metrics import precision_score\n",
        "from sklearn.metrics import recall_score\n",
        "\n",
        "print(\"f1score: \", f1_score(y_true=y_test_arg, y_pred=Y_pred, average='weighted'))\n",
        "print(\"accuracy: \", accuracy_score(y_true=y_test_arg, y_pred=Y_pred))\n",
        "print(\"precision: \", precision_score(y_true=y_test_arg, y_pred=Y_pred, average='weighted'))\n",
        "print(\"recall: \", recall_score(y_true=y_test_arg, y_pred=Y_pred,  average='weighted'))"
      ],
      "metadata": {
        "id": "2lXEQ2M8RqMj",
        "colab": {
          "base_uri": "https://localhost:8080/"
        },
        "outputId": "1619e4b5-0915-4e4c-fd0f-af30c619caf4"
      },
      "execution_count": null,
      "outputs": [
        {
          "output_type": "stream",
          "name": "stdout",
          "text": [
            "f1score:  0.10934268283322321\n",
            "accuracy:  0.187434554973822\n",
            "precision:  0.12632734761854794\n",
            "recall:  0.187434554973822\n"
          ]
        },
        {
          "output_type": "stream",
          "name": "stderr",
          "text": [
            "/usr/local/lib/python3.7/dist-packages/sklearn/metrics/_classification.py:1318: UndefinedMetricWarning: Precision is ill-defined and being set to 0.0 in labels with no predicted samples. Use `zero_division` parameter to control this behavior.\n",
            "  _warn_prf(average, modifier, msg_start, len(result))\n"
          ]
        }
      ]
    },
    {
      "cell_type": "code",
      "source": [
        "y_test_arg"
      ],
      "metadata": {
        "id": "gF0gYFCckdMY"
      },
      "execution_count": null,
      "outputs": []
    },
    {
      "cell_type": "code",
      "source": [
        "import numpy as np\n",
        "import pandas as pd\n",
        "import matplotlib.pyplot as plt\n",
        "import seaborn as sns\n",
        "from sklearn.datasets import make_classification\n",
        "from sklearn.ensemble import RandomForestClassifier\n",
        "from sklearn.model_selection import train_test_split\n",
        "from sklearn.metrics import roc_auc_score\n",
        "from sklearn.metrics import roc_curve, auc\n",
        "\n",
        "\n",
        "fpr = dict()\n",
        "tpr = dict()\n",
        "roc_auc = dict()\n",
        "\n",
        "y_score = model_based_tuner.predict(X)\n",
        "\n",
        "for i in range(31):\n",
        "  fpr[i], tpr[i], _ = roc_curve(y[:, i], y_score[:, i])\n",
        "  roc_auc[i] = auc(fpr[i], tpr[i])\n",
        "\n",
        "fpr[\"micro\"], tpr[\"micro\"], _ = roc_curve(y.ravel(), y_score.ravel())\n",
        "roc_auc[\"micro\"] = auc(fpr[\"micro\"], tpr[\"micro\"])"
      ],
      "metadata": {
        "id": "EgRLBmhAVrmr"
      },
      "execution_count": null,
      "outputs": []
    },
    {
      "cell_type": "code",
      "source": [
        "from numpy.lib.function_base import interp\n",
        "from itertools import cycle\n",
        "import random\n",
        "\n",
        "all_fpr = np.unique(np.concatenate([fpr[i] for i in range(31)]))\n",
        "\n",
        "mean_tpr = np.zeros_like(all_fpr)\n",
        "for i in range(31):\n",
        "  mean_tpr += interp(all_fpr, fpr[i], tpr[i])\n",
        "\n",
        "mean_tpr /= 31\n",
        "\n",
        "fpr['micro'] = all_fpr\n",
        "tpr['micro'] = mean_tpr\n",
        "roc_auc['micro'] = auc(fpr['micro'], tpr['micro'])\n",
        "\n",
        "plt.plot(fpr['micro'], tpr['micro'], label='micro-average ROC curve (area = {0:0.2f})'\n",
        "''.format(roc_auc['micro']),\n",
        "         color='deeppink', linestyle=':', linewidth=4)\n",
        "\n",
        "plt.plot(fpr['micro'], tpr['micro'], label='micro-average ROC curve (area = {0:0.2f})'\n",
        "''.format(roc_auc['micro']),\n",
        "         color='navy', linestyle=':', linewidth=4)\n",
        "\n",
        "colors = []\n",
        "for i in range(31):\n",
        "  colors.append(\"#\"+''.join([random.choice('0123456789ABCDEF') for j in range(6)]))\n",
        "for i, color in zip(range(31), colors):\n",
        "  plt.plot(fpr[i], tpr[i], color=color, lw=2, label='ROC curve of class {0} (area = {1:0.2f})'''.format(i, roc_auc[i]))\n",
        "\n",
        "\n",
        "plt.plot([0,1], [0,1], 'k--', lw=2)\n",
        "plt.xlim([0.0, 1.0])\n",
        "plt.ylim([0.0, 1.05])\n",
        "plt.xlabel('False Positive Rate')\n",
        "plt.ylabel('True Positive Rate')\n",
        "plt.legend(loc='lower right')\n",
        "plt.show()"
      ],
      "metadata": {
        "id": "e_CIEznmkOrT"
      },
      "execution_count": null,
      "outputs": []
    },
    {
      "cell_type": "code",
      "source": [
        "from sklearn.metrics import classification_report\n",
        "\n",
        "report = classification_report(y_test2, Y_pred2, target_names=labels)"
      ],
      "metadata": {
        "id": "pjxADMS7qllK",
        "colab": {
          "base_uri": "https://localhost:8080/"
        },
        "outputId": "f149961a-0865-4504-e4d2-c832b6b05db1"
      },
      "execution_count": null,
      "outputs": [
        {
          "output_type": "stream",
          "name": "stderr",
          "text": [
            "/usr/local/lib/python3.7/dist-packages/sklearn/metrics/_classification.py:1318: UndefinedMetricWarning: Precision and F-score are ill-defined and being set to 0.0 in labels with no predicted samples. Use `zero_division` parameter to control this behavior.\n",
            "  _warn_prf(average, modifier, msg_start, len(result))\n",
            "/usr/local/lib/python3.7/dist-packages/sklearn/metrics/_classification.py:1318: UndefinedMetricWarning: Precision and F-score are ill-defined and being set to 0.0 in labels with no predicted samples. Use `zero_division` parameter to control this behavior.\n",
            "  _warn_prf(average, modifier, msg_start, len(result))\n",
            "/usr/local/lib/python3.7/dist-packages/sklearn/metrics/_classification.py:1318: UndefinedMetricWarning: Precision and F-score are ill-defined and being set to 0.0 in labels with no predicted samples. Use `zero_division` parameter to control this behavior.\n",
            "  _warn_prf(average, modifier, msg_start, len(result))\n"
          ]
        }
      ]
    },
    {
      "cell_type": "code",
      "source": [
        "print(report)"
      ],
      "metadata": {
        "colab": {
          "base_uri": "https://localhost:8080/"
        },
        "id": "R1QpkPnAs6Ia",
        "outputId": "2108b2f5-8fa5-420b-bd43-3e7a48e7dd62"
      },
      "execution_count": null,
      "outputs": [
        {
          "output_type": "stream",
          "name": "stdout",
          "text": [
            "              precision    recall  f1-score   support\n",
            "\n",
            "         S01       0.00      0.00      0.00        92\n",
            "         S02       0.00      0.00      0.00        94\n",
            "         S03       0.00      0.00      0.00        92\n",
            "         S04       0.00      0.00      0.00        93\n",
            "         S05       0.00      0.00      0.00        92\n",
            "         S06       0.00      0.00      0.00        93\n",
            "         S07       0.00      0.00      0.00        90\n",
            "         S08       0.00      0.00      0.00        90\n",
            "         S09       0.00      0.00      0.00        92\n",
            "         E01       0.00      0.00      0.00        92\n",
            "         E02       0.00      0.00      0.00        92\n",
            "         E03       0.00      0.00      0.00        95\n",
            "         R01       0.97      0.66      0.79        92\n",
            "         R02       0.22      0.74      0.34        93\n",
            "         R03       0.74      0.89      0.81        94\n",
            "         R04       0.00      0.00      0.00        94\n",
            "         R05       0.43      1.00      0.60        94\n",
            "         H01       0.00      0.00      0.00        92\n",
            "         H02       0.00      0.00      0.00        92\n",
            "         A01       0.00      0.00      0.00        84\n",
            "         A02       1.00      0.22      0.36        92\n",
            "         A03       0.15      0.97      0.26        92\n",
            "         A04       0.00      0.00      0.00        92\n",
            "         A05       0.00      0.00      0.00        95\n",
            "         A06       0.51      0.80      0.62        91\n",
            "         A07       0.23      0.97      0.37        93\n",
            "         A08       0.00      0.00      0.00        95\n",
            "         A09       0.00      0.00      0.00        94\n",
            "         A10       0.23      0.15      0.18        92\n",
            "         A11       0.07      0.27      0.11        94\n",
            "         U01       0.07      0.24      0.10        93\n",
            "\n",
            "    accuracy                           0.22      2865\n",
            "   macro avg       0.15      0.22      0.15      2865\n",
            "weighted avg       0.15      0.22      0.15      2865\n",
            "\n"
          ]
        }
      ]
    },
    {
      "cell_type": "code",
      "source": [
        "model_based_tuner.save('ios_beacon_DNN_4_no_preprocessing')"
      ],
      "metadata": {
        "colab": {
          "base_uri": "https://localhost:8080/"
        },
        "id": "Bq34IS8FuZ-z",
        "outputId": "ee906e29-7852-4ae1-b997-056f70f26fe7"
      },
      "execution_count": null,
      "outputs": [
        {
          "output_type": "stream",
          "name": "stderr",
          "text": [
            "WARNING:absl:Found untraced functions such as dense_20_layer_call_fn, dense_20_layer_call_and_return_conditional_losses, dense_20_layer_call_fn, dense_20_layer_call_and_return_conditional_losses, dense_21_layer_call_fn while saving (showing 5 of 12). These functions will not be directly callable after loading.\n"
          ]
        },
        {
          "output_type": "stream",
          "name": "stdout",
          "text": [
            "INFO:tensorflow:Assets written to: ios_beacon_DNN_4_no_preprocessing/assets\n"
          ]
        },
        {
          "output_type": "stream",
          "name": "stderr",
          "text": [
            "INFO:tensorflow:Assets written to: ios_beacon_DNN_4_no_preprocessing/assets\n"
          ]
        }
      ]
    },
    {
      "cell_type": "code",
      "source": [
        ""
      ],
      "metadata": {
        "id": "RQsNziwZTOVj"
      },
      "execution_count": null,
      "outputs": []
    }
  ],
  "metadata": {
    "colab": {
      "collapsed_sections": [
        "dqjBbl2nDCPC",
        "vSjAlV3hHq8N",
        "LVIRvehqSC7Q"
      ],
      "name": "iOS_clf_beacon_4_no_preprocessing.ipynb",
      "provenance": []
    },
    "kernelspec": {
      "display_name": "Python 3",
      "name": "python3"
    },
    "language_info": {
      "name": "python"
    }
  },
  "nbformat": 4,
  "nbformat_minor": 0
}